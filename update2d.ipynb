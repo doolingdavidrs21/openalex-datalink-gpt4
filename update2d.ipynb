{
 "cells": [
  {
   "cell_type": "code",
   "execution_count": 1,
   "id": "2c1622b6-7048-477d-935c-20e32514d9fb",
   "metadata": {},
   "outputs": [],
   "source": [
    "from pyalex import (\n",
    "    Works, Authors, Sources,\n",
    "    Institutions, Concepts, Publishers, Funders\n",
    ")\n",
    "import pyalex\n",
    "import pandas as pd\n",
    "import numpy as np\n",
    "pyalex.config.email = \"david@rs21.io\"\n",
    "\n",
    "from flair.embeddings import DocumentPoolEmbeddings\n",
    "from flair.data import Sentence\n",
    "from flair.embeddings import SentenceTransformerDocumentEmbeddings\n",
    "\n",
    "EMBEDDING_MODEL_1 = \"all-mpnet-base-v2\" \n",
    "\n",
    "# this one is also good: all-MiniLM-L6-v2\n",
    "EMBEDDING_MODEL_2 = \"all-MiniLM-L6-v2\"\n",
    "SENT_EMBEDDINGS_1 = SentenceTransformerDocumentEmbeddings(EMBEDDING_MODEL_1)\n",
    "SENT_EMBEDDINGS_2 = SentenceTransformerDocumentEmbeddings(EMBEDDING_MODEL_2)\n",
    "DOC_EMBEDDINGS= DocumentPoolEmbeddings([SENT_EMBEDDINGS_2])\n",
    "\n",
    "import torch\n",
    "from tqdm import tqdm\n",
    "import yake\n",
    "import umap.umap_ as umap\n",
    "from sklearn import metrics\n",
    "import matplotlib.pyplot as plt\n",
    "from sklearn.mixture import GaussianMixture as GMM\n",
    "import altair as alt\n",
    "import math\n",
    "import plotly.express as px\n",
    "import textwrap"
   ]
  },
  {
   "cell_type": "code",
   "execution_count": 2,
   "id": "6159ba02-9715-4211-9ef7-99429f30be59",
   "metadata": {},
   "outputs": [],
   "source": [
    "search_term = ('data link' + \n",
    "              '|near real time')\n",
    "datalink_concepts = Concepts().\\\n",
    "search_filter(display_name=search_term).get()"
   ]
  },
  {
   "cell_type": "code",
   "execution_count": 3,
   "id": "e6ea3ef9-7f44-4c37-a0b8-4eb9ce1c507c",
   "metadata": {},
   "outputs": [
    {
     "data": {
      "text/plain": [
       "[('https://openalex.org/C69075417', 'Linked data'),\n",
       " ('https://openalex.org/C192835768', 'Data link layer'),\n",
       " ('https://openalex.org/C182132293', 'Data link')]"
      ]
     },
     "execution_count": 3,
     "metadata": {},
     "output_type": "execute_result"
    }
   ],
   "source": [
    "concepts = []\n",
    "for i in range(len(datalink_concepts)):\n",
    "    id_, display_name = datalink_concepts[i]['id'], datalink_concepts[i]['display_name']\n",
    "    concepts.append((id_, display_name))\n",
    "concepts"
   ]
  },
  {
   "cell_type": "code",
   "execution_count": 4,
   "id": "96e4a2cf-6b6b-41de-83b7-31fd5d23da70",
   "metadata": {},
   "outputs": [],
   "source": [
    "institution = \"Beijing University of Posts and Telecommunications\""
   ]
  },
  {
   "cell_type": "code",
   "execution_count": 5,
   "id": "5cf7bd36-dfc1-4512-9870-72e2069354fa",
   "metadata": {},
   "outputs": [],
   "source": [
    "def process_works_list(worklist:list):\n",
    "    \"\"\"\n",
    "    transforms the \n",
    "    works list into a dataframe.\n",
    "    \"\"\"\n",
    "    abstracts_dict = {h[\"id\"]:h[\"abstract\"] for h in worklist}\n",
    "    df = pd.DataFrame.from_records(worklist)\n",
    "    try: \n",
    "        del df['abstract_inverted_index'] # though don't all have abstracts is the problem\n",
    "        df['abstract'] = df['id'].map(abstracts_dict)\n",
    "    except:\n",
    "        pass\n",
    "   # df['author_affils'] = df['authorships'].apply(get_authors_and_affils)\n",
    "    return df"
   ]
  },
  {
   "cell_type": "markdown",
   "id": "6f23b00c-735c-418f-92d9-09b145726314",
   "metadata": {},
   "source": [
    "https://github.com/J535D165/pyalex"
   ]
  },
  {
   "cell_type": "code",
   "execution_count": 6,
   "id": "661a302a-9046-4d6e-959c-82cb7cb8e6a9",
   "metadata": {},
   "outputs": [],
   "source": [
    "from pyalex import config\n",
    "\n",
    "config.max_retries = 0\n",
    "config.retry_backoff_factor = 0.1\n",
    "config.retry_http_codes = [429, 500, 503]"
   ]
  },
  {
   "cell_type": "code",
   "execution_count": 7,
   "id": "bfb311ed-42cf-46e9-aaaa-143974b06856",
   "metadata": {},
   "outputs": [],
   "source": [
    "bupt = Institutions().search_filter(display_name= \"Beijing University of Posts and Telecommunications\").get()"
   ]
  },
  {
   "cell_type": "code",
   "execution_count": 8,
   "id": "85057321-85c2-44e6-a240-bf9bec1d68d7",
   "metadata": {},
   "outputs": [
    {
     "data": {
      "text/plain": [
       "list"
      ]
     },
     "execution_count": 8,
     "metadata": {},
     "output_type": "execute_result"
    }
   ],
   "source": [
    "type(bupt)"
   ]
  },
  {
   "cell_type": "code",
   "execution_count": 21,
   "id": "9afb9a5f-b116-4ce2-95d3-40d52fd87750",
   "metadata": {},
   "outputs": [],
   "source": [
    "# Works().filter(authorships={\"institutions\": {\"ror\": \"04w9fbh59\"}}).get()"
   ]
  },
  {
   "cell_type": "code",
   "execution_count": 9,
   "id": "ef503af4-c326-40fe-a491-c0eb72516969",
   "metadata": {},
   "outputs": [],
   "source": [
    "#bupt[0]"
   ]
  },
  {
   "cell_type": "code",
   "execution_count": 10,
   "id": "cd499d5d-6c54-49e5-9a62-e0a195b4277e",
   "metadata": {},
   "outputs": [],
   "source": [
    "#Works().search_filter(institutions=bupt).get()"
   ]
  },
  {
   "cell_type": "code",
   "execution_count": 12,
   "id": "020bca8b-140f-47f7-b48c-821c0e598a5e",
   "metadata": {},
   "outputs": [],
   "source": [
    "#Works().filter(authorships={\"institutions\": {\"ror\": \"04w9fbh59\"}}).get()"
   ]
  },
  {
   "cell_type": "code",
   "execution_count": 17,
   "id": "5bb447bd-715c-4699-8457-86a74454ac70",
   "metadata": {},
   "outputs": [],
   "source": [
    "def get_ror_frame(ror:str):\n",
    "    \"\"\"\n",
    "    takes a list of Concepts() results and an index\n",
    "    and forms the pagination object to retrive the \n",
    "    records\n",
    "    \"\"\"\n",
    "    pager = Works().filter(publication_year='>2018',\n",
    "    authorships={\"institutions\": {\"ror\": ror}}).paginate(\n",
    "        per_page=200, n_max=None)\n",
    "    #pager = Works().filter(publication_year='>2016',\n",
    "    #concepts={\"id\":f\"{concepts_list[i]['id']}\"}).filter(authorships={\"institutions\":{\"country_code\":\"CN\"}}).\\\n",
    "    #paginate(per_page=200,n_max=None)\n",
    "    #concepts={\"id\":f\"{concepts_list[i]['id']}\"}).\\\n",
    "    #paginate(per_page=200,n_max=None)\n",
    "    df = pd.DataFrame()\n",
    "    for page in tqdm(pager):\n",
    "        dfpage = process_works_list(page)\n",
    "        df = pd.concat([df, dfpage], ignore_index=True)\n",
    "        df.drop_duplicates(subset='id', keep='first',inplace=True)\n",
    "    return df"
   ]
  },
  {
   "cell_type": "code",
   "execution_count": 18,
   "id": "8cae05f4-63f9-4d7a-9ee0-c51e814ad6ee",
   "metadata": {},
   "outputs": [
    {
     "name": "stderr",
     "output_type": "stream",
     "text": [
      "124it [03:50,  1.86s/it]\n"
     ]
    }
   ],
   "source": [
    "df = get_ror_frame(\"04w9fbh59\")"
   ]
  },
  {
   "cell_type": "code",
   "execution_count": 19,
   "id": "8a9cba1a-fefd-4297-8d9c-fd246763e057",
   "metadata": {},
   "outputs": [
    {
     "data": {
      "text/plain": [
       "(24425, 49)"
      ]
     },
     "execution_count": 19,
     "metadata": {},
     "output_type": "execute_result"
    }
   ],
   "source": [
    "df.shape"
   ]
  },
  {
   "cell_type": "code",
   "execution_count": 21,
   "id": "a97741bb-c6cb-4af0-acf9-48ba42f09d28",
   "metadata": {},
   "outputs": [
    {
     "name": "stdout",
     "output_type": "stream",
     "text": [
      "(24425, 49)\n"
     ]
    }
   ],
   "source": [
    "#dftop = pd.concat(df,\n",
    "#                  ignore_index=True)\n",
    "dftop = df\n",
    "dftop.drop_duplicates(subset='id', keep='first', \n",
    "                      inplace=True)\n",
    "\n",
    "dftop.set_index('id', inplace=True, drop=False)\n",
    "\n",
    "dfall = dftop\n",
    "print(dfall.shape)\n",
    "\n",
    "dfall['content'] = dfall['title'] + \". \" + dfall['abstract']\n",
    "\n",
    "dfrecords = dfall[~dfall['content'].isna()].copy()"
   ]
  },
  {
   "cell_type": "code",
   "execution_count": 22,
   "id": "e80286e1-ce9d-4b53-9f86-3da3ec6b0ef2",
   "metadata": {},
   "outputs": [],
   "source": [
    "def get_keywords(text:str, top:int=7, stopwords=None):\n",
    "    \"\"\"\n",
    "    takes a blob of text and \n",
    "    returns the top **top** \n",
    "    keywords as a list\n",
    "    \"\"\"\n",
    "    kw_extractor = yake.KeywordExtractor(top=top, stopwords=stopwords)\n",
    "    keywords = kw_extractor.extract_keywords(text)\n",
    "    return [p[0] for p in keywords]"
   ]
  },
  {
   "cell_type": "code",
   "execution_count": 23,
   "id": "034593c0-bdea-48ba-bf01-fb2cbbd3bf84",
   "metadata": {},
   "outputs": [],
   "source": [
    "def get_top_concepts(concept_list:list,score:float=.6):\n",
    "    \"\"\"\n",
    "    takes a list of concept dictionaries \n",
    "    returns the top **top** display_names;\n",
    "    concepts whose score is >= score\n",
    "    \"\"\"\n",
    "    return [c['display_name'] for c in concept_list if c['score'] >= score]"
   ]
  },
  {
   "cell_type": "code",
   "execution_count": 24,
   "id": "97f6267b-02d0-41a3-b8d5-c797bc7cca75",
   "metadata": {},
   "outputs": [],
   "source": [
    "dfrecords['keywords'] = dfrecords['content'].apply(get_keywords)\n",
    "dfrecords['top_concepts'] = dfrecords['concepts'].apply(get_top_concepts)"
   ]
  },
  {
   "cell_type": "code",
   "execution_count": 25,
   "id": "1fa65c19-cc9b-401a-85f4-9fa68723cd5c",
   "metadata": {},
   "outputs": [],
   "source": [
    "texts = dfrecords['content'].str.lower().values.tolist()"
   ]
  },
  {
   "cell_type": "code",
   "execution_count": 26,
   "id": "40531e20-dbcd-49a1-8303-ad07107a6742",
   "metadata": {},
   "outputs": [],
   "source": [
    "def get_content_embeddings(dfrecords:pd.DataFrame) -> pd.DataFrame:\n",
    "    \"\"\"\n",
    "    passes the preprocessed mitigation strings\n",
    "    data through the embedding model to produce the vector\n",
    "    space representation of each pet mitigation.\n",
    "    \"\"\"\n",
    "    sent = Sentence(\"The grass is green.\")\n",
    "    DOC_EMBEDDINGS.embed(sent)\n",
    "    texts = dfrecords[\"content\"].str.lower().values.tolist()\n",
    "    all_descriptions = np.empty((len(texts), len(sent.embedding)))\n",
    "    for i in tqdm(range(len(texts))):\n",
    "        sent = Sentence(texts[i])\n",
    "        DOC_EMBEDDINGS.embed(sent)\n",
    "        all_descriptions[i, :] = sent.embedding.cpu().numpy()\n",
    "        # gc.collect()\n",
    "        torch.cuda.empty_cache()\n",
    "    dfcontentvectors = pd.DataFrame.from_records(all_descriptions, index=dfrecords.index)\n",
    "    return dfcontentvectors"
   ]
  },
  {
   "cell_type": "code",
   "execution_count": 27,
   "id": "c5d26bd0-5abe-498e-9dfa-edbabff58971",
   "metadata": {},
   "outputs": [
    {
     "name": "stderr",
     "output_type": "stream",
     "text": [
      "100%|███████████████████████████████████████████████████████████████████| 22370/22370 [08:01<00:00, 46.42it/s]\n"
     ]
    }
   ],
   "source": [
    "dfcontentvectors = get_content_embeddings(dfrecords)"
   ]
  },
  {
   "cell_type": "code",
   "execution_count": 28,
   "id": "bffb491d-0802-47c5-a7b3-71011273dd3f",
   "metadata": {},
   "outputs": [
    {
     "name": "stderr",
     "output_type": "stream",
     "text": [
      "/home/davidd/.local/lib/python3.10/site-packages/umap/umap_.py:1943: UserWarning: n_jobs value -1 overridden to 1 by setting random_state. Use no seed for parallelism.\n",
      "  warn(f\"n_jobs value {self.n_jobs} overridden to 1 by setting random_state. Use no seed for parallelism.\")\n"
     ]
    }
   ],
   "source": [
    "#umap.UMAP?\n",
    "N_COMPONENTS = 2 # can visualize this way\n",
    "umap_reducer = umap.UMAP(n_components=N_COMPONENTS,\n",
    "                       #  metric='euclidean')\n",
    "                         random_state=1234,\n",
    "                         metric='cosine')  # can experiment with this metric as well as the other \n",
    "# parameters\n",
    "# to see what other literature is in the same information space, we need to keep this umap_reducer \n",
    "# object as well as the gmm model below.\n",
    "\n",
    "# Apply UMAP to the vectorized strings\n",
    "reduced_vectors = umap_reducer.fit_transform(dfcontentvectors.to_numpy())\n",
    "dfreduced = pd.DataFrame.from_records(reduced_vectors, \n",
    "                index=dfcontentvectors.index)\n",
    "dfreduced.columns = ['x','y']"
   ]
  },
  {
   "cell_type": "markdown",
   "id": "8c32d620-d104-47c0-8328-d199aa163031",
   "metadata": {},
   "source": [
    "## Use hdbscan to cluster"
   ]
  },
  {
   "cell_type": "code",
   "execution_count": 29,
   "id": "e7de80d8-9aca-4b08-a5a5-6b3fee3447af",
   "metadata": {},
   "outputs": [
    {
     "name": "stderr",
     "output_type": "stream",
     "text": [
      "huggingface/tokenizers: The current process just got forked, after parallelism has already been used. Disabling parallelism to avoid deadlocks...\n",
      "To disable this warning, you can either:\n",
      "\t- Avoid using `tokenizers` before the fork if possible\n",
      "\t- Explicitly set the environment variable TOKENIZERS_PARALLELISM=(true | false)\n",
      "huggingface/tokenizers: The current process just got forked, after parallelism has already been used. Disabling parallelism to avoid deadlocks...\n",
      "To disable this warning, you can either:\n",
      "\t- Avoid using `tokenizers` before the fork if possible\n",
      "\t- Explicitly set the environment variable TOKENIZERS_PARALLELISM=(true | false)\n",
      "huggingface/tokenizers: The current process just got forked, after parallelism has already been used. Disabling parallelism to avoid deadlocks...\n",
      "To disable this warning, you can either:\n",
      "\t- Avoid using `tokenizers` before the fork if possible\n",
      "\t- Explicitly set the environment variable TOKENIZERS_PARALLELISM=(true | false)\n",
      "huggingface/tokenizers: The current process just got forked, after parallelism has already been used. Disabling parallelism to avoid deadlocks...\n",
      "To disable this warning, you can either:\n",
      "\t- Avoid using `tokenizers` before the fork if possible\n",
      "\t- Explicitly set the environment variable TOKENIZERS_PARALLELISM=(true | false)\n",
      "huggingface/tokenizers: The current process just got forked, after parallelism has already been used. Disabling parallelism to avoid deadlocks...\n",
      "To disable this warning, you can either:\n",
      "\t- Avoid using `tokenizers` before the fork if possible\n",
      "\t- Explicitly set the environment variable TOKENIZERS_PARALLELISM=(true | false)\n"
     ]
    }
   ],
   "source": [
    "import hdbscan\n",
    "\n",
    "hdbscan_args = {'min_cluster_size': 15,\n",
    "                            'metric': 'euclidean',\n",
    "                            'cluster_selection_method': 'eom',\n",
    "                            'cluster_selection_epsilon': 0.1\n",
    "               }\n",
    "\n",
    "cluster = hdbscan.HDBSCAN(**hdbscan_args).fit(dfreduced[['x','y']].to_numpy())\n",
    "\n",
    "dfreduced['cluster'] = cluster.labels_\n",
    "dfreduced['probability'] = cluster.probabilities_\n",
    "\n",
    "dfpapers = dfrecords.merge(dfreduced, left_index=True,\n",
    "                           right_index=True)"
   ]
  },
  {
   "cell_type": "code",
   "execution_count": 30,
   "id": "afb1989f-1dde-48ca-bf4b-24678ba3e3c9",
   "metadata": {},
   "outputs": [
    {
     "data": {
      "text/html": [
       "<div>\n",
       "<style scoped>\n",
       "    .dataframe tbody tr th:only-of-type {\n",
       "        vertical-align: middle;\n",
       "    }\n",
       "\n",
       "    .dataframe tbody tr th {\n",
       "        vertical-align: top;\n",
       "    }\n",
       "\n",
       "    .dataframe thead th {\n",
       "        text-align: right;\n",
       "    }\n",
       "</style>\n",
       "<table border=\"1\" class=\"dataframe\">\n",
       "  <thead>\n",
       "    <tr style=\"text-align: right;\">\n",
       "      <th></th>\n",
       "      <th>id</th>\n",
       "      <th>doi</th>\n",
       "      <th>title</th>\n",
       "      <th>display_name</th>\n",
       "      <th>publication_year</th>\n",
       "      <th>publication_date</th>\n",
       "      <th>ids</th>\n",
       "      <th>language</th>\n",
       "      <th>primary_location</th>\n",
       "      <th>type</th>\n",
       "      <th>...</th>\n",
       "      <th>created_date</th>\n",
       "      <th>fulltext_origin</th>\n",
       "      <th>is_authors_truncated</th>\n",
       "      <th>abstract</th>\n",
       "      <th>content</th>\n",
       "      <th>top_concepts</th>\n",
       "      <th>x</th>\n",
       "      <th>y</th>\n",
       "      <th>cluster</th>\n",
       "      <th>probability</th>\n",
       "    </tr>\n",
       "  </thead>\n",
       "  <tbody>\n",
       "    <tr>\n",
       "      <th>0</th>\n",
       "      <td>https://openalex.org/W3152893301</td>\n",
       "      <td>https://doi.org/10.1016/j.aiopen.2021.01.001</td>\n",
       "      <td>Graph neural networks: A review of methods and...</td>\n",
       "      <td>Graph neural networks: A review of methods and...</td>\n",
       "      <td>2020</td>\n",
       "      <td>2020-01-01</td>\n",
       "      <td>{'openalex': 'https://openalex.org/W3152893301...</td>\n",
       "      <td>en</td>\n",
       "      <td>{'is_oa': True, 'landing_page_url': 'https://d...</td>\n",
       "      <td>review</td>\n",
       "      <td>...</td>\n",
       "      <td>2021-04-26</td>\n",
       "      <td>NaN</td>\n",
       "      <td>NaN</td>\n",
       "      <td>Lots of learning tasks require dealing with gr...</td>\n",
       "      <td>Graph neural networks: A review of methods and...</td>\n",
       "      <td>[Computer science]</td>\n",
       "      <td>12.073812</td>\n",
       "      <td>5.613014</td>\n",
       "      <td>147</td>\n",
       "      <td>0.730557</td>\n",
       "    </tr>\n",
       "    <tr>\n",
       "      <th>1</th>\n",
       "      <td>https://openalex.org/W2911286998</td>\n",
       "      <td>https://doi.org/10.1145/3308558.3313562</td>\n",
       "      <td>Heterogeneous Graph Attention Network</td>\n",
       "      <td>Heterogeneous Graph Attention Network</td>\n",
       "      <td>2019</td>\n",
       "      <td>2019-05-13</td>\n",
       "      <td>{'openalex': 'https://openalex.org/W2911286998...</td>\n",
       "      <td>en</td>\n",
       "      <td>{'is_oa': False, 'landing_page_url': 'https://...</td>\n",
       "      <td>preprint</td>\n",
       "      <td>...</td>\n",
       "      <td>2019-02-21</td>\n",
       "      <td>ngrams</td>\n",
       "      <td>NaN</td>\n",
       "      <td>Graph neural network, as a powerful graph repr...</td>\n",
       "      <td>Heterogeneous Graph Attention Network. Graph n...</td>\n",
       "      <td>[Computer science, Interpretability]</td>\n",
       "      <td>12.327925</td>\n",
       "      <td>5.635758</td>\n",
       "      <td>147</td>\n",
       "      <td>0.930740</td>\n",
       "    </tr>\n",
       "    <tr>\n",
       "      <th>2</th>\n",
       "      <td>https://openalex.org/W2963264685</td>\n",
       "      <td>https://doi.org/10.1016/j.future.2017.08.020</td>\n",
       "      <td>A survey on the security of blockchain systems</td>\n",
       "      <td>A survey on the security of blockchain systems</td>\n",
       "      <td>2020</td>\n",
       "      <td>2020-06-01</td>\n",
       "      <td>{'openalex': 'https://openalex.org/W2963264685...</td>\n",
       "      <td>en</td>\n",
       "      <td>{'is_oa': False, 'landing_page_url': 'https://...</td>\n",
       "      <td>article</td>\n",
       "      <td>...</td>\n",
       "      <td>2019-07-30</td>\n",
       "      <td>ngrams</td>\n",
       "      <td>NaN</td>\n",
       "      <td>Since its inception, the blockchain technology...</td>\n",
       "      <td>A survey on the security of blockchain systems...</td>\n",
       "      <td>[Blockchain, Cryptocurrency, Computer science,...</td>\n",
       "      <td>13.655714</td>\n",
       "      <td>12.477859</td>\n",
       "      <td>167</td>\n",
       "      <td>1.000000</td>\n",
       "    </tr>\n",
       "    <tr>\n",
       "      <th>3</th>\n",
       "      <td>https://openalex.org/W3110989801</td>\n",
       "      <td>https://doi.org/10.1007/s11432-020-2955-6</td>\n",
       "      <td>Towards 6G wireless communication networks: vi...</td>\n",
       "      <td>Towards 6G wireless communication networks: vi...</td>\n",
       "      <td>2020</td>\n",
       "      <td>2020-11-24</td>\n",
       "      <td>{'openalex': 'https://openalex.org/W3110989801...</td>\n",
       "      <td>en</td>\n",
       "      <td>{'is_oa': True, 'landing_page_url': 'https://d...</td>\n",
       "      <td>article</td>\n",
       "      <td>...</td>\n",
       "      <td>2020-12-21</td>\n",
       "      <td>NaN</td>\n",
       "      <td>NaN</td>\n",
       "      <td>Abstract The fifth generation (5G) wireless co...</td>\n",
       "      <td>Towards 6G wireless communication networks: vi...</td>\n",
       "      <td>[Computer science]</td>\n",
       "      <td>8.426230</td>\n",
       "      <td>12.004443</td>\n",
       "      <td>160</td>\n",
       "      <td>0.613752</td>\n",
       "    </tr>\n",
       "    <tr>\n",
       "      <th>4</th>\n",
       "      <td>https://openalex.org/W2799041689</td>\n",
       "      <td>https://doi.org/10.1109/taffc.2020.2981446</td>\n",
       "      <td>Deep Facial Expression Recognition: A Survey</td>\n",
       "      <td>Deep Facial Expression Recognition: A Survey</td>\n",
       "      <td>2022</td>\n",
       "      <td>2022-07-01</td>\n",
       "      <td>{'openalex': 'https://openalex.org/W2799041689...</td>\n",
       "      <td>en</td>\n",
       "      <td>{'is_oa': False, 'landing_page_url': 'https://...</td>\n",
       "      <td>article</td>\n",
       "      <td>...</td>\n",
       "      <td>2018-05-07</td>\n",
       "      <td>NaN</td>\n",
       "      <td>NaN</td>\n",
       "      <td>With the transition of facial expression recog...</td>\n",
       "      <td>Deep Facial Expression Recognition: A Survey. ...</td>\n",
       "      <td>[Deep learning, Overfitting, Artificial intell...</td>\n",
       "      <td>10.678908</td>\n",
       "      <td>3.537422</td>\n",
       "      <td>157</td>\n",
       "      <td>0.812517</td>\n",
       "    </tr>\n",
       "  </tbody>\n",
       "</table>\n",
       "<p>5 rows × 55 columns</p>\n",
       "</div>"
      ],
      "text/plain": [
       "                                 id  \\\n",
       "0  https://openalex.org/W3152893301   \n",
       "1  https://openalex.org/W2911286998   \n",
       "2  https://openalex.org/W2963264685   \n",
       "3  https://openalex.org/W3110989801   \n",
       "4  https://openalex.org/W2799041689   \n",
       "\n",
       "                                            doi  \\\n",
       "0  https://doi.org/10.1016/j.aiopen.2021.01.001   \n",
       "1       https://doi.org/10.1145/3308558.3313562   \n",
       "2  https://doi.org/10.1016/j.future.2017.08.020   \n",
       "3     https://doi.org/10.1007/s11432-020-2955-6   \n",
       "4    https://doi.org/10.1109/taffc.2020.2981446   \n",
       "\n",
       "                                               title  \\\n",
       "0  Graph neural networks: A review of methods and...   \n",
       "1              Heterogeneous Graph Attention Network   \n",
       "2     A survey on the security of blockchain systems   \n",
       "3  Towards 6G wireless communication networks: vi...   \n",
       "4       Deep Facial Expression Recognition: A Survey   \n",
       "\n",
       "                                        display_name  publication_year  \\\n",
       "0  Graph neural networks: A review of methods and...              2020   \n",
       "1              Heterogeneous Graph Attention Network              2019   \n",
       "2     A survey on the security of blockchain systems              2020   \n",
       "3  Towards 6G wireless communication networks: vi...              2020   \n",
       "4       Deep Facial Expression Recognition: A Survey              2022   \n",
       "\n",
       "  publication_date                                                ids  \\\n",
       "0       2020-01-01  {'openalex': 'https://openalex.org/W3152893301...   \n",
       "1       2019-05-13  {'openalex': 'https://openalex.org/W2911286998...   \n",
       "2       2020-06-01  {'openalex': 'https://openalex.org/W2963264685...   \n",
       "3       2020-11-24  {'openalex': 'https://openalex.org/W3110989801...   \n",
       "4       2022-07-01  {'openalex': 'https://openalex.org/W2799041689...   \n",
       "\n",
       "  language                                   primary_location      type  ...  \\\n",
       "0       en  {'is_oa': True, 'landing_page_url': 'https://d...    review  ...   \n",
       "1       en  {'is_oa': False, 'landing_page_url': 'https://...  preprint  ...   \n",
       "2       en  {'is_oa': False, 'landing_page_url': 'https://...   article  ...   \n",
       "3       en  {'is_oa': True, 'landing_page_url': 'https://d...   article  ...   \n",
       "4       en  {'is_oa': False, 'landing_page_url': 'https://...   article  ...   \n",
       "\n",
       "  created_date fulltext_origin is_authors_truncated  \\\n",
       "0   2021-04-26             NaN                  NaN   \n",
       "1   2019-02-21          ngrams                  NaN   \n",
       "2   2019-07-30          ngrams                  NaN   \n",
       "3   2020-12-21             NaN                  NaN   \n",
       "4   2018-05-07             NaN                  NaN   \n",
       "\n",
       "                                            abstract  \\\n",
       "0  Lots of learning tasks require dealing with gr...   \n",
       "1  Graph neural network, as a powerful graph repr...   \n",
       "2  Since its inception, the blockchain technology...   \n",
       "3  Abstract The fifth generation (5G) wireless co...   \n",
       "4  With the transition of facial expression recog...   \n",
       "\n",
       "                                             content  \\\n",
       "0  Graph neural networks: A review of methods and...   \n",
       "1  Heterogeneous Graph Attention Network. Graph n...   \n",
       "2  A survey on the security of blockchain systems...   \n",
       "3  Towards 6G wireless communication networks: vi...   \n",
       "4  Deep Facial Expression Recognition: A Survey. ...   \n",
       "\n",
       "                                        top_concepts          x          y  \\\n",
       "0                                 [Computer science]  12.073812   5.613014   \n",
       "1               [Computer science, Interpretability]  12.327925   5.635758   \n",
       "2  [Blockchain, Cryptocurrency, Computer science,...  13.655714  12.477859   \n",
       "3                                 [Computer science]   8.426230  12.004443   \n",
       "4  [Deep learning, Overfitting, Artificial intell...  10.678908   3.537422   \n",
       "\n",
       "  cluster probability  \n",
       "0     147    0.730557  \n",
       "1     147    0.930740  \n",
       "2     167    1.000000  \n",
       "3     160    0.613752  \n",
       "4     157    0.812517  \n",
       "\n",
       "[5 rows x 55 columns]"
      ]
     },
     "execution_count": 30,
     "metadata": {},
     "output_type": "execute_result"
    }
   ],
   "source": [
    "#help(dfpapers.explode)\n",
    "del dfpapers['id']\n",
    "dfstart = dfpapers.reset_index()\n",
    "dfstart.head()"
   ]
  },
  {
   "cell_type": "code",
   "execution_count": 31,
   "id": "cca061fc-43ea-498b-b349-22acad4a6a57",
   "metadata": {},
   "outputs": [
    {
     "data": {
      "text/plain": [
       "2023    4724\n",
       "2022    4383\n",
       "2021    4017\n",
       "2019    3988\n",
       "2020    3915\n",
       "2024    1343\n",
       "Name: publication_year, dtype: int64"
      ]
     },
     "execution_count": 31,
     "metadata": {},
     "output_type": "execute_result"
    }
   ],
   "source": [
    "dfstart['publication_year'].value_counts(dropna=False)"
   ]
  },
  {
   "cell_type": "code",
   "execution_count": 32,
   "id": "3d679500-f254-4638-9b90-196d4f1bba65",
   "metadata": {},
   "outputs": [
    {
     "data": {
      "text/plain": [
       "(22370, 55)"
      ]
     },
     "execution_count": 32,
     "metadata": {},
     "output_type": "execute_result"
    }
   ],
   "source": [
    "dfstart.shape"
   ]
  },
  {
   "cell_type": "code",
   "execution_count": 33,
   "id": "26dea1ba-d3d0-46b8-bbc0-f8970a95085d",
   "metadata": {},
   "outputs": [
    {
     "data": {
      "text/plain": [
       "((115245, 55), (22370, 55))"
      ]
     },
     "execution_count": 33,
     "metadata": {},
     "output_type": "execute_result"
    }
   ],
   "source": [
    "dfbig = dfstart.explode(column='authorships')\n",
    "dfbig.shape, dfstart.shape"
   ]
  },
  {
   "cell_type": "code",
   "execution_count": 34,
   "id": "827ae7f5-8120-477b-9020-22ca0ba9bde6",
   "metadata": {},
   "outputs": [
    {
     "data": {
      "text/plain": [
       "Index(['id', 'doi', 'title', 'display_name', 'publication_year',\n",
       "       'publication_date', 'ids', 'language', 'primary_location', 'type',\n",
       "       'type_crossref', 'indexed_in', 'open_access', 'authorships',\n",
       "       'countries_distinct_count', 'institutions_distinct_count',\n",
       "       'corresponding_author_ids', 'corresponding_institution_ids', 'apc_list',\n",
       "       'apc_paid', 'has_fulltext', 'cited_by_count',\n",
       "       'cited_by_percentile_year', 'biblio', 'is_retracted', 'is_paratext',\n",
       "       'primary_topic', 'topics', 'keywords', 'concepts', 'mesh',\n",
       "       'locations_count', 'locations', 'best_oa_location',\n",
       "       'sustainable_development_goals', 'grants', 'datasets', 'versions',\n",
       "       'referenced_works_count', 'referenced_works', 'related_works',\n",
       "       'ngrams_url', 'cited_by_api_url', 'counts_by_year', 'updated_date',\n",
       "       'created_date', 'fulltext_origin', 'is_authors_truncated', 'abstract',\n",
       "       'content', 'top_concepts', 'x', 'y', 'cluster', 'probability'],\n",
       "      dtype='object')"
      ]
     },
     "execution_count": 34,
     "metadata": {},
     "output_type": "execute_result"
    }
   ],
   "source": [
    "dfbig.columns"
   ]
  },
  {
   "cell_type": "code",
   "execution_count": 35,
   "id": "0f6aa1fb-f34f-48b7-b7fb-0b55f1cdb45f",
   "metadata": {},
   "outputs": [],
   "source": [
    "def add_extra_to_authorships(row: pd.DataFrame):\n",
    "    \"\"\"\n",
    "    row[authorships] is a dictionary;\n",
    "    add in the id key to that dictionary\n",
    "    whose value is row[id]\n",
    "    \"\"\"\n",
    "    complete_dict = row[\"authorships\"]\n",
    "   # assert type(complete_dict) == dict\n",
    "    #print(type(complete_dict))\n",
    "    if type(complete_dict) == dict:\n",
    "        complete_dict[\"id\"] = row[\"id\"]\n",
    "        complete_dict[\"x\"] = row[\"x\"]\n",
    "        complete_dict[\"y\"] = row[\"y\"]\n",
    "        complete_dict[\"cluster\"] = row[\"cluster\"]\n",
    "        complete_dict[\"cluster_score\"] = row[\"probability\"]\n",
    "        complete_dict[\"title\"] = row[\"title\"]\n",
    "        complete_dict[\"abstract\"] = row[\"abstract\"]\n",
    "        complete_dict[\"doi\"] = row[\"doi\"]\n",
    "        complete_dict[\"publication_date\"] = row[\"publication_date\"]\n",
    "        complete_dict[\"publication_year\"] = row[\"publication_year\"]\n",
    "        complete_dict[\"grants\"] = row[\"grants\"]\n",
    "        complete_dict[\"locations\"] = row[\"locations\"]\n",
    "        return complete_dict\n",
    "    else:\n",
    "        return row[\"authorships\"]"
   ]
  },
  {
   "cell_type": "code",
   "execution_count": 36,
   "id": "3ff03405-de61-40bb-84fe-59c14b5e9016",
   "metadata": {},
   "outputs": [],
   "source": [
    "dfbig['big_authorships'] = dfbig.apply(add_extra_to_authorships, axis=1)"
   ]
  },
  {
   "cell_type": "code",
   "execution_count": 37,
   "id": "46419080-7b3f-4029-a7be-909bc0064721",
   "metadata": {},
   "outputs": [],
   "source": [
    "#dfbig['authorships'].tolist()\n",
    "bigvals = dfbig['authorships'].tolist()"
   ]
  },
  {
   "cell_type": "code",
   "execution_count": 38,
   "id": "ecb68aa4-635a-4953-97fd-5758db5559bd",
   "metadata": {},
   "outputs": [],
   "source": [
    "dictvals = [c for c in bigvals if type(c) != float]"
   ]
  },
  {
   "cell_type": "code",
   "execution_count": 39,
   "id": "3bd3fa3e-8da0-4f8f-b761-f083286d9ee1",
   "metadata": {},
   "outputs": [
    {
     "data": {
      "text/plain": [
       "dict_keys(['id', 'display_name', 'orcid'])"
      ]
     },
     "execution_count": 39,
     "metadata": {},
     "output_type": "execute_result"
    }
   ],
   "source": [
    "dictvals[0]['author'].keys()"
   ]
  },
  {
   "cell_type": "code",
   "execution_count": 40,
   "id": "4c274d0e-4c11-4852-b96d-ff30c4f40d0a",
   "metadata": {},
   "outputs": [],
   "source": [
    "dftriple = pd.json_normalize(dictvals,\n",
    "                  record_path=['institutions'],\n",
    "                  meta=['id','raw_affiliation_strings','author_position', 'doi',\n",
    "                        'title','abstract','publication_date', 'publication_year',\n",
    "                        'grants','locations',\n",
    "                        'is_corrresponding','x','y','cluster','cluster_score',\n",
    "                       ['author','id'], ['author', 'display_name'],\n",
    "                       ['author','orcid']],\n",
    "                  errors='ignore',\n",
    "                  sep='_',\n",
    "                  meta_prefix='paper_',\n",
    "                #  record_prefix='author_'\n",
    "                 )"
   ]
  },
  {
   "cell_type": "code",
   "execution_count": 41,
   "id": "6c75bc36-8c2b-46c6-8259-ce396ae8c8ef",
   "metadata": {},
   "outputs": [],
   "source": [
    "dftopics = dfcontentvectors.copy()\n",
    "dftopics['cluster'] = dfpapers['cluster']\n",
    "dfmeantopics = dftopics.groupby('cluster').mean().copy()\n",
    "reduced_topics = umap_reducer.transform(dfmeantopics.to_numpy())\n",
    "df_reduced_topics = pd.DataFrame.from_records(reduced_topics, \n",
    "                index=dfmeantopics.index)\n",
    "df_reduced_topics.columns = ['x','y']\n",
    "df_reduced_topics['topic'] = df_reduced_topics.index\n",
    "df_reduced_topics.head()\n",
    "\n",
    "def get_cluster_concepts(topic_num:int, n:int=20):\n",
    "    \"\"\"\n",
    "    takes an integer topic_num corresponding to a \n",
    "    given topic number and\n",
    "    returns the list of top n occuring concepts\n",
    "    from the top_concept field\n",
    "    \"\"\"\n",
    "    top_concepts = dfpapers[dfpapers['cluster'] == topic_num]['top_concepts'].tolist()\n",
    "    flat_concepts = [item for sublist in top_concepts for item in sublist]\n",
    "    concepts_dict = {c:flat_concepts.count(c) for c in flat_concepts}\n",
    "    sorted_concepts = sorted(concepts_dict.items(), key=lambda x:x[1], reverse=True)\n",
    "    return [c[0] for c in sorted_concepts][:n]\n",
    "\n",
    "def get_yake_cluster_phrases(topic_num:int, n:int=20):\n",
    "    \"\"\"\n",
    "    takes in an integer n corresponding\n",
    "    to a given topic number and\n",
    "    returns the list of keyphrases (TopicRank method)\n",
    "    \"\"\"\n",
    "    documents = dfpapers[dfpapers['cluster'] == topic_num]['content'].tolist()\n",
    "    topic_input = \". \".join(documents)\n",
    "    #extractor = pke.unsupervised.TextRank()\n",
    "    kw_extractor = yake.KeywordExtractor(top=n, stopwords=None)\n",
    "    keywords = kw_extractor.extract_keywords(topic_input)\n",
    "    #extractor.load_document(input=topic_input,\n",
    "    #                    language='en',\n",
    "    #                    normalization=None)\n",
    "\n",
    "    #extractor.candidate_selection()\n",
    "\n",
    "    #window = 2\n",
    "    #use_stems = False\n",
    "    #extractor.candidate_weighting(window=window,\n",
    "    #                          use_stems=use_stems)\n",
    "    #extractor.candidate_weighting()\n",
    "    #threshold = 0.8\n",
    "   # keyphrases = extractor.get_n_best(n=20, threshold=threshold)\n",
    "    #keyphrases = extractor.get_n_best(n=n)\n",
    "    return [p[0] for p in keywords]\n",
    "\n",
    "wikiconcepts = df_reduced_topics['topic'].apply(get_cluster_concepts)\n",
    "\n",
    "wikikeywords = df_reduced_topics['topic'].apply(get_yake_cluster_phrases)\n",
    "\n",
    "dfpapers['id'] = dfpapers.index\n",
    "dfinfo = dfpapers[['x','y','id','title','doi','cluster','grants',\n",
    "                   'locations',\n",
    "                 'publication_date','keywords','top_concepts']].copy()\n",
    "\n",
    "centroids = dfinfo.groupby('cluster')[['x','y']].mean().copy()\n",
    "centroids['concepts'] = wikiconcepts\n",
    "centroids['cluster'] = centroids.index\n",
    "centroids['keywords'] = wikikeywords"
   ]
  },
  {
   "cell_type": "code",
   "execution_count": 42,
   "id": "92097d82-f6c2-4dba-9b02-b464c64c2d97",
   "metadata": {},
   "outputs": [],
   "source": [
    "def wrap_it(x):\n",
    "    return \"<br>\".join(textwrap.wrap(x, width=40))\n",
    "   # return \"<br>\".join(textwrap.wrap(x.replace(r'\\s+', ' '), width=40))"
   ]
  },
  {
   "cell_type": "code",
   "execution_count": 43,
   "id": "bc3fb412-6b8d-4eff-98ca-2ec4698fd985",
   "metadata": {},
   "outputs": [],
   "source": [
    "centroids['wrapped_keywords'] = centroids['keywords'].apply(str).apply(wrap_it)\n",
    "centroids['wrapped_concepts'] = centroids['concepts'].apply(str).apply(wrap_it)"
   ]
  },
  {
   "cell_type": "code",
   "execution_count": 44,
   "id": "dbf9b6e4-ab41-4e45-bfb2-d0291f43d7e4",
   "metadata": {},
   "outputs": [],
   "source": [
    "centroids.to_pickle('updatejammingcentroids2d.pkl')"
   ]
  },
  {
   "cell_type": "code",
   "execution_count": 45,
   "id": "a0fcab79-9b2c-4308-a922-aefa02f019de",
   "metadata": {},
   "outputs": [],
   "source": [
    "dftriple.to_pickle('updatejammingdftriple2d.pkl')"
   ]
  },
  {
   "cell_type": "code",
   "execution_count": 46,
   "id": "ea692a62-ee06-42b7-9521-e3592cc30aac",
   "metadata": {},
   "outputs": [],
   "source": [
    "def get_affils_cluster_sort(dc:pd.DataFrame, cl:int):\n",
    "    \"\"\"\n",
    "    restricts the dataframe dc to cluster value cl\n",
    "    and returns the results grouped by id, ror sorted\n",
    "    by the some of probablity descending\n",
    "    \"\"\"\n",
    "    dg = dc[dc['paper_cluster'] == cl].copy()\n",
    "    print(cl)\n",
    "    dv = dg.groupby(['id','display_name','country_code',\n",
    "                     'type'])['paper_cluster_score'].sum().to_frame()\n",
    "    dv.sort_values('paper_cluster_score', ascending=False, inplace=True)\n",
    "    kw = centroids[centroids.cluster == cl]['keywords'].iloc[0]\n",
    "    return dv, kw"
   ]
  },
  {
   "cell_type": "code",
   "execution_count": 47,
   "id": "95996ad0-055e-43e6-8e4f-0f94b4e2a15c",
   "metadata": {},
   "outputs": [
    {
     "name": "stdout",
     "output_type": "stream",
     "text": [
      "1\n",
      "['Molecular Communication', 'Molecular Communication Systems', 'Molecular', 'Communication', 'Diffusion-Based Molecular Communication', 'Signal Detection', 'molecular signals', 'Detection', 'Molecular Signal Detection', 'signal', 'molecular communication relay', 'signal detection schemes', 'molecule shift keying', 'Communication Systems', 'Mobile Molecular Communication', 'Diffusion Molecular Communication', 'channel', 'molecular communication environment', 'Performance', 'molecules']\n"
     ]
    },
    {
     "data": {
      "text/html": [
       "<div>\n",
       "<style scoped>\n",
       "    .dataframe tbody tr th:only-of-type {\n",
       "        vertical-align: middle;\n",
       "    }\n",
       "\n",
       "    .dataframe tbody tr th {\n",
       "        vertical-align: top;\n",
       "    }\n",
       "\n",
       "    .dataframe thead th {\n",
       "        text-align: right;\n",
       "    }\n",
       "</style>\n",
       "<table border=\"1\" class=\"dataframe\">\n",
       "  <thead>\n",
       "    <tr style=\"text-align: right;\">\n",
       "      <th></th>\n",
       "      <th></th>\n",
       "      <th></th>\n",
       "      <th></th>\n",
       "      <th>paper_cluster_score</th>\n",
       "    </tr>\n",
       "    <tr>\n",
       "      <th>id</th>\n",
       "      <th>display_name</th>\n",
       "      <th>country_code</th>\n",
       "      <th>type</th>\n",
       "      <th></th>\n",
       "    </tr>\n",
       "  </thead>\n",
       "  <tbody>\n",
       "    <tr>\n",
       "      <th>https://openalex.org/I139759216</th>\n",
       "      <th>Beijing University of Posts and Telecommunications</th>\n",
       "      <th>CN</th>\n",
       "      <th>education</th>\n",
       "      <td>46.353437</td>\n",
       "    </tr>\n",
       "    <tr>\n",
       "      <th>https://openalex.org/I39555362</th>\n",
       "      <th>University of Warwick</th>\n",
       "      <th>GB</th>\n",
       "      <th>education</th>\n",
       "      <td>21.472349</td>\n",
       "    </tr>\n",
       "    <tr>\n",
       "      <th>https://openalex.org/I82284825</th>\n",
       "      <th>Cranfield University</th>\n",
       "      <th>GB</th>\n",
       "      <th>education</th>\n",
       "      <td>15.056173</td>\n",
       "    </tr>\n",
       "    <tr>\n",
       "      <th>https://openalex.org/I37987034</th>\n",
       "      <th>Guangzhou University</th>\n",
       "      <th>CN</th>\n",
       "      <th>education</th>\n",
       "      <td>14.116289</td>\n",
       "    </tr>\n",
       "    <tr>\n",
       "      <th>https://openalex.org/I4800084</th>\n",
       "      <th>Southwest Jiaotong University</th>\n",
       "      <th>CN</th>\n",
       "      <th>education</th>\n",
       "      <td>6.176405</td>\n",
       "    </tr>\n",
       "    <tr>\n",
       "      <th>https://openalex.org/I47508984</th>\n",
       "      <th>Imperial College London</th>\n",
       "      <th>GB</th>\n",
       "      <th>education</th>\n",
       "      <td>6.176405</td>\n",
       "    </tr>\n",
       "    <tr>\n",
       "      <th>https://openalex.org/I183067930</th>\n",
       "      <th>Shanghai Jiao Tong University</th>\n",
       "      <th>CN</th>\n",
       "      <th>education</th>\n",
       "      <td>5.0</td>\n",
       "    </tr>\n",
       "    <tr>\n",
       "      <th>https://openalex.org/I90610280</th>\n",
       "      <th>South China University of Technology</th>\n",
       "      <th>CN</th>\n",
       "      <th>education</th>\n",
       "      <td>4.0</td>\n",
       "    </tr>\n",
       "    <tr>\n",
       "      <th>https://openalex.org/I4210128584</th>\n",
       "      <th>The Alan Turing Institute</th>\n",
       "      <th>GB</th>\n",
       "      <th>facility</th>\n",
       "      <td>3.0</td>\n",
       "    </tr>\n",
       "    <tr>\n",
       "      <th>https://openalex.org/I116953780</th>\n",
       "      <th>Tongji University</th>\n",
       "      <th>CN</th>\n",
       "      <th>education</th>\n",
       "      <td>3.0</td>\n",
       "    </tr>\n",
       "  </tbody>\n",
       "</table>\n",
       "</div>"
      ],
      "text/plain": [
       "                                                                                                           paper_cluster_score\n",
       "id                               display_name                                       country_code type                         \n",
       "https://openalex.org/I139759216  Beijing University of Posts and Telecommunications CN           education           46.353437\n",
       "https://openalex.org/I39555362   University of Warwick                              GB           education           21.472349\n",
       "https://openalex.org/I82284825   Cranfield University                               GB           education           15.056173\n",
       "https://openalex.org/I37987034   Guangzhou University                               CN           education           14.116289\n",
       "https://openalex.org/I4800084    Southwest Jiaotong University                      CN           education            6.176405\n",
       "https://openalex.org/I47508984   Imperial College London                            GB           education            6.176405\n",
       "https://openalex.org/I183067930  Shanghai Jiao Tong University                      CN           education                 5.0\n",
       "https://openalex.org/I90610280   South China University of Technology               CN           education                 4.0\n",
       "https://openalex.org/I4210128584 The Alan Turing Institute                          GB           facility                  3.0\n",
       "https://openalex.org/I116953780  Tongji University                                  CN           education                 3.0"
      ]
     },
     "execution_count": 47,
     "metadata": {},
     "output_type": "execute_result"
    }
   ],
   "source": [
    "dv84, kw84 = get_affils_cluster_sort(dftriple, 1)\n",
    "print(kw84)\n",
    "dv84.head(10)"
   ]
  },
  {
   "cell_type": "code",
   "execution_count": 48,
   "id": "7ac8ecf7-dbbe-4cec-874e-55c3d5a9ffbf",
   "metadata": {},
   "outputs": [
    {
     "name": "stdout",
     "output_type": "stream",
     "text": [
      "0\n",
      "['Coq', 'theorem', 'Coq proof assistant', 'set theory', 'formal proof', 'axiomatic set theory', 'Coq proof', 'Spaces', 'Topological Spaces', 'proof assistant Coq', 'proof', 'space', 'Formal', 'theory', 'set', 'completeness theorem', 'formalization', 'theorems', 'Formal System', 'system']\n"
     ]
    },
    {
     "data": {
      "text/html": [
       "<div>\n",
       "<style scoped>\n",
       "    .dataframe tbody tr th:only-of-type {\n",
       "        vertical-align: middle;\n",
       "    }\n",
       "\n",
       "    .dataframe tbody tr th {\n",
       "        vertical-align: top;\n",
       "    }\n",
       "\n",
       "    .dataframe thead th {\n",
       "        text-align: right;\n",
       "    }\n",
       "</style>\n",
       "<table border=\"1\" class=\"dataframe\">\n",
       "  <thead>\n",
       "    <tr style=\"text-align: right;\">\n",
       "      <th></th>\n",
       "      <th></th>\n",
       "      <th></th>\n",
       "      <th></th>\n",
       "      <th>paper_cluster_score</th>\n",
       "    </tr>\n",
       "    <tr>\n",
       "      <th>id</th>\n",
       "      <th>display_name</th>\n",
       "      <th>country_code</th>\n",
       "      <th>type</th>\n",
       "      <th></th>\n",
       "    </tr>\n",
       "  </thead>\n",
       "  <tbody>\n",
       "    <tr>\n",
       "      <th>https://openalex.org/I139759216</th>\n",
       "      <th>Beijing University of Posts and Telecommunications</th>\n",
       "      <th>CN</th>\n",
       "      <th>education</th>\n",
       "      <td>37.388068</td>\n",
       "    </tr>\n",
       "    <tr>\n",
       "      <th>https://openalex.org/I3130859241</th>\n",
       "      <th>Yili Normal University</th>\n",
       "      <th>CN</th>\n",
       "      <th>education</th>\n",
       "      <td>4.0</td>\n",
       "    </tr>\n",
       "    <tr>\n",
       "      <th>https://openalex.org/I172675005</th>\n",
       "      <th>Nanyang Technological University</th>\n",
       "      <th>SG</th>\n",
       "      <th>education</th>\n",
       "      <td>3.053296</td>\n",
       "    </tr>\n",
       "    <tr>\n",
       "      <th>https://openalex.org/I4210141689</th>\n",
       "      <th>Yancheng Teachers University</th>\n",
       "      <th>CN</th>\n",
       "      <th>education</th>\n",
       "      <td>2.6702</td>\n",
       "    </tr>\n",
       "    <tr>\n",
       "      <th>https://openalex.org/I163151501</th>\n",
       "      <th>Hangzhou Normal University</th>\n",
       "      <th>CN</th>\n",
       "      <th>education</th>\n",
       "      <td>1.0</td>\n",
       "    </tr>\n",
       "    <tr>\n",
       "      <th>https://openalex.org/I118574674</th>\n",
       "      <th>Jiangsu Normal University</th>\n",
       "      <th>CN</th>\n",
       "      <th>education</th>\n",
       "      <td>0.895597</td>\n",
       "    </tr>\n",
       "    <tr>\n",
       "      <th>https://openalex.org/I9356336</th>\n",
       "      <th>Zhangzhou Normal University</th>\n",
       "      <th>CN</th>\n",
       "      <th>education</th>\n",
       "      <td>0.801589</td>\n",
       "    </tr>\n",
       "    <tr>\n",
       "      <th>https://openalex.org/I125839683</th>\n",
       "      <th>Beijing Institute of Technology</th>\n",
       "      <th>CN</th>\n",
       "      <th>education</th>\n",
       "      <td>0.437698</td>\n",
       "    </tr>\n",
       "  </tbody>\n",
       "</table>\n",
       "</div>"
      ],
      "text/plain": [
       "                                                                                                           paper_cluster_score\n",
       "id                               display_name                                       country_code type                         \n",
       "https://openalex.org/I139759216  Beijing University of Posts and Telecommunications CN           education           37.388068\n",
       "https://openalex.org/I3130859241 Yili Normal University                             CN           education                 4.0\n",
       "https://openalex.org/I172675005  Nanyang Technological University                   SG           education            3.053296\n",
       "https://openalex.org/I4210141689 Yancheng Teachers University                       CN           education              2.6702\n",
       "https://openalex.org/I163151501  Hangzhou Normal University                         CN           education                 1.0\n",
       "https://openalex.org/I118574674  Jiangsu Normal University                          CN           education            0.895597\n",
       "https://openalex.org/I9356336    Zhangzhou Normal University                        CN           education            0.801589\n",
       "https://openalex.org/I125839683  Beijing Institute of Technology                    CN           education            0.437698"
      ]
     },
     "execution_count": 48,
     "metadata": {},
     "output_type": "execute_result"
    }
   ],
   "source": [
    "dv84, kw84 = get_affils_cluster_sort(dftriple, 0)\n",
    "print(kw84)\n",
    "dv84.head(10)"
   ]
  },
  {
   "cell_type": "code",
   "execution_count": 49,
   "id": "ab035d32-eed4-4b83-a3cf-a915c6b13e77",
   "metadata": {},
   "outputs": [
    {
     "name": "stdout",
     "output_type": "stream",
     "text": [
      "0\n",
      "['Coq', 'theorem', 'Coq proof assistant', 'set theory', 'formal proof', 'axiomatic set theory', 'Coq proof', 'Spaces', 'Topological Spaces', 'proof assistant Coq', 'proof', 'space', 'Formal', 'theory', 'set', 'completeness theorem', 'formalization', 'theorems', 'Formal System', 'system']\n"
     ]
    },
    {
     "data": {
      "text/html": [
       "<div>\n",
       "<style scoped>\n",
       "    .dataframe tbody tr th:only-of-type {\n",
       "        vertical-align: middle;\n",
       "    }\n",
       "\n",
       "    .dataframe tbody tr th {\n",
       "        vertical-align: top;\n",
       "    }\n",
       "\n",
       "    .dataframe thead th {\n",
       "        text-align: right;\n",
       "    }\n",
       "</style>\n",
       "<table border=\"1\" class=\"dataframe\">\n",
       "  <thead>\n",
       "    <tr style=\"text-align: right;\">\n",
       "      <th></th>\n",
       "      <th></th>\n",
       "      <th></th>\n",
       "      <th></th>\n",
       "      <th>paper_cluster_score</th>\n",
       "    </tr>\n",
       "    <tr>\n",
       "      <th>id</th>\n",
       "      <th>display_name</th>\n",
       "      <th>country_code</th>\n",
       "      <th>type</th>\n",
       "      <th></th>\n",
       "    </tr>\n",
       "  </thead>\n",
       "  <tbody>\n",
       "    <tr>\n",
       "      <th>https://openalex.org/I139759216</th>\n",
       "      <th>Beijing University of Posts and Telecommunications</th>\n",
       "      <th>CN</th>\n",
       "      <th>education</th>\n",
       "      <td>37.388068</td>\n",
       "    </tr>\n",
       "    <tr>\n",
       "      <th>https://openalex.org/I3130859241</th>\n",
       "      <th>Yili Normal University</th>\n",
       "      <th>CN</th>\n",
       "      <th>education</th>\n",
       "      <td>4.0</td>\n",
       "    </tr>\n",
       "    <tr>\n",
       "      <th>https://openalex.org/I172675005</th>\n",
       "      <th>Nanyang Technological University</th>\n",
       "      <th>SG</th>\n",
       "      <th>education</th>\n",
       "      <td>3.053296</td>\n",
       "    </tr>\n",
       "    <tr>\n",
       "      <th>https://openalex.org/I4210141689</th>\n",
       "      <th>Yancheng Teachers University</th>\n",
       "      <th>CN</th>\n",
       "      <th>education</th>\n",
       "      <td>2.6702</td>\n",
       "    </tr>\n",
       "    <tr>\n",
       "      <th>https://openalex.org/I163151501</th>\n",
       "      <th>Hangzhou Normal University</th>\n",
       "      <th>CN</th>\n",
       "      <th>education</th>\n",
       "      <td>1.0</td>\n",
       "    </tr>\n",
       "    <tr>\n",
       "      <th>https://openalex.org/I118574674</th>\n",
       "      <th>Jiangsu Normal University</th>\n",
       "      <th>CN</th>\n",
       "      <th>education</th>\n",
       "      <td>0.895597</td>\n",
       "    </tr>\n",
       "    <tr>\n",
       "      <th>https://openalex.org/I9356336</th>\n",
       "      <th>Zhangzhou Normal University</th>\n",
       "      <th>CN</th>\n",
       "      <th>education</th>\n",
       "      <td>0.801589</td>\n",
       "    </tr>\n",
       "    <tr>\n",
       "      <th>https://openalex.org/I125839683</th>\n",
       "      <th>Beijing Institute of Technology</th>\n",
       "      <th>CN</th>\n",
       "      <th>education</th>\n",
       "      <td>0.437698</td>\n",
       "    </tr>\n",
       "  </tbody>\n",
       "</table>\n",
       "</div>"
      ],
      "text/plain": [
       "                                                                                                           paper_cluster_score\n",
       "id                               display_name                                       country_code type                         \n",
       "https://openalex.org/I139759216  Beijing University of Posts and Telecommunications CN           education           37.388068\n",
       "https://openalex.org/I3130859241 Yili Normal University                             CN           education                 4.0\n",
       "https://openalex.org/I172675005  Nanyang Technological University                   SG           education            3.053296\n",
       "https://openalex.org/I4210141689 Yancheng Teachers University                       CN           education              2.6702\n",
       "https://openalex.org/I163151501  Hangzhou Normal University                         CN           education                 1.0\n",
       "https://openalex.org/I118574674  Jiangsu Normal University                          CN           education            0.895597\n",
       "https://openalex.org/I9356336    Zhangzhou Normal University                        CN           education            0.801589\n",
       "https://openalex.org/I125839683  Beijing Institute of Technology                    CN           education            0.437698"
      ]
     },
     "execution_count": 49,
     "metadata": {},
     "output_type": "execute_result"
    }
   ],
   "source": [
    "dv84, kw84 = get_affils_cluster_sort(dftriple, 0)\n",
    "print(kw84)\n",
    "dv84.head(20)"
   ]
  },
  {
   "cell_type": "code",
   "execution_count": 50,
   "id": "5aa656b0-081e-450a-a14f-59d5aaffe095",
   "metadata": {},
   "outputs": [],
   "source": [
    "dfinfo = dfpapers[['x','y','id','title','doi','cluster','probability',\n",
    "                 'publication_date','grants','locations',\n",
    "                   'keywords','top_concepts']].copy()"
   ]
  },
  {
   "cell_type": "code",
   "execution_count": 51,
   "id": "cbaecdd5-d415-487e-9084-c35510833acb",
   "metadata": {},
   "outputs": [],
   "source": [
    "# Group by 'paper_id' and concatenate 'paper_raw_affiliation_strings'\n",
    "grouped = dftriple.groupby('paper_id')['paper_raw_affiliation_strings'].apply(lambda x: list(set([item for sublist in x for item in sublist]))).reset_index()\n",
    "\n",
    "# Convert the series back to a dictionary\n",
    "pap_affils_dict = grouped.set_index('paper_id')['paper_raw_affiliation_strings'].to_dict()"
   ]
  },
  {
   "cell_type": "code",
   "execution_count": 52,
   "id": "a7d1aa7c-1dc3-4bfa-83e7-ddb8b8237afa",
   "metadata": {},
   "outputs": [],
   "source": [
    "import itertools\n"
   ]
  },
  {
   "cell_type": "code",
   "execution_count": 53,
   "id": "9df55061-a269-4704-a646-a80fe4fc7f95",
   "metadata": {},
   "outputs": [],
   "source": [
    "pap_authors_dict = dftriple.groupby('paper_id')['paper_author_display_name'].apply(lambda x: x.values)"
   ]
  },
  {
   "cell_type": "code",
   "execution_count": 54,
   "id": "a333e673-4ea0-47c9-9ca6-2955f8b0f01a",
   "metadata": {},
   "outputs": [],
   "source": [
    "dfinfo['affil_list'] = dfinfo['id'].map(pap_affils_dict)"
   ]
  },
  {
   "cell_type": "code",
   "execution_count": 55,
   "id": "2fad8508-c755-4e40-8177-22a7e57764fc",
   "metadata": {},
   "outputs": [],
   "source": [
    "dfinfo['author_list'] = dfinfo['id'].map(pap_authors_dict)"
   ]
  },
  {
   "cell_type": "code",
   "execution_count": 56,
   "id": "f38e09af-c8ab-4590-ae0a-5bd8e19fcf9d",
   "metadata": {},
   "outputs": [],
   "source": [
    "dfinfo['wrapped_affil_list'] = dfinfo['affil_list'].apply(str).apply(wrap_it)\n",
    "dfinfo['wrapped_author_list'] = dfinfo['author_list'].apply(str).apply(wrap_it)"
   ]
  },
  {
   "cell_type": "code",
   "execution_count": 57,
   "id": "debcdf2d-005a-422d-9704-579ce7b0fd33",
   "metadata": {},
   "outputs": [],
   "source": [
    "dfinfo['wrapped_keywords'] = dfinfo['keywords'].apply(str).apply(wrap_it)"
   ]
  },
  {
   "cell_type": "code",
   "execution_count": 58,
   "id": "41901f4d-b58c-4e72-b6e9-4e7a42f16d2b",
   "metadata": {},
   "outputs": [],
   "source": [
    "def get_source_name(loc_list):\n",
    "    \"\"\"\n",
    "    grab the first item in the list;\n",
    "    retturn the display name\n",
    "    \"\"\"\n",
    "    try:\n",
    "        primary = loc_list[0]\n",
    "        return primary[\"source\"][\"display_name\"]\n",
    "    except:\n",
    "        return None\n",
    "\n",
    "def get_source_type(loc_list):\n",
    "    \"\"\"\n",
    "    grab the first item in the list;\n",
    "    return the source type\n",
    "    \"\"\"\n",
    "    try:\n",
    "        primary = loc_list[0]\n",
    "        return primary[\"source\"][\"type\"]\n",
    "    except:\n",
    "        return None"
   ]
  },
  {
   "cell_type": "code",
   "execution_count": 59,
   "id": "533e825d-e4ee-4ec2-aab7-3311a3a6fb69",
   "metadata": {},
   "outputs": [],
   "source": [
    "dfinfo[\"source\"] = dfinfo[\"locations\"].apply(get_source_name)\n",
    "dfinfo[\"source_type\"] = dfinfo[\"locations\"].apply(get_source_type)"
   ]
  },
  {
   "cell_type": "code",
   "execution_count": 60,
   "id": "dfcf08a8-8b0b-4c76-aeba-0cfc6d2259ed",
   "metadata": {},
   "outputs": [],
   "source": [
    "dfinfo.to_pickle('updatejammingdfinfo2d.pkl')"
   ]
  },
  {
   "cell_type": "code",
   "execution_count": 61,
   "id": "4a5c8d30-4e80-449c-8606-be27dda8ab33",
   "metadata": {},
   "outputs": [],
   "source": [
    "def get_funder_names(funder_list):\n",
    "    \"\"\"\n",
    "    funder_list is a list of dictionaries\n",
    "    with three keys; return the list of \n",
    "    unique **funder_display_name**\n",
    "    values\n",
    "    \"\"\"\n",
    "    try:\n",
    "        funder_names = list(set([f['funder_display_name'] for f in funder_list]))\n",
    "        return funder_names    \n",
    "    except:\n",
    "        return []"
   ]
  },
  {
   "cell_type": "code",
   "execution_count": 62,
   "id": "19887243-c75d-49b5-90d4-4c1d2712890f",
   "metadata": {},
   "outputs": [],
   "source": [
    "dftriple[\"source\"] = dftriple[\"paper_locations\"].apply(get_source_name)\n",
    "dftriple[\"source_type\"] = dftriple[\"paper_locations\"].apply(get_source_type)\n",
    "dftriple[\"funder_list\"] = dftriple[\"paper_grants\"].apply(get_funder_names)"
   ]
  },
  {
   "cell_type": "code",
   "execution_count": 63,
   "id": "9e1c1c80-a4dd-49a6-86de-9758ed624870",
   "metadata": {},
   "outputs": [],
   "source": [
    "dftriple.to_pickle('updatejammingdftriple2d.pkl')"
   ]
  },
  {
   "cell_type": "code",
   "execution_count": 64,
   "id": "b6de74f3-bd22-4590-97b8-7043dd7eb9f1",
   "metadata": {},
   "outputs": [],
   "source": [
    "def get_journals_cluster_sort(dc:pd.DataFrame, cl:int):\n",
    "    \"\"\"\n",
    "    restricts the dataframe dc to cluster value cl\n",
    "    and returns the results grouped by source (where\n",
    "    source_type == 'journal') sorted\n",
    "    by the some of probablity descending\n",
    "    \"\"\"\n",
    "    dg = dc[dc['paper_cluster'] == cl].copy()\n",
    "    print(cl)\n",
    "    dv = dg[dg['source_type'] == 'journal'].groupby(['source'])['paper_cluster_score'].sum().to_frame()\n",
    "    dv.sort_values('paper_cluster_score', ascending=False, inplace=True)\n",
    "    kw = centroids[centroids.cluster == cl]['keywords'].iloc[0]\n",
    "    return dv, kw"
   ]
  },
  {
   "cell_type": "code",
   "execution_count": 65,
   "id": "08e403cf-af3d-46e7-a782-1708d897123f",
   "metadata": {},
   "outputs": [],
   "source": [
    "def get_conferences_cluster_sort(dc:pd.DataFrame, cl:int):\n",
    "    \"\"\"\n",
    "    restricts the dataframe dc to cluster value cl\n",
    "    and returns the results grouped by source (where\n",
    "    source_type == 'journal') sorted\n",
    "    by the some of probablity descending\n",
    "    \"\"\"\n",
    "    dg = dc[dc['paper_cluster'] == cl].copy()\n",
    "    print(cl)\n",
    "    dv = dg[dg['source_type'] == 'conference'].groupby(['source'])['paper_cluster_score'].sum().to_frame()\n",
    "    dv.sort_values('paper_cluster_score', ascending=False, inplace=True)\n",
    "    kw = centroids[centroids.cluster == cl]['keywords'].iloc[0]\n",
    "    return dv, kw"
   ]
  },
  {
   "cell_type": "code",
   "execution_count": 66,
   "id": "a478daf4-5e73-422f-88d0-366afc96c89d",
   "metadata": {},
   "outputs": [],
   "source": [
    "def get_country_collaborations_sort(dc:pd.DataFrame, cl:int):\n",
    "    \"\"\"\n",
    "    resticts the dataframe dc to cluster value cl\n",
    "    and returns the results of paper_id s where there is \n",
    "    more than one country_code\n",
    "    \"\"\"\n",
    "    dg = dc[dc['paper_cluster'] == cl].copy()\n",
    "    dv = dg.groupby('paper_id')['country_code'].apply(lambda x: len(set(x.values))).to_frame()\n",
    "    dc = dg.groupby('paper_id')['country_code'].apply(lambda x: list(set(x.values))).to_frame()\n",
    "    dc.columns = ['collab_countries']\n",
    "    dv.columns = ['country_count']\n",
    "    dv['collab_countries'] = dc['collab_countries']\n",
    "    dv.sort_values('country_count',ascending=False, inplace=True)\n",
    "    di = dfinfo.loc[dv.index].copy()\n",
    "    di['country_count'] = dv['country_count']\n",
    "    di['collab_countries'] = dv['collab_countries']\n",
    "    return di[di['country_count'] > 1]"
   ]
  },
  {
   "cell_type": "code",
   "execution_count": 67,
   "id": "9ba72cbe-6cb9-4c02-9d72-4fe326eca95d",
   "metadata": {},
   "outputs": [
    {
     "data": {
      "text/html": [
       "<div>\n",
       "<style scoped>\n",
       "    .dataframe tbody tr th:only-of-type {\n",
       "        vertical-align: middle;\n",
       "    }\n",
       "\n",
       "    .dataframe tbody tr th {\n",
       "        vertical-align: top;\n",
       "    }\n",
       "\n",
       "    .dataframe thead th {\n",
       "        text-align: right;\n",
       "    }\n",
       "</style>\n",
       "<table border=\"1\" class=\"dataframe\">\n",
       "  <thead>\n",
       "    <tr style=\"text-align: right;\">\n",
       "      <th></th>\n",
       "      <th>x</th>\n",
       "      <th>y</th>\n",
       "      <th>id</th>\n",
       "      <th>title</th>\n",
       "      <th>doi</th>\n",
       "      <th>cluster</th>\n",
       "      <th>probability</th>\n",
       "      <th>publication_date</th>\n",
       "      <th>grants</th>\n",
       "      <th>locations</th>\n",
       "      <th>...</th>\n",
       "      <th>top_concepts</th>\n",
       "      <th>affil_list</th>\n",
       "      <th>author_list</th>\n",
       "      <th>wrapped_affil_list</th>\n",
       "      <th>wrapped_author_list</th>\n",
       "      <th>wrapped_keywords</th>\n",
       "      <th>source</th>\n",
       "      <th>source_type</th>\n",
       "      <th>country_count</th>\n",
       "      <th>collab_countries</th>\n",
       "    </tr>\n",
       "    <tr>\n",
       "      <th>paper_id</th>\n",
       "      <th></th>\n",
       "      <th></th>\n",
       "      <th></th>\n",
       "      <th></th>\n",
       "      <th></th>\n",
       "      <th></th>\n",
       "      <th></th>\n",
       "      <th></th>\n",
       "      <th></th>\n",
       "      <th></th>\n",
       "      <th></th>\n",
       "      <th></th>\n",
       "      <th></th>\n",
       "      <th></th>\n",
       "      <th></th>\n",
       "      <th></th>\n",
       "      <th></th>\n",
       "      <th></th>\n",
       "      <th></th>\n",
       "      <th></th>\n",
       "      <th></th>\n",
       "    </tr>\n",
       "  </thead>\n",
       "  <tbody>\n",
       "    <tr>\n",
       "      <th>https://openalex.org/W4206819778</th>\n",
       "      <td>1.105263</td>\n",
       "      <td>3.708296</td>\n",
       "      <td>https://openalex.org/W4206819778</td>\n",
       "      <td>Maximal point spaces of posets with relative l...</td>\n",
       "      <td>https://doi.org/10.2298/fil2108645s</td>\n",
       "      <td>0</td>\n",
       "      <td>0.895597</td>\n",
       "      <td>2021-01-01</td>\n",
       "      <td>[]</td>\n",
       "      <td>[{'is_oa': True, 'landing_page_url': 'https://...</td>\n",
       "      <td>...</td>\n",
       "      <td>[Partially ordered set, Mathematics, Bounded f...</td>\n",
       "      <td>[Mathematics and Mathematical Education, Natio...</td>\n",
       "      <td>[Chong Shen, Xiaoyong Xi, Dongsheng Zhao]</td>\n",
       "      <td>['Mathematics and Mathematical&lt;br&gt;Education, N...</td>\n",
       "      <td>['Chong Shen' 'Xiaoyong Xi' 'Dongsheng&lt;br&gt;Zhao']</td>\n",
       "      <td>['lower topology', 'poset', 'space',&lt;br&gt;'relat...</td>\n",
       "      <td>Filomat</td>\n",
       "      <td>journal</td>\n",
       "      <td>2</td>\n",
       "      <td>[CN, SG]</td>\n",
       "    </tr>\n",
       "    <tr>\n",
       "      <th>https://openalex.org/W4328130573</th>\n",
       "      <td>1.108287</td>\n",
       "      <td>3.715919</td>\n",
       "      <td>https://openalex.org/W4328130573</td>\n",
       "      <td>Further studies on open well-filtered spaces</td>\n",
       "      <td>https://doi.org/10.46298/entics.10392</td>\n",
       "      <td>0</td>\n",
       "      <td>0.843608</td>\n",
       "      <td>2023-03-21</td>\n",
       "      <td>[]</td>\n",
       "      <td>[{'is_oa': True, 'landing_page_url': 'https://...</td>\n",
       "      <td>...</td>\n",
       "      <td>[Open set, Mathematics, Space (punctuation)]</td>\n",
       "      <td>[Mathematics and Mathematics Education, Nation...</td>\n",
       "      <td>[Chong Shen, Xiaoyong Xi, Dongsheng Zhao]</td>\n",
       "      <td>['Mathematics and Mathematics Education,&lt;br&gt;Na...</td>\n",
       "      <td>['Chong Shen' 'Xiaoyong Xi' 'Dongsheng&lt;br&gt;Zhao']</td>\n",
       "      <td>['open well-filtered spaces', 'open&lt;br&gt;well-fi...</td>\n",
       "      <td>Electronic notes in theorical informatics and ...</td>\n",
       "      <td>journal</td>\n",
       "      <td>2</td>\n",
       "      <td>[CN, SG]</td>\n",
       "    </tr>\n",
       "    <tr>\n",
       "      <th>https://openalex.org/W4327558482</th>\n",
       "      <td>1.081017</td>\n",
       "      <td>3.732934</td>\n",
       "      <td>https://openalex.org/W4327558482</td>\n",
       "      <td>On a problem about strictly completely regular...</td>\n",
       "      <td>https://doi.org/10.1016/j.topol.2023.108489</td>\n",
       "      <td>0</td>\n",
       "      <td>0.512501</td>\n",
       "      <td>2023-05-01</td>\n",
       "      <td>[]</td>\n",
       "      <td>[{'is_oa': False, 'landing_page_url': 'https:/...</td>\n",
       "      <td>...</td>\n",
       "      <td>[Mathematics, Counterexample, Partially ordere...</td>\n",
       "      <td>[School of Mathematics and Statistics, Yanchen...</td>\n",
       "      <td>[Xiaoyong Xi, Chong Shen, Gaolin Li, Dongsheng...</td>\n",
       "      <td>['School of Mathematics and Statistics,&lt;br&gt;Yan...</td>\n",
       "      <td>['Xiaoyong Xi' 'Chong Shen' 'Gaolin Li'&lt;br&gt;'Do...</td>\n",
       "      <td>['completely regular ordered', 'strictly&lt;br&gt;co...</td>\n",
       "      <td>Topology and its applications</td>\n",
       "      <td>journal</td>\n",
       "      <td>2</td>\n",
       "      <td>[CN, SG]</td>\n",
       "    </tr>\n",
       "    <tr>\n",
       "      <th>https://openalex.org/W4283586870</th>\n",
       "      <td>1.102607</td>\n",
       "      <td>3.713924</td>\n",
       "      <td>https://openalex.org/W4283586870</td>\n",
       "      <td>Hofmann-Mislove type definitions of non-Hausdo...</td>\n",
       "      <td>https://doi.org/10.1017/s0960129522000196</td>\n",
       "      <td>0</td>\n",
       "      <td>0.801589</td>\n",
       "      <td>2022-01-01</td>\n",
       "      <td>[]</td>\n",
       "      <td>[{'is_oa': False, 'landing_page_url': 'https:/...</td>\n",
       "      <td>...</td>\n",
       "      <td>[Hausdorff space, Mathematics, Pure mathematic...</td>\n",
       "      <td>[School of Mathematics and Statistics, Minnan ...</td>\n",
       "      <td>[Chong Shen, Xiaoyong Xi, Xiaoquan Xu, Dongshe...</td>\n",
       "      <td>['School of Mathematics and Statistics,&lt;br&gt;Min...</td>\n",
       "      <td>['Chong Shen' 'Xiaoyong Xi' 'Xiaoquan&lt;br&gt;Xu' '...</td>\n",
       "      <td>['Psi', 'Hofmann-Mislove type&lt;br&gt;definitions',...</td>\n",
       "      <td>MSCS. Mathematical structures in computer scie...</td>\n",
       "      <td>journal</td>\n",
       "      <td>2</td>\n",
       "      <td>[CN, SG]</td>\n",
       "    </tr>\n",
       "  </tbody>\n",
       "</table>\n",
       "<p>4 rows × 21 columns</p>\n",
       "</div>"
      ],
      "text/plain": [
       "                                         x         y  \\\n",
       "paper_id                                               \n",
       "https://openalex.org/W4206819778  1.105263  3.708296   \n",
       "https://openalex.org/W4328130573  1.108287  3.715919   \n",
       "https://openalex.org/W4327558482  1.081017  3.732934   \n",
       "https://openalex.org/W4283586870  1.102607  3.713924   \n",
       "\n",
       "                                                                id  \\\n",
       "paper_id                                                             \n",
       "https://openalex.org/W4206819778  https://openalex.org/W4206819778   \n",
       "https://openalex.org/W4328130573  https://openalex.org/W4328130573   \n",
       "https://openalex.org/W4327558482  https://openalex.org/W4327558482   \n",
       "https://openalex.org/W4283586870  https://openalex.org/W4283586870   \n",
       "\n",
       "                                                                              title  \\\n",
       "paper_id                                                                              \n",
       "https://openalex.org/W4206819778  Maximal point spaces of posets with relative l...   \n",
       "https://openalex.org/W4328130573       Further studies on open well-filtered spaces   \n",
       "https://openalex.org/W4327558482  On a problem about strictly completely regular...   \n",
       "https://openalex.org/W4283586870  Hofmann-Mislove type definitions of non-Hausdo...   \n",
       "\n",
       "                                                                          doi  \\\n",
       "paper_id                                                                        \n",
       "https://openalex.org/W4206819778          https://doi.org/10.2298/fil2108645s   \n",
       "https://openalex.org/W4328130573        https://doi.org/10.46298/entics.10392   \n",
       "https://openalex.org/W4327558482  https://doi.org/10.1016/j.topol.2023.108489   \n",
       "https://openalex.org/W4283586870    https://doi.org/10.1017/s0960129522000196   \n",
       "\n",
       "                                  cluster  probability publication_date  \\\n",
       "paper_id                                                                  \n",
       "https://openalex.org/W4206819778        0     0.895597       2021-01-01   \n",
       "https://openalex.org/W4328130573        0     0.843608       2023-03-21   \n",
       "https://openalex.org/W4327558482        0     0.512501       2023-05-01   \n",
       "https://openalex.org/W4283586870        0     0.801589       2022-01-01   \n",
       "\n",
       "                                 grants  \\\n",
       "paper_id                                  \n",
       "https://openalex.org/W4206819778     []   \n",
       "https://openalex.org/W4328130573     []   \n",
       "https://openalex.org/W4327558482     []   \n",
       "https://openalex.org/W4283586870     []   \n",
       "\n",
       "                                                                          locations  \\\n",
       "paper_id                                                                              \n",
       "https://openalex.org/W4206819778  [{'is_oa': True, 'landing_page_url': 'https://...   \n",
       "https://openalex.org/W4328130573  [{'is_oa': True, 'landing_page_url': 'https://...   \n",
       "https://openalex.org/W4327558482  [{'is_oa': False, 'landing_page_url': 'https:/...   \n",
       "https://openalex.org/W4283586870  [{'is_oa': False, 'landing_page_url': 'https:/...   \n",
       "\n",
       "                                  ...  \\\n",
       "paper_id                          ...   \n",
       "https://openalex.org/W4206819778  ...   \n",
       "https://openalex.org/W4328130573  ...   \n",
       "https://openalex.org/W4327558482  ...   \n",
       "https://openalex.org/W4283586870  ...   \n",
       "\n",
       "                                                                       top_concepts  \\\n",
       "paper_id                                                                              \n",
       "https://openalex.org/W4206819778  [Partially ordered set, Mathematics, Bounded f...   \n",
       "https://openalex.org/W4328130573       [Open set, Mathematics, Space (punctuation)]   \n",
       "https://openalex.org/W4327558482  [Mathematics, Counterexample, Partially ordere...   \n",
       "https://openalex.org/W4283586870  [Hausdorff space, Mathematics, Pure mathematic...   \n",
       "\n",
       "                                                                         affil_list  \\\n",
       "paper_id                                                                              \n",
       "https://openalex.org/W4206819778  [Mathematics and Mathematical Education, Natio...   \n",
       "https://openalex.org/W4328130573  [Mathematics and Mathematics Education, Nation...   \n",
       "https://openalex.org/W4327558482  [School of Mathematics and Statistics, Yanchen...   \n",
       "https://openalex.org/W4283586870  [School of Mathematics and Statistics, Minnan ...   \n",
       "\n",
       "                                                                        author_list  \\\n",
       "paper_id                                                                              \n",
       "https://openalex.org/W4206819778          [Chong Shen, Xiaoyong Xi, Dongsheng Zhao]   \n",
       "https://openalex.org/W4328130573          [Chong Shen, Xiaoyong Xi, Dongsheng Zhao]   \n",
       "https://openalex.org/W4327558482  [Xiaoyong Xi, Chong Shen, Gaolin Li, Dongsheng...   \n",
       "https://openalex.org/W4283586870  [Chong Shen, Xiaoyong Xi, Xiaoquan Xu, Dongshe...   \n",
       "\n",
       "                                                                 wrapped_affil_list  \\\n",
       "paper_id                                                                              \n",
       "https://openalex.org/W4206819778  ['Mathematics and Mathematical<br>Education, N...   \n",
       "https://openalex.org/W4328130573  ['Mathematics and Mathematics Education,<br>Na...   \n",
       "https://openalex.org/W4327558482  ['School of Mathematics and Statistics,<br>Yan...   \n",
       "https://openalex.org/W4283586870  ['School of Mathematics and Statistics,<br>Min...   \n",
       "\n",
       "                                                                wrapped_author_list  \\\n",
       "paper_id                                                                              \n",
       "https://openalex.org/W4206819778   ['Chong Shen' 'Xiaoyong Xi' 'Dongsheng<br>Zhao']   \n",
       "https://openalex.org/W4328130573   ['Chong Shen' 'Xiaoyong Xi' 'Dongsheng<br>Zhao']   \n",
       "https://openalex.org/W4327558482  ['Xiaoyong Xi' 'Chong Shen' 'Gaolin Li'<br>'Do...   \n",
       "https://openalex.org/W4283586870  ['Chong Shen' 'Xiaoyong Xi' 'Xiaoquan<br>Xu' '...   \n",
       "\n",
       "                                                                   wrapped_keywords  \\\n",
       "paper_id                                                                              \n",
       "https://openalex.org/W4206819778  ['lower topology', 'poset', 'space',<br>'relat...   \n",
       "https://openalex.org/W4328130573  ['open well-filtered spaces', 'open<br>well-fi...   \n",
       "https://openalex.org/W4327558482  ['completely regular ordered', 'strictly<br>co...   \n",
       "https://openalex.org/W4283586870  ['Psi', 'Hofmann-Mislove type<br>definitions',...   \n",
       "\n",
       "                                                                             source  \\\n",
       "paper_id                                                                              \n",
       "https://openalex.org/W4206819778                                            Filomat   \n",
       "https://openalex.org/W4328130573  Electronic notes in theorical informatics and ...   \n",
       "https://openalex.org/W4327558482                      Topology and its applications   \n",
       "https://openalex.org/W4283586870  MSCS. Mathematical structures in computer scie...   \n",
       "\n",
       "                                 source_type country_count  collab_countries  \n",
       "paper_id                                                                      \n",
       "https://openalex.org/W4206819778     journal             2          [CN, SG]  \n",
       "https://openalex.org/W4328130573     journal             2          [CN, SG]  \n",
       "https://openalex.org/W4327558482     journal             2          [CN, SG]  \n",
       "https://openalex.org/W4283586870     journal             2          [CN, SG]  \n",
       "\n",
       "[4 rows x 21 columns]"
      ]
     },
     "execution_count": 67,
     "metadata": {},
     "output_type": "execute_result"
    }
   ],
   "source": [
    "dv = get_country_collaborations_sort(dftriple, 0)\n",
    "dv"
   ]
  },
  {
   "cell_type": "code",
   "execution_count": 68,
   "id": "5f255917-65bf-4bdc-9630-f13686b4238c",
   "metadata": {},
   "outputs": [],
   "source": [
    "import networkx as nx\n",
    "from pyvis.network import Network\n",
    "import igraph as ig # for getting a layout w/o relying on slow pyvis physics "
   ]
  },
  {
   "cell_type": "code",
   "execution_count": 69,
   "id": "e7b43f4a-02ce-4212-a729-cfa6b2149161",
   "metadata": {},
   "outputs": [],
   "source": [
    "dfinfo[\"funder_list\"] = dfinfo[\"grants\"].apply(get_funder_names)\n",
    "dfinfo[\"wrapped_funder_list\"] = dfinfo[\"funder_list\"].apply(str).apply(wrap_it)"
   ]
  },
  {
   "cell_type": "code",
   "execution_count": 70,
   "id": "d463e607-a177-4b42-8eb8-1817fb73fb50",
   "metadata": {},
   "outputs": [],
   "source": [
    "dfinfo.to_pickle('updatejammingdfinfo2d.pkl')"
   ]
  },
  {
   "cell_type": "code",
   "execution_count": 71,
   "id": "8015b75d-598b-437f-bb17-5a1ff8108636",
   "metadata": {},
   "outputs": [
    {
     "data": {
      "text/html": [
       "<div>\n",
       "<style scoped>\n",
       "    .dataframe tbody tr th:only-of-type {\n",
       "        vertical-align: middle;\n",
       "    }\n",
       "\n",
       "    .dataframe tbody tr th {\n",
       "        vertical-align: top;\n",
       "    }\n",
       "\n",
       "    .dataframe thead th {\n",
       "        text-align: right;\n",
       "    }\n",
       "</style>\n",
       "<table border=\"1\" class=\"dataframe\">\n",
       "  <thead>\n",
       "    <tr style=\"text-align: right;\">\n",
       "      <th></th>\n",
       "      <th>id</th>\n",
       "      <th>keywords</th>\n",
       "      <th>wrapped_keywords</th>\n",
       "      <th>wrapped_funder_list</th>\n",
       "    </tr>\n",
       "    <tr>\n",
       "      <th>id</th>\n",
       "      <th></th>\n",
       "      <th></th>\n",
       "      <th></th>\n",
       "      <th></th>\n",
       "    </tr>\n",
       "  </thead>\n",
       "  <tbody>\n",
       "    <tr>\n",
       "      <th>https://openalex.org/W3152893301</th>\n",
       "      <td>https://openalex.org/W3152893301</td>\n",
       "      <td>[review of methods, Graph neural networks, Gra...</td>\n",
       "      <td>['review of methods', 'Graph neural&lt;br&gt;network...</td>\n",
       "      <td>['National Key Research and Development&lt;br&gt;Pro...</td>\n",
       "    </tr>\n",
       "    <tr>\n",
       "      <th>https://openalex.org/W2911286998</th>\n",
       "      <td>https://openalex.org/W2911286998</td>\n",
       "      <td>[Graph neural network, neural network, Graph n...</td>\n",
       "      <td>['Graph neural network', 'neural&lt;br&gt;network', ...</td>\n",
       "      <td>[]</td>\n",
       "    </tr>\n",
       "    <tr>\n",
       "      <th>https://openalex.org/W2963264685</th>\n",
       "      <td>https://openalex.org/W2963264685</td>\n",
       "      <td>[blockchain systems, blockchain, systems, secu...</td>\n",
       "      <td>['blockchain systems', 'blockchain',&lt;br&gt;'syste...</td>\n",
       "      <td>['China Postdoctoral Science&lt;br&gt;Foundation', '...</td>\n",
       "    </tr>\n",
       "    <tr>\n",
       "      <th>https://openalex.org/W3110989801</th>\n",
       "      <td>https://openalex.org/W3110989801</td>\n",
       "      <td>[wireless communication networks, communicatio...</td>\n",
       "      <td>['wireless communication networks',&lt;br&gt;'commun...</td>\n",
       "      <td>[]</td>\n",
       "    </tr>\n",
       "    <tr>\n",
       "      <th>https://openalex.org/W2799041689</th>\n",
       "      <td>https://openalex.org/W2799041689</td>\n",
       "      <td>[Facial Expression Recognition, Deep Facial Ex...</td>\n",
       "      <td>['Facial Expression Recognition', 'Deep&lt;br&gt;Fac...</td>\n",
       "      <td>['National Natural Science Foundation of&lt;br&gt;Ch...</td>\n",
       "    </tr>\n",
       "  </tbody>\n",
       "</table>\n",
       "</div>"
      ],
      "text/plain": [
       "                                                                id  \\\n",
       "id                                                                   \n",
       "https://openalex.org/W3152893301  https://openalex.org/W3152893301   \n",
       "https://openalex.org/W2911286998  https://openalex.org/W2911286998   \n",
       "https://openalex.org/W2963264685  https://openalex.org/W2963264685   \n",
       "https://openalex.org/W3110989801  https://openalex.org/W3110989801   \n",
       "https://openalex.org/W2799041689  https://openalex.org/W2799041689   \n",
       "\n",
       "                                                                           keywords  \\\n",
       "id                                                                                    \n",
       "https://openalex.org/W3152893301  [review of methods, Graph neural networks, Gra...   \n",
       "https://openalex.org/W2911286998  [Graph neural network, neural network, Graph n...   \n",
       "https://openalex.org/W2963264685  [blockchain systems, blockchain, systems, secu...   \n",
       "https://openalex.org/W3110989801  [wireless communication networks, communicatio...   \n",
       "https://openalex.org/W2799041689  [Facial Expression Recognition, Deep Facial Ex...   \n",
       "\n",
       "                                                                   wrapped_keywords  \\\n",
       "id                                                                                    \n",
       "https://openalex.org/W3152893301  ['review of methods', 'Graph neural<br>network...   \n",
       "https://openalex.org/W2911286998  ['Graph neural network', 'neural<br>network', ...   \n",
       "https://openalex.org/W2963264685  ['blockchain systems', 'blockchain',<br>'syste...   \n",
       "https://openalex.org/W3110989801  ['wireless communication networks',<br>'commun...   \n",
       "https://openalex.org/W2799041689  ['Facial Expression Recognition', 'Deep<br>Fac...   \n",
       "\n",
       "                                                                wrapped_funder_list  \n",
       "id                                                                                   \n",
       "https://openalex.org/W3152893301  ['National Key Research and Development<br>Pro...  \n",
       "https://openalex.org/W2911286998                                                 []  \n",
       "https://openalex.org/W2963264685  ['China Postdoctoral Science<br>Foundation', '...  \n",
       "https://openalex.org/W3110989801                                                 []  \n",
       "https://openalex.org/W2799041689  ['National Natural Science Foundation of<br>Ch...  "
      ]
     },
     "execution_count": 71,
     "metadata": {},
     "output_type": "execute_result"
    }
   ],
   "source": [
    "dfinfo[['id','keywords','wrapped_keywords','wrapped_funder_list']].head()"
   ]
  },
  {
   "cell_type": "code",
   "execution_count": 72,
   "id": "c379132c-a9b7-4857-876d-719913f473c9",
   "metadata": {},
   "outputs": [],
   "source": [
    "kw_dict = dfinfo['keywords'].to_dict()"
   ]
  },
  {
   "cell_type": "code",
   "execution_count": 73,
   "id": "04dbd58c-5dff-477d-bf18-63b3127d4040",
   "metadata": {},
   "outputs": [
    {
     "data": {
      "text/plain": [
       "(445, 27)"
      ]
     },
     "execution_count": 73,
     "metadata": {},
     "output_type": "execute_result"
    }
   ],
   "source": [
    "dc = dftriple[dftriple['paper_cluster'] == 10].copy()\n",
    "dc.shape"
   ]
  },
  {
   "cell_type": "code",
   "execution_count": 74,
   "id": "9f94cd29-d79b-4791-9185-a0769dd41ba0",
   "metadata": {},
   "outputs": [
    {
     "data": {
      "text/plain": [
       "['Fundamental Research Funds for the Central Universities',\n",
       " 'Aeronautical Science Foundation of China',\n",
       " 'Fundamental Research Funds for the Central Universities',\n",
       " 'Aeronautical Science Foundation of China',\n",
       " 'Fundamental Research Funds for the Central Universities',\n",
       " 'Aeronautical Science Foundation of China',\n",
       " 'Fundamental Research Funds for the Central Universities',\n",
       " 'Aeronautical Science Foundation of China',\n",
       " 'Fundamental Research Funds for the Central Universities',\n",
       " 'Aeronautical Science Foundation of China',\n",
       " 'Fundamental Research Funds for the Central Universities',\n",
       " 'Aeronautical Science Foundation of China',\n",
       " 'Fundamental Research Funds for the Central Universities',\n",
       " 'Aeronautical Science Foundation of China',\n",
       " 'Fundamental Research Funds for the Central Universities',\n",
       " 'Aeronautical Science Foundation of China',\n",
       " 'Fundamental Research Funds for the Central Universities',\n",
       " 'Aeronautical Science Foundation of China',\n",
       " 'Special Project for Research and Development in Key areas of Guangdong Province',\n",
       " 'Special Project for Research and Development in Key areas of Guangdong Province',\n",
       " 'Special Project for Research and Development in Key areas of Guangdong Province',\n",
       " 'Special Project for Research and Development in Key areas of Guangdong Province',\n",
       " 'Special Project for Research and Development in Key areas of Guangdong Province',\n",
       " 'Special Project for Research and Development in Key areas of Guangdong Province',\n",
       " 'Special Project for Research and Development in Key areas of Guangdong Province',\n",
       " 'Special Project for Research and Development in Key areas of Guangdong Province',\n",
       " 'Key Research and Development Program of Ningxia',\n",
       " 'National Natural Science Foundation of China',\n",
       " 'Key Research and Development Program of Ningxia',\n",
       " 'National Natural Science Foundation of China',\n",
       " 'Key Research and Development Program of Ningxia',\n",
       " 'National Natural Science Foundation of China',\n",
       " 'Key Research and Development Program of Ningxia',\n",
       " 'National Natural Science Foundation of China',\n",
       " 'Key Research and Development Program of Ningxia',\n",
       " 'National Natural Science Foundation of China',\n",
       " 'Key Research and Development Program of Ningxia',\n",
       " 'National Natural Science Foundation of China',\n",
       " 'Key Research and Development Program of Ningxia',\n",
       " 'National Natural Science Foundation of China',\n",
       " 'Key Research and Development Program of Ningxia',\n",
       " 'National Natural Science Foundation of China',\n",
       " 'Key Research and Development Program of Ningxia',\n",
       " 'National Natural Science Foundation of China',\n",
       " 'Key Research and Development Program of Ningxia',\n",
       " 'National Natural Science Foundation of China',\n",
       " 'Key Research and Development Program of Ningxia',\n",
       " 'National Natural Science Foundation of China',\n",
       " 'Key Research and Development Program of Ningxia',\n",
       " 'National Natural Science Foundation of China',\n",
       " 'Key Research and Development Program of Ningxia',\n",
       " 'National Natural Science Foundation of China',\n",
       " 'Key Research and Development Program of Ningxia',\n",
       " 'National Natural Science Foundation of China',\n",
       " 'National Natural Science Foundation of China',\n",
       " 'National Natural Science Foundation of China',\n",
       " 'National Natural Science Foundation of China',\n",
       " 'Beijing Innovation Center for Future Chip',\n",
       " 'National Natural Science Foundation of China',\n",
       " 'Beijing Innovation Center for Future Chip',\n",
       " 'National Natural Science Foundation of China',\n",
       " 'Beijing Innovation Center for Future Chip',\n",
       " 'National Natural Science Foundation of China',\n",
       " 'Beijing Innovation Center for Future Chip',\n",
       " 'National Natural Science Foundation of China',\n",
       " 'Beijing Innovation Center for Future Chip',\n",
       " 'National Natural Science Foundation of China',\n",
       " 'Beijing Innovation Center for Future Chip',\n",
       " 'National Natural Science Foundation of China',\n",
       " 'Beijing Innovation Center for Future Chip',\n",
       " 'National Natural Science Foundation of China',\n",
       " 'Beijing Innovation Center for Future Chip',\n",
       " 'National Natural Science Foundation of China',\n",
       " 'National Natural Science Foundation of China',\n",
       " 'National Natural Science Foundation of China',\n",
       " 'National Natural Science Foundation of China',\n",
       " 'National Natural Science Foundation of China',\n",
       " 'National Natural Science Foundation of China',\n",
       " 'Fundamental Research Funds for the Central Universities',\n",
       " 'National Natural Science Foundation of China',\n",
       " 'Fundamental Research Funds for the Central Universities',\n",
       " 'National Natural Science Foundation of China',\n",
       " 'Fundamental Research Funds for the Central Universities',\n",
       " 'National Natural Science Foundation of China',\n",
       " 'Fundamental Research Funds for the Central Universities',\n",
       " 'National Natural Science Foundation of China',\n",
       " 'Fundamental Research Funds for the Central Universities',\n",
       " 'National Natural Science Foundation of China',\n",
       " 'Fundamental Research Funds for the Central Universities',\n",
       " 'National Natural Science Foundation of China',\n",
       " 'Fundamental Research Funds for the Central Universities',\n",
       " 'National Natural Science Foundation of China',\n",
       " 'Fundamental Research Funds for the Central Universities',\n",
       " 'National Natural Science Foundation of China',\n",
       " 'Fundamental Research Funds for the Central Universities',\n",
       " 'National Natural Science Foundation of China',\n",
       " 'Fundamental Research Funds for the Central Universities',\n",
       " 'National Natural Science Foundation of China',\n",
       " 'National Natural Science Foundation of China',\n",
       " 'National Natural Science Foundation of China',\n",
       " 'National Natural Science Foundation of China',\n",
       " 'National Key Research and Development Program of China',\n",
       " 'National Natural Science Foundation of China',\n",
       " 'National Key Research and Development Program of China',\n",
       " 'National Natural Science Foundation of China',\n",
       " 'National Key Research and Development Program of China',\n",
       " 'National Natural Science Foundation of China',\n",
       " 'National Key Research and Development Program of China',\n",
       " 'National Natural Science Foundation of China',\n",
       " 'National Key Research and Development Program of China',\n",
       " 'National Natural Science Foundation of China',\n",
       " 'National Key Research and Development Program of China',\n",
       " 'National Natural Science Foundation of China',\n",
       " 'National Key Research and Development Program of China',\n",
       " 'National Natural Science Foundation of China',\n",
       " 'National Key Research and Development Program of China',\n",
       " 'National Natural Science Foundation of China',\n",
       " 'National Key Research and Development Program of China',\n",
       " 'National Natural Science Foundation of China',\n",
       " 'Beijing University of Posts and Telecommunications',\n",
       " 'Fundamental Research Funds for the Central Universities',\n",
       " 'National Natural Science Foundation of China',\n",
       " 'Beijing University of Posts and Telecommunications',\n",
       " 'Fundamental Research Funds for the Central Universities',\n",
       " 'National Natural Science Foundation of China',\n",
       " 'Beijing University of Posts and Telecommunications',\n",
       " 'Fundamental Research Funds for the Central Universities',\n",
       " 'National Natural Science Foundation of China',\n",
       " 'Beijing University of Posts and Telecommunications',\n",
       " 'Fundamental Research Funds for the Central Universities',\n",
       " 'National Natural Science Foundation of China',\n",
       " 'Beijing University of Posts and Telecommunications',\n",
       " 'Fundamental Research Funds for the Central Universities',\n",
       " 'National Natural Science Foundation of China',\n",
       " 'Beijing University of Posts and Telecommunications',\n",
       " 'Fundamental Research Funds for the Central Universities',\n",
       " 'National Natural Science Foundation of China',\n",
       " 'Beijing University of Posts and Telecommunications',\n",
       " 'Fundamental Research Funds for the Central Universities',\n",
       " 'National Natural Science Foundation of China',\n",
       " 'Beijing University of Posts and Telecommunications',\n",
       " 'Fundamental Research Funds for the Central Universities',\n",
       " 'National Natural Science Foundation of China',\n",
       " 'Beijing University of Posts and Telecommunications',\n",
       " 'Fundamental Research Funds for the Central Universities',\n",
       " 'National Natural Science Foundation of China',\n",
       " 'Beijing University of Posts and Telecommunications',\n",
       " 'Fundamental Research Funds for the Central Universities',\n",
       " 'National Natural Science Foundation of China',\n",
       " 'Special Project for Research and Development in Key areas of Guangdong Province',\n",
       " 'National Key Research and Development Program of China',\n",
       " 'National Natural Science Foundation of China',\n",
       " 'Aeronautical Science Foundation of China',\n",
       " 'Special Project for Research and Development in Key areas of Guangdong Province',\n",
       " 'National Key Research and Development Program of China',\n",
       " 'National Natural Science Foundation of China',\n",
       " 'Aeronautical Science Foundation of China',\n",
       " 'Special Project for Research and Development in Key areas of Guangdong Province',\n",
       " 'National Key Research and Development Program of China',\n",
       " 'National Natural Science Foundation of China',\n",
       " 'Aeronautical Science Foundation of China',\n",
       " 'Special Project for Research and Development in Key areas of Guangdong Province',\n",
       " 'National Key Research and Development Program of China',\n",
       " 'National Natural Science Foundation of China',\n",
       " 'Aeronautical Science Foundation of China',\n",
       " 'Special Project for Research and Development in Key areas of Guangdong Province',\n",
       " 'National Key Research and Development Program of China',\n",
       " 'National Natural Science Foundation of China',\n",
       " 'Aeronautical Science Foundation of China',\n",
       " 'Special Project for Research and Development in Key areas of Guangdong Province',\n",
       " 'National Key Research and Development Program of China',\n",
       " 'National Natural Science Foundation of China',\n",
       " 'Aeronautical Science Foundation of China',\n",
       " 'Special Project for Research and Development in Key areas of Guangdong Province',\n",
       " 'National Key Research and Development Program of China',\n",
       " 'National Natural Science Foundation of China',\n",
       " 'Aeronautical Science Foundation of China',\n",
       " 'Special Project for Research and Development in Key areas of Guangdong Province',\n",
       " 'Fundamental Research Funds for the Central Universities',\n",
       " 'National Natural Science Foundation of China',\n",
       " 'Aeronautical Science Foundation of China',\n",
       " 'Special Project for Research and Development in Key areas of Guangdong Province',\n",
       " 'Fundamental Research Funds for the Central Universities',\n",
       " 'National Natural Science Foundation of China',\n",
       " 'Aeronautical Science Foundation of China',\n",
       " 'Special Project for Research and Development in Key areas of Guangdong Province',\n",
       " 'Fundamental Research Funds for the Central Universities',\n",
       " 'National Natural Science Foundation of China',\n",
       " 'Aeronautical Science Foundation of China',\n",
       " 'Special Project for Research and Development in Key areas of Guangdong Province',\n",
       " 'Fundamental Research Funds for the Central Universities',\n",
       " 'National Natural Science Foundation of China',\n",
       " 'Aeronautical Science Foundation of China',\n",
       " 'Special Project for Research and Development in Key areas of Guangdong Province',\n",
       " 'Fundamental Research Funds for the Central Universities',\n",
       " 'National Natural Science Foundation of China',\n",
       " 'Aeronautical Science Foundation of China',\n",
       " 'Special Project for Research and Development in Key areas of Guangdong Province',\n",
       " 'Fundamental Research Funds for the Central Universities',\n",
       " 'National Natural Science Foundation of China',\n",
       " 'Aeronautical Science Foundation of China',\n",
       " 'Special Project for Research and Development in Key areas of Guangdong Province',\n",
       " 'Fundamental Research Funds for the Central Universities',\n",
       " 'National Natural Science Foundation of China',\n",
       " 'Aeronautical Science Foundation of China',\n",
       " 'Special Project for Research and Development in Key areas of Guangdong Province',\n",
       " 'Fundamental Research Funds for the Central Universities',\n",
       " 'National Natural Science Foundation of China',\n",
       " 'Aeronautical Science Foundation of China',\n",
       " 'Special Project for Research and Development in Key areas of Guangdong Province',\n",
       " 'Fundamental Research Funds for the Central Universities',\n",
       " 'National Natural Science Foundation of China',\n",
       " 'Aeronautical Science Foundation of China',\n",
       " 'Natural Science Foundation of Beijing Municipality',\n",
       " 'Beijing Municipal Natural Science Foundation',\n",
       " 'Natural Science Foundation of Beijing Municipality',\n",
       " 'Beijing Municipal Natural Science Foundation',\n",
       " 'Natural Science Foundation of Beijing Municipality',\n",
       " 'Beijing Municipal Natural Science Foundation',\n",
       " 'Natural Science Foundation of Beijing Municipality',\n",
       " 'Beijing Municipal Natural Science Foundation',\n",
       " 'Natural Science Foundation of Beijing Municipality',\n",
       " 'Beijing Municipal Natural Science Foundation',\n",
       " 'Natural Science Foundation of Beijing Municipality',\n",
       " 'Beijing Municipal Natural Science Foundation',\n",
       " 'Natural Science Foundation of Beijing Municipality',\n",
       " 'Beijing Municipal Natural Science Foundation',\n",
       " 'National Key Research and Development Program of China',\n",
       " 'Beijing Innovation Center for Future Chip',\n",
       " 'Beijing National Research Center For Information Science And Technology',\n",
       " 'National Natural Science Foundation of China',\n",
       " 'National Key Research and Development Program of China',\n",
       " 'Beijing Innovation Center for Future Chip',\n",
       " 'Beijing National Research Center For Information Science And Technology',\n",
       " 'National Natural Science Foundation of China',\n",
       " 'National Key Research and Development Program of China',\n",
       " 'Beijing Innovation Center for Future Chip',\n",
       " 'Beijing National Research Center For Information Science And Technology',\n",
       " 'National Natural Science Foundation of China',\n",
       " 'National Key Research and Development Program of China',\n",
       " 'Beijing Innovation Center for Future Chip',\n",
       " 'Beijing National Research Center For Information Science And Technology',\n",
       " 'National Natural Science Foundation of China',\n",
       " 'National Key Research and Development Program of China',\n",
       " 'Beijing Innovation Center for Future Chip',\n",
       " 'Beijing National Research Center For Information Science And Technology',\n",
       " 'National Natural Science Foundation of China',\n",
       " 'National Key Research and Development Program of China',\n",
       " 'Beijing Innovation Center for Future Chip',\n",
       " 'Beijing National Research Center For Information Science And Technology',\n",
       " 'National Natural Science Foundation of China',\n",
       " 'National Key Research and Development Program of China',\n",
       " 'Beijing Innovation Center for Future Chip',\n",
       " 'Beijing National Research Center For Information Science And Technology',\n",
       " 'National Natural Science Foundation of China',\n",
       " 'National Key Research and Development Program of China',\n",
       " 'Beijing Innovation Center for Future Chip',\n",
       " 'Beijing National Research Center For Information Science And Technology',\n",
       " 'National Natural Science Foundation of China',\n",
       " 'National Key Research and Development Program of China',\n",
       " 'Beijing Innovation Center for Future Chip',\n",
       " 'Beijing National Research Center For Information Science And Technology',\n",
       " 'National Natural Science Foundation of China',\n",
       " 'National Key Research and Development Program of China',\n",
       " 'Beijing Innovation Center for Future Chip',\n",
       " 'Beijing National Research Center For Information Science And Technology',\n",
       " 'National Natural Science Foundation of China',\n",
       " 'National Key Research and Development Program of China',\n",
       " 'Beijing Innovation Center for Future Chip',\n",
       " 'Beijing National Research Center For Information Science And Technology',\n",
       " 'National Natural Science Foundation of China',\n",
       " 'National Key Research and Development Program of China',\n",
       " 'Beijing Innovation Center for Future Chip',\n",
       " 'Beijing National Research Center For Information Science And Technology',\n",
       " 'National Natural Science Foundation of China',\n",
       " 'Beijing Municipal Natural Science Foundation',\n",
       " 'National Natural Science Foundation of China',\n",
       " 'Beijing Municipal Natural Science Foundation',\n",
       " 'National Natural Science Foundation of China',\n",
       " 'National Natural Science Foundation of China',\n",
       " 'National Natural Science Foundation of China',\n",
       " 'National Natural Science Foundation of China',\n",
       " 'National Natural Science Foundation of China',\n",
       " 'National Natural Science Foundation of China',\n",
       " 'National Natural Science Foundation of China',\n",
       " 'National Natural Science Foundation of China',\n",
       " 'China Postdoctoral Science Foundation',\n",
       " 'China Postdoctoral Science Foundation',\n",
       " 'China Postdoctoral Science Foundation',\n",
       " 'China Postdoctoral Science Foundation',\n",
       " 'China Postdoctoral Science Foundation',\n",
       " \"National University's Basic Research Foundation of China\",\n",
       " 'National Natural Science Foundation of China',\n",
       " \"National University's Basic Research Foundation of China\",\n",
       " 'National Natural Science Foundation of China',\n",
       " \"National University's Basic Research Foundation of China\",\n",
       " 'National Natural Science Foundation of China',\n",
       " \"National University's Basic Research Foundation of China\",\n",
       " 'National Natural Science Foundation of China',\n",
       " \"National University's Basic Research Foundation of China\",\n",
       " 'National Natural Science Foundation of China',\n",
       " \"National University's Basic Research Foundation of China\",\n",
       " 'National Natural Science Foundation of China',\n",
       " \"National University's Basic Research Foundation of China\",\n",
       " 'National Natural Science Foundation of China',\n",
       " \"National University's Basic Research Foundation of China\",\n",
       " 'National Natural Science Foundation of China',\n",
       " \"National University's Basic Research Foundation of China\",\n",
       " 'National Natural Science Foundation of China',\n",
       " 'Fundamental Research Funds for the Central Universities',\n",
       " 'Natural Science Foundation of Beijing Municipality',\n",
       " 'National Key Research and Development Program of China',\n",
       " 'National Natural Science Foundation of China',\n",
       " 'Fundamental Research Funds for the Central Universities',\n",
       " 'Natural Science Foundation of Beijing Municipality',\n",
       " 'National Key Research and Development Program of China',\n",
       " 'National Natural Science Foundation of China',\n",
       " 'Fundamental Research Funds for the Central Universities',\n",
       " 'Natural Science Foundation of Beijing Municipality',\n",
       " 'National Key Research and Development Program of China',\n",
       " 'National Natural Science Foundation of China',\n",
       " 'Fundamental Research Funds for the Central Universities',\n",
       " 'Natural Science Foundation of Beijing Municipality',\n",
       " 'National Key Research and Development Program of China',\n",
       " 'National Natural Science Foundation of China',\n",
       " 'Fundamental Research Funds for the Central Universities',\n",
       " 'Natural Science Foundation of Beijing Municipality',\n",
       " 'National Key Research and Development Program of China',\n",
       " 'National Natural Science Foundation of China',\n",
       " 'Fundamental Research Funds for the Central Universities',\n",
       " 'Natural Science Foundation of Beijing Municipality',\n",
       " 'National Key Research and Development Program of China',\n",
       " 'National Natural Science Foundation of China',\n",
       " 'Peking University Third Hospital',\n",
       " 'Peking University Third Hospital',\n",
       " 'Peking University Third Hospital',\n",
       " 'Peking University Third Hospital',\n",
       " 'Peking University Third Hospital',\n",
       " 'National Natural Science Foundation of China',\n",
       " 'National Natural Science Foundation of China',\n",
       " 'National Natural Science Foundation of China',\n",
       " 'National Natural Science Foundation of China',\n",
       " 'National Natural Science Foundation of China',\n",
       " 'National Natural Science Foundation of China',\n",
       " 'Fundamental Research Funds for the Central Universities',\n",
       " 'National Natural Science Foundation of China',\n",
       " 'Aeronautical Science Foundation of China',\n",
       " 'Fundamental Research Funds for the Central Universities',\n",
       " 'National Natural Science Foundation of China',\n",
       " 'Aeronautical Science Foundation of China',\n",
       " 'Fundamental Research Funds for the Central Universities',\n",
       " 'National Natural Science Foundation of China',\n",
       " 'Aeronautical Science Foundation of China',\n",
       " 'Fundamental Research Funds for the Central Universities',\n",
       " 'National Natural Science Foundation of China',\n",
       " 'Aeronautical Science Foundation of China',\n",
       " 'Fundamental Research Funds for the Central Universities',\n",
       " 'National Natural Science Foundation of China',\n",
       " 'Aeronautical Science Foundation of China',\n",
       " 'Fundamental Research Funds for the Central Universities',\n",
       " 'Fundamental Research Funds for the Central Universities',\n",
       " 'Fundamental Research Funds for the Central Universities',\n",
       " 'Fundamental Research Funds for the Central Universities',\n",
       " 'Fundamental Research Funds for the Central Universities',\n",
       " 'Fundamental Research Funds for the Central Universities',\n",
       " 'Fundamental Research Funds for the Central Universities',\n",
       " 'Fundamental Research Funds for the Central Universities',\n",
       " 'Fundamental Research Funds for the Central Universities',\n",
       " 'Fundamental Research Funds for the Central Universities',\n",
       " 'Fundamental Research Funds for the Central Universities',\n",
       " 'Fundamental Research Funds for the Central Universities',\n",
       " 'National Natural Science Foundation of China',\n",
       " 'Fundamental Research Funds for the Central Universities',\n",
       " 'National Natural Science Foundation of China',\n",
       " 'Fundamental Research Funds for the Central Universities',\n",
       " 'National Natural Science Foundation of China',\n",
       " 'Fundamental Research Funds for the Central Universities',\n",
       " 'National Natural Science Foundation of China',\n",
       " 'Beijing Innovation Center for Future Chip',\n",
       " 'National Key Research and Development Program of China',\n",
       " 'Beijing Innovation Center for Future Chip',\n",
       " 'National Key Research and Development Program of China',\n",
       " 'Beijing Innovation Center for Future Chip',\n",
       " 'National Key Research and Development Program of China',\n",
       " 'Fundamental Research Funds for the Central Universities',\n",
       " 'Fundamental Research Funds for the Central Universities',\n",
       " 'Fundamental Research Funds for the Central Universities',\n",
       " 'Fundamental Research Funds for the Central Universities',\n",
       " 'Fundamental Research Funds for the Central Universities',\n",
       " 'Fundamental Research Funds for the Central Universities',\n",
       " 'Fundamental Research Funds for the Central Universities',\n",
       " 'Fundamental Research Funds for the Central Universities',\n",
       " 'Fundamental Research Funds for the Central Universities',\n",
       " 'National Natural Science Foundation of China',\n",
       " 'National Natural Science Foundation of China',\n",
       " 'National Natural Science Foundation of China',\n",
       " 'National Natural Science Foundation of China',\n",
       " 'National Natural Science Foundation of China',\n",
       " 'National Natural Science Foundation of China',\n",
       " 'National Natural Science Foundation of China',\n",
       " 'National Natural Science Foundation of China',\n",
       " 'National Natural Science Foundation of China',\n",
       " 'National Natural Science Foundation of China',\n",
       " 'National Natural Science Foundation of China',\n",
       " 'National Natural Science Foundation of China',\n",
       " 'National Natural Science Foundation of China',\n",
       " 'National Natural Science Foundation of China',\n",
       " 'National Natural Science Foundation of China',\n",
       " 'National Natural Science Foundation of China',\n",
       " 'National Natural Science Foundation of China',\n",
       " 'National Natural Science Foundation of China',\n",
       " 'National Natural Science Foundation of China',\n",
       " 'Natural Science Foundation of Guangxi Province',\n",
       " 'National Natural Science Foundation of China',\n",
       " 'Natural Science Foundation of Guangxi Province',\n",
       " 'National Natural Science Foundation of China',\n",
       " 'Natural Science Foundation of Guangxi Province',\n",
       " 'National Natural Science Foundation of China',\n",
       " 'Natural Science Foundation of Guangxi Province',\n",
       " 'National Natural Science Foundation of China',\n",
       " 'Natural Science Foundation of Guangxi Province',\n",
       " 'National Natural Science Foundation of China',\n",
       " 'Natural Science Foundation of Guangxi Province',\n",
       " 'National Natural Science Foundation of China',\n",
       " 'Natural Science Foundation of Guangxi Province',\n",
       " 'National Natural Science Foundation of China',\n",
       " 'Natural Science Foundation of Guangxi Province',\n",
       " 'National Natural Science Foundation of China',\n",
       " 'Natural Science Foundation of Guangxi Province',\n",
       " 'National Natural Science Foundation of China',\n",
       " 'Natural Science Foundation of Guangxi Province',\n",
       " 'National Natural Science Foundation of China',\n",
       " 'Natural Science Foundation of Guangxi Province',\n",
       " 'National Natural Science Foundation of China',\n",
       " 'Natural Science Foundation of Guangxi Province',\n",
       " 'National Natural Science Foundation of China',\n",
       " 'Natural Science Foundation of Guangxi Province',\n",
       " 'National Natural Science Foundation of China',\n",
       " 'Natural Science Foundation of Guangxi Province',\n",
       " 'National Natural Science Foundation of China',\n",
       " 'Natural Science Foundation of Guangxi Province',\n",
       " 'National Natural Science Foundation of China',\n",
       " 'Natural Science Foundation of Guangxi Province',\n",
       " 'National Natural Science Foundation of China',\n",
       " 'Natural Science Foundation of Guangxi Province',\n",
       " 'National Natural Science Foundation of China',\n",
       " 'National Key Research and Development Program of China',\n",
       " 'National Natural Science Foundation of China',\n",
       " 'National Key Research and Development Program of China',\n",
       " 'National Natural Science Foundation of China',\n",
       " 'National Key Research and Development Program of China',\n",
       " 'National Natural Science Foundation of China',\n",
       " 'National Key Research and Development Program of China',\n",
       " 'National Natural Science Foundation of China',\n",
       " 'National Key Research and Development Program of China',\n",
       " 'National Natural Science Foundation of China',\n",
       " 'National Natural Science Foundation of China',\n",
       " 'Ministry of Science and Technology',\n",
       " 'National Natural Science Foundation of China',\n",
       " 'Ministry of Science and Technology',\n",
       " 'National Natural Science Foundation of China',\n",
       " 'Ministry of Science and Technology',\n",
       " 'National Natural Science Foundation of China',\n",
       " 'Ministry of Science and Technology',\n",
       " 'National Natural Science Foundation of China',\n",
       " 'National Natural Science Foundation of China',\n",
       " 'National Natural Science Foundation of China',\n",
       " 'National Natural Science Foundation of China']"
      ]
     },
     "execution_count": 74,
     "metadata": {},
     "output_type": "execute_result"
    }
   ],
   "source": [
    "[x for row in dc['funder_list'].tolist() for x in row]"
   ]
  },
  {
   "cell_type": "code",
   "execution_count": 75,
   "id": "f1b4966c-6438-48bb-9c4a-e19e23b01731",
   "metadata": {},
   "outputs": [],
   "source": [
    "kw_dict = dfinfo['keywords'].to_dict()\n",
    "\n",
    "# add in the affiliations as nodes as well; that row, author, paper, affil. all three get links. ok.\n",
    "def create_nx_graph(df: pd.DataFrame, cl:int) -> nx.Graph:\n",
    "    \"\"\"\n",
    "    takes the dataframe df, and creates the undirected graph\n",
    "    from the source and target columns for each row.\n",
    "    \"\"\"\n",
    "    g = nx.Graph() # dc['paper_cluster'] == cl\n",
    "    dc = df[df['paper_cluster'] == cl]\n",
    "    author_counts = dc['paper_author_id'].tolist()\n",
    "    author_counts_dict = {c:author_counts.count(c) for c in author_counts}\n",
    "    affiliation_counts = dc['id'].tolist()\n",
    "    affiliation_counts_dict = {c:affiliation_counts.count(c) for c in affiliation_counts}\n",
    "    source_counts = dc['source'].tolist()\n",
    "    source_counts_dict = {c:source_counts.count(c) for c in source_counts}\n",
    "    funder_counts = [x for row in dc['funder_list'].tolist() for x in row]\n",
    "    funder_counts_dict = {c:funder_counts.count(c) for c in funder_counts}\n",
    "    for index, row in df[df['paper_cluster'] == cl].iterrows():\n",
    "        g.add_node(row['paper_id'], group='work', title=row['paper_title'])\n",
    "        g.add_node(row['paper_author_id'], title=row['paper_author_display_name'],\n",
    "                   group='author',value = author_counts_dict[row['paper_author_id']])\n",
    "        g.add_node(row['id'], group='affiliation',\n",
    "                   title=row['display_name'] + '\\n' + row['country_code'],\n",
    "                  value = affiliation_counts_dict[row['id']])\n",
    "        if row['source']:\n",
    "            g.add_node(row['source'], group=row['source_type'],\n",
    "                      title=row['source'] + ' :\\n ' + row['source_type'],\n",
    "                      value=source_counts_dict[row['source']])\n",
    "            g.add_edge(\n",
    "                row['paper_id'],\n",
    "                row['source'],\n",
    "                title=row['paper_title'] + ' :\\n ' + str(row['paper_publication_date']) +  \\\n",
    "                ' :\\n' + row['source'] + ' :\\n ' + \\\n",
    "                row['source_type'],\n",
    "              #  weight = df[(df['paper_id'] == row['paper_id']) & \\\n",
    "              #              (df['source'] == row['source'])]['paper_cluster_score'].sum()\n",
    "               # weight = row['paper_cluster_score']\n",
    "            )\n",
    "            g.add_edge(\n",
    "                row['paper_author_id'],\n",
    "                row['source'],\n",
    "                title=row['paper_author_display_name'] + ':\\n' + row['source'],\n",
    "             #   weight = df[(df['paper_author_id'] == row['paper_author_id']) & \\\n",
    "              #              (df['source'] == row['source'])]['paper_cluster_score'].sum()\n",
    "               # weight = row['paper_cluster_score']\n",
    "            )\n",
    "        if len(row['funder_list']) > 0:\n",
    "            for f in row['funder_list']:\n",
    "                g.add_node(f, group='funder',\n",
    "                          title=str(f),\n",
    "                          value = founder_counts_dict[f]),\n",
    "                g.add_edge(\n",
    "                       row['paper_id'],\n",
    "                       f,\n",
    "                       title=row['paper_title'] + ':\\n ' +  str(row['paper_publication_date']) + \\\n",
    "                       ' :\\n' + str(f),\n",
    "                  #  weight = row['paper_cluster_score']\n",
    "                   )\n",
    "                g.add_edge(\n",
    "                       f,\n",
    "                       row['paper_author_id'],\n",
    "                       title=row['paper_author_display_name'] + ' :\\n ' + \\\n",
    "                       str(f),\n",
    "                  #  weight = row['paper_cluster_score']\n",
    "                       \n",
    "                   )\n",
    "                g.add_edge(\n",
    "                       f,\n",
    "                       row['id'],\n",
    "                       title=row['display_name'] + '\\n' + row['country_code'] + ' :\\n ' + \\\n",
    "                       str(f)  ,\n",
    "                  #  weight = row['paper_cluster_score']\n",
    "                   )  \n",
    "                if row[\"source\"]:\n",
    "                    g.add_edge(\n",
    "                        f,\n",
    "                        row[\"source\"],\n",
    "                        title=row[\"source\"] + ' :\\n' + str(f),\n",
    "                     #   weight = row['paper_cluster_score']\n",
    "                    )\n",
    "        g.nodes[row['paper_id']]['title'] = (\n",
    "            row['paper_title'] + ' :\\n ' + str(row['paper_publication_date'] + ':\\n' + \n",
    "            '\\n'.join(kw_dict[row['paper_id']]))\n",
    "        )\n",
    "        g.nodes[row['paper_author_id']]['title'] = (\n",
    "            row['paper_author_display_name']\n",
    "        )\n",
    "        g.add_edge(\n",
    "            row['paper_id'],\n",
    "            row['paper_author_id'],\n",
    "        title=row['paper_title'] + ' :\\n ' + row['paper_author_display_name'] + ' :\\n ' + \\\n",
    "            row['paper_raw_affiliation_string'],\n",
    "         #   weight = row['paper_cluster_score']\n",
    "        )\n",
    "        g.add_edge(\n",
    "            row['paper_author_id'],\n",
    "            row['id'],\n",
    "            title=row['paper_author_display_name'] + ' :\\n ' + \\\n",
    "            row['display_name'] + ' :\\n ' + row['country_code'],\n",
    "          #  weight = row['paper_cluster_score']\n",
    "        )\n",
    "        g.add_edge(\n",
    "            row['paper_id'],\n",
    "            row['id'],\n",
    "            title=row['paper_title'] + ' :\\n ' + str(row['paper_publication_date']) + ':\\n' + \n",
    "            row['display_name'] + ' :\\n ' + row['country_code'],\n",
    "         #   weight = row['paper_cluster_score']\n",
    "        )\n",
    "        \n",
    "    g_ig = ig.Graph.from_networkx(g) # assign 'x', and 'y' to g before returning\n",
    "    #layout = g_ig.layout_auto()\n",
    "    #layout = g_ig.layout_davidson_harel()\n",
    "    layout = g_ig.layout_umap(min_dist = 2, epochs = 500)\n",
    "    # https://igraph.org/python/tutorial/0.9.6/visualisation.html\n",
    "    coords = layout.coords\n",
    "    allnodes = list(g.nodes())\n",
    "    coords_dict = {allnodes[i]:(coords[i][0], coords[i][1]) for i in range(len(allnodes))}\n",
    "    for i in g.nodes():\n",
    "        g.nodes[i]['x'] = 250 * coords_dict[i][0] # the scale factor needed \n",
    "        g.nodes[i]['y'] = 250 * coords_dict[i][1]\n",
    "    return g"
   ]
  },
  {
   "cell_type": "code",
   "execution_count": 76,
   "id": "c5b3c2de-6658-4b62-b070-c09f0ba108ff",
   "metadata": {},
   "outputs": [],
   "source": [
    "def create_pyvis_html(cl: int, filename: str = \"pyvis_coauthorships_graph.html\"):\n",
    "    \"\"\"\n",
    "    wrapper function that calls create_nx_graph to finally \n",
    "    produce an interactive pyvis standalone html file\n",
    "    \"\"\"\n",
    "    g_nx = create_nx_graph(dftriple, cl);\n",
    "    h = Network(height=\"1000px\",\n",
    "          #  heading=\"Mitigations and Techniques Relationships\",\n",
    "                width=\"100%\",\n",
    "                cdn_resources=\"remote\", # can grab the visjs library to make this local if needed\n",
    "            # probably should\n",
    "                bgcolor=\"#222222\",\n",
    "            neighborhood_highlight=True,\n",
    "              # default_node_size=1,\n",
    "                font_color=\"white\",\n",
    "                directed=False,\n",
    "               # select_menu=True,\n",
    "                filter_menu=True,\n",
    "                notebook=False,\n",
    "               )\n",
    "    #h.repulsion()\n",
    "    h.from_nx(g_nx, show_edge_weights=False)\n",
    "    #h.barnes_hut()\n",
    "    #h.repulsion(node_distance=40,\n",
    "    #            central_gravity=-0.2, spring_length=5, spring_strength=0.005, damping=0.09)\n",
    "    neighbor_map = h.get_adj_list()\n",
    "   # for node in h.nodes:\n",
    "   #     if node['group'] == 'author':\n",
    "   #         a = list(neighbor_map[node[\"id\"]]) # want to insert a \"\\n\" into every third element of a\n",
    "   #     if node['group'] == 'work':\n",
    "   #         a = list(neighbor_map[node[\"id\"]])\n",
    "   #     i = 3\n",
    "   #     while i < len(a):\n",
    "   #         a.insert(i, \"\\n\")\n",
    "   #         i += 4\n",
    "   #     node[\"title\"] += \"\\n Neighbors: \\n\" + \" | \".join(a)\n",
    "   #     node[\"value\"] = len(neighbor_map[node[\"id\"]]) \n",
    "# \"physics\": {\n",
    "#    \"enabled\": false\n",
    "#  },\n",
    "    h.set_options(\n",
    "    \"\"\"\n",
    "const options = {\n",
    "  \"interaction\": {\n",
    "    \"navigationButtons\": false\n",
    "  },\n",
    " \"physics\": {\n",
    "     \"enabled\": false\n",
    " },\n",
    "  \"edges\": {\n",
    "    \"color\": {\n",
    "        \"inherit\": true\n",
    "    },\n",
    "    \"setReferenceSize\": null,\n",
    "    \"setReference\": {\n",
    "        \"angle\": 0.7853981633974483\n",
    "    },\n",
    "    \"smooth\": {\n",
    "        \"forceDirection\": \"none\"\n",
    "    }\n",
    "  }\n",
    "  }\n",
    "    \"\"\"\n",
    "    )\n",
    "    #h.show_buttons(filter_=['physics'])\n",
    "  #  h.barnes_hut()\n",
    "    #h.repulsion()\n",
    "    try:\n",
    "        path = './tmp'\n",
    "        h.save_graph(f\"{path}/{filename}\")\n",
    "        HtmlFile = open(f\"{path}/{filename}\",\"r\",\n",
    "                        encoding='utf-8')\n",
    "    except:\n",
    "        h.save_graph(f\"{filename}\")\n",
    "        HtmlFile = open(f\"{filename}\", \"r\",\n",
    "                        encoding=\"utf-8\")\n",
    "    return h"
   ]
  },
  {
   "cell_type": "code",
   "execution_count": 78,
   "id": "f2812da7-9f18-4f54-a08c-364475f280aa",
   "metadata": {},
   "outputs": [],
   "source": [
    "#del dfinfo['authors_list']"
   ]
  },
  {
   "cell_type": "code",
   "execution_count": 79,
   "id": "55bf3be2-86d6-46fd-83f1-dcbafe18ec25",
   "metadata": {},
   "outputs": [
    {
     "data": {
      "text/plain": [
       "(22370, 21)"
      ]
     },
     "execution_count": 79,
     "metadata": {},
     "output_type": "execute_result"
    }
   ],
   "source": [
    "dfinfo.shape"
   ]
  },
  {
   "cell_type": "code",
   "execution_count": 80,
   "id": "348a8811-b077-4748-b24e-a67f6de8ab4b",
   "metadata": {},
   "outputs": [],
   "source": [
    "dftime = dfinfo[['cluster','probability','publication_date']].copy()"
   ]
  },
  {
   "cell_type": "code",
   "execution_count": 81,
   "id": "f2ad4894-1a9e-47cf-a636-b1f4ed5d6bc4",
   "metadata": {},
   "outputs": [],
   "source": [
    "dftime['publication_datetime'] = pd.to_datetime(dftime['publication_date'])"
   ]
  },
  {
   "cell_type": "code",
   "execution_count": 82,
   "id": "19064413-3d3d-45b1-99bc-29316d63e198",
   "metadata": {},
   "outputs": [],
   "source": [
    "def get_time_series(dg, cl:int):\n",
    "    \"\"\"\n",
    "    takes dg and the cluster number cl\n",
    "    and returns a time series chart\n",
    "    by month, y-axis is the article count\n",
    "    \"\"\"\n",
    "    dftime = dg[dg.cluster == cl][['cluster','probability','publication_date']].copy()\n",
    "    dftime['date'] = pd.to_datetime(dftime['publication_date'])\n",
    "    dftime.sort_values('date', inplace=True)\n",
    "    #by_month = pd.to_datetime(dftime['date']).dt.to_period('M').value_counts().sort_index()\n",
    "    #by_month.index = pd.PeriodIndex(by_month.index)\n",
    "    #df_month = by_month.rename_axis('month').reset_index(name='counts')\n",
    "    return dftime"
   ]
  },
  {
   "cell_type": "code",
   "execution_count": 83,
   "id": "7c4dc51a-2d07-4f6b-9e03-18a5890fe395",
   "metadata": {},
   "outputs": [],
   "source": [
    "import altair as alt\n",
    "#alt.data_transformers.enable(\"data_server\")"
   ]
  },
  {
   "cell_type": "code",
   "execution_count": 84,
   "id": "64a427ea-b302-426e-a584-1119d69cacef",
   "metadata": {},
   "outputs": [
    {
     "data": {
      "text/plain": [
       "(list, 1868)"
      ]
     },
     "execution_count": 84,
     "metadata": {},
     "output_type": "execute_result"
    }
   ],
   "source": [
    "sources_list = dftriple['source'].unique().tolist()\n",
    "type(sources_list), len(sources_list)"
   ]
  },
  {
   "cell_type": "code",
   "execution_count": 85,
   "id": "f4b441dd-b64d-45eb-86e5-44aeba01b1b5",
   "metadata": {},
   "outputs": [],
   "source": [
    "def get_source_json(s:str):\n",
    "    \"\"\"\n",
    "    s is an openalex Sources display_name\n",
    "    return that Sources object\n",
    "    \"\"\"\n",
    "    source_json = Sources().search_filter(display_name = s).get()\n",
    "    a = source_json[0]['type']\n",
    "    if \"homepage_url\" in source_json[0] and source_json[0]['homepage_url']:\n",
    "        print(f\"{s} has homepage_url and type {source_json[0]['type']}\")\n",
    "        return source_json[0][\"homepage_url\"]\n",
    "    else:\n",
    "        return None"
   ]
  },
  {
   "cell_type": "code",
   "execution_count": 86,
   "id": "aacbb812-556c-4857-bcdd-44553e5d1b7f",
   "metadata": {},
   "outputs": [
    {
     "data": {
      "text/plain": [
       "'IEEE transactions on knowledge and data engineering'"
      ]
     },
     "execution_count": 86,
     "metadata": {},
     "output_type": "execute_result"
    }
   ],
   "source": [
    "sources_list[5]"
   ]
  },
  {
   "cell_type": "code",
   "execution_count": 87,
   "id": "6c389a7f-3790-4a16-897d-c02ca33ff204",
   "metadata": {},
   "outputs": [
    {
     "name": "stdout",
     "output_type": "stream",
     "text": [
      "IEEE transactions on knowledge and data engineering has homepage_url and type journal\n"
     ]
    },
    {
     "data": {
      "text/plain": [
       "'https://www.computer.org/web/tkde'"
      ]
     },
     "execution_count": 87,
     "metadata": {},
     "output_type": "execute_result"
    }
   ],
   "source": [
    "sj0 = get_source_json(sources_list[5])\n",
    "sj0"
   ]
  },
  {
   "cell_type": "code",
   "execution_count": 88,
   "id": "516f2e54-9051-4ebf-9fca-ac91075d19cf",
   "metadata": {},
   "outputs": [],
   "source": [
    "def get_display_page_dict(sl:list):\n",
    "    \"\"\"\n",
    "    sl is a list of Sources display_name values\n",
    "    returns the dictionary mapping\n",
    "    display_names with homepage_url values.\"\"\"\n",
    "    mapping_dict = dict()\n",
    "    for s in tqdm(sl):\n",
    "        try:\n",
    "            mapping_dict[s] = get_source_json(s)\n",
    "        except:\n",
    "            pass\n",
    "    return mapping_dict"
   ]
  },
  {
   "cell_type": "code",
   "execution_count": 89,
   "id": "4834c243-5605-4c3c-9a93-5d32fdf7eedc",
   "metadata": {},
   "outputs": [
    {
     "name": "stderr",
     "output_type": "stream",
     "text": [
      "  0%|                                                                        | 1/1868 [00:00<17:59,  1.73it/s]"
     ]
    },
    {
     "name": "stdout",
     "output_type": "stream",
     "text": [
      "AI open has homepage_url and type journal\n"
     ]
    },
    {
     "name": "stderr",
     "output_type": "stream",
     "text": [
      "  0%|                                                                        | 3/1868 [00:01<15:30,  2.00it/s]"
     ]
    },
    {
     "name": "stdout",
     "output_type": "stream",
     "text": [
      "Future generation computer systems has homepage_url and type journal\n"
     ]
    },
    {
     "name": "stderr",
     "output_type": "stream",
     "text": [
      "  0%|▏                                                                       | 4/1868 [00:02<16:11,  1.92it/s]"
     ]
    },
    {
     "name": "stdout",
     "output_type": "stream",
     "text": [
      "Science China. Information sciences/Science China. Information Sciences has homepage_url and type journal\n"
     ]
    },
    {
     "name": "stderr",
     "output_type": "stream",
     "text": [
      "  0%|▏                                                                       | 5/1868 [00:02<16:02,  1.94it/s]"
     ]
    },
    {
     "name": "stdout",
     "output_type": "stream",
     "text": [
      "IEEE transactions on affective computing has homepage_url and type journal\n"
     ]
    },
    {
     "name": "stderr",
     "output_type": "stream",
     "text": [
      "  0%|▏                                                                       | 6/1868 [00:03<15:29,  2.00it/s]"
     ]
    },
    {
     "name": "stdout",
     "output_type": "stream",
     "text": [
      "IEEE transactions on knowledge and data engineering has homepage_url and type journal\n"
     ]
    },
    {
     "name": "stderr",
     "output_type": "stream",
     "text": [
      "  0%|▎                                                                       | 7/1868 [00:03<15:17,  2.03it/s]"
     ]
    },
    {
     "name": "stdout",
     "output_type": "stream",
     "text": [
      "IEEE transactions on wireless communications has homepage_url and type journal\n"
     ]
    },
    {
     "name": "stderr",
     "output_type": "stream",
     "text": [
      "  0%|▎                                                                       | 8/1868 [00:04<15:06,  2.05it/s]"
     ]
    },
    {
     "name": "stdout",
     "output_type": "stream",
     "text": [
      "IEEE Communications surveys and tutorials/IEEE communications surveys and tutorials has homepage_url and type journal\n"
     ]
    },
    {
     "name": "stderr",
     "output_type": "stream",
     "text": [
      "  0%|▎                                                                       | 9/1868 [00:04<15:42,  1.97it/s]"
     ]
    },
    {
     "name": "stdout",
     "output_type": "stream",
     "text": [
      "IEEE transactions on industrial informatics has homepage_url and type journal\n"
     ]
    },
    {
     "name": "stderr",
     "output_type": "stream",
     "text": [
      "  1%|▍                                                                      | 10/1868 [00:05<22:24,  1.38it/s]"
     ]
    },
    {
     "name": "stdout",
     "output_type": "stream",
     "text": [
      "IEEE internet of things journal has homepage_url and type journal\n"
     ]
    },
    {
     "name": "stderr",
     "output_type": "stream",
     "text": [
      "  1%|▍                                                                      | 11/1868 [00:06<20:14,  1.53it/s]"
     ]
    },
    {
     "name": "stdout",
     "output_type": "stream",
     "text": [
      "Computer science review has homepage_url and type journal\n"
     ]
    },
    {
     "name": "stderr",
     "output_type": "stream",
     "text": [
      "  1%|▍                                                                      | 12/1868 [00:06<19:26,  1.59it/s]"
     ]
    },
    {
     "name": "stdout",
     "output_type": "stream",
     "text": [
      "IEEE journal on selected areas in communications has homepage_url and type journal\n"
     ]
    },
    {
     "name": "stderr",
     "output_type": "stream",
     "text": [
      "  1%|▍                                                                      | 13/1868 [00:07<17:54,  1.73it/s]"
     ]
    },
    {
     "name": "stdout",
     "output_type": "stream",
     "text": [
      "InfoMat has homepage_url and type journal\n"
     ]
    },
    {
     "name": "stderr",
     "output_type": "stream",
     "text": [
      "  1%|▌                                                                      | 14/1868 [00:07<17:31,  1.76it/s]"
     ]
    },
    {
     "name": "stdout",
     "output_type": "stream",
     "text": [
      "IEEE transactions on image processing has homepage_url and type journal\n"
     ]
    },
    {
     "name": "stderr",
     "output_type": "stream",
     "text": [
      "  1%|▌                                                                      | 15/1868 [00:08<16:52,  1.83it/s]"
     ]
    },
    {
     "name": "stdout",
     "output_type": "stream",
     "text": [
      "Lecture notes in computer science has homepage_url and type book series\n"
     ]
    },
    {
     "name": "stderr",
     "output_type": "stream",
     "text": [
      "  1%|▋                                                                      | 17/1868 [00:10<20:50,  1.48it/s]"
     ]
    },
    {
     "name": "stdout",
     "output_type": "stream",
     "text": [
      "Neurocomputing has homepage_url and type journal\n"
     ]
    },
    {
     "name": "stderr",
     "output_type": "stream",
     "text": [
      "  1%|▋                                                                      | 18/1868 [00:10<22:06,  1.39it/s]"
     ]
    },
    {
     "name": "stdout",
     "output_type": "stream",
     "text": [
      "Computer communications has homepage_url and type journal\n"
     ]
    },
    {
     "name": "stderr",
     "output_type": "stream",
     "text": [
      "  1%|▋                                                                      | 19/1868 [00:11<23:40,  1.30it/s]"
     ]
    },
    {
     "name": "stdout",
     "output_type": "stream",
     "text": [
      "Expert systems with applications has homepage_url and type journal\n"
     ]
    },
    {
     "name": "stderr",
     "output_type": "stream",
     "text": [
      "  1%|▊                                                                      | 20/1868 [00:12<21:12,  1.45it/s]"
     ]
    },
    {
     "name": "stdout",
     "output_type": "stream",
     "text": [
      "Journal of parallel and distributed computing has homepage_url and type journal\n"
     ]
    },
    {
     "name": "stderr",
     "output_type": "stream",
     "text": [
      "  1%|▊                                                                      | 22/1868 [00:15<35:16,  1.15s/it]"
     ]
    },
    {
     "name": "stdout",
     "output_type": "stream",
     "text": [
      "IEEE wireless communications has homepage_url and type journal\n"
     ]
    },
    {
     "name": "stderr",
     "output_type": "stream",
     "text": [
      "  1%|▊                                                                      | 23/1868 [00:16<35:00,  1.14s/it]"
     ]
    },
    {
     "name": "stdout",
     "output_type": "stream",
     "text": [
      "Materials today physics has homepage_url and type journal\n"
     ]
    },
    {
     "name": "stderr",
     "output_type": "stream",
     "text": [
      "  1%|▉                                                                      | 24/1868 [00:17<34:24,  1.12s/it]"
     ]
    },
    {
     "name": "stdout",
     "output_type": "stream",
     "text": [
      "IEEE network has homepage_url and type journal\n"
     ]
    },
    {
     "name": "stderr",
     "output_type": "stream",
     "text": [
      "  1%|▉                                                                      | 25/1868 [00:18<29:01,  1.06it/s]"
     ]
    },
    {
     "name": "stdout",
     "output_type": "stream",
     "text": [
      "Energy storage materials has homepage_url and type journal\n"
     ]
    },
    {
     "name": "stderr",
     "output_type": "stream",
     "text": [
      "  1%|▉                                                                      | 26/1868 [00:18<26:36,  1.15it/s]"
     ]
    },
    {
     "name": "stdout",
     "output_type": "stream",
     "text": [
      "Internet research has homepage_url and type journal\n"
     ]
    },
    {
     "name": "stderr",
     "output_type": "stream",
     "text": [
      "  1%|█                                                                      | 27/1868 [00:19<23:09,  1.32it/s]"
     ]
    },
    {
     "name": "stdout",
     "output_type": "stream",
     "text": [
      "IEEE transactions on mobile computing has homepage_url and type journal\n"
     ]
    },
    {
     "name": "stderr",
     "output_type": "stream",
     "text": [
      "  1%|█                                                                      | 28/1868 [00:19<20:27,  1.50it/s]"
     ]
    },
    {
     "name": "stdout",
     "output_type": "stream",
     "text": [
      "Signal transduction and targeted therapy has homepage_url and type journal\n"
     ]
    },
    {
     "name": "stderr",
     "output_type": "stream",
     "text": [
      "  2%|█                                                                      | 29/1868 [00:20<21:59,  1.39it/s]"
     ]
    },
    {
     "name": "stdout",
     "output_type": "stream",
     "text": [
      "Advanced materials has homepage_url and type journal\n"
     ]
    },
    {
     "name": "stderr",
     "output_type": "stream",
     "text": [
      "  2%|█▏                                                                     | 30/1868 [00:20<20:00,  1.53it/s]"
     ]
    },
    {
     "name": "stdout",
     "output_type": "stream",
     "text": [
      "Physical review letters has homepage_url and type journal\n"
     ]
    },
    {
     "name": "stderr",
     "output_type": "stream",
     "text": [
      "  2%|█▏                                                                     | 31/1868 [00:21<18:18,  1.67it/s]"
     ]
    },
    {
     "name": "stdout",
     "output_type": "stream",
     "text": [
      "Nature photonics has homepage_url and type journal\n"
     ]
    },
    {
     "name": "stderr",
     "output_type": "stream",
     "text": [
      "  2%|█▏                                                                     | 32/1868 [00:21<17:20,  1.76it/s]"
     ]
    },
    {
     "name": "stdout",
     "output_type": "stream",
     "text": [
      "Advanced functional materials has homepage_url and type journal\n"
     ]
    },
    {
     "name": "stderr",
     "output_type": "stream",
     "text": [
      "  2%|█▎                                                                     | 33/1868 [00:22<21:19,  1.43it/s]"
     ]
    },
    {
     "name": "stdout",
     "output_type": "stream",
     "text": [
      "Nano energy has homepage_url and type journal\n"
     ]
    },
    {
     "name": "stderr",
     "output_type": "stream",
     "text": [
      "  2%|█▎                                                                     | 34/1868 [00:23<19:44,  1.55it/s]"
     ]
    },
    {
     "name": "stdout",
     "output_type": "stream",
     "text": [
      "IEEE transactions on pattern analysis and machine intelligence has homepage_url and type journal\n"
     ]
    },
    {
     "name": "stderr",
     "output_type": "stream",
     "text": [
      "  2%|█▎                                                                     | 35/1868 [00:24<24:10,  1.26it/s]"
     ]
    },
    {
     "name": "stdout",
     "output_type": "stream",
     "text": [
      "Nanoscale has homepage_url and type journal\n"
     ]
    },
    {
     "name": "stderr",
     "output_type": "stream",
     "text": [
      "  2%|█▎                                                                     | 36/1868 [00:25<21:59,  1.39it/s]"
     ]
    },
    {
     "name": "stdout",
     "output_type": "stream",
     "text": [
      "IEEE transactions on parallel and distributed systems has homepage_url and type journal\n"
     ]
    },
    {
     "name": "stderr",
     "output_type": "stream",
     "text": [
      "  2%|█▍                                                                     | 37/1868 [00:25<19:52,  1.54it/s]"
     ]
    },
    {
     "name": "stdout",
     "output_type": "stream",
     "text": [
      "Infectious disease modelling has homepage_url and type journal\n"
     ]
    },
    {
     "name": "stderr",
     "output_type": "stream",
     "text": [
      "  2%|█▍                                                                     | 38/1868 [00:26<18:31,  1.65it/s]"
     ]
    },
    {
     "name": "stdout",
     "output_type": "stream",
     "text": [
      "IEEE access has homepage_url and type journal\n"
     ]
    },
    {
     "name": "stderr",
     "output_type": "stream",
     "text": [
      "  2%|█▍                                                                     | 39/1868 [00:26<17:11,  1.77it/s]"
     ]
    },
    {
     "name": "stdout",
     "output_type": "stream",
     "text": [
      "IEEE transactions on information forensics and security has homepage_url and type journal\n"
     ]
    },
    {
     "name": "stderr",
     "output_type": "stream",
     "text": [
      "  2%|█▌                                                                     | 40/1868 [00:27<23:34,  1.29it/s]"
     ]
    },
    {
     "name": "stdout",
     "output_type": "stream",
     "text": [
      "Measurement has homepage_url and type journal\n"
     ]
    },
    {
     "name": "stderr",
     "output_type": "stream",
     "text": [
      "  2%|█▌                                                                     | 41/1868 [00:28<23:22,  1.30it/s]"
     ]
    },
    {
     "name": "stdout",
     "output_type": "stream",
     "text": [
      "Remote sensing has homepage_url and type journal\n"
     ]
    },
    {
     "name": "stderr",
     "output_type": "stream",
     "text": [
      "  2%|█▌                                                                     | 42/1868 [00:29<20:37,  1.48it/s]"
     ]
    },
    {
     "name": "stdout",
     "output_type": "stream",
     "text": [
      "Journal of materials chemistry. A has homepage_url and type journal\n"
     ]
    },
    {
     "name": "stderr",
     "output_type": "stream",
     "text": [
      "  2%|█▋                                                                     | 43/1868 [00:29<19:46,  1.54it/s]"
     ]
    },
    {
     "name": "stdout",
     "output_type": "stream",
     "text": [
      "Applied mathematics letters has homepage_url and type journal\n"
     ]
    },
    {
     "name": "stderr",
     "output_type": "stream",
     "text": [
      "  2%|█▋                                                                     | 44/1868 [00:30<21:18,  1.43it/s]"
     ]
    },
    {
     "name": "stdout",
     "output_type": "stream",
     "text": [
      "Proceedings of the IEEE has homepage_url and type journal\n"
     ]
    },
    {
     "name": "stderr",
     "output_type": "stream",
     "text": [
      "  2%|█▋                                                                     | 45/1868 [00:31<23:24,  1.30it/s]"
     ]
    },
    {
     "name": "stdout",
     "output_type": "stream",
     "text": [
      "Wireless communications and mobile computing has homepage_url and type journal\n"
     ]
    },
    {
     "name": "stderr",
     "output_type": "stream",
     "text": [
      "  2%|█▋                                                                     | 46/1868 [00:32<27:51,  1.09it/s]"
     ]
    },
    {
     "name": "stdout",
     "output_type": "stream",
     "text": [
      "Sensors has homepage_url and type journal\n"
     ]
    },
    {
     "name": "stderr",
     "output_type": "stream",
     "text": [
      "  3%|█▊                                                                     | 47/1868 [00:33<23:43,  1.28it/s]"
     ]
    },
    {
     "name": "stdout",
     "output_type": "stream",
     "text": [
      "IEEE transactions on multimedia has homepage_url and type journal\n"
     ]
    },
    {
     "name": "stderr",
     "output_type": "stream",
     "text": [
      "  3%|█▊                                                                     | 49/1868 [00:34<19:08,  1.58it/s]"
     ]
    },
    {
     "name": "stdout",
     "output_type": "stream",
     "text": [
      "Proceedings of the ... AAAI Conference on Artificial Intelligence has homepage_url and type conference\n"
     ]
    },
    {
     "name": "stderr",
     "output_type": "stream",
     "text": [
      "  3%|█▉                                                                     | 50/1868 [00:35<21:34,  1.40it/s]"
     ]
    },
    {
     "name": "stdout",
     "output_type": "stream",
     "text": [
      "npj flexible electronics has homepage_url and type journal\n"
     ]
    },
    {
     "name": "stderr",
     "output_type": "stream",
     "text": [
      "  3%|█▉                                                                     | 51/1868 [00:35<20:18,  1.49it/s]"
     ]
    },
    {
     "name": "stdout",
     "output_type": "stream",
     "text": [
      "Digital communications and networks has homepage_url and type journal\n"
     ]
    },
    {
     "name": "stderr",
     "output_type": "stream",
     "text": [
      "  3%|█▉                                                                     | 52/1868 [00:36<18:44,  1.61it/s]"
     ]
    },
    {
     "name": "stdout",
     "output_type": "stream",
     "text": [
      "IEEE communications letters has homepage_url and type journal\n"
     ]
    },
    {
     "name": "stderr",
     "output_type": "stream",
     "text": [
      "  3%|██                                                                     | 53/1868 [00:36<17:30,  1.73it/s]"
     ]
    },
    {
     "name": "stdout",
     "output_type": "stream",
     "text": [
      "Journal of the American Chemical Society has homepage_url and type journal\n"
     ]
    },
    {
     "name": "stderr",
     "output_type": "stream",
     "text": [
      "  3%|██                                                                     | 54/1868 [00:37<23:15,  1.30it/s]"
     ]
    },
    {
     "name": "stdout",
     "output_type": "stream",
     "text": [
      "Quantum science and technology has homepage_url and type journal\n"
     ]
    },
    {
     "name": "stderr",
     "output_type": "stream",
     "text": [
      "  3%|██                                                                     | 55/1868 [00:39<27:27,  1.10it/s]"
     ]
    },
    {
     "name": "stdout",
     "output_type": "stream",
     "text": [
      "China Communications has homepage_url and type journal\n"
     ]
    },
    {
     "name": "stderr",
     "output_type": "stream",
     "text": [
      "  3%|██▏                                                                    | 56/1868 [00:39<26:11,  1.15it/s]"
     ]
    },
    {
     "name": "stdout",
     "output_type": "stream",
     "text": [
      "Neural networks has homepage_url and type journal\n"
     ]
    },
    {
     "name": "stderr",
     "output_type": "stream",
     "text": [
      "  3%|██▏                                                                    | 57/1868 [00:40<23:24,  1.29it/s]"
     ]
    },
    {
     "name": "stdout",
     "output_type": "stream",
     "text": [
      "arXiv (Cornell University) has homepage_url and type repository\n"
     ]
    },
    {
     "name": "stderr",
     "output_type": "stream",
     "text": [
      "  3%|██▏                                                                    | 58/1868 [00:40<20:43,  1.46it/s]"
     ]
    },
    {
     "name": "stdout",
     "output_type": "stream",
     "text": [
      "IEEE Transactions on Dependable and Secure Computing/IEEE transactions on dependable and secure computing has homepage_url and type journal\n"
     ]
    },
    {
     "name": "stderr",
     "output_type": "stream",
     "text": [
      "  3%|██▎                                                                    | 60/1868 [00:41<17:10,  1.75it/s]"
     ]
    },
    {
     "name": "stdout",
     "output_type": "stream",
     "text": [
      "IEEE transactions on antennas and propagation has homepage_url and type journal\n"
     ]
    },
    {
     "name": "stderr",
     "output_type": "stream",
     "text": [
      "  3%|██▎                                                                    | 61/1868 [00:42<16:09,  1.86it/s]"
     ]
    },
    {
     "name": "stdout",
     "output_type": "stream",
     "text": [
      "ACS applied electronic materials has homepage_url and type journal\n"
     ]
    },
    {
     "name": "stderr",
     "output_type": "stream",
     "text": [
      "  3%|██▎                                                                    | 62/1868 [00:42<15:30,  1.94it/s]"
     ]
    },
    {
     "name": "stdout",
     "output_type": "stream",
     "text": [
      "Journal of network and computer applications has homepage_url and type journal\n"
     ]
    },
    {
     "name": "stderr",
     "output_type": "stream",
     "text": [
      "  3%|██▍                                                                    | 63/1868 [00:43<19:36,  1.53it/s]"
     ]
    },
    {
     "name": "stdout",
     "output_type": "stream",
     "text": [
      "Nano letters has homepage_url and type journal\n"
     ]
    },
    {
     "name": "stderr",
     "output_type": "stream",
     "text": [
      "  3%|██▍                                                                    | 64/1868 [00:44<23:56,  1.26it/s]"
     ]
    },
    {
     "name": "stdout",
     "output_type": "stream",
     "text": [
      "Advanced optical materials has homepage_url and type journal\n"
     ]
    },
    {
     "name": "stderr",
     "output_type": "stream",
     "text": [
      "  4%|██▌                                                                    | 67/1868 [00:46<21:36,  1.39it/s]"
     ]
    },
    {
     "name": "stdout",
     "output_type": "stream",
     "text": [
      "IEEE systems journal has homepage_url and type journal\n"
     ]
    },
    {
     "name": "stderr",
     "output_type": "stream",
     "text": [
      "  4%|██▌                                                                    | 68/1868 [00:47<23:00,  1.30it/s]"
     ]
    },
    {
     "name": "stdout",
     "output_type": "stream",
     "text": [
      "Journal of information security and applications has homepage_url and type journal\n"
     ]
    },
    {
     "name": "stderr",
     "output_type": "stream",
     "text": [
      "  4%|██▌                                                                    | 69/1868 [00:48<20:18,  1.48it/s]"
     ]
    },
    {
     "name": "stdout",
     "output_type": "stream",
     "text": [
      "IEEE open journal of signal processing has homepage_url and type journal\n"
     ]
    },
    {
     "name": "stderr",
     "output_type": "stream",
     "text": [
      "  4%|██▋                                                                    | 70/1868 [00:49<25:26,  1.18it/s]"
     ]
    },
    {
     "name": "stdout",
     "output_type": "stream",
     "text": [
      "Carbon has homepage_url and type journal\n"
     ]
    },
    {
     "name": "stderr",
     "output_type": "stream",
     "text": [
      "  4%|██▋                                                                    | 71/1868 [00:50<29:00,  1.03it/s]"
     ]
    },
    {
     "name": "stdout",
     "output_type": "stream",
     "text": [
      "Advanced energy materials has homepage_url and type journal\n"
     ]
    },
    {
     "name": "stderr",
     "output_type": "stream",
     "text": [
      "  4%|██▋                                                                    | 72/1868 [00:51<26:04,  1.15it/s]"
     ]
    },
    {
     "name": "stdout",
     "output_type": "stream",
     "text": [
      "Nature biomedical engineering has homepage_url and type journal\n"
     ]
    },
    {
     "name": "stderr",
     "output_type": "stream",
     "text": [
      "  4%|██▊                                                                    | 73/1868 [00:51<22:51,  1.31it/s]"
     ]
    },
    {
     "name": "stdout",
     "output_type": "stream",
     "text": [
      "Nature communications has homepage_url and type journal\n"
     ]
    },
    {
     "name": "stderr",
     "output_type": "stream",
     "text": [
      "  4%|██▊                                                                    | 74/1868 [00:53<28:44,  1.04it/s]"
     ]
    },
    {
     "name": "stdout",
     "output_type": "stream",
     "text": [
      "Sustainable development has homepage_url and type journal\n"
     ]
    },
    {
     "name": "stderr",
     "output_type": "stream",
     "text": [
      "  4%|██▊                                                                    | 75/1868 [00:53<24:42,  1.21it/s]"
     ]
    },
    {
     "name": "stdout",
     "output_type": "stream",
     "text": [
      "International journal of Web information systems has homepage_url and type journal\n"
     ]
    },
    {
     "name": "stderr",
     "output_type": "stream",
     "text": [
      "  4%|██▉                                                                    | 76/1868 [00:54<21:57,  1.36it/s]"
     ]
    },
    {
     "name": "stdout",
     "output_type": "stream",
     "text": [
      "ACS applied nano materials has homepage_url and type journal\n"
     ]
    },
    {
     "name": "stderr",
     "output_type": "stream",
     "text": [
      "  4%|██▉                                                                    | 77/1868 [00:55<27:53,  1.07it/s]"
     ]
    },
    {
     "name": "stdout",
     "output_type": "stream",
     "text": [
      "Journal of Advanced Research has homepage_url and type journal\n"
     ]
    },
    {
     "name": "stderr",
     "output_type": "stream",
     "text": [
      "  4%|██▉                                                                    | 78/1868 [00:56<32:16,  1.08s/it]"
     ]
    },
    {
     "name": "stdout",
     "output_type": "stream",
     "text": [
      "Information sciences has homepage_url and type journal\n"
     ]
    },
    {
     "name": "stderr",
     "output_type": "stream",
     "text": [
      "  4%|███                                                                    | 79/1868 [00:57<26:48,  1.11it/s]"
     ]
    },
    {
     "name": "stdout",
     "output_type": "stream",
     "text": [
      "Nanoscale advances has homepage_url and type journal\n"
     ]
    },
    {
     "name": "stderr",
     "output_type": "stream",
     "text": [
      "  4%|███                                                                    | 81/1868 [00:58<20:36,  1.45it/s]"
     ]
    },
    {
     "name": "stdout",
     "output_type": "stream",
     "text": [
      "Swarm and evolutionary computation has homepage_url and type journal\n"
     ]
    },
    {
     "name": "stderr",
     "output_type": "stream",
     "text": [
      "  4%|███                                                                    | 82/1868 [00:59<24:28,  1.22it/s]"
     ]
    },
    {
     "name": "stdout",
     "output_type": "stream",
     "text": [
      "IEEE transactions on communications has homepage_url and type journal\n"
     ]
    },
    {
     "name": "stderr",
     "output_type": "stream",
     "text": [
      "  4%|███▏                                                                   | 83/1868 [01:00<22:54,  1.30it/s]"
     ]
    },
    {
     "name": "stdout",
     "output_type": "stream",
     "text": [
      "Photonics research has homepage_url and type journal\n"
     ]
    },
    {
     "name": "stderr",
     "output_type": "stream",
     "text": [
      "  4%|███▏                                                                   | 84/1868 [01:00<21:15,  1.40it/s]"
     ]
    },
    {
     "name": "stdout",
     "output_type": "stream",
     "text": [
      "Signal processing. Image communication has homepage_url and type journal\n"
     ]
    },
    {
     "name": "stderr",
     "output_type": "stream",
     "text": [
      "  5%|███▏                                                                   | 85/1868 [01:01<20:03,  1.48it/s]"
     ]
    },
    {
     "name": "stdout",
     "output_type": "stream",
     "text": [
      "Optics letters/Optics index has homepage_url and type journal\n"
     ]
    },
    {
     "name": "stderr",
     "output_type": "stream",
     "text": [
      "  5%|███▎                                                                   | 87/1868 [01:03<26:47,  1.11it/s]"
     ]
    },
    {
     "name": "stdout",
     "output_type": "stream",
     "text": [
      "Computer networks has homepage_url and type journal\n"
     ]
    },
    {
     "name": "stderr",
     "output_type": "stream",
     "text": [
      "  5%|███▎                                                                   | 88/1868 [01:04<26:42,  1.11it/s]"
     ]
    },
    {
     "name": "stdout",
     "output_type": "stream",
     "text": [
      "Chinese Physics Letters/Chinese physics letters has homepage_url and type journal\n"
     ]
    },
    {
     "name": "stderr",
     "output_type": "stream",
     "text": [
      "  5%|███▍                                                                   | 89/1868 [01:04<23:25,  1.27it/s]"
     ]
    },
    {
     "name": "stdout",
     "output_type": "stream",
     "text": [
      "IEEE/ACM transactions on networking has homepage_url and type journal\n"
     ]
    },
    {
     "name": "stderr",
     "output_type": "stream",
     "text": [
      "  5%|███▍                                                                   | 91/1868 [01:06<20:13,  1.46it/s]"
     ]
    },
    {
     "name": "stdout",
     "output_type": "stream",
     "text": [
      "New journal of physics has homepage_url and type journal\n"
     ]
    },
    {
     "name": "stderr",
     "output_type": "stream",
     "text": [
      "  5%|███▍                                                                   | 92/1868 [01:06<18:47,  1.57it/s]"
     ]
    },
    {
     "name": "stdout",
     "output_type": "stream",
     "text": [
      "IEEE transactions on big data has homepage_url and type journal\n"
     ]
    },
    {
     "name": "stderr",
     "output_type": "stream",
     "text": [
      "  5%|███▌                                                                   | 93/1868 [01:07<18:06,  1.63it/s]"
     ]
    },
    {
     "name": "stdout",
     "output_type": "stream",
     "text": [
      "Journal of cleaner production has homepage_url and type journal\n"
     ]
    },
    {
     "name": "stderr",
     "output_type": "stream",
     "text": [
      "  5%|███▌                                                                   | 94/1868 [01:07<16:46,  1.76it/s]"
     ]
    },
    {
     "name": "stdout",
     "output_type": "stream",
     "text": [
      "Reports on progress in physics has homepage_url and type journal\n"
     ]
    },
    {
     "name": "stderr",
     "output_type": "stream",
     "text": [
      "  5%|███▋                                                                   | 96/1868 [01:08<15:27,  1.91it/s]"
     ]
    },
    {
     "name": "stdout",
     "output_type": "stream",
     "text": [
      "IEEE transactions on cloud computing has homepage_url and type journal\n"
     ]
    },
    {
     "name": "stderr",
     "output_type": "stream",
     "text": [
      "  5%|███▋                                                                   | 97/1868 [01:09<14:51,  1.99it/s]"
     ]
    },
    {
     "name": "stdout",
     "output_type": "stream",
     "text": [
      "ACM transactions on software engineering and methodology has homepage_url and type journal\n"
     ]
    },
    {
     "name": "stderr",
     "output_type": "stream",
     "text": [
      "  5%|███▋                                                                   | 98/1868 [01:09<16:07,  1.83it/s]"
     ]
    },
    {
     "name": "stdout",
     "output_type": "stream",
     "text": [
      "Physics reports has homepage_url and type journal\n"
     ]
    },
    {
     "name": "stderr",
     "output_type": "stream",
     "text": [
      "  5%|███▊                                                                   | 99/1868 [01:10<15:23,  1.92it/s]"
     ]
    },
    {
     "name": "stdout",
     "output_type": "stream",
     "text": [
      "IEEE transactions on green communications and networking has homepage_url and type journal\n"
     ]
    },
    {
     "name": "stderr",
     "output_type": "stream",
     "text": [
      "  5%|███▋                                                                  | 100/1868 [01:11<24:24,  1.21it/s]"
     ]
    },
    {
     "name": "stdout",
     "output_type": "stream",
     "text": [
      "IEEE/CAA journal of automatica sinica has homepage_url and type journal\n"
     ]
    },
    {
     "name": "stderr",
     "output_type": "stream",
     "text": [
      "  5%|███▊                                                                  | 101/1868 [01:12<21:47,  1.35it/s]"
     ]
    },
    {
     "name": "stdout",
     "output_type": "stream",
     "text": [
      "IEEE transactions on medical imaging has homepage_url and type journal\n"
     ]
    },
    {
     "name": "stderr",
     "output_type": "stream",
     "text": [
      "  5%|███▊                                                                  | 102/1868 [01:13<25:05,  1.17it/s]"
     ]
    },
    {
     "name": "stdout",
     "output_type": "stream",
     "text": [
      "IEEE transactions on intelligent transportation systems has homepage_url and type journal\n"
     ]
    },
    {
     "name": "stderr",
     "output_type": "stream",
     "text": [
      "  6%|███▊                                                                  | 103/1868 [01:13<21:43,  1.35it/s]"
     ]
    },
    {
     "name": "stdout",
     "output_type": "stream",
     "text": [
      "IEEE sensors journal has homepage_url and type journal\n"
     ]
    },
    {
     "name": "stderr",
     "output_type": "stream",
     "text": [
      "  6%|███▉                                                                  | 104/1868 [01:14<19:42,  1.49it/s]"
     ]
    },
    {
     "name": "stdout",
     "output_type": "stream",
     "text": [
      "Applied mathematical modelling has homepage_url and type journal\n"
     ]
    },
    {
     "name": "stderr",
     "output_type": "stream",
     "text": [
      "  6%|███▉                                                                  | 105/1868 [01:14<17:54,  1.64it/s]"
     ]
    },
    {
     "name": "stdout",
     "output_type": "stream",
     "text": [
      "ACM transactions on office information systems has homepage_url and type journal\n"
     ]
    },
    {
     "name": "stderr",
     "output_type": "stream",
     "text": [
      "  6%|███▉                                                                  | 106/1868 [01:15<22:20,  1.31it/s]"
     ]
    },
    {
     "name": "stdout",
     "output_type": "stream",
     "text": [
      "ACS nano has homepage_url and type journal\n"
     ]
    },
    {
     "name": "stderr",
     "output_type": "stream",
     "text": [
      "  6%|████                                                                  | 107/1868 [01:17<27:14,  1.08it/s]"
     ]
    },
    {
     "name": "stdout",
     "output_type": "stream",
     "text": [
      "Engineering has homepage_url and type journal\n"
     ]
    },
    {
     "name": "stderr",
     "output_type": "stream",
     "text": [
      "  6%|████                                                                  | 108/1868 [01:17<24:15,  1.21it/s]"
     ]
    },
    {
     "name": "stdout",
     "output_type": "stream",
     "text": [
      "AAPPS bulletin has homepage_url and type journal\n"
     ]
    },
    {
     "name": "stderr",
     "output_type": "stream",
     "text": [
      "  6%|████                                                                  | 109/1868 [01:18<21:02,  1.39it/s]"
     ]
    },
    {
     "name": "stdout",
     "output_type": "stream",
     "text": [
      "Journal of communications and information networks has homepage_url and type journal\n"
     ]
    },
    {
     "name": "stderr",
     "output_type": "stream",
     "text": [
      "  6%|████                                                                  | 110/1868 [01:18<18:48,  1.56it/s]"
     ]
    },
    {
     "name": "stdout",
     "output_type": "stream",
     "text": [
      "IEEE transactions on neural networks and learning systems has homepage_url and type journal\n"
     ]
    },
    {
     "name": "stderr",
     "output_type": "stream",
     "text": [
      "  6%|████▏                                                                 | 111/1868 [01:19<17:32,  1.67it/s]"
     ]
    },
    {
     "name": "stdout",
     "output_type": "stream",
     "text": [
      "Economic analysis and policy has homepage_url and type journal\n"
     ]
    },
    {
     "name": "stderr",
     "output_type": "stream",
     "text": [
      "  6%|████▏                                                                 | 112/1868 [01:19<16:17,  1.80it/s]"
     ]
    },
    {
     "name": "stdout",
     "output_type": "stream",
     "text": [
      "Science translational medicine has homepage_url and type journal\n"
     ]
    },
    {
     "name": "stderr",
     "output_type": "stream",
     "text": [
      "  6%|████▏                                                                 | 113/1868 [01:20<16:05,  1.82it/s]"
     ]
    },
    {
     "name": "stdout",
     "output_type": "stream",
     "text": [
      "Advances in optics and photonics has homepage_url and type journal\n"
     ]
    },
    {
     "name": "stderr",
     "output_type": "stream",
     "text": [
      "  6%|████▎                                                                 | 114/1868 [01:20<15:20,  1.90it/s]"
     ]
    },
    {
     "name": "stdout",
     "output_type": "stream",
     "text": [
      "Chinese Physics B/Chinese physics B has homepage_url and type journal\n"
     ]
    },
    {
     "name": "stderr",
     "output_type": "stream",
     "text": [
      "  6%|████▎                                                                 | 115/1868 [01:21<14:51,  1.97it/s]"
     ]
    },
    {
     "name": "stdout",
     "output_type": "stream",
     "text": [
      "I.E.E.E. transactions on computers/IEEE transactions on computers has homepage_url and type journal\n"
     ]
    },
    {
     "name": "stderr",
     "output_type": "stream",
     "text": [
      "  6%|████▎                                                                 | 116/1868 [01:21<14:36,  2.00it/s]"
     ]
    },
    {
     "name": "stdout",
     "output_type": "stream",
     "text": [
      "Frontiers in environmental science has homepage_url and type journal\n"
     ]
    },
    {
     "name": "stderr",
     "output_type": "stream",
     "text": [
      "  6%|████▍                                                                 | 118/1868 [01:22<14:41,  1.99it/s]"
     ]
    },
    {
     "name": "stdout",
     "output_type": "stream",
     "text": [
      "IEEE transactions on computational social systems has homepage_url and type journal\n"
     ]
    },
    {
     "name": "stderr",
     "output_type": "stream",
     "text": [
      "  6%|████▍                                                                 | 119/1868 [01:23<14:18,  2.04it/s]"
     ]
    },
    {
     "name": "stdout",
     "output_type": "stream",
     "text": [
      "IEEE transactions on geoscience and remote sensing has homepage_url and type journal\n"
     ]
    },
    {
     "name": "stderr",
     "output_type": "stream",
     "text": [
      "  6%|████▌                                                                 | 121/1868 [01:24<14:12,  2.05it/s]"
     ]
    },
    {
     "name": "stdout",
     "output_type": "stream",
     "text": [
      "Engineered science has homepage_url and type journal\n"
     ]
    },
    {
     "name": "stderr",
     "output_type": "stream",
     "text": [
      "  7%|████▌                                                                 | 122/1868 [01:25<19:40,  1.48it/s]"
     ]
    },
    {
     "name": "stdout",
     "output_type": "stream",
     "text": [
      "IEEE transactions on intelligent vehicles has homepage_url and type journal\n"
     ]
    },
    {
     "name": "stderr",
     "output_type": "stream",
     "text": [
      "  7%|████▌                                                                 | 123/1868 [01:25<18:13,  1.60it/s]"
     ]
    },
    {
     "name": "stdout",
     "output_type": "stream",
     "text": [
      "Chinese journal of physics/Zhōngguó wùlǐ xuékān has homepage_url and type journal\n"
     ]
    },
    {
     "name": "stderr",
     "output_type": "stream",
     "text": [
      "  7%|████▋                                                                 | 124/1868 [01:26<17:18,  1.68it/s]"
     ]
    },
    {
     "name": "stdout",
     "output_type": "stream",
     "text": [
      "Sustainable production and consumption has homepage_url and type journal\n"
     ]
    },
    {
     "name": "stderr",
     "output_type": "stream",
     "text": [
      "  7%|████▋                                                                 | 125/1868 [01:27<23:26,  1.24it/s]"
     ]
    },
    {
     "name": "stdout",
     "output_type": "stream",
     "text": [
      "Nanophotonics has homepage_url and type journal\n"
     ]
    },
    {
     "name": "stderr",
     "output_type": "stream",
     "text": [
      "  7%|████▋                                                                 | 126/1868 [01:28<21:25,  1.36it/s]"
     ]
    },
    {
     "name": "stdout",
     "output_type": "stream",
     "text": [
      "Journal of mobile information systems has homepage_url and type journal\n"
     ]
    },
    {
     "name": "stderr",
     "output_type": "stream",
     "text": [
      "  7%|████▊                                                                 | 128/1868 [01:29<19:02,  1.52it/s]"
     ]
    },
    {
     "name": "stdout",
     "output_type": "stream",
     "text": [
      "Environmental science and pollution research international has homepage_url and type journal\n"
     ]
    },
    {
     "name": "stderr",
     "output_type": "stream",
     "text": [
      "  7%|████▊                                                                 | 130/1868 [01:30<16:51,  1.72it/s]"
     ]
    },
    {
     "name": "stdout",
     "output_type": "stream",
     "text": [
      "IEEE transactions on microwave theory and techniques has homepage_url and type journal\n"
     ]
    },
    {
     "name": "stderr",
     "output_type": "stream",
     "text": [
      "  7%|████▉                                                                 | 131/1868 [01:30<16:25,  1.76it/s]"
     ]
    },
    {
     "name": "stdout",
     "output_type": "stream",
     "text": [
      "Optics express has homepage_url and type journal\n"
     ]
    },
    {
     "name": "stderr",
     "output_type": "stream",
     "text": [
      "  7%|████▉                                                                 | 132/1868 [01:31<16:03,  1.80it/s]"
     ]
    },
    {
     "name": "stdout",
     "output_type": "stream",
     "text": [
      "IEEE transactions on cybernetics has homepage_url and type journal\n"
     ]
    },
    {
     "name": "stderr",
     "output_type": "stream",
     "text": [
      "  7%|████▉                                                                 | 133/1868 [01:31<15:25,  1.88it/s]"
     ]
    },
    {
     "name": "stdout",
     "output_type": "stream",
     "text": [
      "IEEE journal of selected topics in quantum electronics has homepage_url and type journal\n"
     ]
    },
    {
     "name": "stderr",
     "output_type": "stream",
     "text": [
      "  7%|█████                                                                 | 134/1868 [01:32<15:14,  1.90it/s]"
     ]
    },
    {
     "name": "stdout",
     "output_type": "stream",
     "text": [
      "ACS photonics has homepage_url and type journal\n"
     ]
    },
    {
     "name": "stderr",
     "output_type": "stream",
     "text": [
      "  7%|█████                                                                 | 135/1868 [01:33<22:19,  1.29it/s]"
     ]
    },
    {
     "name": "stdout",
     "output_type": "stream",
     "text": [
      "Pattern recognition has homepage_url and type journal\n"
     ]
    },
    {
     "name": "stderr",
     "output_type": "stream",
     "text": [
      "  7%|█████▏                                                                | 137/1868 [01:35<22:56,  1.26it/s]"
     ]
    },
    {
     "name": "stdout",
     "output_type": "stream",
     "text": [
      "Biological psychiatry has homepage_url and type journal\n"
     ]
    },
    {
     "name": "stderr",
     "output_type": "stream",
     "text": [
      "  7%|█████▏                                                                | 138/1868 [01:35<21:03,  1.37it/s]"
     ]
    },
    {
     "name": "stdout",
     "output_type": "stream",
     "text": [
      "Physics of fluids has homepage_url and type journal\n"
     ]
    },
    {
     "name": "stderr",
     "output_type": "stream",
     "text": [
      "  7%|█████▏                                                                | 139/1868 [01:37<24:31,  1.18it/s]"
     ]
    },
    {
     "name": "stdout",
     "output_type": "stream",
     "text": [
      "Nonlinear dynamics has homepage_url and type journal\n"
     ]
    },
    {
     "name": "stderr",
     "output_type": "stream",
     "text": [
      "  7%|█████▏                                                                | 140/1868 [01:37<21:27,  1.34it/s]"
     ]
    },
    {
     "name": "stdout",
     "output_type": "stream",
     "text": [
      "IEEE transactions on circuits and systems for video technology has homepage_url and type journal\n"
     ]
    },
    {
     "name": "stderr",
     "output_type": "stream",
     "text": [
      "  8%|█████▎                                                                | 141/1868 [01:39<27:55,  1.03it/s]"
     ]
    },
    {
     "name": "stdout",
     "output_type": "stream",
     "text": [
      "Energy has homepage_url and type repository\n"
     ]
    },
    {
     "name": "stderr",
     "output_type": "stream",
     "text": [
      "  8%|█████▎                                                                | 142/1868 [01:39<23:59,  1.20it/s]"
     ]
    },
    {
     "name": "stdout",
     "output_type": "stream",
     "text": [
      "Biomedical signal processing and control has homepage_url and type journal\n"
     ]
    },
    {
     "name": "stderr",
     "output_type": "stream",
     "text": [
      "  8%|█████▎                                                                | 143/1868 [01:40<22:20,  1.29it/s]"
     ]
    },
    {
     "name": "stdout",
     "output_type": "stream",
     "text": [
      "Mathematische Nachrichten has homepage_url and type journal\n"
     ]
    },
    {
     "name": "stderr",
     "output_type": "stream",
     "text": [
      "  8%|█████▍                                                                | 145/1868 [01:41<22:42,  1.26it/s]"
     ]
    },
    {
     "name": "stdout",
     "output_type": "stream",
     "text": [
      "Information fusion has homepage_url and type journal\n"
     ]
    },
    {
     "name": "stderr",
     "output_type": "stream",
     "text": [
      "  8%|█████▌                                                                | 147/1868 [01:43<23:22,  1.23it/s]"
     ]
    },
    {
     "name": "stdout",
     "output_type": "stream",
     "text": [
      "IEEE open journal of the Computer Society has homepage_url and type journal\n"
     ]
    },
    {
     "name": "stderr",
     "output_type": "stream",
     "text": [
      "  8%|█████▌                                                                | 149/1868 [01:44<18:47,  1.52it/s]"
     ]
    },
    {
     "name": "stdout",
     "output_type": "stream",
     "text": [
      "Physics letters. A has homepage_url and type journal\n"
     ]
    },
    {
     "name": "stderr",
     "output_type": "stream",
     "text": [
      "  8%|█████▌                                                                | 150/1868 [01:44<17:10,  1.67it/s]"
     ]
    },
    {
     "name": "stdout",
     "output_type": "stream",
     "text": [
      "Nature climate change has homepage_url and type journal\n"
     ]
    },
    {
     "name": "stderr",
     "output_type": "stream",
     "text": [
      "  8%|█████▋                                                                | 152/1868 [01:45<15:07,  1.89it/s]"
     ]
    },
    {
     "name": "stdout",
     "output_type": "stream",
     "text": [
      "IEEE transactions on information theory has homepage_url and type journal\n"
     ]
    },
    {
     "name": "stderr",
     "output_type": "stream",
     "text": [
      "  8%|█████▊                                                                | 154/1868 [01:47<21:56,  1.30it/s]"
     ]
    },
    {
     "name": "stdout",
     "output_type": "stream",
     "text": [
      "Wireless networks has homepage_url and type journal\n"
     ]
    },
    {
     "name": "stderr",
     "output_type": "stream",
     "text": [
      "  8%|█████▊                                                                | 155/1868 [01:48<19:52,  1.44it/s]"
     ]
    },
    {
     "name": "stdout",
     "output_type": "stream",
     "text": [
      "International journal of hydrogen energy has homepage_url and type journal\n"
     ]
    },
    {
     "name": "stderr",
     "output_type": "stream",
     "text": [
      "  8%|█████▊                                                                | 156/1868 [01:48<18:21,  1.55it/s]"
     ]
    },
    {
     "name": "stdout",
     "output_type": "stream",
     "text": [
      "IEEE transactions on aerospace and electronic systems has homepage_url and type journal\n"
     ]
    },
    {
     "name": "stderr",
     "output_type": "stream",
     "text": [
      "  8%|█████▉                                                                | 157/1868 [01:49<21:39,  1.32it/s]"
     ]
    },
    {
     "name": "stdout",
     "output_type": "stream",
     "text": [
      "ISPRS international journal of geo-information has homepage_url and type journal\n"
     ]
    },
    {
     "name": "stderr",
     "output_type": "stream",
     "text": [
      "  8%|█████▉                                                                | 158/1868 [01:50<19:56,  1.43it/s]"
     ]
    },
    {
     "name": "stdout",
     "output_type": "stream",
     "text": [
      "Journal of energy storage has homepage_url and type journal\n"
     ]
    },
    {
     "name": "stderr",
     "output_type": "stream",
     "text": [
      "  9%|█████▉                                                                | 159/1868 [01:51<24:39,  1.16it/s]"
     ]
    },
    {
     "name": "stdout",
     "output_type": "stream",
     "text": [
      "Journal of building engineering has homepage_url and type journal\n"
     ]
    },
    {
     "name": "stderr",
     "output_type": "stream",
     "text": [
      "  9%|█████▉                                                                | 160/1868 [01:52<21:43,  1.31it/s]"
     ]
    },
    {
     "name": "stdout",
     "output_type": "stream",
     "text": [
      "IEEE transactions on network science and engineering has homepage_url and type journal\n"
     ]
    },
    {
     "name": "stderr",
     "output_type": "stream",
     "text": [
      "  9%|██████                                                                | 161/1868 [01:52<19:58,  1.42it/s]"
     ]
    },
    {
     "name": "stdout",
     "output_type": "stream",
     "text": [
      "IEEE transactions on visualization and computer graphics has homepage_url and type journal\n"
     ]
    },
    {
     "name": "stderr",
     "output_type": "stream",
     "text": [
      "  9%|██████                                                                | 162/1868 [01:53<18:21,  1.55it/s]"
     ]
    },
    {
     "name": "stdout",
     "output_type": "stream",
     "text": [
      "AEÜ. International journal of electronics and communications has homepage_url and type journal\n"
     ]
    },
    {
     "name": "stderr",
     "output_type": "stream",
     "text": [
      "  9%|██████                                                                | 163/1868 [01:53<17:09,  1.66it/s]"
     ]
    },
    {
     "name": "stdout",
     "output_type": "stream",
     "text": [
      "Applied surface science has homepage_url and type journal\n"
     ]
    },
    {
     "name": "stderr",
     "output_type": "stream",
     "text": [
      "  9%|██████▏                                                               | 164/1868 [01:54<16:12,  1.75it/s]"
     ]
    },
    {
     "name": "stdout",
     "output_type": "stream",
     "text": [
      "Journal of alloys and compounds has homepage_url and type journal\n"
     ]
    },
    {
     "name": "stderr",
     "output_type": "stream",
     "text": [
      "  9%|██████▏                                                               | 165/1868 [01:54<15:09,  1.87it/s]"
     ]
    },
    {
     "name": "stdout",
     "output_type": "stream",
     "text": [
      "IEEE wireless communications letters has homepage_url and type journal\n"
     ]
    },
    {
     "name": "stderr",
     "output_type": "stream",
     "text": [
      "  9%|██████▏                                                               | 166/1868 [01:55<14:45,  1.92it/s]"
     ]
    },
    {
     "name": "stdout",
     "output_type": "stream",
     "text": [
      "BMC medical informatics and decision making has homepage_url and type journal\n"
     ]
    },
    {
     "name": "stderr",
     "output_type": "stream",
     "text": [
      "  9%|██████▎                                                               | 167/1868 [01:56<17:42,  1.60it/s]"
     ]
    },
    {
     "name": "stdout",
     "output_type": "stream",
     "text": [
      "IEEE transactions on very large scale integration (VLSI) systems has homepage_url and type journal\n"
     ]
    },
    {
     "name": "stderr",
     "output_type": "stream",
     "text": [
      "  9%|██████▎                                                               | 168/1868 [01:57<22:51,  1.24it/s]"
     ]
    },
    {
     "name": "stdout",
     "output_type": "stream",
     "text": [
      "Applied sciences has homepage_url and type journal\n"
     ]
    },
    {
     "name": "stderr",
     "output_type": "stream",
     "text": [
      "  9%|██████▎                                                               | 169/1868 [01:57<19:55,  1.42it/s]"
     ]
    },
    {
     "name": "stdout",
     "output_type": "stream",
     "text": [
      "Materials today nano has homepage_url and type journal\n"
     ]
    },
    {
     "name": "stderr",
     "output_type": "stream",
     "text": [
      "  9%|██████▎                                                               | 170/1868 [01:58<21:43,  1.30it/s]"
     ]
    },
    {
     "name": "stdout",
     "output_type": "stream",
     "text": [
      "Science advances has homepage_url and type journal\n"
     ]
    },
    {
     "name": "stderr",
     "output_type": "stream",
     "text": [
      "  9%|██████▍                                                               | 171/1868 [01:59<23:23,  1.21it/s]"
     ]
    },
    {
     "name": "stdout",
     "output_type": "stream",
     "text": [
      "Security and communication networks has homepage_url and type journal\n"
     ]
    },
    {
     "name": "stderr",
     "output_type": "stream",
     "text": [
      "  9%|██████▍                                                               | 172/1868 [02:00<20:17,  1.39it/s]"
     ]
    },
    {
     "name": "stdout",
     "output_type": "stream",
     "text": [
      "Journal of materials chemistry. C has homepage_url and type journal\n"
     ]
    },
    {
     "name": "stderr",
     "output_type": "stream",
     "text": [
      "  9%|██████▍                                                               | 173/1868 [02:00<19:37,  1.44it/s]"
     ]
    },
    {
     "name": "stdout",
     "output_type": "stream",
     "text": [
      "Materials letters has homepage_url and type journal\n"
     ]
    },
    {
     "name": "stderr",
     "output_type": "stream",
     "text": [
      "  9%|██████▌                                                               | 174/1868 [02:01<17:46,  1.59it/s]"
     ]
    },
    {
     "name": "stdout",
     "output_type": "stream",
     "text": [
      "Journal of visual communication and image representation has homepage_url and type journal\n"
     ]
    },
    {
     "name": "stderr",
     "output_type": "stream",
     "text": [
      "  9%|██████▌                                                               | 175/1868 [02:02<21:35,  1.31it/s]"
     ]
    },
    {
     "name": "stdout",
     "output_type": "stream",
     "text": [
      "Communications physics has homepage_url and type journal\n"
     ]
    },
    {
     "name": "stderr",
     "output_type": "stream",
     "text": [
      "  9%|██████▌                                                               | 176/1868 [02:02<19:20,  1.46it/s]"
     ]
    },
    {
     "name": "stdout",
     "output_type": "stream",
     "text": [
      "International journal of environmental  research and public health/International journal of environmental research and public health has homepage_url and type journal\n"
     ]
    },
    {
     "name": "stderr",
     "output_type": "stream",
     "text": [
      "  9%|██████▋                                                               | 177/1868 [02:03<18:15,  1.54it/s]"
     ]
    },
    {
     "name": "stdout",
     "output_type": "stream",
     "text": [
      "Physical review applied has homepage_url and type journal\n"
     ]
    },
    {
     "name": "stderr",
     "output_type": "stream",
     "text": [
      " 10%|██████▋                                                               | 178/1868 [02:03<16:54,  1.67it/s]"
     ]
    },
    {
     "name": "stdout",
     "output_type": "stream",
     "text": [
      "The journal of physical chemistry letters has homepage_url and type journal\n"
     ]
    },
    {
     "name": "stderr",
     "output_type": "stream",
     "text": [
      " 10%|██████▋                                                               | 180/1868 [02:05<20:17,  1.39it/s]"
     ]
    },
    {
     "name": "stdout",
     "output_type": "stream",
     "text": [
      "Telecommunications policy has homepage_url and type journal\n"
     ]
    },
    {
     "name": "stderr",
     "output_type": "stream",
     "text": [
      " 10%|██████▊                                                               | 181/1868 [02:05<18:29,  1.52it/s]"
     ]
    },
    {
     "name": "stdout",
     "output_type": "stream",
     "text": [
      "Optik has homepage_url and type journal\n"
     ]
    },
    {
     "name": "stderr",
     "output_type": "stream",
     "text": [
      " 10%|██████▊                                                               | 182/1868 [02:07<22:22,  1.26it/s]"
     ]
    },
    {
     "name": "stdout",
     "output_type": "stream",
     "text": [
      "Advanced photonics has homepage_url and type journal\n"
     ]
    },
    {
     "name": "stderr",
     "output_type": "stream",
     "text": [
      " 10%|██████▊                                                               | 183/1868 [02:08<25:39,  1.09it/s]"
     ]
    },
    {
     "name": "stdout",
     "output_type": "stream",
     "text": [
      "Applied physics letters has homepage_url and type journal\n"
     ]
    },
    {
     "name": "stderr",
     "output_type": "stream",
     "text": [
      " 10%|██████▉                                                               | 184/1868 [02:09<29:18,  1.04s/it]"
     ]
    },
    {
     "name": "stdout",
     "output_type": "stream",
     "text": [
      "Chemical science has homepage_url and type journal\n"
     ]
    },
    {
     "name": "stderr",
     "output_type": "stream",
     "text": [
      " 10%|██████▉                                                               | 185/1868 [02:10<25:53,  1.08it/s]"
     ]
    },
    {
     "name": "stdout",
     "output_type": "stream",
     "text": [
      "Energies has homepage_url and type journal\n"
     ]
    },
    {
     "name": "stderr",
     "output_type": "stream",
     "text": [
      " 10%|██████▉                                                               | 186/1868 [02:10<22:37,  1.24it/s]"
     ]
    },
    {
     "name": "stdout",
     "output_type": "stream",
     "text": [
      "IEEE transactions on services computing has homepage_url and type journal\n"
     ]
    },
    {
     "name": "stderr",
     "output_type": "stream",
     "text": [
      " 10%|███████                                                               | 187/1868 [02:11<19:46,  1.42it/s]"
     ]
    },
    {
     "name": "stdout",
     "output_type": "stream",
     "text": [
      "IEEE communications magazine has homepage_url and type journal\n"
     ]
    },
    {
     "name": "stderr",
     "output_type": "stream",
     "text": [
      " 10%|███████                                                               | 188/1868 [02:12<21:13,  1.32it/s]"
     ]
    },
    {
     "name": "stdout",
     "output_type": "stream",
     "text": [
      "IEEE signal processing letters has homepage_url and type journal\n"
     ]
    },
    {
     "name": "stderr",
     "output_type": "stream",
     "text": [
      " 10%|███████                                                               | 189/1868 [02:12<18:56,  1.48it/s]"
     ]
    },
    {
     "name": "stdout",
     "output_type": "stream",
     "text": [
      "IEEE transactions on broadcasting has homepage_url and type journal\n"
     ]
    },
    {
     "name": "stderr",
     "output_type": "stream",
     "text": [
      " 10%|███████                                                               | 190/1868 [02:13<17:49,  1.57it/s]"
     ]
    },
    {
     "name": "stdout",
     "output_type": "stream",
     "text": [
      "Research in international business and finance has homepage_url and type journal\n"
     ]
    },
    {
     "name": "stderr",
     "output_type": "stream",
     "text": [
      " 10%|███████▏                                                              | 191/1868 [02:13<16:36,  1.68it/s]"
     ]
    },
    {
     "name": "stdout",
     "output_type": "stream",
     "text": [
      "Marine pollution bulletin has homepage_url and type journal\n"
     ]
    },
    {
     "name": "stderr",
     "output_type": "stream",
     "text": [
      " 10%|███████▏                                                              | 193/1868 [02:14<14:48,  1.89it/s]"
     ]
    },
    {
     "name": "stdout",
     "output_type": "stream",
     "text": [
      "IEEE antennas and wireless propagation letters/Antennas and wireless propagation letters has homepage_url and type journal\n"
     ]
    },
    {
     "name": "stderr",
     "output_type": "stream",
     "text": [
      " 10%|███████▎                                                              | 194/1868 [02:15<14:25,  1.93it/s]"
     ]
    },
    {
     "name": "stdout",
     "output_type": "stream",
     "text": [
      "Advanced electronic materials has homepage_url and type journal\n"
     ]
    },
    {
     "name": "stderr",
     "output_type": "stream",
     "text": [
      " 10%|███████▎                                                              | 196/1868 [02:16<18:07,  1.54it/s]"
     ]
    },
    {
     "name": "stdout",
     "output_type": "stream",
     "text": [
      "Journal of physics. Conference series has homepage_url and type journal\n"
     ]
    },
    {
     "name": "stderr",
     "output_type": "stream",
     "text": [
      " 11%|███████▍                                                              | 197/1868 [02:17<22:22,  1.25it/s]"
     ]
    },
    {
     "name": "stdout",
     "output_type": "stream",
     "text": [
      "Cuihua xuebao/Chinese journal of catalysis has homepage_url and type journal\n"
     ]
    },
    {
     "name": "stderr",
     "output_type": "stream",
     "text": [
      " 11%|███████▍                                                              | 200/1868 [02:19<16:24,  1.69it/s]"
     ]
    },
    {
     "name": "stdout",
     "output_type": "stream",
     "text": [
      "Interactive learning environments has homepage_url and type journal\n"
     ]
    },
    {
     "name": "stderr",
     "output_type": "stream",
     "text": [
      " 11%|███████▌                                                              | 201/1868 [02:19<15:25,  1.80it/s]"
     ]
    },
    {
     "name": "stdout",
     "output_type": "stream",
     "text": [
      "Physical review materials has homepage_url and type journal\n"
     ]
    },
    {
     "name": "stderr",
     "output_type": "stream",
     "text": [
      " 11%|███████▌                                                              | 202/1868 [02:20<19:40,  1.41it/s]"
     ]
    },
    {
     "name": "stdout",
     "output_type": "stream",
     "text": [
      "Journal of communications and networks has homepage_url and type journal\n"
     ]
    },
    {
     "name": "stderr",
     "output_type": "stream",
     "text": [
      " 11%|███████▌                                                              | 203/1868 [02:21<17:42,  1.57it/s]"
     ]
    },
    {
     "name": "stdout",
     "output_type": "stream",
     "text": [
      "Journal of lightwave technology has homepage_url and type journal\n"
     ]
    },
    {
     "name": "stderr",
     "output_type": "stream",
     "text": [
      " 11%|███████▋                                                              | 204/1868 [02:21<16:39,  1.67it/s]"
     ]
    },
    {
     "name": "stdout",
     "output_type": "stream",
     "text": [
      "Communications in Theoretical Physics/Communications in theoretical physics has homepage_url and type journal\n"
     ]
    },
    {
     "name": "stderr",
     "output_type": "stream",
     "text": [
      " 11%|███████▋                                                              | 205/1868 [02:22<21:58,  1.26it/s]"
     ]
    },
    {
     "name": "stdout",
     "output_type": "stream",
     "text": [
      "Computer methods and programs in biomedicine has homepage_url and type journal\n"
     ]
    },
    {
     "name": "stderr",
     "output_type": "stream",
     "text": [
      " 11%|███████▋                                                              | 206/1868 [02:23<23:00,  1.20it/s]"
     ]
    },
    {
     "name": "stdout",
     "output_type": "stream",
     "text": [
      "IEEE transactions on network and service management/IEEE eTransactions on network and service management has homepage_url and type journal\n"
     ]
    },
    {
     "name": "stderr",
     "output_type": "stream",
     "text": [
      " 11%|███████▊                                                              | 207/1868 [02:24<19:59,  1.38it/s]"
     ]
    },
    {
     "name": "stdout",
     "output_type": "stream",
     "text": [
      "Concurrency and computation has homepage_url and type journal\n"
     ]
    },
    {
     "name": "stderr",
     "output_type": "stream",
     "text": [
      " 11%|███████▊                                                              | 208/1868 [02:24<18:07,  1.53it/s]"
     ]
    },
    {
     "name": "stdout",
     "output_type": "stream",
     "text": [
      "IEEE transactions on engineering management has homepage_url and type journal\n"
     ]
    },
    {
     "name": "stderr",
     "output_type": "stream",
     "text": [
      " 11%|███████▊                                                              | 209/1868 [02:25<16:52,  1.64it/s]"
     ]
    },
    {
     "name": "stdout",
     "output_type": "stream",
     "text": [
      "Journal of systems science and complexity/Journal of Systems Science and Complexity has homepage_url and type journal\n"
     ]
    },
    {
     "name": "stderr",
     "output_type": "stream",
     "text": [
      " 11%|███████▊                                                              | 210/1868 [02:26<20:53,  1.32it/s]"
     ]
    },
    {
     "name": "stdout",
     "output_type": "stream",
     "text": [
      "Knowledge-based systems has homepage_url and type journal\n"
     ]
    },
    {
     "name": "stderr",
     "output_type": "stream",
     "text": [
      " 11%|███████▉                                                              | 211/1868 [02:26<19:22,  1.43it/s]"
     ]
    },
    {
     "name": "stdout",
     "output_type": "stream",
     "text": [
      "Physica. A has homepage_url and type journal\n"
     ]
    },
    {
     "name": "stderr",
     "output_type": "stream",
     "text": [
      " 11%|███████▉                                                              | 212/1868 [02:27<20:11,  1.37it/s]"
     ]
    },
    {
     "name": "stdout",
     "output_type": "stream",
     "text": [
      "Bioinformatics has homepage_url and type journal\n"
     ]
    },
    {
     "name": "stderr",
     "output_type": "stream",
     "text": [
      " 11%|███████▉                                                              | 213/1868 [02:28<18:34,  1.49it/s]"
     ]
    },
    {
     "name": "stdout",
     "output_type": "stream",
     "text": [
      "EURASIP Journal on Image and Video Processing has homepage_url and type journal\n"
     ]
    },
    {
     "name": "stderr",
     "output_type": "stream",
     "text": [
      " 11%|████████                                                              | 214/1868 [02:29<23:21,  1.18it/s]"
     ]
    },
    {
     "name": "stdout",
     "output_type": "stream",
     "text": [
      "Sustainability has homepage_url and type journal\n"
     ]
    },
    {
     "name": "stderr",
     "output_type": "stream",
     "text": [
      " 12%|████████                                                              | 215/1868 [02:30<26:28,  1.04it/s]"
     ]
    },
    {
     "name": "stdout",
     "output_type": "stream",
     "text": [
      "International journal of intelligent systems has homepage_url and type journal\n"
     ]
    },
    {
     "name": "stderr",
     "output_type": "stream",
     "text": [
      " 12%|████████                                                              | 216/1868 [02:31<22:35,  1.22it/s]"
     ]
    },
    {
     "name": "stdout",
     "output_type": "stream",
     "text": [
      "Journal of optical communications and networking has homepage_url and type journal\n"
     ]
    },
    {
     "name": "stderr",
     "output_type": "stream",
     "text": [
      " 12%|████████▏                                                             | 217/1868 [02:31<19:49,  1.39it/s]"
     ]
    },
    {
     "name": "stdout",
     "output_type": "stream",
     "text": [
      "IEEE transactions on emerging topics in computing has homepage_url and type journal\n"
     ]
    },
    {
     "name": "stderr",
     "output_type": "stream",
     "text": [
      " 12%|████████▏                                                             | 218/1868 [02:32<17:50,  1.54it/s]"
     ]
    },
    {
     "name": "stdout",
     "output_type": "stream",
     "text": [
      "Ecological modelling has homepage_url and type journal\n"
     ]
    },
    {
     "name": "stderr",
     "output_type": "stream",
     "text": [
      " 12%|████████▏                                                             | 219/1868 [02:32<16:38,  1.65it/s]"
     ]
    },
    {
     "name": "stdout",
     "output_type": "stream",
     "text": [
      "IEEE journal of biomedical and health informatics has homepage_url and type journal\n"
     ]
    },
    {
     "name": "stderr",
     "output_type": "stream",
     "text": [
      " 12%|████████▎                                                             | 221/1868 [02:33<15:25,  1.78it/s]"
     ]
    },
    {
     "name": "stdout",
     "output_type": "stream",
     "text": [
      "Mathematical problems in engineering has homepage_url and type journal\n"
     ]
    },
    {
     "name": "stderr",
     "output_type": "stream",
     "text": [
      " 12%|████████▎                                                             | 222/1868 [02:34<14:47,  1.86it/s]"
     ]
    },
    {
     "name": "stdout",
     "output_type": "stream",
     "text": [
      "IEEE microwave and wireless components letters has homepage_url and type journal\n"
     ]
    },
    {
     "name": "stderr",
     "output_type": "stream",
     "text": [
      " 12%|████████▍                                                             | 224/1868 [02:35<13:55,  1.97it/s]"
     ]
    },
    {
     "name": "stdout",
     "output_type": "stream",
     "text": [
      "Physical review research has homepage_url and type journal\n"
     ]
    },
    {
     "name": "stderr",
     "output_type": "stream",
     "text": [
      " 12%|████████▍                                                             | 226/1868 [02:36<18:58,  1.44it/s]"
     ]
    },
    {
     "name": "stdout",
     "output_type": "stream",
     "text": [
      "Scientific reports has homepage_url and type journal\n"
     ]
    },
    {
     "name": "stderr",
     "output_type": "stream",
     "text": [
      " 12%|████████▌                                                             | 227/1868 [02:37<17:05,  1.60it/s]"
     ]
    },
    {
     "name": "stdout",
     "output_type": "stream",
     "text": [
      "Review of scientific instruments online/Review of scientific instruments has homepage_url and type journal\n"
     ]
    },
    {
     "name": "stderr",
     "output_type": "stream",
     "text": [
      " 12%|████████▌                                                             | 228/1868 [02:37<15:40,  1.74it/s]"
     ]
    },
    {
     "name": "stdout",
     "output_type": "stream",
     "text": [
      "Annalen der Physik has homepage_url and type journal\n"
     ]
    },
    {
     "name": "stderr",
     "output_type": "stream",
     "text": [
      " 12%|████████▌                                                             | 229/1868 [02:38<15:12,  1.80it/s]"
     ]
    },
    {
     "name": "stdout",
     "output_type": "stream",
     "text": [
      "Computational and Structural Biotechnology Journal has homepage_url and type journal\n"
     ]
    },
    {
     "name": "stderr",
     "output_type": "stream",
     "text": [
      " 12%|████████▌                                                             | 230/1868 [02:38<14:34,  1.87it/s]"
     ]
    },
    {
     "name": "stdout",
     "output_type": "stream",
     "text": [
      "BioMedical engineering online has homepage_url and type journal\n"
     ]
    },
    {
     "name": "stderr",
     "output_type": "stream",
     "text": [
      " 12%|████████▋                                                             | 231/1868 [02:39<14:18,  1.91it/s]"
     ]
    },
    {
     "name": "stdout",
     "output_type": "stream",
     "text": [
      "Proceedings of the ACM on programming languages has homepage_url and type journal\n"
     ]
    },
    {
     "name": "stderr",
     "output_type": "stream",
     "text": [
      " 12%|████████▋                                                             | 232/1868 [02:39<14:00,  1.95it/s]"
     ]
    },
    {
     "name": "stdout",
     "output_type": "stream",
     "text": [
      "Applied mathematics and computation has homepage_url and type journal\n"
     ]
    },
    {
     "name": "stderr",
     "output_type": "stream",
     "text": [
      " 12%|████████▋                                                             | 233/1868 [02:40<13:47,  1.98it/s]"
     ]
    },
    {
     "name": "stdout",
     "output_type": "stream",
     "text": [
      "IEEE/ACM transactions on computational biology and bioinformatics has homepage_url and type journal\n"
     ]
    },
    {
     "name": "stderr",
     "output_type": "stream",
     "text": [
      " 13%|████████▊                                                             | 235/1868 [02:41<13:13,  2.06it/s]"
     ]
    },
    {
     "name": "stdout",
     "output_type": "stream",
     "text": [
      "Journal of neural engineering has homepage_url and type journal\n"
     ]
    },
    {
     "name": "stderr",
     "output_type": "stream",
     "text": [
      " 13%|████████▊                                                             | 236/1868 [02:41<13:25,  2.03it/s]"
     ]
    },
    {
     "name": "stdout",
     "output_type": "stream",
     "text": [
      "Decision support systems has homepage_url and type journal\n"
     ]
    },
    {
     "name": "stderr",
     "output_type": "stream",
     "text": [
      " 13%|████████▉                                                             | 239/1868 [02:43<13:20,  2.04it/s]"
     ]
    },
    {
     "name": "stdout",
     "output_type": "stream",
     "text": [
      "Lecture notes in electrical engineering has homepage_url and type book series\n"
     ]
    },
    {
     "name": "stderr",
     "output_type": "stream",
     "text": [
      " 13%|████████▉                                                             | 240/1868 [02:44<17:42,  1.53it/s]"
     ]
    },
    {
     "name": "stdout",
     "output_type": "stream",
     "text": [
      "Journal of cloud computing has homepage_url and type journal\n"
     ]
    },
    {
     "name": "stderr",
     "output_type": "stream",
     "text": [
      " 13%|█████████                                                             | 242/1868 [02:45<15:07,  1.79it/s]"
     ]
    },
    {
     "name": "stdout",
     "output_type": "stream",
     "text": [
      "Robotics and computer-integrated manufacturing has homepage_url and type journal\n"
     ]
    },
    {
     "name": "stderr",
     "output_type": "stream",
     "text": [
      " 13%|█████████                                                             | 243/1868 [02:45<14:18,  1.89it/s]"
     ]
    },
    {
     "name": "stdout",
     "output_type": "stream",
     "text": [
      "Waves in random and complex media has homepage_url and type journal\n"
     ]
    },
    {
     "name": "stderr",
     "output_type": "stream",
     "text": [
      " 13%|█████████▏                                                            | 244/1868 [02:46<19:38,  1.38it/s]"
     ]
    },
    {
     "name": "stdout",
     "output_type": "stream",
     "text": [
      "Fuel has homepage_url and type journal\n"
     ]
    },
    {
     "name": "stderr",
     "output_type": "stream",
     "text": [
      " 13%|█████████▏                                                            | 245/1868 [02:47<17:40,  1.53it/s]"
     ]
    },
    {
     "name": "stdout",
     "output_type": "stream",
     "text": [
      "IEEE transactions on automatic control has homepage_url and type journal\n"
     ]
    },
    {
     "name": "stderr",
     "output_type": "stream",
     "text": [
      " 13%|█████████▎                                                            | 247/1868 [02:48<15:34,  1.73it/s]"
     ]
    },
    {
     "name": "stdout",
     "output_type": "stream",
     "text": [
      "Results in physics has homepage_url and type journal\n"
     ]
    },
    {
     "name": "stderr",
     "output_type": "stream",
     "text": [
      " 13%|█████████▎                                                            | 248/1868 [02:48<15:11,  1.78it/s]"
     ]
    },
    {
     "name": "stdout",
     "output_type": "stream",
     "text": [
      "IEEE transactions on cognitive communications and networking/IEEE Transactions on Cognitive Communications and Networking has homepage_url and type journal\n"
     ]
    },
    {
     "name": "stderr",
     "output_type": "stream",
     "text": [
      " 13%|█████████▎                                                            | 250/1868 [02:50<22:48,  1.18it/s]"
     ]
    },
    {
     "name": "stdout",
     "output_type": "stream",
     "text": [
      "ACM computing surveys has homepage_url and type journal\n"
     ]
    },
    {
     "name": "stderr",
     "output_type": "stream",
     "text": [
      " 13%|█████████▍                                                            | 251/1868 [02:51<19:46,  1.36it/s]"
     ]
    },
    {
     "name": "stdout",
     "output_type": "stream",
     "text": [
      "International journal of modern physics B/International journal of modern physics b has homepage_url and type journal\n"
     ]
    },
    {
     "name": "stderr",
     "output_type": "stream",
     "text": [
      " 14%|█████████▍                                                            | 253/1868 [02:52<16:21,  1.65it/s]"
     ]
    },
    {
     "name": "stdout",
     "output_type": "stream",
     "text": [
      "Modern physics letters B has homepage_url and type journal\n"
     ]
    },
    {
     "name": "stderr",
     "output_type": "stream",
     "text": [
      " 14%|█████████▌                                                            | 254/1868 [02:52<15:28,  1.74it/s]"
     ]
    },
    {
     "name": "stdout",
     "output_type": "stream",
     "text": [
      "Nature electronics. has homepage_url and type journal\n"
     ]
    },
    {
     "name": "stderr",
     "output_type": "stream",
     "text": [
      " 14%|█████████▌                                                            | 256/1868 [02:53<14:10,  1.90it/s]"
     ]
    },
    {
     "name": "stdout",
     "output_type": "stream",
     "text": [
      "Journal of advanced ceramics has homepage_url and type journal\n"
     ]
    },
    {
     "name": "stderr",
     "output_type": "stream",
     "text": [
      " 14%|█████████▋                                                            | 257/1868 [02:54<13:39,  1.96it/s]"
     ]
    },
    {
     "name": "stdout",
     "output_type": "stream",
     "text": [
      "International journal of computer vision has homepage_url and type journal\n"
     ]
    },
    {
     "name": "stderr",
     "output_type": "stream",
     "text": [
      " 14%|█████████▋                                                            | 259/1868 [02:55<13:16,  2.02it/s]"
     ]
    },
    {
     "name": "stdout",
     "output_type": "stream",
     "text": [
      "Chinese journal of mechanical engineering/Chinese Journal of Mechanical Engineering has homepage_url and type journal\n"
     ]
    },
    {
     "name": "stderr",
     "output_type": "stream",
     "text": [
      " 14%|█████████▋                                                            | 260/1868 [02:55<12:57,  2.07it/s]"
     ]
    },
    {
     "name": "stdout",
     "output_type": "stream",
     "text": [
      "Ekonomska istraživanja/Ekonomska istraživanja has homepage_url and type journal\n"
     ]
    },
    {
     "name": "stderr",
     "output_type": "stream",
     "text": [
      " 14%|█████████▊                                                            | 262/1868 [02:56<13:26,  1.99it/s]"
     ]
    },
    {
     "name": "stdout",
     "output_type": "stream",
     "text": [
      "Medical image analysis has homepage_url and type journal\n"
     ]
    },
    {
     "name": "stderr",
     "output_type": "stream",
     "text": [
      " 14%|█████████▊                                                            | 263/1868 [02:57<17:53,  1.50it/s]"
     ]
    },
    {
     "name": "stdout",
     "output_type": "stream",
     "text": [
      "Symmetry has homepage_url and type journal\n"
     ]
    },
    {
     "name": "stderr",
     "output_type": "stream",
     "text": [
      " 14%|█████████▉                                                            | 264/1868 [02:58<17:32,  1.52it/s]"
     ]
    },
    {
     "name": "stdout",
     "output_type": "stream",
     "text": [
      "ACS applied energy materials has homepage_url and type journal\n"
     ]
    },
    {
     "name": "stderr",
     "output_type": "stream",
     "text": [
      " 14%|█████████▉                                                            | 265/1868 [02:58<16:11,  1.65it/s]"
     ]
    },
    {
     "name": "stdout",
     "output_type": "stream",
     "text": [
      "IEEE vehicular technology magazine has homepage_url and type journal\n"
     ]
    },
    {
     "name": "stderr",
     "output_type": "stream",
     "text": [
      " 14%|█████████▉                                                            | 266/1868 [02:59<15:20,  1.74it/s]"
     ]
    },
    {
     "name": "stdout",
     "output_type": "stream",
     "text": [
      "Frontiers of Physics has homepage_url and type journal\n"
     ]
    },
    {
     "name": "stderr",
     "output_type": "stream",
     "text": [
      " 14%|██████████                                                            | 267/1868 [02:59<14:43,  1.81it/s]"
     ]
    },
    {
     "name": "stdout",
     "output_type": "stream",
     "text": [
      "IEEE transactions on signal processing has homepage_url and type journal\n"
     ]
    },
    {
     "name": "stderr",
     "output_type": "stream",
     "text": [
      " 14%|██████████                                                            | 268/1868 [03:00<16:54,  1.58it/s]"
     ]
    },
    {
     "name": "stdout",
     "output_type": "stream",
     "text": [
      "Vacuum has homepage_url and type journal\n"
     ]
    },
    {
     "name": "stderr",
     "output_type": "stream",
     "text": [
      " 14%|██████████                                                            | 269/1868 [03:01<22:17,  1.20it/s]"
     ]
    },
    {
     "name": "stdout",
     "output_type": "stream",
     "text": [
      "Advanced science has homepage_url and type journal\n"
     ]
    },
    {
     "name": "stderr",
     "output_type": "stream",
     "text": [
      " 14%|██████████                                                            | 270/1868 [03:02<19:31,  1.36it/s]"
     ]
    },
    {
     "name": "stdout",
     "output_type": "stream",
     "text": [
      "Frontiers in communications and networks has homepage_url and type journal\n"
     ]
    },
    {
     "name": "stderr",
     "output_type": "stream",
     "text": [
      " 15%|██████████▏                                                           | 271/1868 [03:02<18:04,  1.47it/s]"
     ]
    },
    {
     "name": "stdout",
     "output_type": "stream",
     "text": [
      "Chinese Optics Letters has homepage_url and type journal\n"
     ]
    },
    {
     "name": "stderr",
     "output_type": "stream",
     "text": [
      " 15%|██████████▏                                                           | 272/1868 [03:03<16:37,  1.60it/s]"
     ]
    },
    {
     "name": "stdout",
     "output_type": "stream",
     "text": [
      "Laser physics has homepage_url and type journal\n"
     ]
    },
    {
     "name": "stderr",
     "output_type": "stream",
     "text": [
      " 15%|██████████▎                                                           | 275/1868 [03:04<14:08,  1.88it/s]"
     ]
    },
    {
     "name": "stdout",
     "output_type": "stream",
     "text": [
      "Physical review. B./Physical review. B has homepage_url and type journal\n"
     ]
    },
    {
     "name": "stderr",
     "output_type": "stream",
     "text": [
      " 15%|██████████▎                                                           | 276/1868 [03:05<13:55,  1.90it/s]"
     ]
    },
    {
     "name": "stdout",
     "output_type": "stream",
     "text": [
      "Computational materials science has homepage_url and type journal\n"
     ]
    },
    {
     "name": "stderr",
     "output_type": "stream",
     "text": [
      " 15%|██████████▍                                                           | 277/1868 [03:05<13:24,  1.98it/s]"
     ]
    },
    {
     "name": "stdout",
     "output_type": "stream",
     "text": [
      "npj quantum information has homepage_url and type journal\n"
     ]
    },
    {
     "name": "stderr",
     "output_type": "stream",
     "text": [
      " 15%|██████████▍                                                           | 278/1868 [03:06<13:19,  1.99it/s]"
     ]
    },
    {
     "name": "stdout",
     "output_type": "stream",
     "text": [
      "Contemporary educational psychology has homepage_url and type journal\n"
     ]
    },
    {
     "name": "stderr",
     "output_type": "stream",
     "text": [
      " 15%|██████████▍                                                           | 279/1868 [03:07<14:39,  1.81it/s]"
     ]
    },
    {
     "name": "stdout",
     "output_type": "stream",
     "text": [
      "Optica has homepage_url and type journal\n"
     ]
    },
    {
     "name": "stderr",
     "output_type": "stream",
     "text": [
      " 15%|██████████▍                                                           | 280/1868 [03:07<14:19,  1.85it/s]"
     ]
    },
    {
     "name": "stdout",
     "output_type": "stream",
     "text": [
      "Journal of Energy Chemistry/Journal of energy chemistry has homepage_url and type journal\n"
     ]
    },
    {
     "name": "stderr",
     "output_type": "stream",
     "text": [
      " 15%|██████████▌                                                           | 281/1868 [03:08<16:29,  1.60it/s]"
     ]
    },
    {
     "name": "stdout",
     "output_type": "stream",
     "text": [
      "Journal of software has homepage_url and type journal\n"
     ]
    },
    {
     "name": "stderr",
     "output_type": "stream",
     "text": [
      " 15%|██████████▌                                                           | 282/1868 [03:08<15:15,  1.73it/s]"
     ]
    },
    {
     "name": "stdout",
     "output_type": "stream",
     "text": [
      "Europhysics letters has homepage_url and type journal\n"
     ]
    },
    {
     "name": "stderr",
     "output_type": "stream",
     "text": [
      " 15%|██████████▌                                                           | 283/1868 [03:09<14:39,  1.80it/s]"
     ]
    },
    {
     "name": "stdout",
     "output_type": "stream",
     "text": [
      "Advanced Composites and Hybrid Materials/Advanced composites and hybrid materials has homepage_url and type journal\n"
     ]
    },
    {
     "name": "stderr",
     "output_type": "stream",
     "text": [
      " 15%|██████████▋                                                           | 284/1868 [03:09<14:13,  1.86it/s]"
     ]
    },
    {
     "name": "stdout",
     "output_type": "stream",
     "text": [
      "Materials today energy has homepage_url and type journal\n"
     ]
    },
    {
     "name": "stderr",
     "output_type": "stream",
     "text": [
      " 15%|██████████▋                                                           | 285/1868 [03:10<14:20,  1.84it/s]"
     ]
    },
    {
     "name": "stdout",
     "output_type": "stream",
     "text": [
      "BMC psychiatry has homepage_url and type journal\n"
     ]
    },
    {
     "name": "stderr",
     "output_type": "stream",
     "text": [
      " 15%|██████████▋                                                           | 286/1868 [03:10<14:18,  1.84it/s]"
     ]
    },
    {
     "name": "stdout",
     "output_type": "stream",
     "text": [
      "IEEE transactions on automation science and engineering has homepage_url and type journal\n"
     ]
    },
    {
     "name": "stderr",
     "output_type": "stream",
     "text": [
      " 15%|██████████▊                                                           | 287/1868 [03:11<13:44,  1.92it/s]"
     ]
    },
    {
     "name": "stdout",
     "output_type": "stream",
     "text": [
      "Biological psychiatry. Cognitive neuroscience and neuroimaging has homepage_url and type journal\n"
     ]
    },
    {
     "name": "stderr",
     "output_type": "stream",
     "text": [
      " 15%|██████████▊                                                           | 288/1868 [03:12<18:41,  1.41it/s]"
     ]
    },
    {
     "name": "stdout",
     "output_type": "stream",
     "text": [
      "IEEE industrial electronics magazine has homepage_url and type journal\n"
     ]
    },
    {
     "name": "stderr",
     "output_type": "stream",
     "text": [
      " 15%|██████████▊                                                           | 289/1868 [03:13<17:20,  1.52it/s]"
     ]
    },
    {
     "name": "stdout",
     "output_type": "stream",
     "text": [
      "Production and operations management has homepage_url and type journal\n"
     ]
    },
    {
     "name": "stderr",
     "output_type": "stream",
     "text": [
      " 16%|██████████▊                                                           | 290/1868 [03:13<16:10,  1.63it/s]"
     ]
    },
    {
     "name": "stdout",
     "output_type": "stream",
     "text": [
      "Materials today communications has homepage_url and type journal\n"
     ]
    },
    {
     "name": "stderr",
     "output_type": "stream",
     "text": [
      " 16%|██████████▉                                                           | 291/1868 [03:14<16:23,  1.60it/s]"
     ]
    },
    {
     "name": "stdout",
     "output_type": "stream",
     "text": [
      "Applied energy has homepage_url and type journal\n"
     ]
    },
    {
     "name": "stderr",
     "output_type": "stream",
     "text": [
      " 16%|██████████▉                                                           | 292/1868 [03:14<15:24,  1.70it/s]"
     ]
    },
    {
     "name": "stdout",
     "output_type": "stream",
     "text": [
      "Journal of systems architecture has homepage_url and type journal\n"
     ]
    },
    {
     "name": "stderr",
     "output_type": "stream",
     "text": [
      " 16%|██████████▉                                                           | 293/1868 [03:15<15:04,  1.74it/s]"
     ]
    },
    {
     "name": "stdout",
     "output_type": "stream",
     "text": [
      "Science of the total environment has homepage_url and type journal\n"
     ]
    },
    {
     "name": "stderr",
     "output_type": "stream",
     "text": [
      " 16%|███████████                                                           | 294/1868 [03:16<17:21,  1.51it/s]"
     ]
    },
    {
     "name": "stdout",
     "output_type": "stream",
     "text": [
      "Signal processing has homepage_url and type journal\n"
     ]
    },
    {
     "name": "stderr",
     "output_type": "stream",
     "text": [
      " 16%|███████████                                                           | 295/1868 [03:16<15:49,  1.66it/s]"
     ]
    },
    {
     "name": "stdout",
     "output_type": "stream",
     "text": [
      "Finance research letters has homepage_url and type journal\n"
     ]
    },
    {
     "name": "stderr",
     "output_type": "stream",
     "text": [
      " 16%|███████████                                                           | 296/1868 [03:17<15:51,  1.65it/s]"
     ]
    },
    {
     "name": "stdout",
     "output_type": "stream",
     "text": [
      "Fundamental research has homepage_url and type journal\n"
     ]
    },
    {
     "name": "stderr",
     "output_type": "stream",
     "text": [
      " 16%|███████████▏                                                          | 299/1868 [03:18<13:40,  1.91it/s]"
     ]
    },
    {
     "name": "stdout",
     "output_type": "stream",
     "text": [
      "Journal of retailing and consumer services has homepage_url and type journal\n"
     ]
    },
    {
     "name": "stderr",
     "output_type": "stream",
     "text": [
      " 16%|███████████▏                                                          | 300/1868 [03:19<13:23,  1.95it/s]"
     ]
    },
    {
     "name": "stdout",
     "output_type": "stream",
     "text": [
      "Nature medicine has homepage_url and type journal\n"
     ]
    },
    {
     "name": "stderr",
     "output_type": "stream",
     "text": [
      " 16%|███████████▎                                                          | 301/1868 [03:19<12:52,  2.03it/s]"
     ]
    },
    {
     "name": "stdout",
     "output_type": "stream",
     "text": [
      "European journal of operational research has homepage_url and type journal\n"
     ]
    },
    {
     "name": "stderr",
     "output_type": "stream",
     "text": [
      " 16%|███████████▎                                                          | 302/1868 [03:20<12:58,  2.01it/s]"
     ]
    },
    {
     "name": "stdout",
     "output_type": "stream",
     "text": [
      "Wave motion has homepage_url and type journal\n"
     ]
    },
    {
     "name": "stderr",
     "output_type": "stream",
     "text": [
      " 16%|███████████▎                                                          | 303/1868 [03:20<13:08,  1.98it/s]"
     ]
    },
    {
     "name": "stdout",
     "output_type": "stream",
     "text": [
      "Chinese journal of electronics has homepage_url and type journal\n"
     ]
    },
    {
     "name": "stderr",
     "output_type": "stream",
     "text": [
      " 16%|███████████▍                                                          | 304/1868 [03:21<12:55,  2.02it/s]"
     ]
    },
    {
     "name": "stdout",
     "output_type": "stream",
     "text": [
      "IEEE reviews in biomedical engineering has homepage_url and type journal\n"
     ]
    },
    {
     "name": "stderr",
     "output_type": "stream",
     "text": [
      " 16%|███████████▍                                                          | 305/1868 [03:21<13:25,  1.94it/s]"
     ]
    },
    {
     "name": "stdout",
     "output_type": "stream",
     "text": [
      "IEEE transactions on industrial electronics has homepage_url and type journal\n"
     ]
    },
    {
     "name": "stderr",
     "output_type": "stream",
     "text": [
      " 16%|███████████▍                                                          | 306/1868 [03:22<12:55,  2.02it/s]"
     ]
    },
    {
     "name": "stdout",
     "output_type": "stream",
     "text": [
      "IEEE transactions on energy conversion has homepage_url and type journal\n"
     ]
    },
    {
     "name": "stderr",
     "output_type": "stream",
     "text": [
      " 16%|███████████▌                                                          | 308/1868 [03:23<12:48,  2.03it/s]"
     ]
    },
    {
     "name": "stdout",
     "output_type": "stream",
     "text": [
      "IEEE transactions on nanobioscience has homepage_url and type journal\n"
     ]
    },
    {
     "name": "stderr",
     "output_type": "stream",
     "text": [
      " 17%|███████████▌                                                          | 309/1868 [03:24<16:08,  1.61it/s]"
     ]
    },
    {
     "name": "stdout",
     "output_type": "stream",
     "text": [
      "Journal of materiomics has homepage_url and type journal\n"
     ]
    },
    {
     "name": "stderr",
     "output_type": "stream",
     "text": [
      " 17%|███████████▌                                                          | 310/1868 [03:24<15:08,  1.72it/s]"
     ]
    },
    {
     "name": "stdout",
     "output_type": "stream",
     "text": [
      "Engineering structures/Engineering structures (Online) has homepage_url and type journal\n"
     ]
    },
    {
     "name": "stderr",
     "output_type": "stream",
     "text": [
      " 17%|███████████▋                                                          | 311/1868 [03:25<14:15,  1.82it/s]"
     ]
    },
    {
     "name": "stdout",
     "output_type": "stream",
     "text": [
      "Journal of applied clinical medical physics has homepage_url and type journal\n"
     ]
    },
    {
     "name": "stderr",
     "output_type": "stream",
     "text": [
      " 17%|███████████▋                                                          | 312/1868 [03:25<13:43,  1.89it/s]"
     ]
    },
    {
     "name": "stdout",
     "output_type": "stream",
     "text": [
      "SIAM journal on applied dynamical systems has homepage_url and type journal\n"
     ]
    },
    {
     "name": "stderr",
     "output_type": "stream",
     "text": [
      " 17%|███████████▋                                                          | 313/1868 [03:26<17:13,  1.50it/s]"
     ]
    },
    {
     "name": "stdout",
     "output_type": "stream",
     "text": [
      "Advanced materials technologies has homepage_url and type journal\n"
     ]
    },
    {
     "name": "stderr",
     "output_type": "stream",
     "text": [
      " 17%|███████████▊                                                          | 315/1868 [03:27<14:36,  1.77it/s]"
     ]
    },
    {
     "name": "stdout",
     "output_type": "stream",
     "text": [
      "RSC advances has homepage_url and type journal\n"
     ]
    },
    {
     "name": "stderr",
     "output_type": "stream",
     "text": [
      " 17%|███████████▊                                                          | 316/1868 [03:27<14:12,  1.82it/s]"
     ]
    },
    {
     "name": "stdout",
     "output_type": "stream",
     "text": [
      "Land use policy has homepage_url and type journal\n"
     ]
    },
    {
     "name": "stderr",
     "output_type": "stream",
     "text": [
      " 17%|███████████▉                                                          | 317/1868 [03:28<13:42,  1.89it/s]"
     ]
    },
    {
     "name": "stdout",
     "output_type": "stream",
     "text": [
      "IEEE geoscience and remote sensing letters has homepage_url and type journal\n"
     ]
    },
    {
     "name": "stderr",
     "output_type": "stream",
     "text": [
      " 17%|███████████▉                                                          | 318/1868 [03:29<17:55,  1.44it/s]"
     ]
    },
    {
     "name": "stdout",
     "output_type": "stream",
     "text": [
      "Proceedings of the National Academy of Sciences of the United States of America has homepage_url and type journal\n"
     ]
    },
    {
     "name": "stderr",
     "output_type": "stream",
     "text": [
      " 17%|████████████                                                          | 321/1868 [03:30<13:52,  1.86it/s]"
     ]
    },
    {
     "name": "stdout",
     "output_type": "stream",
     "text": [
      "Quantum information processing has homepage_url and type journal\n"
     ]
    },
    {
     "name": "stderr",
     "output_type": "stream",
     "text": [
      " 17%|████████████                                                          | 322/1868 [03:31<13:35,  1.90it/s]"
     ]
    },
    {
     "name": "stdout",
     "output_type": "stream",
     "text": [
      "Optical materials express has homepage_url and type journal\n"
     ]
    },
    {
     "name": "stderr",
     "output_type": "stream",
     "text": [
      " 17%|████████████                                                          | 323/1868 [03:31<13:12,  1.95it/s]"
     ]
    },
    {
     "name": "stdout",
     "output_type": "stream",
     "text": [
      "Multiagent and grid systems has homepage_url and type journal\n"
     ]
    },
    {
     "name": "stderr",
     "output_type": "stream",
     "text": [
      " 17%|████████████▏                                                         | 324/1868 [03:32<18:05,  1.42it/s]"
     ]
    },
    {
     "name": "stdout",
     "output_type": "stream",
     "text": [
      "Frontiers in neuroscience has homepage_url and type journal\n"
     ]
    },
    {
     "name": "stderr",
     "output_type": "stream",
     "text": [
      " 17%|████████████▏                                                         | 325/1868 [03:34<23:07,  1.11it/s]"
     ]
    },
    {
     "name": "stdout",
     "output_type": "stream",
     "text": [
      "Journal of applied physics has homepage_url and type journal\n"
     ]
    },
    {
     "name": "stderr",
     "output_type": "stream",
     "text": [
      " 18%|████████████▎                                                         | 327/1868 [03:36<23:11,  1.11it/s]"
     ]
    },
    {
     "name": "stdout",
     "output_type": "stream",
     "text": [
      "Journal of intelligent transportation systems has homepage_url and type journal\n"
     ]
    },
    {
     "name": "stderr",
     "output_type": "stream",
     "text": [
      " 18%|████████████▎                                                         | 328/1868 [03:36<19:42,  1.30it/s]"
     ]
    },
    {
     "name": "stdout",
     "output_type": "stream",
     "text": [
      "Nanoscale research letters has homepage_url and type journal\n"
     ]
    },
    {
     "name": "stderr",
     "output_type": "stream",
     "text": [
      " 18%|████████████▎                                                         | 329/1868 [03:36<17:23,  1.48it/s]"
     ]
    },
    {
     "name": "stdout",
     "output_type": "stream",
     "text": [
      "IEEE geoscience and remote sensing magazine has homepage_url and type journal\n"
     ]
    },
    {
     "name": "stderr",
     "output_type": "stream",
     "text": [
      " 18%|████████████▎                                                         | 330/1868 [03:37<15:55,  1.61it/s]"
     ]
    },
    {
     "name": "stdout",
     "output_type": "stream",
     "text": [
      "Pattern recognition letters has homepage_url and type journal\n"
     ]
    },
    {
     "name": "stderr",
     "output_type": "stream",
     "text": [
      " 18%|████████████▍                                                         | 331/1868 [03:38<20:11,  1.27it/s]"
     ]
    },
    {
     "name": "stdout",
     "output_type": "stream",
     "text": [
      "Nanomaterials has homepage_url and type journal\n"
     ]
    },
    {
     "name": "stderr",
     "output_type": "stream",
     "text": [
      " 18%|████████████▍                                                         | 332/1868 [03:39<17:42,  1.45it/s]"
     ]
    },
    {
     "name": "stdout",
     "output_type": "stream",
     "text": [
      "Mathematical biosciences and engineering has homepage_url and type journal\n"
     ]
    },
    {
     "name": "stderr",
     "output_type": "stream",
     "text": [
      " 18%|████████████▍                                                         | 333/1868 [03:39<15:59,  1.60it/s]"
     ]
    },
    {
     "name": "stdout",
     "output_type": "stream",
     "text": [
      "Procedia computer science has homepage_url and type journal\n"
     ]
    },
    {
     "name": "stderr",
     "output_type": "stream",
     "text": [
      " 18%|████████████▌                                                         | 334/1868 [03:39<14:48,  1.73it/s]"
     ]
    },
    {
     "name": "stdout",
     "output_type": "stream",
     "text": [
      "Micromachines has homepage_url and type journal\n"
     ]
    },
    {
     "name": "stderr",
     "output_type": "stream",
     "text": [
      " 18%|████████████▌                                                         | 336/1868 [03:41<20:12,  1.26it/s]"
     ]
    },
    {
     "name": "stdout",
     "output_type": "stream",
     "text": [
      "Electronics has homepage_url and type journal\n"
     ]
    },
    {
     "name": "stderr",
     "output_type": "stream",
     "text": [
      " 18%|████████████▋                                                         | 337/1868 [03:42<17:47,  1.43it/s]"
     ]
    },
    {
     "name": "stdout",
     "output_type": "stream",
     "text": [
      "Applied soft computing has homepage_url and type journal\n"
     ]
    },
    {
     "name": "stderr",
     "output_type": "stream",
     "text": [
      " 18%|████████████▋                                                         | 338/1868 [03:42<16:26,  1.55it/s]"
     ]
    },
    {
     "name": "stdout",
     "output_type": "stream",
     "text": [
      "Chinese journal of aeronautics/Chinese Journal of Aeronautics has homepage_url and type journal\n"
     ]
    },
    {
     "name": "stderr",
     "output_type": "stream",
     "text": [
      " 18%|████████████▋                                                         | 339/1868 [03:43<16:11,  1.57it/s]"
     ]
    },
    {
     "name": "stdout",
     "output_type": "stream",
     "text": [
      "Advanced engineering informatics has homepage_url and type journal\n"
     ]
    },
    {
     "name": "stderr",
     "output_type": "stream",
     "text": [
      " 18%|████████████▋                                                         | 340/1868 [03:43<14:49,  1.72it/s]"
     ]
    },
    {
     "name": "stdout",
     "output_type": "stream",
     "text": [
      "Journal of the American Ceramic Society has homepage_url and type journal\n"
     ]
    },
    {
     "name": "stderr",
     "output_type": "stream",
     "text": [
      " 18%|████████████▊                                                         | 341/1868 [03:44<14:01,  1.81it/s]"
     ]
    },
    {
     "name": "stdout",
     "output_type": "stream",
     "text": [
      "Image and vision computing has homepage_url and type journal\n"
     ]
    },
    {
     "name": "stderr",
     "output_type": "stream",
     "text": [
      " 18%|████████████▊                                                         | 342/1868 [03:44<13:23,  1.90it/s]"
     ]
    },
    {
     "name": "stdout",
     "output_type": "stream",
     "text": [
      "Computers in industry has homepage_url and type journal\n"
     ]
    },
    {
     "name": "stderr",
     "output_type": "stream",
     "text": [
      " 18%|████████████▊                                                         | 343/1868 [03:46<19:09,  1.33it/s]"
     ]
    },
    {
     "name": "stdout",
     "output_type": "stream",
     "text": [
      "Small has homepage_url and type journal\n"
     ]
    },
    {
     "name": "stderr",
     "output_type": "stream",
     "text": [
      " 18%|████████████▉                                                         | 344/1868 [03:47<22:02,  1.15it/s]"
     ]
    },
    {
     "name": "stdout",
     "output_type": "stream",
     "text": [
      "ACM transactions on knowledge discovery from data has homepage_url and type journal\n"
     ]
    },
    {
     "name": "stderr",
     "output_type": "stream",
     "text": [
      " 18%|████████████▉                                                         | 345/1868 [03:48<23:16,  1.09it/s]"
     ]
    },
    {
     "name": "stdout",
     "output_type": "stream",
     "text": [
      "Ad hoc networks has homepage_url and type journal\n"
     ]
    },
    {
     "name": "stderr",
     "output_type": "stream",
     "text": [
      " 19%|████████████▉                                                         | 346/1868 [03:48<20:20,  1.25it/s]"
     ]
    },
    {
     "name": "stdout",
     "output_type": "stream",
     "text": [
      "Journal of the European Ceramic Society has homepage_url and type journal\n"
     ]
    },
    {
     "name": "stderr",
     "output_type": "stream",
     "text": [
      " 19%|█████████████                                                         | 347/1868 [03:49<18:55,  1.34it/s]"
     ]
    },
    {
     "name": "stdout",
     "output_type": "stream",
     "text": [
      "Frontiers in robotics and AI has homepage_url and type journal\n"
     ]
    },
    {
     "name": "stderr",
     "output_type": "stream",
     "text": [
      " 19%|█████████████                                                         | 348/1868 [03:49<16:47,  1.51it/s]"
     ]
    },
    {
     "name": "stdout",
     "output_type": "stream",
     "text": [
      "Opto-electronic advances has homepage_url and type journal\n"
     ]
    },
    {
     "name": "stderr",
     "output_type": "stream",
     "text": [
      " 19%|█████████████                                                         | 349/1868 [03:50<15:41,  1.61it/s]"
     ]
    },
    {
     "name": "stdout",
     "output_type": "stream",
     "text": [
      "EuroIntervention has homepage_url and type journal\n"
     ]
    },
    {
     "name": "stderr",
     "output_type": "stream",
     "text": [
      " 19%|█████████████                                                         | 350/1868 [03:50<14:46,  1.71it/s]"
     ]
    },
    {
     "name": "stdout",
     "output_type": "stream",
     "text": [
      "IEEE journal of selected topics in applied earth observations and remote sensing has homepage_url and type journal\n"
     ]
    },
    {
     "name": "stderr",
     "output_type": "stream",
     "text": [
      " 19%|█████████████▏                                                        | 351/1868 [03:51<14:09,  1.79it/s]"
     ]
    },
    {
     "name": "stdout",
     "output_type": "stream",
     "text": [
      "APL photonics has homepage_url and type journal\n"
     ]
    },
    {
     "name": "stderr",
     "output_type": "stream",
     "text": [
      " 19%|█████████████▏                                                        | 353/1868 [03:52<13:20,  1.89it/s]"
     ]
    },
    {
     "name": "stdout",
     "output_type": "stream",
     "text": [
      "Proceedings of the ACM on measurement and analysis of computing systems has homepage_url and type journal\n"
     ]
    },
    {
     "name": "stderr",
     "output_type": "stream",
     "text": [
      " 19%|█████████████▎                                                        | 354/1868 [03:53<13:30,  1.87it/s]"
     ]
    },
    {
     "name": "stdout",
     "output_type": "stream",
     "text": [
      "Electrochimica acta has homepage_url and type journal\n"
     ]
    },
    {
     "name": "stderr",
     "output_type": "stream",
     "text": [
      " 19%|█████████████▎                                                        | 356/1868 [03:53<12:43,  1.98it/s]"
     ]
    },
    {
     "name": "stdout",
     "output_type": "stream",
     "text": [
      "IEEE photonics journal has homepage_url and type journal\n"
     ]
    },
    {
     "name": "stderr",
     "output_type": "stream",
     "text": [
      " 19%|█████████████▍                                                        | 357/1868 [03:55<18:36,  1.35it/s]"
     ]
    },
    {
     "name": "stdout",
     "output_type": "stream",
     "text": [
      "Chemical engineering journal has homepage_url and type journal\n"
     ]
    },
    {
     "name": "stderr",
     "output_type": "stream",
     "text": [
      " 19%|█████████████▍                                                        | 359/1868 [03:56<20:36,  1.22it/s]"
     ]
    },
    {
     "name": "stdout",
     "output_type": "stream",
     "text": [
      "Journal of electrocardiology has homepage_url and type journal\n"
     ]
    },
    {
     "name": "stderr",
     "output_type": "stream",
     "text": [
      " 19%|█████████████▍                                                        | 360/1868 [03:57<17:52,  1.41it/s]"
     ]
    },
    {
     "name": "stdout",
     "output_type": "stream",
     "text": [
      "Frontiers in energy research has homepage_url and type journal\n"
     ]
    },
    {
     "name": "stderr",
     "output_type": "stream",
     "text": [
      " 19%|█████████████▌                                                        | 362/1868 [03:58<17:11,  1.46it/s]"
     ]
    },
    {
     "name": "stdout",
     "output_type": "stream",
     "text": [
      "Biosensors has homepage_url and type journal\n"
     ]
    },
    {
     "name": "stderr",
     "output_type": "stream",
     "text": [
      " 19%|█████████████▌                                                        | 363/1868 [03:59<15:31,  1.62it/s]"
     ]
    },
    {
     "name": "stdout",
     "output_type": "stream",
     "text": [
      "I.E.E.E. transactions on electron devices/IEEE transactions on electron devices has homepage_url and type journal\n"
     ]
    },
    {
     "name": "stderr",
     "output_type": "stream",
     "text": [
      " 19%|█████████████▋                                                        | 364/1868 [03:59<14:31,  1.73it/s]"
     ]
    },
    {
     "name": "stdout",
     "output_type": "stream",
     "text": [
      "Small structures has homepage_url and type journal\n"
     ]
    },
    {
     "name": "stderr",
     "output_type": "stream",
     "text": [
      " 20%|█████████████▋                                                        | 365/1868 [04:00<13:49,  1.81it/s]"
     ]
    },
    {
     "name": "stdout",
     "output_type": "stream",
     "text": [
      "Optics communications has homepage_url and type journal\n"
     ]
    },
    {
     "name": "stderr",
     "output_type": "stream",
     "text": [
      " 20%|█████████████▋                                                        | 366/1868 [04:00<13:36,  1.84it/s]"
     ]
    },
    {
     "name": "stdout",
     "output_type": "stream",
     "text": [
      "Electronics letters has homepage_url and type journal\n"
     ]
    },
    {
     "name": "stderr",
     "output_type": "stream",
     "text": [
      " 20%|█████████████▊                                                        | 369/1868 [04:02<12:55,  1.93it/s]"
     ]
    },
    {
     "name": "stdout",
     "output_type": "stream",
     "text": [
      "Journal of King Saud University. Computer and information sciences/Maǧalaẗ ǧamʼaẗ al-malīk Saud : ùlm al-ḥasib wa al-maʼlumat has homepage_url and type journal\n"
     ]
    },
    {
     "name": "stderr",
     "output_type": "stream",
     "text": [
      " 20%|█████████████▊                                                        | 370/1868 [04:02<12:26,  2.01it/s]"
     ]
    },
    {
     "name": "stdout",
     "output_type": "stream",
     "text": [
      "Current applied physics has homepage_url and type journal\n"
     ]
    },
    {
     "name": "stderr",
     "output_type": "stream",
     "text": [
      " 20%|█████████████▉                                                        | 371/1868 [04:03<12:55,  1.93it/s]"
     ]
    },
    {
     "name": "stdout",
     "output_type": "stream",
     "text": [
      "Optical fiber technology has homepage_url and type journal\n"
     ]
    },
    {
     "name": "stderr",
     "output_type": "stream",
     "text": [
      " 20%|██████████████                                                        | 374/1868 [04:04<12:53,  1.93it/s]"
     ]
    },
    {
     "name": "stdout",
     "output_type": "stream",
     "text": [
      "Education and information technologies has homepage_url and type journal\n"
     ]
    },
    {
     "name": "stderr",
     "output_type": "stream",
     "text": [
      " 20%|██████████████                                                        | 375/1868 [04:05<12:41,  1.96it/s]"
     ]
    },
    {
     "name": "stdout",
     "output_type": "stream",
     "text": [
      "Operations research letters has homepage_url and type journal\n"
     ]
    },
    {
     "name": "stderr",
     "output_type": "stream",
     "text": [
      " 20%|██████████████                                                        | 376/1868 [04:05<13:01,  1.91it/s]"
     ]
    },
    {
     "name": "stdout",
     "output_type": "stream",
     "text": [
      "Proceedings of the VLDB Endowment has homepage_url and type journal\n"
     ]
    },
    {
     "name": "stderr",
     "output_type": "stream",
     "text": [
      " 20%|██████████████▏                                                       | 377/1868 [04:06<12:45,  1.95it/s]"
     ]
    },
    {
     "name": "stdout",
     "output_type": "stream",
     "text": [
      "IEEE transactions on robotics has homepage_url and type journal\n"
     ]
    },
    {
     "name": "stderr",
     "output_type": "stream",
     "text": [
      " 20%|██████████████▏                                                       | 379/1868 [04:07<11:59,  2.07it/s]"
     ]
    },
    {
     "name": "stdout",
     "output_type": "stream",
     "text": [
      "Visual informatics has homepage_url and type journal\n"
     ]
    },
    {
     "name": "stderr",
     "output_type": "stream",
     "text": [
      " 20%|██████████████▏                                                       | 380/1868 [04:07<12:04,  2.05it/s]"
     ]
    },
    {
     "name": "stdout",
     "output_type": "stream",
     "text": [
      "Engineering applications of artificial intelligence has homepage_url and type journal\n"
     ]
    },
    {
     "name": "stderr",
     "output_type": "stream",
     "text": [
      " 20%|██████████████▎                                                       | 381/1868 [04:08<12:30,  1.98it/s]"
     ]
    },
    {
     "name": "stdout",
     "output_type": "stream",
     "text": [
      "Journal of enterprise information management has homepage_url and type journal\n"
     ]
    },
    {
     "name": "stderr",
     "output_type": "stream",
     "text": [
      " 20%|██████████████▎                                                       | 382/1868 [04:08<12:25,  1.99it/s]"
     ]
    },
    {
     "name": "stdout",
     "output_type": "stream",
     "text": [
      "Ceramics international has homepage_url and type journal\n"
     ]
    },
    {
     "name": "stderr",
     "output_type": "stream",
     "text": [
      " 21%|██████████████▎                                                       | 383/1868 [04:09<12:13,  2.02it/s]"
     ]
    },
    {
     "name": "stdout",
     "output_type": "stream",
     "text": [
      "Journal of biophotonics has homepage_url and type journal\n"
     ]
    },
    {
     "name": "stderr",
     "output_type": "stream",
     "text": [
      " 21%|██████████████▍                                                       | 384/1868 [04:10<22:05,  1.12it/s]"
     ]
    },
    {
     "name": "stdout",
     "output_type": "stream",
     "text": [
      "Environmental research has homepage_url and type journal\n"
     ]
    },
    {
     "name": "stderr",
     "output_type": "stream",
     "text": [
      " 21%|██████████████▍                                                       | 385/1868 [04:11<19:00,  1.30it/s]"
     ]
    },
    {
     "name": "stdout",
     "output_type": "stream",
     "text": [
      "BMC ophthalmology has homepage_url and type journal\n"
     ]
    },
    {
     "name": "stderr",
     "output_type": "stream",
     "text": [
      " 21%|██████████████▍                                                       | 386/1868 [04:11<16:41,  1.48it/s]"
     ]
    },
    {
     "name": "stdout",
     "output_type": "stream",
     "text": [
      "Photodiagnosis and photodynamic therapy has homepage_url and type journal\n"
     ]
    },
    {
     "name": "stderr",
     "output_type": "stream",
     "text": [
      " 21%|██████████████▌                                                       | 387/1868 [04:12<15:14,  1.62it/s]"
     ]
    },
    {
     "name": "stdout",
     "output_type": "stream",
     "text": [
      "The Asia-Pacific education researcher has homepage_url and type journal\n"
     ]
    },
    {
     "name": "stderr",
     "output_type": "stream",
     "text": [
      " 21%|██████████████▌                                                       | 389/1868 [04:13<17:27,  1.41it/s]"
     ]
    },
    {
     "name": "stdout",
     "output_type": "stream",
     "text": [
      "IEEE transactions on terahertz science and technology has homepage_url and type journal\n"
     ]
    },
    {
     "name": "stderr",
     "output_type": "stream",
     "text": [
      " 21%|██████████████▌                                                       | 390/1868 [04:14<19:31,  1.26it/s]"
     ]
    },
    {
     "name": "stdout",
     "output_type": "stream",
     "text": [
      "Communications biology has homepage_url and type journal\n"
     ]
    },
    {
     "name": "stderr",
     "output_type": "stream",
     "text": [
      " 21%|██████████████▋                                                       | 391/1868 [04:15<17:04,  1.44it/s]"
     ]
    },
    {
     "name": "stdout",
     "output_type": "stream",
     "text": [
      "IET computer vision has homepage_url and type journal\n"
     ]
    },
    {
     "name": "stderr",
     "output_type": "stream",
     "text": [
      " 21%|██████████████▋                                                       | 392/1868 [04:15<15:22,  1.60it/s]"
     ]
    },
    {
     "name": "stdout",
     "output_type": "stream",
     "text": [
      "Journal of industrial and management optimization has homepage_url and type journal\n"
     ]
    },
    {
     "name": "stderr",
     "output_type": "stream",
     "text": [
      " 21%|██████████████▊                                                       | 394/1868 [04:16<13:36,  1.80it/s]"
     ]
    },
    {
     "name": "stdout",
     "output_type": "stream",
     "text": [
      "IEEE transactions on fuzzy systems has homepage_url and type journal\n"
     ]
    },
    {
     "name": "stderr",
     "output_type": "stream",
     "text": [
      " 21%|██████████████▊                                                       | 395/1868 [04:17<13:14,  1.85it/s]"
     ]
    },
    {
     "name": "stdout",
     "output_type": "stream",
     "text": [
      "Materials science in semiconductor processing has homepage_url and type journal\n"
     ]
    },
    {
     "name": "stderr",
     "output_type": "stream",
     "text": [
      " 21%|██████████████▊                                                       | 396/1868 [04:17<12:59,  1.89it/s]"
     ]
    },
    {
     "name": "stdout",
     "output_type": "stream",
     "text": [
      "IEEE transactions on neural systems and rehabilitation engineering has homepage_url and type journal\n"
     ]
    },
    {
     "name": "stderr",
     "output_type": "stream",
     "text": [
      " 21%|██████████████▉                                                       | 398/1868 [04:18<12:26,  1.97it/s]"
     ]
    },
    {
     "name": "stdout",
     "output_type": "stream",
     "text": [
      "Emerging markets review has homepage_url and type journal\n"
     ]
    },
    {
     "name": "stderr",
     "output_type": "stream",
     "text": [
      " 21%|██████████████▉                                                       | 399/1868 [04:19<12:26,  1.97it/s]"
     ]
    },
    {
     "name": "stdout",
     "output_type": "stream",
     "text": [
      "Computers in biology and medicine has homepage_url and type journal\n"
     ]
    },
    {
     "name": "stderr",
     "output_type": "stream",
     "text": [
      " 21%|██████████████▉                                                       | 400/1868 [04:19<12:42,  1.92it/s]"
     ]
    },
    {
     "name": "stdout",
     "output_type": "stream",
     "text": [
      "Frontiers in plant science has homepage_url and type journal\n"
     ]
    },
    {
     "name": "stderr",
     "output_type": "stream",
     "text": [
      " 21%|███████████████                                                       | 401/1868 [04:20<16:07,  1.52it/s]"
     ]
    },
    {
     "name": "stdout",
     "output_type": "stream",
     "text": [
      "Omega has homepage_url and type journal\n"
     ]
    },
    {
     "name": "stderr",
     "output_type": "stream",
     "text": [
      " 22%|███████████████                                                       | 402/1868 [04:21<19:39,  1.24it/s]"
     ]
    },
    {
     "name": "stdout",
     "output_type": "stream",
     "text": [
      "Optical materials has homepage_url and type journal\n"
     ]
    },
    {
     "name": "stderr",
     "output_type": "stream",
     "text": [
      " 22%|███████████████▏                                                      | 404/1868 [04:23<18:56,  1.29it/s]"
     ]
    },
    {
     "name": "stdout",
     "output_type": "stream",
     "text": [
      "Frontiers in psychology has homepage_url and type journal\n"
     ]
    },
    {
     "name": "stderr",
     "output_type": "stream",
     "text": [
      " 22%|███████████████▏                                                      | 405/1868 [04:23<17:11,  1.42it/s]"
     ]
    },
    {
     "name": "stdout",
     "output_type": "stream",
     "text": [
      "IEEE transactions on consumer electronics has homepage_url and type journal\n"
     ]
    },
    {
     "name": "stderr",
     "output_type": "stream",
     "text": [
      " 22%|███████████████▏                                                      | 406/1868 [04:24<15:24,  1.58it/s]"
     ]
    },
    {
     "name": "stdout",
     "output_type": "stream",
     "text": [
      "Journal of the Franklin Institute has homepage_url and type journal\n"
     ]
    },
    {
     "name": "stderr",
     "output_type": "stream",
     "text": [
      " 22%|███████████████▎                                                      | 407/1868 [04:25<18:26,  1.32it/s]"
     ]
    },
    {
     "name": "stdout",
     "output_type": "stream",
     "text": [
      "Digital signal processing has homepage_url and type journal\n"
     ]
    },
    {
     "name": "stderr",
     "output_type": "stream",
     "text": [
      " 22%|███████████████▎                                                      | 408/1868 [04:25<16:15,  1.50it/s]"
     ]
    },
    {
     "name": "stdout",
     "output_type": "stream",
     "text": [
      "APL materials has homepage_url and type journal\n"
     ]
    },
    {
     "name": "stderr",
     "output_type": "stream",
     "text": [
      " 22%|███████████████▎                                                      | 409/1868 [04:26<18:00,  1.35it/s]"
     ]
    },
    {
     "name": "stdout",
     "output_type": "stream",
     "text": [
      "Zeitschrift für angewandte Mathematik und Mechanik has homepage_url and type journal\n"
     ]
    },
    {
     "name": "stderr",
     "output_type": "stream",
     "text": [
      " 22%|███████████████▎                                                      | 410/1868 [04:27<21:30,  1.13it/s]"
     ]
    },
    {
     "name": "stdout",
     "output_type": "stream",
     "text": [
      "Journal of medical imaging has homepage_url and type journal\n"
     ]
    },
    {
     "name": "stderr",
     "output_type": "stream",
     "text": [
      " 22%|███████████████▍                                                      | 411/1868 [04:28<19:05,  1.27it/s]"
     ]
    },
    {
     "name": "stdout",
     "output_type": "stream",
     "text": [
      "International journal of tourism research/The international journal of tourism research has homepage_url and type journal\n"
     ]
    },
    {
     "name": "stderr",
     "output_type": "stream",
     "text": [
      " 22%|███████████████▍                                                      | 412/1868 [04:29<17:12,  1.41it/s]"
     ]
    },
    {
     "name": "stdout",
     "output_type": "stream",
     "text": [
      "Future internet has homepage_url and type journal\n"
     ]
    },
    {
     "name": "stderr",
     "output_type": "stream",
     "text": [
      " 22%|███████████████▍                                                      | 413/1868 [04:29<15:33,  1.56it/s]"
     ]
    },
    {
     "name": "stdout",
     "output_type": "stream",
     "text": [
      "IET communications has homepage_url and type journal\n"
     ]
    },
    {
     "name": "stderr",
     "output_type": "stream",
     "text": [
      " 22%|███████████████▌                                                      | 414/1868 [04:30<14:30,  1.67it/s]"
     ]
    },
    {
     "name": "stdout",
     "output_type": "stream",
     "text": [
      "International journal of molecular sciences has homepage_url and type journal\n"
     ]
    },
    {
     "name": "stderr",
     "output_type": "stream",
     "text": [
      " 22%|███████████████▌                                                      | 415/1868 [04:31<18:51,  1.28it/s]"
     ]
    },
    {
     "name": "stdout",
     "output_type": "stream",
     "text": [
      "Telematics and informatics has homepage_url and type journal\n"
     ]
    },
    {
     "name": "stderr",
     "output_type": "stream",
     "text": [
      " 22%|███████████████▌                                                      | 416/1868 [04:31<17:19,  1.40it/s]"
     ]
    },
    {
     "name": "stdout",
     "output_type": "stream",
     "text": [
      "Polish Journal of Environmental Studies has homepage_url and type journal\n"
     ]
    },
    {
     "name": "stderr",
     "output_type": "stream",
     "text": [
      " 22%|███████████████▋                                                      | 417/1868 [04:32<18:21,  1.32it/s]"
     ]
    },
    {
     "name": "stdout",
     "output_type": "stream",
     "text": [
      "Journal of intellectual capital has homepage_url and type journal\n"
     ]
    },
    {
     "name": "stderr",
     "output_type": "stream",
     "text": [
      " 22%|███████████████▋                                                      | 418/1868 [04:33<16:46,  1.44it/s]"
     ]
    },
    {
     "name": "stdout",
     "output_type": "stream",
     "text": [
      "Journal of physical chemistry. C./Journal of physical chemistry. C has homepage_url and type journal\n"
     ]
    },
    {
     "name": "stderr",
     "output_type": "stream",
     "text": [
      " 22%|███████████████▋                                                      | 419/1868 [04:33<15:00,  1.61it/s]"
     ]
    },
    {
     "name": "stdout",
     "output_type": "stream",
     "text": [
      "IEEE computational intelligence magazine has homepage_url and type journal\n"
     ]
    },
    {
     "name": "stderr",
     "output_type": "stream",
     "text": [
      " 22%|███████████████▋                                                      | 420/1868 [04:34<13:55,  1.73it/s]"
     ]
    },
    {
     "name": "stdout",
     "output_type": "stream",
     "text": [
      "Mechanism and machine theory has homepage_url and type journal\n"
     ]
    },
    {
     "name": "stderr",
     "output_type": "stream",
     "text": [
      " 23%|███████████████▊                                                      | 421/1868 [04:34<13:20,  1.81it/s]"
     ]
    },
    {
     "name": "stdout",
     "output_type": "stream",
     "text": [
      "IEEE transactions on reliability has homepage_url and type journal\n"
     ]
    },
    {
     "name": "stderr",
     "output_type": "stream",
     "text": [
      " 23%|███████████████▊                                                      | 422/1868 [04:35<17:57,  1.34it/s]"
     ]
    },
    {
     "name": "stdout",
     "output_type": "stream",
     "text": [
      "Carbon management has homepage_url and type journal\n"
     ]
    },
    {
     "name": "stderr",
     "output_type": "stream",
     "text": [
      " 23%|███████████████▊                                                      | 423/1868 [04:36<16:10,  1.49it/s]"
     ]
    },
    {
     "name": "stdout",
     "output_type": "stream",
     "text": [
      "Applied physics reviews has homepage_url and type journal\n"
     ]
    },
    {
     "name": "stderr",
     "output_type": "stream",
     "text": [
      " 23%|███████████████▉                                                      | 424/1868 [04:37<20:09,  1.19it/s]"
     ]
    },
    {
     "name": "stdout",
     "output_type": "stream",
     "text": [
      "Renewable energy has homepage_url and type journal\n"
     ]
    },
    {
     "name": "stderr",
     "output_type": "stream",
     "text": [
      " 23%|███████████████▉                                                      | 425/1868 [04:38<17:47,  1.35it/s]"
     ]
    },
    {
     "name": "stdout",
     "output_type": "stream",
     "text": [
      "IEEE transactions on instrumentation and measurement has homepage_url and type journal\n"
     ]
    },
    {
     "name": "stderr",
     "output_type": "stream",
     "text": [
      " 23%|███████████████▉                                                      | 426/1868 [04:38<15:57,  1.51it/s]"
     ]
    },
    {
     "name": "stdout",
     "output_type": "stream",
     "text": [
      "Multimedia tools and applications has homepage_url and type journal\n"
     ]
    },
    {
     "name": "stderr",
     "output_type": "stream",
     "text": [
      " 23%|████████████████                                                      | 427/1868 [04:39<15:30,  1.55it/s]"
     ]
    },
    {
     "name": "stdout",
     "output_type": "stream",
     "text": [
      "Angewandte Chemie has homepage_url and type journal\n"
     ]
    },
    {
     "name": "stderr",
     "output_type": "stream",
     "text": [
      " 23%|████████████████                                                      | 428/1868 [04:39<14:16,  1.68it/s]"
     ]
    },
    {
     "name": "stdout",
     "output_type": "stream",
     "text": [
      "IEEE transactions on plasma science has homepage_url and type journal\n"
     ]
    },
    {
     "name": "stderr",
     "output_type": "stream",
     "text": [
      " 23%|████████████████                                                      | 429/1868 [04:40<18:52,  1.27it/s]"
     ]
    },
    {
     "name": "stdout",
     "output_type": "stream",
     "text": [
      "Aerospace has homepage_url and type journal\n"
     ]
    },
    {
     "name": "stderr",
     "output_type": "stream",
     "text": [
      " 23%|████████████████                                                      | 430/1868 [04:41<16:39,  1.44it/s]"
     ]
    },
    {
     "name": "stdout",
     "output_type": "stream",
     "text": [
      "Frontiers in digital health has homepage_url and type journal\n"
     ]
    },
    {
     "name": "stderr",
     "output_type": "stream",
     "text": [
      " 23%|████████████████▏                                                     | 431/1868 [04:42<19:50,  1.21it/s]"
     ]
    },
    {
     "name": "stdout",
     "output_type": "stream",
     "text": [
      "Measurement + control/Measurement and control has homepage_url and type journal\n"
     ]
    },
    {
     "name": "stderr",
     "output_type": "stream",
     "text": [
      " 23%|████████████████▏                                                     | 432/1868 [04:42<17:46,  1.35it/s]"
     ]
    },
    {
     "name": "stdout",
     "output_type": "stream",
     "text": [
      "JMIR mhealth and uhealth has homepage_url and type journal\n"
     ]
    },
    {
     "name": "stderr",
     "output_type": "stream",
     "text": [
      " 23%|████████████████▏                                                     | 433/1868 [04:43<15:40,  1.53it/s]"
     ]
    },
    {
     "name": "stdout",
     "output_type": "stream",
     "text": [
      "ISA transactions has homepage_url and type journal\n"
     ]
    },
    {
     "name": "stderr",
     "output_type": "stream",
     "text": [
      " 23%|████████████████▎                                                     | 434/1868 [04:43<14:38,  1.63it/s]"
     ]
    },
    {
     "name": "stdout",
     "output_type": "stream",
     "text": [
      "Frontiers in surgery has homepage_url and type journal\n"
     ]
    },
    {
     "name": "stderr",
     "output_type": "stream",
     "text": [
      " 23%|████████████████▎                                                     | 435/1868 [04:45<20:31,  1.16it/s]"
     ]
    },
    {
     "name": "stdout",
     "output_type": "stream",
     "text": [
      "Research evaluation has homepage_url and type journal\n"
     ]
    },
    {
     "name": "stderr",
     "output_type": "stream",
     "text": [
      " 23%|████████████████▎                                                     | 436/1868 [04:46<21:58,  1.09it/s]"
     ]
    },
    {
     "name": "stdout",
     "output_type": "stream",
     "text": [
      "Transport policy has homepage_url and type journal\n"
     ]
    },
    {
     "name": "stderr",
     "output_type": "stream",
     "text": [
      " 23%|████████████████▍                                                     | 437/1868 [04:46<18:55,  1.26it/s]"
     ]
    },
    {
     "name": "stdout",
     "output_type": "stream",
     "text": [
      "Translational psychiatry has homepage_url and type journal\n"
     ]
    },
    {
     "name": "stderr",
     "output_type": "stream",
     "text": [
      " 23%|████████████████▍                                                     | 438/1868 [04:48<20:49,  1.14it/s]"
     ]
    },
    {
     "name": "stdout",
     "output_type": "stream",
     "text": [
      "International Journal of Computer Mathematics/International journal of computer mathematics has homepage_url and type journal\n"
     ]
    },
    {
     "name": "stderr",
     "output_type": "stream",
     "text": [
      " 24%|████████████████▍                                                     | 440/1868 [04:49<16:16,  1.46it/s]"
     ]
    },
    {
     "name": "stdout",
     "output_type": "stream",
     "text": [
      "Communications of the ACM has homepage_url and type journal\n"
     ]
    },
    {
     "name": "stderr",
     "output_type": "stream",
     "text": [
      " 24%|████████████████▌                                                     | 441/1868 [04:49<14:41,  1.62it/s]"
     ]
    },
    {
     "name": "stdout",
     "output_type": "stream",
     "text": [
      "Physica scripta has homepage_url and type journal\n"
     ]
    },
    {
     "name": "stderr",
     "output_type": "stream",
     "text": [
      " 24%|████████████████▌                                                     | 442/1868 [04:49<13:27,  1.77it/s]"
     ]
    },
    {
     "name": "stdout",
     "output_type": "stream",
     "text": [
      "Growth and change has homepage_url and type journal\n"
     ]
    },
    {
     "name": "stderr",
     "output_type": "stream",
     "text": [
      " 24%|████████████████▌                                                     | 443/1868 [04:50<13:07,  1.81it/s]"
     ]
    },
    {
     "name": "stdout",
     "output_type": "stream",
     "text": [
      "The American journal of pathology has homepage_url and type journal\n"
     ]
    },
    {
     "name": "stderr",
     "output_type": "stream",
     "text": [
      " 24%|████████████████▋                                                     | 444/1868 [04:51<17:59,  1.32it/s]"
     ]
    },
    {
     "name": "stdout",
     "output_type": "stream",
     "text": [
      "Information has homepage_url and type repository\n"
     ]
    },
    {
     "name": "stderr",
     "output_type": "stream",
     "text": [
      " 24%|████████████████▋                                                     | 445/1868 [04:52<18:54,  1.25it/s]"
     ]
    },
    {
     "name": "stdout",
     "output_type": "stream",
     "text": [
      "Network neuroscience has homepage_url and type journal\n"
     ]
    },
    {
     "name": "stderr",
     "output_type": "stream",
     "text": [
      " 24%|████████████████▊                                                     | 447/1868 [04:53<15:19,  1.55it/s]"
     ]
    },
    {
     "name": "stdout",
     "output_type": "stream",
     "text": [
      "ACM transactions on intelligent systems and technology has homepage_url and type journal\n"
     ]
    },
    {
     "name": "stderr",
     "output_type": "stream",
     "text": [
      " 24%|████████████████▊                                                     | 448/1868 [04:54<14:02,  1.69it/s]"
     ]
    },
    {
     "name": "stdout",
     "output_type": "stream",
     "text": [
      "China Ocean Engineering/China ocean engineering has homepage_url and type journal\n"
     ]
    },
    {
     "name": "stderr",
     "output_type": "stream",
     "text": [
      " 24%|████████████████▊                                                     | 450/1868 [04:55<12:33,  1.88it/s]"
     ]
    },
    {
     "name": "stdout",
     "output_type": "stream",
     "text": [
      "Sustainable cities and society has homepage_url and type journal\n"
     ]
    },
    {
     "name": "stderr",
     "output_type": "stream",
     "text": [
      " 24%|████████████████▉                                                     | 451/1868 [04:55<12:10,  1.94it/s]"
     ]
    },
    {
     "name": "stdout",
     "output_type": "stream",
     "text": [
      "IEEE transactions on human-machine systems has homepage_url and type journal\n"
     ]
    },
    {
     "name": "stderr",
     "output_type": "stream",
     "text": [
      " 24%|█████████████████                                                     | 454/1868 [04:57<17:42,  1.33it/s]"
     ]
    },
    {
     "name": "stdout",
     "output_type": "stream",
     "text": [
      "International journal of production economics has homepage_url and type journal\n"
     ]
    },
    {
     "name": "stderr",
     "output_type": "stream",
     "text": [
      " 24%|█████████████████                                                     | 455/1868 [04:58<16:23,  1.44it/s]"
     ]
    },
    {
     "name": "stdout",
     "output_type": "stream",
     "text": [
      "Journal of non-crystalline solids has homepage_url and type journal\n"
     ]
    },
    {
     "name": "stderr",
     "output_type": "stream",
     "text": [
      " 24%|█████████████████                                                     | 456/1868 [04:58<15:02,  1.56it/s]"
     ]
    },
    {
     "name": "stdout",
     "output_type": "stream",
     "text": [
      "The Internet and higher education/The internet and higher education has homepage_url and type journal\n"
     ]
    },
    {
     "name": "stderr",
     "output_type": "stream",
     "text": [
      " 24%|█████████████████▏                                                    | 457/1868 [04:59<16:28,  1.43it/s]"
     ]
    },
    {
     "name": "stdout",
     "output_type": "stream",
     "text": [
      "Methods has homepage_url and type journal\n"
     ]
    },
    {
     "name": "stderr",
     "output_type": "stream",
     "text": [
      " 25%|█████████████████▏                                                    | 459/1868 [05:01<15:45,  1.49it/s]"
     ]
    },
    {
     "name": "stdout",
     "output_type": "stream",
     "text": [
      "Journal of catalysis has homepage_url and type journal\n"
     ]
    },
    {
     "name": "stderr",
     "output_type": "stream",
     "text": [
      " 25%|█████████████████▏                                                    | 460/1868 [05:01<14:28,  1.62it/s]"
     ]
    },
    {
     "name": "stdout",
     "output_type": "stream",
     "text": [
      "Acta astronautica has homepage_url and type journal\n"
     ]
    },
    {
     "name": "stderr",
     "output_type": "stream",
     "text": [
      " 25%|█████████████████▎                                                    | 461/1868 [05:02<13:45,  1.70it/s]"
     ]
    },
    {
     "name": "stdout",
     "output_type": "stream",
     "text": [
      "Journal of vibration and control has homepage_url and type journal\n"
     ]
    },
    {
     "name": "stderr",
     "output_type": "stream",
     "text": [
      " 25%|█████████████████▎                                                    | 462/1868 [05:02<13:17,  1.76it/s]"
     ]
    },
    {
     "name": "stdout",
     "output_type": "stream",
     "text": [
      "Intelligent medicine has homepage_url and type journal\n"
     ]
    },
    {
     "name": "stderr",
     "output_type": "stream",
     "text": [
      " 25%|█████████████████▎                                                    | 463/1868 [05:03<18:53,  1.24it/s]"
     ]
    },
    {
     "name": "stdout",
     "output_type": "stream",
     "text": [
      "Research has homepage_url and type repository\n"
     ]
    },
    {
     "name": "stderr",
     "output_type": "stream",
     "text": [
      " 25%|█████████████████▍                                                    | 465/1868 [05:05<18:04,  1.29it/s]"
     ]
    },
    {
     "name": "stdout",
     "output_type": "stream",
     "text": [
      "ACM SIGMETRICS performance evaluation review/Performance evaluation review has homepage_url and type journal\n"
     ]
    },
    {
     "name": "stderr",
     "output_type": "stream",
     "text": [
      " 25%|█████████████████▌                                                    | 467/1868 [05:06<14:39,  1.59it/s]"
     ]
    },
    {
     "name": "stdout",
     "output_type": "stream",
     "text": [
      "Therapeutic advances in chronic disease has homepage_url and type journal\n"
     ]
    },
    {
     "name": "stderr",
     "output_type": "stream",
     "text": [
      " 25%|█████████████████▌                                                    | 468/1868 [05:07<13:47,  1.69it/s]"
     ]
    },
    {
     "name": "stdout",
     "output_type": "stream",
     "text": [
      "Displays has homepage_url and type journal\n"
     ]
    },
    {
     "name": "stderr",
     "output_type": "stream",
     "text": [
      " 25%|█████████████████▌                                                    | 469/1868 [05:08<17:29,  1.33it/s]"
     ]
    },
    {
     "name": "stdout",
     "output_type": "stream",
     "text": [
      "Alexandria Engineering Journal /Alexandria Engineering Journal has homepage_url and type journal\n"
     ]
    },
    {
     "name": "stderr",
     "output_type": "stream",
     "text": [
      " 25%|█████████████████▋                                                    | 471/1868 [05:09<19:38,  1.19it/s]"
     ]
    },
    {
     "name": "stdout",
     "output_type": "stream",
     "text": [
      "Solar energy has homepage_url and type journal\n"
     ]
    },
    {
     "name": "stderr",
     "output_type": "stream",
     "text": [
      " 25%|█████████████████▋                                                    | 472/1868 [05:10<19:16,  1.21it/s]"
     ]
    },
    {
     "name": "stdout",
     "output_type": "stream",
     "text": [
      "Bioengineering has homepage_url and type journal\n"
     ]
    },
    {
     "name": "stderr",
     "output_type": "stream",
     "text": [
      " 25%|█████████████████▋                                                    | 473/1868 [05:11<21:35,  1.08it/s]"
     ]
    },
    {
     "name": "stdout",
     "output_type": "stream",
     "text": [
      "Asia Pacific journal of education has homepage_url and type journal\n"
     ]
    },
    {
     "name": "stderr",
     "output_type": "stream",
     "text": [
      " 25%|█████████████████▊                                                    | 474/1868 [05:12<18:47,  1.24it/s]"
     ]
    },
    {
     "name": "stdout",
     "output_type": "stream",
     "text": [
      "EBioMedicine has homepage_url and type journal\n"
     ]
    },
    {
     "name": "stderr",
     "output_type": "stream",
     "text": [
      " 25%|█████████████████▊                                                    | 475/1868 [05:12<17:00,  1.37it/s]"
     ]
    },
    {
     "name": "stdout",
     "output_type": "stream",
     "text": [
      "AIP advances has homepage_url and type journal\n"
     ]
    },
    {
     "name": "stderr",
     "output_type": "stream",
     "text": [
      " 25%|█████████████████▊                                                    | 476/1868 [05:14<20:03,  1.16it/s]"
     ]
    },
    {
     "name": "stdout",
     "output_type": "stream",
     "text": [
      "Photonics has homepage_url and type journal\n"
     ]
    },
    {
     "name": "stderr",
     "output_type": "stream",
     "text": [
      " 26%|█████████████████▊                                                    | 477/1868 [05:14<17:13,  1.35it/s]"
     ]
    },
    {
     "name": "stdout",
     "output_type": "stream",
     "text": [
      "IEEE transactions on control of network systems has homepage_url and type journal\n"
     ]
    },
    {
     "name": "stderr",
     "output_type": "stream",
     "text": [
      " 26%|█████████████████▉                                                    | 479/1868 [05:16<18:32,  1.25it/s]"
     ]
    },
    {
     "name": "stdout",
     "output_type": "stream",
     "text": [
      "Human resource management journal has homepage_url and type journal\n"
     ]
    },
    {
     "name": "stderr",
     "output_type": "stream",
     "text": [
      " 26%|██████████████████                                                    | 481/1868 [05:17<14:55,  1.55it/s]"
     ]
    },
    {
     "name": "stdout",
     "output_type": "stream",
     "text": [
      "IET signal processing has homepage_url and type journal\n"
     ]
    },
    {
     "name": "stderr",
     "output_type": "stream",
     "text": [
      " 26%|██████████████████                                                    | 483/1868 [05:18<13:32,  1.70it/s]"
     ]
    },
    {
     "name": "stdout",
     "output_type": "stream",
     "text": [
      "Journal of biomedical informatics has homepage_url and type journal\n"
     ]
    },
    {
     "name": "stderr",
     "output_type": "stream",
     "text": [
      " 26%|██████████████████▏                                                   | 484/1868 [05:18<13:32,  1.70it/s]"
     ]
    },
    {
     "name": "stdout",
     "output_type": "stream",
     "text": [
      "Mechanical systems and signal processing has homepage_url and type journal\n"
     ]
    },
    {
     "name": "stderr",
     "output_type": "stream",
     "text": [
      " 26%|██████████████████▏                                                   | 485/1868 [05:20<18:33,  1.24it/s]"
     ]
    },
    {
     "name": "stdout",
     "output_type": "stream",
     "text": [
      "IEEE transactions on control systems technology has homepage_url and type journal\n"
     ]
    },
    {
     "name": "stderr",
     "output_type": "stream",
     "text": [
      " 26%|██████████████████▏                                                   | 486/1868 [05:20<16:30,  1.40it/s]"
     ]
    },
    {
     "name": "stdout",
     "output_type": "stream",
     "text": [
      "Optical switching and networking has homepage_url and type journal\n"
     ]
    },
    {
     "name": "stderr",
     "output_type": "stream",
     "text": [
      " 26%|██████████████████▏                                                   | 487/1868 [05:21<17:28,  1.32it/s]"
     ]
    },
    {
     "name": "stdout",
     "output_type": "stream",
     "text": [
      "Analyst (London. 1877. Online)/Analyst has homepage_url and type journal\n"
     ]
    },
    {
     "name": "stderr",
     "output_type": "stream",
     "text": [
      " 26%|██████████████████▎                                                   | 489/1868 [05:22<14:01,  1.64it/s]"
     ]
    },
    {
     "name": "stdout",
     "output_type": "stream",
     "text": [
      "Psychology research and behavior management has homepage_url and type journal\n"
     ]
    },
    {
     "name": "stderr",
     "output_type": "stream",
     "text": [
      " 26%|██████████████████▎                                                   | 490/1868 [05:23<19:35,  1.17it/s]"
     ]
    },
    {
     "name": "stdout",
     "output_type": "stream",
     "text": [
      "Diagnostics has homepage_url and type journal\n"
     ]
    },
    {
     "name": "stderr",
     "output_type": "stream",
     "text": [
      " 26%|██████████████████▍                                                   | 491/1868 [05:25<23:05,  1.01s/it]"
     ]
    },
    {
     "name": "stdout",
     "output_type": "stream",
     "text": [
      "Systems has homepage_url and type journal\n"
     ]
    },
    {
     "name": "stderr",
     "output_type": "stream",
     "text": [
      " 26%|██████████████████▍                                                   | 493/1868 [05:27<25:23,  1.11s/it]"
     ]
    },
    {
     "name": "stdout",
     "output_type": "stream",
     "text": [
      "International journal of human-computer interaction has homepage_url and type journal\n"
     ]
    },
    {
     "name": "stderr",
     "output_type": "stream",
     "text": [
      " 26%|██████████████████▌                                                   | 494/1868 [05:28<21:17,  1.08it/s]"
     ]
    },
    {
     "name": "stdout",
     "output_type": "stream",
     "text": [
      "Optics and lasers in engineering has homepage_url and type journal\n"
     ]
    },
    {
     "name": "stderr",
     "output_type": "stream",
     "text": [
      " 27%|██████████████████▌                                                   | 496/1868 [05:29<15:46,  1.45it/s]"
     ]
    },
    {
     "name": "stdout",
     "output_type": "stream",
     "text": [
      "bioRxiv (Cold Spring Harbor Laboratory) has homepage_url and type repository\n"
     ]
    },
    {
     "name": "stderr",
     "output_type": "stream",
     "text": [
      " 27%|██████████████████▌                                                   | 497/1868 [05:29<14:23,  1.59it/s]"
     ]
    },
    {
     "name": "stdout",
     "output_type": "stream",
     "text": [
      "International journal of approximate reasoning has homepage_url and type journal\n"
     ]
    },
    {
     "name": "stderr",
     "output_type": "stream",
     "text": [
      " 27%|██████████████████▋                                                   | 498/1868 [05:30<18:56,  1.21it/s]"
     ]
    },
    {
     "name": "stdout",
     "output_type": "stream",
     "text": [
      "Microelectronics has homepage_url and type journal\n"
     ]
    },
    {
     "name": "stderr",
     "output_type": "stream",
     "text": [
      " 27%|██████████████████▋                                                   | 500/1868 [05:32<20:03,  1.14it/s]"
     ]
    },
    {
     "name": "stdout",
     "output_type": "stream",
     "text": [
      "Surfaces and interfaces has homepage_url and type journal\n"
     ]
    },
    {
     "name": "stderr",
     "output_type": "stream",
     "text": [
      " 27%|██████████████████▊                                                   | 501/1868 [05:33<20:24,  1.12it/s]"
     ]
    },
    {
     "name": "stdout",
     "output_type": "stream",
     "text": [
      "IEEE transactions on power delivery has homepage_url and type journal\n"
     ]
    },
    {
     "name": "stderr",
     "output_type": "stream",
     "text": [
      " 27%|██████████████████▊                                                   | 502/1868 [05:34<18:54,  1.20it/s]"
     ]
    },
    {
     "name": "stdout",
     "output_type": "stream",
     "text": [
      "Informatics and health has homepage_url and type journal\n"
     ]
    },
    {
     "name": "stderr",
     "output_type": "stream",
     "text": [
      " 27%|██████████████████▉                                                   | 504/1868 [05:35<14:35,  1.56it/s]"
     ]
    },
    {
     "name": "stdout",
     "output_type": "stream",
     "text": [
      "IEEE transactions on sustainable computing has homepage_url and type journal\n"
     ]
    },
    {
     "name": "stderr",
     "output_type": "stream",
     "text": [
      " 27%|██████████████████▉                                                   | 505/1868 [05:35<13:35,  1.67it/s]"
     ]
    },
    {
     "name": "stdout",
     "output_type": "stream",
     "text": [
      "Food frontiers has homepage_url and type journal\n"
     ]
    },
    {
     "name": "stderr",
     "output_type": "stream",
     "text": [
      " 27%|██████████████████▉                                                   | 506/1868 [05:36<12:43,  1.78it/s]"
     ]
    },
    {
     "name": "stdout",
     "output_type": "stream",
     "text": [
      "Scientific data has homepage_url and type journal\n"
     ]
    },
    {
     "name": "stderr",
     "output_type": "stream",
     "text": [
      " 27%|███████████████████                                                   | 508/1868 [05:36<11:35,  1.95it/s]"
     ]
    },
    {
     "name": "stdout",
     "output_type": "stream",
     "text": [
      "Journal of modern power systems and clean energy has homepage_url and type journal\n"
     ]
    },
    {
     "name": "stderr",
     "output_type": "stream",
     "text": [
      " 27%|███████████████████                                                   | 509/1868 [05:38<15:43,  1.44it/s]"
     ]
    },
    {
     "name": "stdout",
     "output_type": "stream",
     "text": [
      "Advances in nonlinear analysis has homepage_url and type journal\n"
     ]
    },
    {
     "name": "stderr",
     "output_type": "stream",
     "text": [
      " 27%|███████████████████                                                   | 510/1868 [05:38<14:29,  1.56it/s]"
     ]
    },
    {
     "name": "stdout",
     "output_type": "stream",
     "text": [
      "EPJ. Applied metamaterials has homepage_url and type journal\n"
     ]
    },
    {
     "name": "stderr",
     "output_type": "stream",
     "text": [
      " 27%|███████████████████▏                                                  | 512/1868 [05:39<12:42,  1.78it/s]"
     ]
    },
    {
     "name": "stdout",
     "output_type": "stream",
     "text": [
      "International journal on semantic web and information systems/International journal on Semantic Web and information systems has homepage_url and type journal\n"
     ]
    },
    {
     "name": "stderr",
     "output_type": "stream",
     "text": [
      " 27%|███████████████████▏                                                  | 513/1868 [05:40<13:29,  1.67it/s]"
     ]
    },
    {
     "name": "stdout",
     "output_type": "stream",
     "text": [
      "Energy economics has homepage_url and type journal\n"
     ]
    },
    {
     "name": "stderr",
     "output_type": "stream",
     "text": [
      " 28%|███████████████████▎                                                  | 515/1868 [05:41<16:33,  1.36it/s]"
     ]
    },
    {
     "name": "stdout",
     "output_type": "stream",
     "text": [
      "Microwave and optical technology letters has homepage_url and type journal\n"
     ]
    },
    {
     "name": "stderr",
     "output_type": "stream",
     "text": [
      " 28%|███████████████████▎                                                  | 516/1868 [05:42<14:37,  1.54it/s]"
     ]
    },
    {
     "name": "stdout",
     "output_type": "stream",
     "text": [
      "IEEE transactions on smart grid has homepage_url and type journal\n"
     ]
    },
    {
     "name": "stderr",
     "output_type": "stream",
     "text": [
      " 28%|███████████████████▎                                                  | 517/1868 [05:43<18:52,  1.19it/s]"
     ]
    },
    {
     "name": "stdout",
     "output_type": "stream",
     "text": [
      "Data science and engineering has homepage_url and type journal\n"
     ]
    },
    {
     "name": "stderr",
     "output_type": "stream",
     "text": [
      " 28%|███████████████████▍                                                  | 518/1868 [05:44<16:41,  1.35it/s]"
     ]
    },
    {
     "name": "stdout",
     "output_type": "stream",
     "text": [
      "IEEE photonics technology letters has homepage_url and type journal\n"
     ]
    },
    {
     "name": "stderr",
     "output_type": "stream",
     "text": [
      " 28%|███████████████████▍                                                  | 519/1868 [05:45<19:18,  1.16it/s]"
     ]
    },
    {
     "name": "stdout",
     "output_type": "stream",
     "text": [
      "CAAI transactions on intelligence technology has homepage_url and type journal\n"
     ]
    },
    {
     "name": "stderr",
     "output_type": "stream",
     "text": [
      " 28%|███████████████████▍                                                  | 520/1868 [05:45<17:09,  1.31it/s]"
     ]
    },
    {
     "name": "stdout",
     "output_type": "stream",
     "text": [
      "Cancers has homepage_url and type journal\n"
     ]
    },
    {
     "name": "stderr",
     "output_type": "stream",
     "text": [
      " 28%|███████████████████▌                                                  | 521/1868 [05:46<15:19,  1.46it/s]"
     ]
    },
    {
     "name": "stdout",
     "output_type": "stream",
     "text": [
      "IEEE transactions on power electronics has homepage_url and type journal\n"
     ]
    },
    {
     "name": "stderr",
     "output_type": "stream",
     "text": [
      " 28%|███████████████████▌                                                  | 522/1868 [05:46<13:56,  1.61it/s]"
     ]
    },
    {
     "name": "stdout",
     "output_type": "stream",
     "text": [
      "Journal of the Society for Information Display has homepage_url and type journal\n"
     ]
    },
    {
     "name": "stderr",
     "output_type": "stream",
     "text": [
      " 28%|███████████████████▌                                                  | 523/1868 [05:47<13:01,  1.72it/s]"
     ]
    },
    {
     "name": "stdout",
     "output_type": "stream",
     "text": [
      "NeuroImage has homepage_url and type journal\n"
     ]
    },
    {
     "name": "stderr",
     "output_type": "stream",
     "text": [
      " 28%|███████████████████▋                                                  | 524/1868 [05:47<12:31,  1.79it/s]"
     ]
    },
    {
     "name": "stdout",
     "output_type": "stream",
     "text": [
      "CIRP annals has homepage_url and type journal\n"
     ]
    },
    {
     "name": "stderr",
     "output_type": "stream",
     "text": [
      " 28%|███████████████████▋                                                  | 525/1868 [05:48<12:03,  1.86it/s]"
     ]
    },
    {
     "name": "stdout",
     "output_type": "stream",
     "text": [
      "Advanced theory and simulations has homepage_url and type journal\n"
     ]
    },
    {
     "name": "stderr",
     "output_type": "stream",
     "text": [
      " 28%|███████████████████▋                                                  | 526/1868 [05:49<15:54,  1.41it/s]"
     ]
    },
    {
     "name": "stdout",
     "output_type": "stream",
     "text": [
      "Journal of public affairs has homepage_url and type journal\n"
     ]
    },
    {
     "name": "stderr",
     "output_type": "stream",
     "text": [
      " 28%|███████████████████▊                                                  | 528/1868 [05:50<13:28,  1.66it/s]"
     ]
    },
    {
     "name": "stdout",
     "output_type": "stream",
     "text": [
      "ECS journal of solid state science and technology has homepage_url and type journal\n"
     ]
    },
    {
     "name": "stderr",
     "output_type": "stream",
     "text": [
      " 28%|███████████████████▊                                                  | 530/1868 [05:51<11:43,  1.90it/s]"
     ]
    },
    {
     "name": "stdout",
     "output_type": "stream",
     "text": [
      "IEEE internet computing has homepage_url and type journal\n"
     ]
    },
    {
     "name": "stderr",
     "output_type": "stream",
     "text": [
      " 28%|███████████████████▉                                                  | 531/1868 [05:51<11:16,  1.98it/s]"
     ]
    },
    {
     "name": "stdout",
     "output_type": "stream",
     "text": [
      "Computers and electronics in agriculture has homepage_url and type journal\n"
     ]
    },
    {
     "name": "stderr",
     "output_type": "stream",
     "text": [
      " 28%|███████████████████▉                                                  | 532/1868 [05:52<11:00,  2.02it/s]"
     ]
    },
    {
     "name": "stdout",
     "output_type": "stream",
     "text": [
      "International journal of RF and microwave computer-aided engineering has homepage_url and type journal\n"
     ]
    },
    {
     "name": "stderr",
     "output_type": "stream",
     "text": [
      " 29%|███████████████████▉                                                  | 533/1868 [05:52<10:45,  2.07it/s]"
     ]
    },
    {
     "name": "stdout",
     "output_type": "stream",
     "text": [
      "JMIR. Journal of medical internet research/Journal of medical internet research has homepage_url and type journal\n"
     ]
    },
    {
     "name": "stderr",
     "output_type": "stream",
     "text": [
      " 29%|████████████████████                                                  | 535/1868 [05:54<13:55,  1.59it/s]"
     ]
    },
    {
     "name": "stdout",
     "output_type": "stream",
     "text": [
      "Journal of corporate finance has homepage_url and type journal\n"
     ]
    },
    {
     "name": "stderr",
     "output_type": "stream",
     "text": [
      " 29%|████████████████████                                                  | 536/1868 [05:54<12:47,  1.74it/s]"
     ]
    },
    {
     "name": "stdout",
     "output_type": "stream",
     "text": [
      "International journal of industrial ergonomics has homepage_url and type journal\n"
     ]
    },
    {
     "name": "stderr",
     "output_type": "stream",
     "text": [
      " 29%|████████████████████                                                  | 537/1868 [05:55<12:30,  1.77it/s]"
     ]
    },
    {
     "name": "stdout",
     "output_type": "stream",
     "text": [
      "Materials chemistry frontiers has homepage_url and type journal\n"
     ]
    },
    {
     "name": "stderr",
     "output_type": "stream",
     "text": [
      " 29%|████████████████████▏                                                 | 538/1868 [05:56<17:04,  1.30it/s]"
     ]
    },
    {
     "name": "stdout",
     "output_type": "stream",
     "text": [
      "Internet of things has homepage_url and type journal\n"
     ]
    },
    {
     "name": "stderr",
     "output_type": "stream",
     "text": [
      " 29%|████████████████████▏                                                 | 539/1868 [05:56<15:08,  1.46it/s]"
     ]
    },
    {
     "name": "stdout",
     "output_type": "stream",
     "text": [
      "Wireless personal communications has homepage_url and type journal\n"
     ]
    },
    {
     "name": "stderr",
     "output_type": "stream",
     "text": [
      " 29%|████████████████████▏                                                 | 540/1868 [05:58<20:14,  1.09it/s]"
     ]
    },
    {
     "name": "stdout",
     "output_type": "stream",
     "text": [
      "Big data research has homepage_url and type journal\n"
     ]
    },
    {
     "name": "stderr",
     "output_type": "stream",
     "text": [
      " 29%|████████████████████▎                                                 | 541/1868 [05:59<21:30,  1.03it/s]"
     ]
    },
    {
     "name": "stdout",
     "output_type": "stream",
     "text": [
      "Energy reports has homepage_url and type journal\n"
     ]
    },
    {
     "name": "stderr",
     "output_type": "stream",
     "text": [
      " 29%|████████████████████▎                                                 | 542/1868 [05:59<18:21,  1.20it/s]"
     ]
    },
    {
     "name": "stdout",
     "output_type": "stream",
     "text": [
      "The international journal of medical robotics and computer assisted surgery has homepage_url and type journal\n"
     ]
    },
    {
     "name": "stderr",
     "output_type": "stream",
     "text": [
      " 29%|████████████████████▎                                                 | 543/1868 [06:00<16:30,  1.34it/s]"
     ]
    },
    {
     "name": "stdout",
     "output_type": "stream",
     "text": [
      "Journal of Semiconductors/Journal of semiconductors has homepage_url and type journal\n"
     ]
    },
    {
     "name": "stderr",
     "output_type": "stream",
     "text": [
      " 29%|████████████████████▍                                                 | 544/1868 [06:00<14:42,  1.50it/s]"
     ]
    },
    {
     "name": "stdout",
     "output_type": "stream",
     "text": [
      "Heliyon has homepage_url and type journal\n"
     ]
    },
    {
     "name": "stderr",
     "output_type": "stream",
     "text": [
      " 29%|████████████████████▍                                                 | 547/1868 [06:02<11:48,  1.87it/s]"
     ]
    },
    {
     "name": "stdout",
     "output_type": "stream",
     "text": [
      "IEEE transactions on computer-aided design of integrated circuits and systems has homepage_url and type journal\n"
     ]
    },
    {
     "name": "stderr",
     "output_type": "stream",
     "text": [
      " 29%|████████████████████▌                                                 | 548/1868 [06:03<16:36,  1.32it/s]"
     ]
    },
    {
     "name": "stdout",
     "output_type": "stream",
     "text": [
      "Journal of computational science has homepage_url and type journal\n"
     ]
    },
    {
     "name": "stderr",
     "output_type": "stream",
     "text": [
      " 29%|████████████████████▌                                                 | 549/1868 [06:04<15:00,  1.46it/s]"
     ]
    },
    {
     "name": "stdout",
     "output_type": "stream",
     "text": [
      "Cerebral cortex has homepage_url and type journal\n"
     ]
    },
    {
     "name": "stderr",
     "output_type": "stream",
     "text": [
      " 29%|████████████████████▌                                                 | 550/1868 [06:04<13:43,  1.60it/s]"
     ]
    },
    {
     "name": "stdout",
     "output_type": "stream",
     "text": [
      "Empirical software engineering has homepage_url and type journal\n"
     ]
    },
    {
     "name": "stderr",
     "output_type": "stream",
     "text": [
      " 29%|████████████████████▋                                                 | 551/1868 [06:05<12:56,  1.70it/s]"
     ]
    },
    {
     "name": "stdout",
     "output_type": "stream",
     "text": [
      "Frontiers in oncology has homepage_url and type journal\n"
     ]
    },
    {
     "name": "stderr",
     "output_type": "stream",
     "text": [
      " 30%|████████████████████▋                                                 | 553/1868 [06:06<11:42,  1.87it/s]"
     ]
    },
    {
     "name": "stdout",
     "output_type": "stream",
     "text": [
      "Advances in space research has homepage_url and type journal\n"
     ]
    },
    {
     "name": "stderr",
     "output_type": "stream",
     "text": [
      " 30%|████████████████████▊                                                 | 554/1868 [06:06<11:13,  1.95it/s]"
     ]
    },
    {
     "name": "stdout",
     "output_type": "stream",
     "text": [
      "Frontiers in public health has homepage_url and type journal\n"
     ]
    },
    {
     "name": "stderr",
     "output_type": "stream",
     "text": [
      " 30%|████████████████████▊                                                 | 555/1868 [06:06<10:55,  2.00it/s]"
     ]
    },
    {
     "name": "stdout",
     "output_type": "stream",
     "text": [
      "Internet technology letters has homepage_url and type journal\n"
     ]
    },
    {
     "name": "stderr",
     "output_type": "stream",
     "text": [
      " 30%|████████████████████▊                                                 | 556/1868 [06:08<15:07,  1.45it/s]"
     ]
    },
    {
     "name": "stdout",
     "output_type": "stream",
     "text": [
      "Fractal and fractional has homepage_url and type journal\n"
     ]
    },
    {
     "name": "stderr",
     "output_type": "stream",
     "text": [
      " 30%|████████████████████▊                                                 | 557/1868 [06:08<13:37,  1.60it/s]"
     ]
    },
    {
     "name": "stdout",
     "output_type": "stream",
     "text": [
      "iScience has homepage_url and type journal\n"
     ]
    },
    {
     "name": "stderr",
     "output_type": "stream",
     "text": [
      " 30%|████████████████████▉                                                 | 558/1868 [06:09<12:41,  1.72it/s]"
     ]
    },
    {
     "name": "stdout",
     "output_type": "stream",
     "text": [
      "Utilities policy has homepage_url and type journal\n"
     ]
    },
    {
     "name": "stderr",
     "output_type": "stream",
     "text": [
      " 30%|████████████████████▉                                                 | 559/1868 [06:09<12:02,  1.81it/s]"
     ]
    },
    {
     "name": "stdout",
     "output_type": "stream",
     "text": [
      "Transactions of the Association for Computational Linguistics has homepage_url and type journal\n"
     ]
    },
    {
     "name": "stderr",
     "output_type": "stream",
     "text": [
      " 30%|█████████████████████                                                 | 561/1868 [06:10<13:33,  1.61it/s]"
     ]
    },
    {
     "name": "stdout",
     "output_type": "stream",
     "text": [
      "Mathematics has homepage_url and type journal\n"
     ]
    },
    {
     "name": "stderr",
     "output_type": "stream",
     "text": [
      " 30%|█████████████████████▏                                                | 565/1868 [06:12<11:32,  1.88it/s]"
     ]
    },
    {
     "name": "stdout",
     "output_type": "stream",
     "text": [
      "Technology in society has homepage_url and type journal\n"
     ]
    },
    {
     "name": "stderr",
     "output_type": "stream",
     "text": [
      " 30%|█████████████████████▏                                                | 566/1868 [06:13<11:16,  1.93it/s]"
     ]
    },
    {
     "name": "stdout",
     "output_type": "stream",
     "text": [
      "Journal of power sources has homepage_url and type journal\n"
     ]
    },
    {
     "name": "stderr",
     "output_type": "stream",
     "text": [
      " 30%|█████████████████████▎                                                | 568/1868 [06:15<15:15,  1.42it/s]"
     ]
    },
    {
     "name": "stdout",
     "output_type": "stream",
     "text": [
      "Egyptian Informatics Journal/Egyptian Informatics Journal  has homepage_url and type journal\n"
     ]
    },
    {
     "name": "stderr",
     "output_type": "stream",
     "text": [
      " 30%|█████████████████████▎                                                | 569/1868 [06:15<13:37,  1.59it/s]"
     ]
    },
    {
     "name": "stdout",
     "output_type": "stream",
     "text": [
      "ACM transactions on computer-human interaction has homepage_url and type journal\n"
     ]
    },
    {
     "name": "stderr",
     "output_type": "stream",
     "text": [
      " 31%|█████████████████████▎                                                | 570/1868 [06:16<12:40,  1.71it/s]"
     ]
    },
    {
     "name": "stdout",
     "output_type": "stream",
     "text": [
      "Frontiers in earth science has homepage_url and type journal\n"
     ]
    },
    {
     "name": "stderr",
     "output_type": "stream",
     "text": [
      " 31%|█████████████████████▍                                                | 573/1868 [06:17<10:39,  2.02it/s]"
     ]
    },
    {
     "name": "stdout",
     "output_type": "stream",
     "text": [
      "Briefings in bioinformatics has homepage_url and type journal\n"
     ]
    },
    {
     "name": "stderr",
     "output_type": "stream",
     "text": [
      " 31%|█████████████████████▌                                                | 575/1868 [06:18<10:15,  2.10it/s]"
     ]
    },
    {
     "name": "stdout",
     "output_type": "stream",
     "text": [
      "Transactions on emerging telecommunications technologies has homepage_url and type journal\n"
     ]
    },
    {
     "name": "stderr",
     "output_type": "stream",
     "text": [
      " 31%|█████████████████████▌                                                | 576/1868 [06:19<13:06,  1.64it/s]"
     ]
    },
    {
     "name": "stdout",
     "output_type": "stream",
     "text": [
      "International journal of advanced robotic systems has homepage_url and type journal\n"
     ]
    },
    {
     "name": "stderr",
     "output_type": "stream",
     "text": [
      " 31%|█████████████████████▌                                                | 577/1868 [06:19<12:23,  1.74it/s]"
     ]
    },
    {
     "name": "stdout",
     "output_type": "stream",
     "text": [
      "Drones has homepage_url and type journal\n"
     ]
    },
    {
     "name": "stderr",
     "output_type": "stream",
     "text": [
      " 31%|█████████████████████▋                                                | 578/1868 [06:20<12:58,  1.66it/s]"
     ]
    },
    {
     "name": "stdout",
     "output_type": "stream",
     "text": [
      "Advanced intelligent systems has homepage_url and type journal\n"
     ]
    },
    {
     "name": "stderr",
     "output_type": "stream",
     "text": [
      " 31%|█████████████████████▋                                                | 579/1868 [06:21<16:34,  1.30it/s]"
     ]
    },
    {
     "name": "stdout",
     "output_type": "stream",
     "text": [
      "Fuzzy sets and systems has homepage_url and type journal\n"
     ]
    },
    {
     "name": "stderr",
     "output_type": "stream",
     "text": [
      " 31%|█████████████████████▊                                                | 581/1868 [06:23<16:30,  1.30it/s]"
     ]
    },
    {
     "name": "stdout",
     "output_type": "stream",
     "text": [
      "Sustainable computing has homepage_url and type journal\n"
     ]
    },
    {
     "name": "stderr",
     "output_type": "stream",
     "text": [
      " 31%|█████████████████████▊                                                | 582/1868 [06:23<14:32,  1.47it/s]"
     ]
    },
    {
     "name": "stdout",
     "output_type": "stream",
     "text": [
      "IEEE open journal of the Communications Society has homepage_url and type journal\n"
     ]
    },
    {
     "name": "stderr",
     "output_type": "stream",
     "text": [
      " 31%|█████████████████████▊                                                | 583/1868 [06:24<13:14,  1.62it/s]"
     ]
    },
    {
     "name": "stdout",
     "output_type": "stream",
     "text": [
      "Results in engineering has homepage_url and type journal\n"
     ]
    },
    {
     "name": "stderr",
     "output_type": "stream",
     "text": [
      " 31%|█████████████████████▉                                                | 584/1868 [06:24<12:25,  1.72it/s]"
     ]
    },
    {
     "name": "stdout",
     "output_type": "stream",
     "text": [
      "Advanced quantum technologies has homepage_url and type journal\n"
     ]
    },
    {
     "name": "stderr",
     "output_type": "stream",
     "text": [
      " 31%|█████████████████████▉                                                | 586/1868 [06:25<12:00,  1.78it/s]"
     ]
    },
    {
     "name": "stdout",
     "output_type": "stream",
     "text": [
      "Mikrochimica acta has homepage_url and type journal\n"
     ]
    },
    {
     "name": "stderr",
     "output_type": "stream",
     "text": [
      " 31%|██████████████████████                                                | 588/1868 [06:26<11:45,  1.81it/s]"
     ]
    },
    {
     "name": "stdout",
     "output_type": "stream",
     "text": [
      "Physical chemistry chemical physics/PCCP. Physical chemistry chemical physics has homepage_url and type journal\n"
     ]
    },
    {
     "name": "stderr",
     "output_type": "stream",
     "text": [
      " 32%|██████████████████████                                                | 589/1868 [06:27<11:34,  1.84it/s]"
     ]
    },
    {
     "name": "stdout",
     "output_type": "stream",
     "text": [
      "Applied Ergonomics/Applied ergonomics has homepage_url and type journal\n"
     ]
    },
    {
     "name": "stderr",
     "output_type": "stream",
     "text": [
      " 32%|██████████████████████                                                | 590/1868 [06:28<13:00,  1.64it/s]"
     ]
    },
    {
     "name": "stdout",
     "output_type": "stream",
     "text": [
      "Materials has homepage_url and type journal\n"
     ]
    },
    {
     "name": "stderr",
     "output_type": "stream",
     "text": [
      " 32%|██████████████████████▏                                               | 591/1868 [06:28<12:25,  1.71it/s]"
     ]
    },
    {
     "name": "stdout",
     "output_type": "stream",
     "text": [
      "Entropy has homepage_url and type journal\n"
     ]
    },
    {
     "name": "stderr",
     "output_type": "stream",
     "text": [
      " 32%|██████████████████████▏                                               | 592/1868 [06:29<11:47,  1.80it/s]"
     ]
    },
    {
     "name": "stdout",
     "output_type": "stream",
     "text": [
      "Lasers in medical science has homepage_url and type journal\n"
     ]
    },
    {
     "name": "stderr",
     "output_type": "stream",
     "text": [
      " 32%|██████████████████████▏                                               | 593/1868 [06:29<11:39,  1.82it/s]"
     ]
    },
    {
     "name": "stdout",
     "output_type": "stream",
     "text": [
      "Frontiers in physics has homepage_url and type journal\n"
     ]
    },
    {
     "name": "stderr",
     "output_type": "stream",
     "text": [
      " 32%|██████████████████████▎                                               | 594/1868 [06:30<12:24,  1.71it/s]"
     ]
    },
    {
     "name": "stdout",
     "output_type": "stream",
     "text": [
      "Brain sciences has homepage_url and type journal\n"
     ]
    },
    {
     "name": "stderr",
     "output_type": "stream",
     "text": [
      " 32%|██████████████████████▎                                               | 596/1868 [06:31<11:12,  1.89it/s]"
     ]
    },
    {
     "name": "stdout",
     "output_type": "stream",
     "text": [
      "International journal of antennas and propagation has homepage_url and type journal\n"
     ]
    },
    {
     "name": "stderr",
     "output_type": "stream",
     "text": [
      " 32%|██████████████████████▎                                               | 597/1868 [06:31<10:57,  1.93it/s]"
     ]
    },
    {
     "name": "stdout",
     "output_type": "stream",
     "text": [
      "Frontiers in aging neuroscience has homepage_url and type journal\n"
     ]
    },
    {
     "name": "stderr",
     "output_type": "stream",
     "text": [
      " 32%|██████████████████████▍                                               | 598/1868 [06:32<10:58,  1.93it/s]"
     ]
    },
    {
     "name": "stdout",
     "output_type": "stream",
     "text": [
      "Annals of operation research/Annals of operations research has homepage_url and type journal\n"
     ]
    },
    {
     "name": "stderr",
     "output_type": "stream",
     "text": [
      " 32%|██████████████████████▍                                               | 599/1868 [06:32<10:38,  1.99it/s]"
     ]
    },
    {
     "name": "stdout",
     "output_type": "stream",
     "text": [
      "Information resources management journal has homepage_url and type journal\n"
     ]
    },
    {
     "name": "stderr",
     "output_type": "stream",
     "text": [
      " 32%|██████████████████████▍                                               | 600/1868 [06:33<11:27,  1.84it/s]"
     ]
    },
    {
     "name": "stdout",
     "output_type": "stream",
     "text": [
      "Nature computational science has homepage_url and type journal\n"
     ]
    },
    {
     "name": "stderr",
     "output_type": "stream",
     "text": [
      " 32%|██████████████████████▌                                               | 601/1868 [06:34<16:56,  1.25it/s]"
     ]
    },
    {
     "name": "stdout",
     "output_type": "stream",
     "text": [
      "The journal of physical chemistry. B has homepage_url and type journal\n"
     ]
    },
    {
     "name": "stderr",
     "output_type": "stream",
     "text": [
      " 32%|██████████████████████▌                                               | 602/1868 [06:35<15:18,  1.38it/s]"
     ]
    },
    {
     "name": "stdout",
     "output_type": "stream",
     "text": [
      "Communications in computer and information science has homepage_url and type book series\n"
     ]
    },
    {
     "name": "stderr",
     "output_type": "stream",
     "text": [
      " 32%|██████████████████████▋                                               | 604/1868 [06:37<17:50,  1.18it/s]"
     ]
    },
    {
     "name": "stdout",
     "output_type": "stream",
     "text": [
      "International journal of technology management has homepage_url and type journal\n"
     ]
    },
    {
     "name": "stderr",
     "output_type": "stream",
     "text": [
      " 32%|██████████████████████▋                                               | 607/1868 [06:38<12:59,  1.62it/s]"
     ]
    },
    {
     "name": "stdout",
     "output_type": "stream",
     "text": [
      "IEEE networking letters has homepage_url and type journal\n"
     ]
    },
    {
     "name": "stderr",
     "output_type": "stream",
     "text": [
      " 33%|██████████████████████▊                                               | 610/1868 [06:40<11:29,  1.82it/s]"
     ]
    },
    {
     "name": "stdout",
     "output_type": "stream",
     "text": [
      "BMC Microbiology has homepage_url and type journal\n"
     ]
    },
    {
     "name": "stderr",
     "output_type": "stream",
     "text": [
      " 33%|██████████████████████▉                                               | 611/1868 [06:40<11:07,  1.88it/s]"
     ]
    },
    {
     "name": "stdout",
     "output_type": "stream",
     "text": [
      "Automatica has homepage_url and type journal\n"
     ]
    },
    {
     "name": "stderr",
     "output_type": "stream",
     "text": [
      " 33%|███████████████████████                                               | 614/1868 [06:42<14:02,  1.49it/s]"
     ]
    },
    {
     "name": "stdout",
     "output_type": "stream",
     "text": [
      "Journal of manufacturing systems has homepage_url and type journal\n"
     ]
    },
    {
     "name": "stderr",
     "output_type": "stream",
     "text": [
      " 33%|███████████████████████                                               | 615/1868 [06:43<18:31,  1.13it/s]"
     ]
    },
    {
     "name": "stdout",
     "output_type": "stream",
     "text": [
      "Polymers has homepage_url and type journal\n"
     ]
    },
    {
     "name": "stderr",
     "output_type": "stream",
     "text": [
      " 33%|███████████████████████                                               | 617/1868 [06:45<18:16,  1.14it/s]"
     ]
    },
    {
     "name": "stdout",
     "output_type": "stream",
     "text": [
      "Applied optics has homepage_url and type journal\n"
     ]
    },
    {
     "name": "stderr",
     "output_type": "stream",
     "text": [
      " 33%|███████████████████████▏                                              | 618/1868 [06:46<15:45,  1.32it/s]"
     ]
    },
    {
     "name": "stdout",
     "output_type": "stream",
     "text": [
      "ACS omega has homepage_url and type journal\n"
     ]
    },
    {
     "name": "stderr",
     "output_type": "stream",
     "text": [
      " 33%|███████████████████████▏                                              | 619/1868 [06:46<14:10,  1.47it/s]"
     ]
    },
    {
     "name": "stdout",
     "output_type": "stream",
     "text": [
      "The visual computer/The visual computer has homepage_url and type journal\n"
     ]
    },
    {
     "name": "stderr",
     "output_type": "stream",
     "text": [
      " 33%|███████████████████████▎                                              | 621/1868 [06:47<14:51,  1.40it/s]"
     ]
    },
    {
     "name": "stdout",
     "output_type": "stream",
     "text": [
      "Behavioral sciences has homepage_url and type journal\n"
     ]
    },
    {
     "name": "stderr",
     "output_type": "stream",
     "text": [
      " 33%|███████████████████████▍                                              | 624/1868 [06:49<11:20,  1.83it/s]"
     ]
    },
    {
     "name": "stdout",
     "output_type": "stream",
     "text": [
      "Superlattices and microstructures has homepage_url and type journal\n"
     ]
    },
    {
     "name": "stderr",
     "output_type": "stream",
     "text": [
      " 33%|███████████████████████▍                                              | 625/1868 [06:49<11:19,  1.83it/s]"
     ]
    },
    {
     "name": "stdout",
     "output_type": "stream",
     "text": [
      "Journal of environmental planning and management has homepage_url and type journal\n"
     ]
    },
    {
     "name": "stderr",
     "output_type": "stream",
     "text": [
      " 34%|███████████████████████▍                                              | 626/1868 [06:50<11:27,  1.81it/s]"
     ]
    },
    {
     "name": "stdout",
     "output_type": "stream",
     "text": [
      "Computer assisted language learning has homepage_url and type journal\n"
     ]
    },
    {
     "name": "stderr",
     "output_type": "stream",
     "text": [
      " 34%|███████████████████████▍                                              | 627/1868 [06:50<10:59,  1.88it/s]"
     ]
    },
    {
     "name": "stdout",
     "output_type": "stream",
     "text": [
      "Journal of luminescence has homepage_url and type journal\n"
     ]
    },
    {
     "name": "stderr",
     "output_type": "stream",
     "text": [
      " 34%|███████████████████████▌                                              | 629/1868 [06:51<10:14,  2.02it/s]"
     ]
    },
    {
     "name": "stdout",
     "output_type": "stream",
     "text": [
      "Journal of systems and software/The Journal of systems and software has homepage_url and type journal\n"
     ]
    },
    {
     "name": "stderr",
     "output_type": "stream",
     "text": [
      " 34%|███████████████████████▌                                              | 630/1868 [06:53<14:25,  1.43it/s]"
     ]
    },
    {
     "name": "stdout",
     "output_type": "stream",
     "text": [
      "Food control has homepage_url and type journal\n"
     ]
    },
    {
     "name": "stderr",
     "output_type": "stream",
     "text": [
      " 34%|███████████████████████▋                                              | 631/1868 [06:53<13:11,  1.56it/s]"
     ]
    },
    {
     "name": "stdout",
     "output_type": "stream",
     "text": [
      "ACM transactions on sensor networks has homepage_url and type journal\n"
     ]
    },
    {
     "name": "stderr",
     "output_type": "stream",
     "text": [
      " 34%|███████████████████████▋                                              | 632/1868 [06:54<12:30,  1.65it/s]"
     ]
    },
    {
     "name": "stdout",
     "output_type": "stream",
     "text": [
      "EURASIP Journal on wireless communications and networking has homepage_url and type journal\n"
     ]
    },
    {
     "name": "stderr",
     "output_type": "stream",
     "text": [
      " 34%|███████████████████████▊                                              | 634/1868 [06:55<11:32,  1.78it/s]"
     ]
    },
    {
     "name": "stdout",
     "output_type": "stream",
     "text": [
      "Physical review. E has homepage_url and type journal\n"
     ]
    },
    {
     "name": "stderr",
     "output_type": "stream",
     "text": [
      " 34%|███████████████████████▊                                              | 635/1868 [06:55<10:54,  1.88it/s]"
     ]
    },
    {
     "name": "stdout",
     "output_type": "stream",
     "text": [
      "IEEE Open Journal of Antennas and Propagation has homepage_url and type journal\n"
     ]
    },
    {
     "name": "stderr",
     "output_type": "stream",
     "text": [
      " 34%|███████████████████████▊                                              | 636/1868 [06:56<11:03,  1.86it/s]"
     ]
    },
    {
     "name": "stdout",
     "output_type": "stream",
     "text": [
      "Science China. Materials has homepage_url and type journal\n"
     ]
    },
    {
     "name": "stderr",
     "output_type": "stream",
     "text": [
      " 34%|███████████████████████▊                                              | 637/1868 [06:56<10:49,  1.90it/s]"
     ]
    },
    {
     "name": "stdout",
     "output_type": "stream",
     "text": [
      "Entertainment computing has homepage_url and type journal\n"
     ]
    },
    {
     "name": "stderr",
     "output_type": "stream",
     "text": [
      " 34%|███████████████████████▉                                              | 640/1868 [06:57<09:56,  2.06it/s]"
     ]
    },
    {
     "name": "stdout",
     "output_type": "stream",
     "text": [
      "Social science quarterly has homepage_url and type journal\n"
     ]
    },
    {
     "name": "stderr",
     "output_type": "stream",
     "text": [
      " 34%|████████████████████████                                              | 641/1868 [06:58<09:54,  2.06it/s]"
     ]
    },
    {
     "name": "stdout",
     "output_type": "stream",
     "text": [
      "Journal of materials chemistry. B has homepage_url and type journal\n"
     ]
    },
    {
     "name": "stderr",
     "output_type": "stream",
     "text": [
      " 34%|████████████████████████                                              | 642/1868 [06:59<10:27,  1.95it/s]"
     ]
    },
    {
     "name": "stdout",
     "output_type": "stream",
     "text": [
      "Journal of electromagnetic waves and applications has homepage_url and type journal\n"
     ]
    },
    {
     "name": "stderr",
     "output_type": "stream",
     "text": [
      " 34%|████████████████████████                                              | 643/1868 [06:59<11:24,  1.79it/s]"
     ]
    },
    {
     "name": "stdout",
     "output_type": "stream",
     "text": [
      "Applied numerical mathematics has homepage_url and type journal\n"
     ]
    },
    {
     "name": "stderr",
     "output_type": "stream",
     "text": [
      " 34%|████████████████████████▏                                             | 644/1868 [07:00<11:17,  1.81it/s]"
     ]
    },
    {
     "name": "stdout",
     "output_type": "stream",
     "text": [
      "IETE Technical Review/IETE technical review has homepage_url and type journal\n"
     ]
    },
    {
     "name": "stderr",
     "output_type": "stream",
     "text": [
      " 35%|████████████████████████▏                                             | 646/1868 [07:01<10:41,  1.90it/s]"
     ]
    },
    {
     "name": "stdout",
     "output_type": "stream",
     "text": [
      "International journal of production research has homepage_url and type journal\n"
     ]
    },
    {
     "name": "stderr",
     "output_type": "stream",
     "text": [
      " 35%|████████████████████████▎                                             | 648/1868 [07:02<10:34,  1.92it/s]"
     ]
    },
    {
     "name": "stdout",
     "output_type": "stream",
     "text": [
      "Complementary therapies in medicine has homepage_url and type journal\n"
     ]
    },
    {
     "name": "stderr",
     "output_type": "stream",
     "text": [
      " 35%|████████████████████████▍                                             | 651/1868 [07:03<11:22,  1.78it/s]"
     ]
    },
    {
     "name": "stdout",
     "output_type": "stream",
     "text": [
      "Machines has homepage_url and type journal\n"
     ]
    },
    {
     "name": "stderr",
     "output_type": "stream",
     "text": [
      " 35%|████████████████████████▍                                             | 652/1868 [07:04<10:55,  1.86it/s]"
     ]
    },
    {
     "name": "stdout",
     "output_type": "stream",
     "text": [
      "Neuroscience Bulletin/Neuroscience bulletin has homepage_url and type journal\n"
     ]
    },
    {
     "name": "stderr",
     "output_type": "stream",
     "text": [
      " 35%|████████████████████████▍                                             | 653/1868 [07:05<13:27,  1.50it/s]"
     ]
    },
    {
     "name": "stdout",
     "output_type": "stream",
     "text": [
      "Journal of healthcare engineering has homepage_url and type journal\n"
     ]
    },
    {
     "name": "stderr",
     "output_type": "stream",
     "text": [
      " 35%|████████████████████████▌                                             | 654/1868 [07:06<16:45,  1.21it/s]"
     ]
    },
    {
     "name": "stdout",
     "output_type": "stream",
     "text": [
      "International journal of logistics has homepage_url and type journal\n"
     ]
    },
    {
     "name": "stderr",
     "output_type": "stream",
     "text": [
      " 35%|████████████████████████▌                                             | 655/1868 [07:07<14:37,  1.38it/s]"
     ]
    },
    {
     "name": "stdout",
     "output_type": "stream",
     "text": [
      "IEEE transactions on emerging topics in computational intelligence has homepage_url and type journal\n"
     ]
    },
    {
     "name": "stderr",
     "output_type": "stream",
     "text": [
      " 35%|████████████████████████▋                                             | 659/1868 [07:08<10:49,  1.86it/s]"
     ]
    },
    {
     "name": "stdout",
     "output_type": "stream",
     "text": [
      "Journal of occupational and organizational psychology has homepage_url and type journal\n"
     ]
    },
    {
     "name": "stderr",
     "output_type": "stream",
     "text": [
      " 35%|████████████████████████▋                                             | 660/1868 [07:09<10:40,  1.89it/s]"
     ]
    },
    {
     "name": "stdout",
     "output_type": "stream",
     "text": [
      "Physica status solidi. Rapid research letters has homepage_url and type journal\n"
     ]
    },
    {
     "name": "stderr",
     "output_type": "stream",
     "text": [
      " 35%|████████████████████████▊                                             | 662/1868 [07:10<10:14,  1.96it/s]"
     ]
    },
    {
     "name": "stdout",
     "output_type": "stream",
     "text": [
      "The Astrophysical journal. Supplement series/Astrophysical journal. Supplement series has homepage_url and type journal\n"
     ]
    },
    {
     "name": "stderr",
     "output_type": "stream",
     "text": [
      " 35%|████████████████████████▊                                             | 663/1868 [07:10<09:59,  2.01it/s]"
     ]
    },
    {
     "name": "stdout",
     "output_type": "stream",
     "text": [
      "Biomedical optics express has homepage_url and type journal\n"
     ]
    },
    {
     "name": "stderr",
     "output_type": "stream",
     "text": [
      " 36%|████████████████████████▉                                             | 665/1868 [07:11<09:45,  2.05it/s]"
     ]
    },
    {
     "name": "stdout",
     "output_type": "stream",
     "text": [
      "Research Square (Research Square) has homepage_url and type repository\n"
     ]
    },
    {
     "name": "stderr",
     "output_type": "stream",
     "text": [
      " 36%|████████████████████████▉                                             | 666/1868 [07:12<10:32,  1.90it/s]"
     ]
    },
    {
     "name": "stdout",
     "output_type": "stream",
     "text": [
      "Materials chemistry and physics has homepage_url and type journal\n"
     ]
    },
    {
     "name": "stderr",
     "output_type": "stream",
     "text": [
      " 36%|█████████████████████████                                             | 669/1868 [07:14<12:46,  1.57it/s]"
     ]
    },
    {
     "name": "stdout",
     "output_type": "stream",
     "text": [
      "International journal of hospitality management has homepage_url and type journal\n"
     ]
    },
    {
     "name": "stderr",
     "output_type": "stream",
     "text": [
      " 36%|█████████████████████████                                             | 670/1868 [07:14<11:52,  1.68it/s]"
     ]
    },
    {
     "name": "stdout",
     "output_type": "stream",
     "text": [
      "IEEE transactions on software engineering has homepage_url and type journal\n"
     ]
    },
    {
     "name": "stderr",
     "output_type": "stream",
     "text": [
      " 36%|█████████████████████████▏                                            | 671/1868 [07:15<11:24,  1.75it/s]"
     ]
    },
    {
     "name": "stdout",
     "output_type": "stream",
     "text": [
      "Annual reviews in control has homepage_url and type journal\n"
     ]
    },
    {
     "name": "stderr",
     "output_type": "stream",
     "text": [
      " 36%|█████████████████████████▏                                            | 672/1868 [07:16<12:04,  1.65it/s]"
     ]
    },
    {
     "name": "stdout",
     "output_type": "stream",
     "text": [
      "Journal of aerospace engineering has homepage_url and type journal\n"
     ]
    },
    {
     "name": "stderr",
     "output_type": "stream",
     "text": [
      " 36%|█████████████████████████▏                                            | 673/1868 [07:16<11:28,  1.74it/s]"
     ]
    },
    {
     "name": "stdout",
     "output_type": "stream",
     "text": [
      "International journal of human-computer studies has homepage_url and type journal\n"
     ]
    },
    {
     "name": "stderr",
     "output_type": "stream",
     "text": [
      " 36%|█████████████████████████▎                                            | 674/1868 [07:17<12:51,  1.55it/s]"
     ]
    },
    {
     "name": "stdout",
     "output_type": "stream",
     "text": [
      "Satellite Navigation has homepage_url and type journal\n"
     ]
    },
    {
     "name": "stderr",
     "output_type": "stream",
     "text": [
      " 36%|█████████████████████████▎                                            | 675/1868 [07:17<11:47,  1.69it/s]"
     ]
    },
    {
     "name": "stdout",
     "output_type": "stream",
     "text": [
      "JMIR public health and surveillance has homepage_url and type journal\n"
     ]
    },
    {
     "name": "stderr",
     "output_type": "stream",
     "text": [
      " 36%|█████████████████████████▎                                            | 676/1868 [07:18<13:03,  1.52it/s]"
     ]
    },
    {
     "name": "stdout",
     "output_type": "stream",
     "text": [
      "Journal of business research has homepage_url and type journal\n"
     ]
    },
    {
     "name": "stderr",
     "output_type": "stream",
     "text": [
      " 36%|█████████████████████████▎                                            | 677/1868 [07:19<15:46,  1.26it/s]"
     ]
    },
    {
     "name": "stdout",
     "output_type": "stream",
     "text": [
      "Theoretical computer science has homepage_url and type journal\n"
     ]
    },
    {
     "name": "stderr",
     "output_type": "stream",
     "text": [
      " 36%|█████████████████████████▍                                            | 678/1868 [07:20<14:03,  1.41it/s]"
     ]
    },
    {
     "name": "stdout",
     "output_type": "stream",
     "text": [
      "Applied physics express has homepage_url and type journal\n"
     ]
    },
    {
     "name": "stderr",
     "output_type": "stream",
     "text": [
      " 36%|█████████████████████████▍                                            | 679/1868 [07:20<12:57,  1.53it/s]"
     ]
    },
    {
     "name": "stdout",
     "output_type": "stream",
     "text": [
      "Journal of environmental and public health has homepage_url and type journal\n"
     ]
    },
    {
     "name": "stderr",
     "output_type": "stream",
     "text": [
      " 36%|█████████████████████████▍                                            | 680/1868 [07:21<16:03,  1.23it/s]"
     ]
    },
    {
     "name": "stdout",
     "output_type": "stream",
     "text": [
      "Actuators has homepage_url and type journal\n"
     ]
    },
    {
     "name": "stderr",
     "output_type": "stream",
     "text": [
      " 36%|█████████████████████████▌                                            | 681/1868 [07:22<14:17,  1.38it/s]"
     ]
    },
    {
     "name": "stdout",
     "output_type": "stream",
     "text": [
      "Quantitative imaging in medicine and surgery has homepage_url and type journal\n"
     ]
    },
    {
     "name": "stderr",
     "output_type": "stream",
     "text": [
      " 37%|█████████████████████████▌                                            | 682/1868 [07:23<15:49,  1.25it/s]"
     ]
    },
    {
     "name": "stdout",
     "output_type": "stream",
     "text": [
      "Journal of water resources planning and management has homepage_url and type journal\n"
     ]
    },
    {
     "name": "stderr",
     "output_type": "stream",
     "text": [
      " 37%|█████████████████████████▌                                            | 683/1868 [07:24<18:39,  1.06it/s]"
     ]
    },
    {
     "name": "stdout",
     "output_type": "stream",
     "text": [
      "Algorithms has homepage_url and type journal\n"
     ]
    },
    {
     "name": "stderr",
     "output_type": "stream",
     "text": [
      " 37%|█████████████████████████▋                                            | 684/1868 [07:25<16:12,  1.22it/s]"
     ]
    },
    {
     "name": "stdout",
     "output_type": "stream",
     "text": [
      "Journal of geometric analysis/The Journal of geometric analysis has homepage_url and type journal\n"
     ]
    },
    {
     "name": "stderr",
     "output_type": "stream",
     "text": [
      " 37%|█████████████████████████▋                                            | 685/1868 [07:26<18:38,  1.06it/s]"
     ]
    },
    {
     "name": "stdout",
     "output_type": "stream",
     "text": [
      "Defence technology has homepage_url and type journal\n"
     ]
    },
    {
     "name": "stderr",
     "output_type": "stream",
     "text": [
      " 37%|█████████████████████████▋                                            | 686/1868 [07:26<15:51,  1.24it/s]"
     ]
    },
    {
     "name": "stdout",
     "output_type": "stream",
     "text": [
      "Journal of physics and chemistry of solids has homepage_url and type journal\n"
     ]
    },
    {
     "name": "stderr",
     "output_type": "stream",
     "text": [
      " 37%|█████████████████████████▋                                            | 687/1868 [07:27<13:48,  1.43it/s]"
     ]
    },
    {
     "name": "stdout",
     "output_type": "stream",
     "text": [
      "Educational technology research and development has homepage_url and type journal\n"
     ]
    },
    {
     "name": "stderr",
     "output_type": "stream",
     "text": [
      " 37%|█████████████████████████▊                                            | 688/1868 [07:27<12:29,  1.58it/s]"
     ]
    },
    {
     "name": "stdout",
     "output_type": "stream",
     "text": [
      "Human brain mapping has homepage_url and type journal\n"
     ]
    },
    {
     "name": "stderr",
     "output_type": "stream",
     "text": [
      " 37%|█████████████████████████▊                                            | 689/1868 [07:28<12:44,  1.54it/s]"
     ]
    },
    {
     "name": "stdout",
     "output_type": "stream",
     "text": [
      "Heritage science has homepage_url and type journal\n"
     ]
    },
    {
     "name": "stderr",
     "output_type": "stream",
     "text": [
      " 37%|█████████████████████████▉                                            | 691/1868 [07:29<11:17,  1.74it/s]"
     ]
    },
    {
     "name": "stdout",
     "output_type": "stream",
     "text": [
      "IET blockchain has homepage_url and type journal\n"
     ]
    },
    {
     "name": "stderr",
     "output_type": "stream",
     "text": [
      " 37%|█████████████████████████▉                                            | 692/1868 [07:30<14:30,  1.35it/s]"
     ]
    },
    {
     "name": "stdout",
     "output_type": "stream",
     "text": [
      "Engineering reports has homepage_url and type journal\n"
     ]
    },
    {
     "name": "stderr",
     "output_type": "stream",
     "text": [
      " 37%|█████████████████████████▉                                            | 693/1868 [07:31<13:08,  1.49it/s]"
     ]
    },
    {
     "name": "stdout",
     "output_type": "stream",
     "text": [
      "Journal of wind engineering and industrial aerodynamics has homepage_url and type journal\n"
     ]
    },
    {
     "name": "stderr",
     "output_type": "stream",
     "text": [
      " 37%|██████████████████████████                                            | 694/1868 [07:31<12:46,  1.53it/s]"
     ]
    },
    {
     "name": "stdout",
     "output_type": "stream",
     "text": [
      "BMC medicine has homepage_url and type journal\n"
     ]
    },
    {
     "name": "stderr",
     "output_type": "stream",
     "text": [
      " 37%|██████████████████████████                                            | 695/1868 [07:32<11:39,  1.68it/s]"
     ]
    },
    {
     "name": "stdout",
     "output_type": "stream",
     "text": [
      "JAMA network open has homepage_url and type journal\n"
     ]
    },
    {
     "name": "stderr",
     "output_type": "stream",
     "text": [
      " 37%|██████████████████████████                                            | 696/1868 [07:32<11:10,  1.75it/s]"
     ]
    },
    {
     "name": "stdout",
     "output_type": "stream",
     "text": [
      "SAGE open has homepage_url and type journal\n"
     ]
    },
    {
     "name": "stderr",
     "output_type": "stream",
     "text": [
      " 37%|██████████████████████████                                            | 697/1868 [07:33<13:46,  1.42it/s]"
     ]
    },
    {
     "name": "stdout",
     "output_type": "stream",
     "text": [
      "Journal of strategic marketing has homepage_url and type journal\n"
     ]
    },
    {
     "name": "stderr",
     "output_type": "stream",
     "text": [
      " 37%|██████████████████████████▏                                           | 698/1868 [07:34<12:23,  1.57it/s]"
     ]
    },
    {
     "name": "stdout",
     "output_type": "stream",
     "text": [
      "EURASIP Journal on Advances in Signal Processing has homepage_url and type journal\n"
     ]
    },
    {
     "name": "stderr",
     "output_type": "stream",
     "text": [
      " 37%|██████████████████████████▏                                           | 699/1868 [07:34<11:32,  1.69it/s]"
     ]
    },
    {
     "name": "stdout",
     "output_type": "stream",
     "text": [
      "ACS sensors has homepage_url and type journal\n"
     ]
    },
    {
     "name": "stderr",
     "output_type": "stream",
     "text": [
      " 37%|██████████████████████████▏                                           | 700/1868 [07:35<13:04,  1.49it/s]"
     ]
    },
    {
     "name": "stdout",
     "output_type": "stream",
     "text": [
      "Communications engineering has homepage_url and type journal\n"
     ]
    },
    {
     "name": "stderr",
     "output_type": "stream",
     "text": [
      " 38%|██████████████████████████▎                                           | 701/1868 [07:36<12:01,  1.62it/s]"
     ]
    },
    {
     "name": "stdout",
     "output_type": "stream",
     "text": [
      "Social behavior and personality has homepage_url and type journal\n"
     ]
    },
    {
     "name": "stderr",
     "output_type": "stream",
     "text": [
      " 38%|██████████████████████████▎                                           | 702/1868 [07:36<12:38,  1.54it/s]"
     ]
    },
    {
     "name": "stdout",
     "output_type": "stream",
     "text": [
      "Optical engineering has homepage_url and type journal\n"
     ]
    },
    {
     "name": "stderr",
     "output_type": "stream",
     "text": [
      " 38%|██████████████████████████▍                                           | 704/1868 [07:37<10:43,  1.81it/s]"
     ]
    },
    {
     "name": "stdout",
     "output_type": "stream",
     "text": [
      "Interdisciplinary description of complex systems has homepage_url and type journal\n"
     ]
    },
    {
     "name": "stderr",
     "output_type": "stream",
     "text": [
      " 38%|██████████████████████████▍                                           | 705/1868 [07:38<10:22,  1.87it/s]"
     ]
    },
    {
     "name": "stdout",
     "output_type": "stream",
     "text": [
      "Organic electronics has homepage_url and type journal\n"
     ]
    },
    {
     "name": "stderr",
     "output_type": "stream",
     "text": [
      " 38%|██████████████████████████▍                                           | 707/1868 [07:40<14:32,  1.33it/s]"
     ]
    },
    {
     "name": "stdout",
     "output_type": "stream",
     "text": [
      "Complexity has homepage_url and type journal\n"
     ]
    },
    {
     "name": "stderr",
     "output_type": "stream",
     "text": [
      " 38%|██████████████████████████▌                                           | 708/1868 [07:40<13:16,  1.46it/s]"
     ]
    },
    {
     "name": "stdout",
     "output_type": "stream",
     "text": [
      "Advances in developing human resources has homepage_url and type journal\n"
     ]
    },
    {
     "name": "stderr",
     "output_type": "stream",
     "text": [
      " 38%|██████████████████████████▌                                           | 709/1868 [07:41<12:02,  1.60it/s]"
     ]
    },
    {
     "name": "stdout",
     "output_type": "stream",
     "text": [
      "International journal of enterprise information systems has homepage_url and type journal\n"
     ]
    },
    {
     "name": "stderr",
     "output_type": "stream",
     "text": [
      " 38%|██████████████████████████▌                                           | 710/1868 [07:42<15:10,  1.27it/s]"
     ]
    },
    {
     "name": "stdout",
     "output_type": "stream",
     "text": [
      "Health information science and systems has homepage_url and type journal\n"
     ]
    },
    {
     "name": "stderr",
     "output_type": "stream",
     "text": [
      " 38%|██████████████████████████▋                                           | 712/1868 [07:43<12:00,  1.60it/s]"
     ]
    },
    {
     "name": "stdout",
     "output_type": "stream",
     "text": [
      "Journal of innovative optical health sciences/Journal of innovation in optical health science has homepage_url and type journal\n"
     ]
    },
    {
     "name": "stderr",
     "output_type": "stream",
     "text": [
      " 38%|██████████████████████████▊                                           | 715/1868 [07:44<10:03,  1.91it/s]"
     ]
    },
    {
     "name": "stdout",
     "output_type": "stream",
     "text": [
      "Urologia internationalis has homepage_url and type journal\n"
     ]
    },
    {
     "name": "stderr",
     "output_type": "stream",
     "text": [
      " 38%|██████████████████████████▊                                           | 716/1868 [07:45<10:04,  1.91it/s]"
     ]
    },
    {
     "name": "stdout",
     "output_type": "stream",
     "text": [
      "Analysis and Geometry in Metric Spaces has homepage_url and type journal\n"
     ]
    },
    {
     "name": "stderr",
     "output_type": "stream",
     "text": [
      " 38%|██████████████████████████▊                                           | 717/1868 [07:46<15:20,  1.25it/s]"
     ]
    },
    {
     "name": "stdout",
     "output_type": "stream",
     "text": [
      "Journal of microelectromechanical systems has homepage_url and type journal\n"
     ]
    },
    {
     "name": "stderr",
     "output_type": "stream",
     "text": [
      " 38%|██████████████████████████▉                                           | 718/1868 [07:47<13:26,  1.43it/s]"
     ]
    },
    {
     "name": "stdout",
     "output_type": "stream",
     "text": [
      "Business strategy and development has homepage_url and type journal\n"
     ]
    },
    {
     "name": "stderr",
     "output_type": "stream",
     "text": [
      " 38%|██████████████████████████▉                                           | 719/1868 [07:48<15:30,  1.24it/s]"
     ]
    },
    {
     "name": "stdout",
     "output_type": "stream",
     "text": [
      "Journal of applied remote sensing has homepage_url and type journal\n"
     ]
    },
    {
     "name": "stderr",
     "output_type": "stream",
     "text": [
      " 39%|██████████████████████████▉                                           | 720/1868 [07:48<13:48,  1.39it/s]"
     ]
    },
    {
     "name": "stdout",
     "output_type": "stream",
     "text": [
      "Journal of advanced transportation has homepage_url and type journal\n"
     ]
    },
    {
     "name": "stderr",
     "output_type": "stream",
     "text": [
      " 39%|███████████████████████████                                           | 721/1868 [07:49<12:30,  1.53it/s]"
     ]
    },
    {
     "name": "stdout",
     "output_type": "stream",
     "text": [
      "Proceedings of engineering and technology innovation has homepage_url and type journal\n"
     ]
    },
    {
     "name": "stderr",
     "output_type": "stream",
     "text": [
      " 39%|███████████████████████████                                           | 722/1868 [07:49<11:37,  1.64it/s]"
     ]
    },
    {
     "name": "stdout",
     "output_type": "stream",
     "text": [
      "Human systems management has homepage_url and type journal\n"
     ]
    },
    {
     "name": "stderr",
     "output_type": "stream",
     "text": [
      " 39%|███████████████████████████                                           | 723/1868 [07:50<11:03,  1.72it/s]"
     ]
    },
    {
     "name": "stdout",
     "output_type": "stream",
     "text": [
      "Computational visual media has homepage_url and type journal\n"
     ]
    },
    {
     "name": "stderr",
     "output_type": "stream",
     "text": [
      " 39%|███████████████████████████▏                                          | 724/1868 [07:50<12:00,  1.59it/s]"
     ]
    },
    {
     "name": "stdout",
     "output_type": "stream",
     "text": [
      "Journal of imaging has homepage_url and type journal\n"
     ]
    },
    {
     "name": "stderr",
     "output_type": "stream",
     "text": [
      " 39%|███████████████████████████▏                                          | 725/1868 [07:51<11:26,  1.67it/s]"
     ]
    },
    {
     "name": "stdout",
     "output_type": "stream",
     "text": [
      "IEEE transactions on semiconductor manufacturing has homepage_url and type journal\n"
     ]
    },
    {
     "name": "stderr",
     "output_type": "stream",
     "text": [
      " 39%|███████████████████████████▏                                          | 726/1868 [07:51<10:45,  1.77it/s]"
     ]
    },
    {
     "name": "stdout",
     "output_type": "stream",
     "text": [
      "Semiconductor science and technology has homepage_url and type journal\n"
     ]
    },
    {
     "name": "stderr",
     "output_type": "stream",
     "text": [
      " 39%|███████████████████████████▏                                          | 727/1868 [07:53<13:56,  1.36it/s]"
     ]
    },
    {
     "name": "stdout",
     "output_type": "stream",
     "text": [
      "NeuroImage. Clinical has homepage_url and type journal\n"
     ]
    },
    {
     "name": "stderr",
     "output_type": "stream",
     "text": [
      " 39%|███████████████████████████▎                                          | 728/1868 [07:53<12:20,  1.54it/s]"
     ]
    },
    {
     "name": "stdout",
     "output_type": "stream",
     "text": [
      "Communications in computational physics has homepage_url and type journal\n"
     ]
    },
    {
     "name": "stderr",
     "output_type": "stream",
     "text": [
      " 39%|███████████████████████████▎                                          | 729/1868 [07:53<11:24,  1.66it/s]"
     ]
    },
    {
     "name": "stdout",
     "output_type": "stream",
     "text": [
      "Frontiers in materials has homepage_url and type journal\n"
     ]
    },
    {
     "name": "stderr",
     "output_type": "stream",
     "text": [
      " 39%|███████████████████████████▎                                          | 730/1868 [07:54<10:36,  1.79it/s]"
     ]
    },
    {
     "name": "stdout",
     "output_type": "stream",
     "text": [
      "Computational intelligence and neuroscience has homepage_url and type journal\n"
     ]
    },
    {
     "name": "stderr",
     "output_type": "stream",
     "text": [
      " 39%|███████████████████████████▍                                          | 732/1868 [07:55<12:10,  1.56it/s]"
     ]
    },
    {
     "name": "stdout",
     "output_type": "stream",
     "text": [
      "International journal of machine learning and cybernetics has homepage_url and type journal\n"
     ]
    },
    {
     "name": "stderr",
     "output_type": "stream",
     "text": [
      " 39%|███████████████████████████▌                                          | 734/1868 [07:56<10:44,  1.76it/s]"
     ]
    },
    {
     "name": "stdout",
     "output_type": "stream",
     "text": [
      "Solar RRL has homepage_url and type journal\n"
     ]
    },
    {
     "name": "stderr",
     "output_type": "stream",
     "text": [
      " 39%|███████████████████████████▌                                          | 735/1868 [07:57<10:11,  1.85it/s]"
     ]
    },
    {
     "name": "stdout",
     "output_type": "stream",
     "text": [
      "PloS one has homepage_url and type journal\n"
     ]
    },
    {
     "name": "stderr",
     "output_type": "stream",
     "text": [
      " 39%|███████████████████████████▌                                          | 737/1868 [07:58<09:44,  1.94it/s]"
     ]
    },
    {
     "name": "stdout",
     "output_type": "stream",
     "text": [
      "International journal of quantum chemistry has homepage_url and type journal\n"
     ]
    },
    {
     "name": "stderr",
     "output_type": "stream",
     "text": [
      " 40%|███████████████████████████▋                                          | 738/1868 [07:58<09:52,  1.91it/s]"
     ]
    },
    {
     "name": "stdout",
     "output_type": "stream",
     "text": [
      "International journal of distributed sensor networks has homepage_url and type journal\n"
     ]
    },
    {
     "name": "stderr",
     "output_type": "stream",
     "text": [
      " 40%|███████████████████████████▋                                          | 740/1868 [07:59<09:49,  1.91it/s]"
     ]
    },
    {
     "name": "stdout",
     "output_type": "stream",
     "text": [
      "Journal of mathematical analysis and applications has homepage_url and type journal\n"
     ]
    },
    {
     "name": "stderr",
     "output_type": "stream",
     "text": [
      " 40%|███████████████████████████▊                                          | 741/1868 [08:00<09:55,  1.89it/s]"
     ]
    },
    {
     "name": "stdout",
     "output_type": "stream",
     "text": [
      "International mathematics research notices has homepage_url and type journal\n"
     ]
    },
    {
     "name": "stderr",
     "output_type": "stream",
     "text": [
      " 40%|███████████████████████████▊                                          | 743/1868 [08:01<09:27,  1.98it/s]"
     ]
    },
    {
     "name": "stdout",
     "output_type": "stream",
     "text": [
      "Authorea (Authorea) has homepage_url and type repository\n"
     ]
    },
    {
     "name": "stderr",
     "output_type": "stream",
     "text": [
      " 40%|███████████████████████████▉                                          | 744/1868 [08:02<12:16,  1.53it/s]"
     ]
    },
    {
     "name": "stdout",
     "output_type": "stream",
     "text": [
      "Chaos has homepage_url and type journal\n"
     ]
    },
    {
     "name": "stderr",
     "output_type": "stream",
     "text": [
      " 40%|███████████████████████████▉                                          | 745/1868 [08:02<11:28,  1.63it/s]"
     ]
    },
    {
     "name": "stdout",
     "output_type": "stream",
     "text": [
      "Communications in statistics. Simulation and computation has homepage_url and type journal\n"
     ]
    },
    {
     "name": "stderr",
     "output_type": "stream",
     "text": [
      " 40%|███████████████████████████▉                                          | 746/1868 [08:03<10:45,  1.74it/s]"
     ]
    },
    {
     "name": "stdout",
     "output_type": "stream",
     "text": [
      "International journal of educational technology in higher education has homepage_url and type journal\n"
     ]
    },
    {
     "name": "stderr",
     "output_type": "stream",
     "text": [
      " 40%|███████████████████████████▉                                          | 747/1868 [08:03<10:25,  1.79it/s]"
     ]
    },
    {
     "name": "stdout",
     "output_type": "stream",
     "text": [
      "Tribology international has homepage_url and type journal\n"
     ]
    },
    {
     "name": "stderr",
     "output_type": "stream",
     "text": [
      " 40%|████████████████████████████                                          | 748/1868 [08:04<09:56,  1.88it/s]"
     ]
    },
    {
     "name": "stdout",
     "output_type": "stream",
     "text": [
      "IEEE transactions on device and materials reliability has homepage_url and type journal\n"
     ]
    },
    {
     "name": "stderr",
     "output_type": "stream",
     "text": [
      " 40%|████████████████████████████                                          | 749/1868 [08:04<09:34,  1.95it/s]"
     ]
    },
    {
     "name": "stdout",
     "output_type": "stream",
     "text": [
      "Discrete dynamics in nature and society has homepage_url and type journal\n"
     ]
    },
    {
     "name": "stderr",
     "output_type": "stream",
     "text": [
      " 40%|████████████████████████████▏                                         | 751/1868 [08:05<09:25,  1.97it/s]"
     ]
    },
    {
     "name": "stdout",
     "output_type": "stream",
     "text": [
      "IET image processing has homepage_url and type journal\n"
     ]
    },
    {
     "name": "stderr",
     "output_type": "stream",
     "text": [
      " 40%|████████████████████████████▏                                         | 752/1868 [08:06<09:26,  1.97it/s]"
     ]
    },
    {
     "name": "stdout",
     "output_type": "stream",
     "text": [
      "IOP conference series. Earth and environmental science has homepage_url and type conference\n"
     ]
    },
    {
     "name": "stderr",
     "output_type": "stream",
     "text": [
      " 40%|████████████████████████████▏                                         | 753/1868 [08:06<09:09,  2.03it/s]"
     ]
    },
    {
     "name": "stdout",
     "output_type": "stream",
     "text": [
      "Journal of theoretical biology has homepage_url and type journal\n"
     ]
    },
    {
     "name": "stderr",
     "output_type": "stream",
     "text": [
      " 40%|████████████████████████████▎                                         | 754/1868 [08:07<09:02,  2.05it/s]"
     ]
    },
    {
     "name": "stdout",
     "output_type": "stream",
     "text": [
      "Australasian journal of educational technology has homepage_url and type journal\n"
     ]
    },
    {
     "name": "stderr",
     "output_type": "stream",
     "text": [
      " 40%|████████████████████████████▎                                         | 755/1868 [08:07<08:52,  2.09it/s]"
     ]
    },
    {
     "name": "stdout",
     "output_type": "stream",
     "text": [
      "Gigascience has homepage_url and type journal\n"
     ]
    },
    {
     "name": "stderr",
     "output_type": "stream",
     "text": [
      " 40%|████████████████████████████▎                                         | 756/1868 [08:08<08:49,  2.10it/s]"
     ]
    },
    {
     "name": "stdout",
     "output_type": "stream",
     "text": [
      "Scripta materialia has homepage_url and type journal\n"
     ]
    },
    {
     "name": "stderr",
     "output_type": "stream",
     "text": [
      " 41%|████████████████████████████▎                                         | 757/1868 [08:10<19:06,  1.03s/it]"
     ]
    },
    {
     "name": "stdout",
     "output_type": "stream",
     "text": [
      "Nanotechnology has homepage_url and type journal\n"
     ]
    },
    {
     "name": "stderr",
     "output_type": "stream",
     "text": [
      " 41%|████████████████████████████▍                                         | 758/1868 [08:11<18:51,  1.02s/it]"
     ]
    },
    {
     "name": "stdout",
     "output_type": "stream",
     "text": [
      "Journal of ultrasound in medicine has homepage_url and type journal\n"
     ]
    },
    {
     "name": "stderr",
     "output_type": "stream",
     "text": [
      " 41%|████████████████████████████▍                                         | 759/1868 [08:11<15:45,  1.17it/s]"
     ]
    },
    {
     "name": "stdout",
     "output_type": "stream",
     "text": [
      "Journal of magnetism and magnetic materials has homepage_url and type journal\n"
     ]
    },
    {
     "name": "stderr",
     "output_type": "stream",
     "text": [
      " 41%|████████████████████████████▍                                         | 760/1868 [08:13<18:22,  1.01it/s]"
     ]
    },
    {
     "name": "stdout",
     "output_type": "stream",
     "text": [
      "Computer journal has homepage_url and type journal\n"
     ]
    },
    {
     "name": "stderr",
     "output_type": "stream",
     "text": [
      " 41%|████████████████████████████▌                                         | 761/1868 [08:13<15:37,  1.18it/s]"
     ]
    },
    {
     "name": "stdout",
     "output_type": "stream",
     "text": [
      "Scientometrics has homepage_url and type journal\n"
     ]
    },
    {
     "name": "stderr",
     "output_type": "stream",
     "text": [
      " 41%|████████████████████████████▌                                         | 762/1868 [08:14<13:40,  1.35it/s]"
     ]
    },
    {
     "name": "stdout",
     "output_type": "stream",
     "text": [
      "Physical communication has homepage_url and type journal\n"
     ]
    },
    {
     "name": "stderr",
     "output_type": "stream",
     "text": [
      " 41%|████████████████████████████▌                                         | 763/1868 [08:14<12:07,  1.52it/s]"
     ]
    },
    {
     "name": "stdout",
     "output_type": "stream",
     "text": [
      "Nano select has homepage_url and type journal\n"
     ]
    },
    {
     "name": "stderr",
     "output_type": "stream",
     "text": [
      " 41%|████████████████████████████▋                                         | 764/1868 [08:15<11:36,  1.58it/s]"
     ]
    },
    {
     "name": "stdout",
     "output_type": "stream",
     "text": [
      "BMC oral health has homepage_url and type journal\n"
     ]
    },
    {
     "name": "stderr",
     "output_type": "stream",
     "text": [
      " 41%|████████████████████████████▋                                         | 765/1868 [08:15<11:01,  1.67it/s]"
     ]
    },
    {
     "name": "stdout",
     "output_type": "stream",
     "text": [
      "International journal of energy research has homepage_url and type journal\n"
     ]
    },
    {
     "name": "stderr",
     "output_type": "stream",
     "text": [
      " 41%|████████████████████████████▋                                         | 766/1868 [08:16<10:55,  1.68it/s]"
     ]
    },
    {
     "name": "stdout",
     "output_type": "stream",
     "text": [
      "Global strategy journal has homepage_url and type journal\n"
     ]
    },
    {
     "name": "stderr",
     "output_type": "stream",
     "text": [
      " 41%|████████████████████████████▋                                         | 767/1868 [08:16<10:11,  1.80it/s]"
     ]
    },
    {
     "name": "stdout",
     "output_type": "stream",
     "text": [
      "Microprocessors and microsystems has homepage_url and type journal\n"
     ]
    },
    {
     "name": "stderr",
     "output_type": "stream",
     "text": [
      " 41%|████████████████████████████▊                                         | 768/1868 [08:17<09:48,  1.87it/s]"
     ]
    },
    {
     "name": "stdout",
     "output_type": "stream",
     "text": [
      "Methods and applications in fluorescence has homepage_url and type journal\n"
     ]
    },
    {
     "name": "stderr",
     "output_type": "stream",
     "text": [
      " 41%|████████████████████████████▊                                         | 769/1868 [08:17<09:28,  1.93it/s]"
     ]
    },
    {
     "name": "stdout",
     "output_type": "stream",
     "text": [
      "IEEE journal of translational engineering in health and medicine has homepage_url and type journal\n"
     ]
    },
    {
     "name": "stderr",
     "output_type": "stream",
     "text": [
      " 41%|████████████████████████████▉                                         | 771/1868 [08:18<09:02,  2.02it/s]"
     ]
    },
    {
     "name": "stdout",
     "output_type": "stream",
     "text": [
      "Frontiers in cell and developmental biology has homepage_url and type journal\n"
     ]
    },
    {
     "name": "stderr",
     "output_type": "stream",
     "text": [
      " 41%|████████████████████████████▉                                         | 772/1868 [08:19<09:02,  2.02it/s]"
     ]
    },
    {
     "name": "stdout",
     "output_type": "stream",
     "text": [
      "International journal of quality and service sciences has homepage_url and type journal\n"
     ]
    },
    {
     "name": "stderr",
     "output_type": "stream",
     "text": [
      " 41%|████████████████████████████▉                                         | 773/1868 [08:19<08:59,  2.03it/s]"
     ]
    },
    {
     "name": "stdout",
     "output_type": "stream",
     "text": [
      "Cytometry. Part A has homepage_url and type journal\n"
     ]
    },
    {
     "name": "stderr",
     "output_type": "stream",
     "text": [
      " 41%|█████████████████████████████                                         | 774/1868 [08:20<08:51,  2.06it/s]"
     ]
    },
    {
     "name": "stdout",
     "output_type": "stream",
     "text": [
      "BMC surgery has homepage_url and type journal\n"
     ]
    },
    {
     "name": "stderr",
     "output_type": "stream",
     "text": [
      " 41%|█████████████████████████████                                         | 775/1868 [08:20<08:53,  2.05it/s]"
     ]
    },
    {
     "name": "stdout",
     "output_type": "stream",
     "text": [
      "Photonics and nanostructures has homepage_url and type journal\n"
     ]
    },
    {
     "name": "stderr",
     "output_type": "stream",
     "text": [
      " 42%|█████████████████████████████                                         | 776/1868 [08:21<12:02,  1.51it/s]"
     ]
    },
    {
     "name": "stdout",
     "output_type": "stream",
     "text": [
      "Array has homepage_url and type journal\n"
     ]
    },
    {
     "name": "stderr",
     "output_type": "stream",
     "text": [
      " 42%|█████████████████████████████                                         | 777/1868 [08:22<11:08,  1.63it/s]"
     ]
    },
    {
     "name": "stdout",
     "output_type": "stream",
     "text": [
      "IEEE open journal of vehicular technology has homepage_url and type journal\n"
     ]
    },
    {
     "name": "stderr",
     "output_type": "stream",
     "text": [
      " 42%|█████████████████████████████▏                                        | 778/1868 [08:22<10:30,  1.73it/s]"
     ]
    },
    {
     "name": "stdout",
     "output_type": "stream",
     "text": [
      "Thin solid films has homepage_url and type journal\n"
     ]
    },
    {
     "name": "stderr",
     "output_type": "stream",
     "text": [
      " 42%|█████████████████████████████▏                                        | 780/1868 [08:23<09:29,  1.91it/s]"
     ]
    },
    {
     "name": "stdout",
     "output_type": "stream",
     "text": [
      "International journal of geometric methods in modern physics has homepage_url and type journal\n"
     ]
    },
    {
     "name": "stderr",
     "output_type": "stream",
     "text": [
      " 42%|█████████████████████████████▎                                        | 781/1868 [08:24<09:08,  1.98it/s]"
     ]
    },
    {
     "name": "stdout",
     "output_type": "stream",
     "text": [
      "IEEE communications standards magazine has homepage_url and type journal\n"
     ]
    },
    {
     "name": "stderr",
     "output_type": "stream",
     "text": [
      " 42%|█████████████████████████████▎                                        | 783/1868 [08:25<08:38,  2.09it/s]"
     ]
    },
    {
     "name": "stdout",
     "output_type": "stream",
     "text": [
      "Experimental and Therapeutic Medicine has homepage_url and type journal\n"
     ]
    },
    {
     "name": "stderr",
     "output_type": "stream",
     "text": [
      " 42%|█████████████████████████████▍                                        | 784/1868 [08:25<08:29,  2.13it/s]"
     ]
    },
    {
     "name": "stdout",
     "output_type": "stream",
     "text": [
      "ACM transactions on Internet technology has homepage_url and type journal\n"
     ]
    },
    {
     "name": "stderr",
     "output_type": "stream",
     "text": [
      " 42%|█████████████████████████████▍                                        | 785/1868 [08:26<08:47,  2.05it/s]"
     ]
    },
    {
     "name": "stdout",
     "output_type": "stream",
     "text": [
      "ACM transactions on Asian and low-resource language information processing has homepage_url and type journal\n"
     ]
    },
    {
     "name": "stderr",
     "output_type": "stream",
     "text": [
      " 42%|█████████████████████████████▍                                        | 786/1868 [08:26<08:38,  2.09it/s]"
     ]
    },
    {
     "name": "stdout",
     "output_type": "stream",
     "text": [
      "Revista brasileira de medicina do esporte has homepage_url and type journal\n"
     ]
    },
    {
     "name": "stderr",
     "output_type": "stream",
     "text": [
      " 42%|█████████████████████████████▍                                        | 787/1868 [08:27<08:31,  2.11it/s]"
     ]
    },
    {
     "name": "stdout",
     "output_type": "stream",
     "text": [
      "Synthesis lectures on data mining and knowledge discovery has homepage_url and type book series\n"
     ]
    },
    {
     "name": "stderr",
     "output_type": "stream",
     "text": [
      " 42%|█████████████████████████████▌                                        | 788/1868 [08:28<12:07,  1.48it/s]"
     ]
    },
    {
     "name": "stdout",
     "output_type": "stream",
     "text": [
      "IEEE journal of quantum electronics has homepage_url and type journal\n"
     ]
    },
    {
     "name": "stderr",
     "output_type": "stream",
     "text": [
      " 42%|█████████████████████████████▌                                        | 789/1868 [08:28<10:59,  1.64it/s]"
     ]
    },
    {
     "name": "stdout",
     "output_type": "stream",
     "text": [
      "International journal of quantum information has homepage_url and type journal\n"
     ]
    },
    {
     "name": "stderr",
     "output_type": "stream",
     "text": [
      " 42%|█████████████████████████████▋                                        | 791/1868 [08:29<09:35,  1.87it/s]"
     ]
    },
    {
     "name": "stdout",
     "output_type": "stream",
     "text": [
      "ACM transactions on the web has homepage_url and type journal\n"
     ]
    },
    {
     "name": "stderr",
     "output_type": "stream",
     "text": [
      " 42%|█████████████████████████████▋                                        | 792/1868 [08:30<09:36,  1.87it/s]"
     ]
    },
    {
     "name": "stdout",
     "output_type": "stream",
     "text": [
      "International journal of optics has homepage_url and type journal\n"
     ]
    },
    {
     "name": "stderr",
     "output_type": "stream",
     "text": [
      " 42%|█████████████████████████████▋                                        | 793/1868 [08:30<10:36,  1.69it/s]"
     ]
    },
    {
     "name": "stdout",
     "output_type": "stream",
     "text": [
      "Coatings has homepage_url and type journal\n"
     ]
    },
    {
     "name": "stderr",
     "output_type": "stream",
     "text": [
      " 43%|█████████████████████████████▊                                        | 794/1868 [08:31<12:56,  1.38it/s]"
     ]
    },
    {
     "name": "stdout",
     "output_type": "stream",
     "text": [
      "Journal of grid computing has homepage_url and type journal\n"
     ]
    },
    {
     "name": "stderr",
     "output_type": "stream",
     "text": [
      " 43%|█████████████████████████████▊                                        | 795/1868 [08:32<11:41,  1.53it/s]"
     ]
    },
    {
     "name": "stdout",
     "output_type": "stream",
     "text": [
      "ChemistrySelect has homepage_url and type journal\n"
     ]
    },
    {
     "name": "stderr",
     "output_type": "stream",
     "text": [
      " 43%|█████████████████████████████▊                                        | 796/1868 [08:32<10:40,  1.67it/s]"
     ]
    },
    {
     "name": "stdout",
     "output_type": "stream",
     "text": [
      "Journal of computing and information science in engineering has homepage_url and type journal\n"
     ]
    },
    {
     "name": "stderr",
     "output_type": "stream",
     "text": [
      " 43%|█████████████████████████████▊                                        | 797/1868 [08:33<09:49,  1.82it/s]"
     ]
    },
    {
     "name": "stdout",
     "output_type": "stream",
     "text": [
      "Proceedings on Privacy Enhancing Technologies has homepage_url and type journal\n"
     ]
    },
    {
     "name": "stderr",
     "output_type": "stream",
     "text": [
      " 43%|█████████████████████████████▉                                        | 798/1868 [08:33<09:20,  1.91it/s]"
     ]
    },
    {
     "name": "stdout",
     "output_type": "stream",
     "text": [
      "ENeuro has homepage_url and type journal\n"
     ]
    },
    {
     "name": "stderr",
     "output_type": "stream",
     "text": [
      " 43%|█████████████████████████████▉                                        | 800/1868 [08:35<11:53,  1.50it/s]"
     ]
    },
    {
     "name": "stdout",
     "output_type": "stream",
     "text": [
      "Natural hazards has homepage_url and type journal\n"
     ]
    },
    {
     "name": "stderr",
     "output_type": "stream",
     "text": [
      " 43%|██████████████████████████████                                        | 801/1868 [08:35<11:13,  1.58it/s]"
     ]
    },
    {
     "name": "stdout",
     "output_type": "stream",
     "text": [
      "Magnetic resonance letters has homepage_url and type journal\n"
     ]
    },
    {
     "name": "stderr",
     "output_type": "stream",
     "text": [
      " 43%|██████████████████████████████                                        | 802/1868 [08:36<10:39,  1.67it/s]"
     ]
    },
    {
     "name": "stdout",
     "output_type": "stream",
     "text": [
      "Nature machine intelligence has homepage_url and type journal\n"
     ]
    },
    {
     "name": "stderr",
     "output_type": "stream",
     "text": [
      " 43%|██████████████████████████████                                        | 803/1868 [08:36<09:55,  1.79it/s]"
     ]
    },
    {
     "name": "stdout",
     "output_type": "stream",
     "text": [
      "Cartography and geographic information science has homepage_url and type journal\n"
     ]
    },
    {
     "name": "stderr",
     "output_type": "stream",
     "text": [
      " 43%|██████████████████████████████▏                                       | 804/1868 [08:37<09:29,  1.87it/s]"
     ]
    },
    {
     "name": "stdout",
     "output_type": "stream",
     "text": [
      "Cell reports physical science has homepage_url and type journal\n"
     ]
    },
    {
     "name": "stderr",
     "output_type": "stream",
     "text": [
      " 43%|██████████████████████████████▏                                       | 806/1868 [08:38<08:57,  1.97it/s]"
     ]
    },
    {
     "name": "stdout",
     "output_type": "stream",
     "text": [
      "Journal of behavioral addictions has homepage_url and type journal\n"
     ]
    },
    {
     "name": "stderr",
     "output_type": "stream",
     "text": [
      " 43%|██████████████████████████████▏                                       | 807/1868 [08:38<08:53,  1.99it/s]"
     ]
    },
    {
     "name": "stdout",
     "output_type": "stream",
     "text": [
      "medRxiv (Cold Spring Harbor Laboratory) has homepage_url and type repository\n"
     ]
    },
    {
     "name": "stderr",
     "output_type": "stream",
     "text": [
      " 43%|██████████████████████████████▎                                       | 808/1868 [08:39<08:56,  1.98it/s]"
     ]
    },
    {
     "name": "stdout",
     "output_type": "stream",
     "text": [
      "EPJ quantum technology has homepage_url and type journal\n"
     ]
    },
    {
     "name": "stderr",
     "output_type": "stream",
     "text": [
      " 43%|██████████████████████████████▎                                       | 809/1868 [08:39<08:44,  2.02it/s]"
     ]
    },
    {
     "name": "stdout",
     "output_type": "stream",
     "text": [
      "PeerJ. Computer science has homepage_url and type journal\n"
     ]
    },
    {
     "name": "stderr",
     "output_type": "stream",
     "text": [
      " 43%|██████████████████████████████▎                                       | 810/1868 [08:40<12:54,  1.37it/s]"
     ]
    },
    {
     "name": "stdout",
     "output_type": "stream",
     "text": [
      "Metals has homepage_url and type journal\n"
     ]
    },
    {
     "name": "stderr",
     "output_type": "stream",
     "text": [
      " 43%|██████████████████████████████▍                                       | 812/1868 [08:41<10:44,  1.64it/s]"
     ]
    },
    {
     "name": "stdout",
     "output_type": "stream",
     "text": [
      "Frontiers in genetics has homepage_url and type journal\n"
     ]
    },
    {
     "name": "stderr",
     "output_type": "stream",
     "text": [
      " 44%|██████████████████████████████▍                                       | 813/1868 [08:42<10:05,  1.74it/s]"
     ]
    },
    {
     "name": "stdout",
     "output_type": "stream",
     "text": [
      "Engineering optimization has homepage_url and type journal\n"
     ]
    },
    {
     "name": "stderr",
     "output_type": "stream",
     "text": [
      " 44%|██████████████████████████████▌                                       | 814/1868 [08:42<09:32,  1.84it/s]"
     ]
    },
    {
     "name": "stdout",
     "output_type": "stream",
     "text": [
      "Journal of computer assisted learning has homepage_url and type journal\n"
     ]
    },
    {
     "name": "stderr",
     "output_type": "stream",
     "text": [
      " 44%|██████████████████████████████▌                                       | 815/1868 [08:43<12:15,  1.43it/s]"
     ]
    },
    {
     "name": "stdout",
     "output_type": "stream",
     "text": [
      "Journal of hydrology has homepage_url and type journal\n"
     ]
    },
    {
     "name": "stderr",
     "output_type": "stream",
     "text": [
      " 44%|██████████████████████████████▋                                       | 818/1868 [08:45<09:40,  1.81it/s]"
     ]
    },
    {
     "name": "stdout",
     "output_type": "stream",
     "text": [
      "Psychology in the schools has homepage_url and type journal\n"
     ]
    },
    {
     "name": "stderr",
     "output_type": "stream",
     "text": [
      " 44%|██████████████████████████████▋                                       | 819/1868 [08:45<09:13,  1.89it/s]"
     ]
    },
    {
     "name": "stdout",
     "output_type": "stream",
     "text": [
      "Computerized medical imaging and graphics has homepage_url and type journal\n"
     ]
    },
    {
     "name": "stderr",
     "output_type": "stream",
     "text": [
      " 44%|██████████████████████████████▋                                       | 820/1868 [08:46<09:27,  1.85it/s]"
     ]
    },
    {
     "name": "stdout",
     "output_type": "stream",
     "text": [
      "Corporate social-responsibility and environmental management has homepage_url and type journal\n"
     ]
    },
    {
     "name": "stderr",
     "output_type": "stream",
     "text": [
      " 44%|██████████████████████████████▊                                       | 822/1868 [08:47<08:56,  1.95it/s]"
     ]
    },
    {
     "name": "stdout",
     "output_type": "stream",
     "text": [
      "Energy conversion and management has homepage_url and type journal\n"
     ]
    },
    {
     "name": "stderr",
     "output_type": "stream",
     "text": [
      " 44%|██████████████████████████████▊                                       | 823/1868 [08:47<08:38,  2.02it/s]"
     ]
    },
    {
     "name": "stdout",
     "output_type": "stream",
     "text": [
      "Frontiers of Optoelectronics has homepage_url and type journal\n"
     ]
    },
    {
     "name": "stderr",
     "output_type": "stream",
     "text": [
      " 44%|██████████████████████████████▉                                       | 824/1868 [08:48<08:38,  2.01it/s]"
     ]
    },
    {
     "name": "stdout",
     "output_type": "stream",
     "text": [
      "Macroeconomic dynamics has homepage_url and type journal\n"
     ]
    },
    {
     "name": "stderr",
     "output_type": "stream",
     "text": [
      " 44%|██████████████████████████████▉                                       | 825/1868 [08:49<12:57,  1.34it/s]"
     ]
    },
    {
     "name": "stdout",
     "output_type": "stream",
     "text": [
      "Journal of Computer Science and Technology/Journal of computer science and technology has homepage_url and type journal\n"
     ]
    },
    {
     "name": "stderr",
     "output_type": "stream",
     "text": [
      " 44%|██████████████████████████████▉                                       | 826/1868 [08:50<11:34,  1.50it/s]"
     ]
    },
    {
     "name": "stdout",
     "output_type": "stream",
     "text": [
      "IEEE transactions on sustainable energy has homepage_url and type journal\n"
     ]
    },
    {
     "name": "stderr",
     "output_type": "stream",
     "text": [
      " 44%|██████████████████████████████▉                                       | 827/1868 [08:50<10:31,  1.65it/s]"
     ]
    },
    {
     "name": "stdout",
     "output_type": "stream",
     "text": [
      "Mathematical foundations of computing has homepage_url and type journal\n"
     ]
    },
    {
     "name": "stderr",
     "output_type": "stream",
     "text": [
      " 44%|███████████████████████████████                                       | 828/1868 [08:51<10:35,  1.64it/s]"
     ]
    },
    {
     "name": "stdout",
     "output_type": "stream",
     "text": [
      "IEEE transactions on artificial intelligence has homepage_url and type journal\n"
     ]
    },
    {
     "name": "stderr",
     "output_type": "stream",
     "text": [
      " 44%|███████████████████████████████                                       | 829/1868 [08:51<09:53,  1.75it/s]"
     ]
    },
    {
     "name": "stdout",
     "output_type": "stream",
     "text": [
      "ACM journal on computing and cultural heritage/Journal on computing and cultural heritage has homepage_url and type journal\n"
     ]
    },
    {
     "name": "stderr",
     "output_type": "stream",
     "text": [
      " 44%|███████████████████████████████                                       | 830/1868 [08:52<10:17,  1.68it/s]"
     ]
    },
    {
     "name": "stdout",
     "output_type": "stream",
     "text": [
      "Brain research has homepage_url and type journal\n"
     ]
    },
    {
     "name": "stderr",
     "output_type": "stream",
     "text": [
      " 44%|███████████████████████████████▏                                      | 831/1868 [08:52<09:43,  1.78it/s]"
     ]
    },
    {
     "name": "stdout",
     "output_type": "stream",
     "text": [
      "ACM transactions on architecture and code optimization has homepage_url and type journal\n"
     ]
    },
    {
     "name": "stderr",
     "output_type": "stream",
     "text": [
      " 45%|███████████████████████████████▏                                      | 832/1868 [08:53<10:17,  1.68it/s]"
     ]
    },
    {
     "name": "stdout",
     "output_type": "stream",
     "text": [
      "Green chemistry has homepage_url and type journal\n"
     ]
    },
    {
     "name": "stderr",
     "output_type": "stream",
     "text": [
      " 45%|███████████████████████████████▏                                      | 833/1868 [08:54<09:54,  1.74it/s]"
     ]
    },
    {
     "name": "stdout",
     "output_type": "stream",
     "text": [
      "Information and software technology has homepage_url and type journal\n"
     ]
    },
    {
     "name": "stderr",
     "output_type": "stream",
     "text": [
      " 45%|███████████████████████████████▎                                      | 836/1868 [08:55<10:11,  1.69it/s]"
     ]
    },
    {
     "name": "stdout",
     "output_type": "stream",
     "text": [
      "ISPRS journal of photogrammetry and remote sensing has homepage_url and type journal\n"
     ]
    },
    {
     "name": "stderr",
     "output_type": "stream",
     "text": [
      " 45%|███████████████████████████████▎                                      | 837/1868 [08:56<10:09,  1.69it/s]"
     ]
    },
    {
     "name": "stdout",
     "output_type": "stream",
     "text": [
      "IEEE transactions on nuclear science has homepage_url and type journal\n"
     ]
    },
    {
     "name": "stderr",
     "output_type": "stream",
     "text": [
      " 45%|███████████████████████████████▍                                      | 839/1868 [08:57<10:40,  1.61it/s]"
     ]
    },
    {
     "name": "stdout",
     "output_type": "stream",
     "text": [
      "Intelligent data analysis has homepage_url and type journal\n"
     ]
    },
    {
     "name": "stderr",
     "output_type": "stream",
     "text": [
      " 45%|███████████████████████████████▍                                      | 840/1868 [08:58<10:14,  1.67it/s]"
     ]
    },
    {
     "name": "stdout",
     "output_type": "stream",
     "text": [
      "Journal of informetrics has homepage_url and type journal\n"
     ]
    },
    {
     "name": "stderr",
     "output_type": "stream",
     "text": [
      " 45%|███████████████████████████████▌                                      | 841/1868 [08:58<09:49,  1.74it/s]"
     ]
    },
    {
     "name": "stdout",
     "output_type": "stream",
     "text": [
      "BMC musculoskeletal disorders has homepage_url and type journal\n"
     ]
    },
    {
     "name": "stderr",
     "output_type": "stream",
     "text": [
      " 45%|███████████████████████████████▌                                      | 843/1868 [09:00<11:31,  1.48it/s]"
     ]
    },
    {
     "name": "stdout",
     "output_type": "stream",
     "text": [
      "Scalable Computing. Practice and Experience has homepage_url and type journal\n"
     ]
    },
    {
     "name": "stderr",
     "output_type": "stream",
     "text": [
      " 45%|███████████████████████████████▋                                      | 844/1868 [09:00<12:09,  1.40it/s]"
     ]
    },
    {
     "name": "stdout",
     "output_type": "stream",
     "text": [
      "Expert systems has homepage_url and type journal\n"
     ]
    },
    {
     "name": "stderr",
     "output_type": "stream",
     "text": [
      " 45%|███████████████████████████████▋                                      | 845/1868 [09:01<10:58,  1.55it/s]"
     ]
    },
    {
     "name": "stdout",
     "output_type": "stream",
     "text": [
      "Automotive innovation has homepage_url and type journal\n"
     ]
    },
    {
     "name": "stderr",
     "output_type": "stream",
     "text": [
      " 45%|███████████████████████████████▋                                      | 846/1868 [09:01<10:08,  1.68it/s]"
     ]
    },
    {
     "name": "stdout",
     "output_type": "stream",
     "text": [
      "IEEE solid-state circuits letters has homepage_url and type journal\n"
     ]
    },
    {
     "name": "stderr",
     "output_type": "stream",
     "text": [
      " 45%|███████████████████████████████▋                                      | 847/1868 [09:02<11:10,  1.52it/s]"
     ]
    },
    {
     "name": "stdout",
     "output_type": "stream",
     "text": [
      "Advanced photonics research has homepage_url and type journal\n"
     ]
    },
    {
     "name": "stderr",
     "output_type": "stream",
     "text": [
      " 45%|███████████████████████████████▊                                      | 848/1868 [09:03<10:58,  1.55it/s]"
     ]
    },
    {
     "name": "stdout",
     "output_type": "stream",
     "text": [
      "ITM web of conferences has homepage_url and type journal\n"
     ]
    },
    {
     "name": "stderr",
     "output_type": "stream",
     "text": [
      " 46%|███████████████████████████████▊                                      | 850/1868 [09:04<10:08,  1.67it/s]"
     ]
    },
    {
     "name": "stdout",
     "output_type": "stream",
     "text": [
      "IET Nanodielectrics has homepage_url and type journal\n"
     ]
    },
    {
     "name": "stderr",
     "output_type": "stream",
     "text": [
      " 46%|███████████████████████████████▉                                      | 851/1868 [09:04<09:44,  1.74it/s]"
     ]
    },
    {
     "name": "stdout",
     "output_type": "stream",
     "text": [
      "The journal of computer information systems/The Journal of computer information systems has homepage_url and type journal\n"
     ]
    },
    {
     "name": "stderr",
     "output_type": "stream",
     "text": [
      " 46%|███████████████████████████████▉                                      | 852/1868 [09:05<11:14,  1.51it/s]"
     ]
    },
    {
     "name": "stdout",
     "output_type": "stream",
     "text": [
      "Ultramicroscopy has homepage_url and type journal\n"
     ]
    },
    {
     "name": "stderr",
     "output_type": "stream",
     "text": [
      " 46%|████████████████████████████████                                      | 857/1868 [09:08<09:29,  1.77it/s]"
     ]
    },
    {
     "name": "stdout",
     "output_type": "stream",
     "text": [
      "The journal of neuroscience/The Journal of neuroscience has homepage_url and type journal\n"
     ]
    },
    {
     "name": "stderr",
     "output_type": "stream",
     "text": [
      " 46%|████████████████████████████████▏                                     | 860/1868 [09:10<08:54,  1.89it/s]"
     ]
    },
    {
     "name": "stdout",
     "output_type": "stream",
     "text": [
      "IEEE sensors letters has homepage_url and type journal\n"
     ]
    },
    {
     "name": "stderr",
     "output_type": "stream",
     "text": [
      " 46%|████████████████████████████████▎                                     | 861/1868 [09:11<11:05,  1.51it/s]"
     ]
    },
    {
     "name": "stdout",
     "output_type": "stream",
     "text": [
      "International journal of microwave and wireless technologies has homepage_url and type journal\n"
     ]
    },
    {
     "name": "stderr",
     "output_type": "stream",
     "text": [
      " 46%|████████████████████████████████▎                                     | 862/1868 [09:11<10:41,  1.57it/s]"
     ]
    },
    {
     "name": "stdout",
     "output_type": "stream",
     "text": [
      "ChemNanoMat has homepage_url and type journal\n"
     ]
    },
    {
     "name": "stderr",
     "output_type": "stream",
     "text": [
      " 46%|████████████████████████████████▎                                     | 863/1868 [09:12<09:57,  1.68it/s]"
     ]
    },
    {
     "name": "stdout",
     "output_type": "stream",
     "text": [
      "Zhōngguó gōngchéng xuékān has homepage_url and type journal\n"
     ]
    },
    {
     "name": "stderr",
     "output_type": "stream",
     "text": [
      " 46%|████████████████████████████████▍                                     | 865/1868 [09:13<12:54,  1.29it/s]"
     ]
    },
    {
     "name": "stdout",
     "output_type": "stream",
     "text": [
      "AI has homepage_url and type journal\n"
     ]
    },
    {
     "name": "stderr",
     "output_type": "stream",
     "text": [
      " 46%|████████████████████████████████▍                                     | 866/1868 [09:14<12:04,  1.38it/s]"
     ]
    },
    {
     "name": "stdout",
     "output_type": "stream",
     "text": [
      "Geomechanics and geophysics for geo-energy and geo-resources has homepage_url and type journal\n"
     ]
    },
    {
     "name": "stderr",
     "output_type": "stream",
     "text": [
      " 46%|████████████████████████████████▍                                     | 867/1868 [09:15<12:32,  1.33it/s]"
     ]
    },
    {
     "name": "stdout",
     "output_type": "stream",
     "text": [
      "Medicine has homepage_url and type journal\n"
     ]
    },
    {
     "name": "stderr",
     "output_type": "stream",
     "text": [
      " 47%|████████████████████████████████▌                                     | 869/1868 [09:16<10:41,  1.56it/s]"
     ]
    },
    {
     "name": "stdout",
     "output_type": "stream",
     "text": [
      "Lecture notes on data engineering and communications technologies has homepage_url and type book series\n"
     ]
    },
    {
     "name": "stderr",
     "output_type": "stream",
     "text": [
      " 47%|████████████████████████████████▋                                     | 871/1868 [09:17<09:36,  1.73it/s]"
     ]
    },
    {
     "name": "stdout",
     "output_type": "stream",
     "text": [
      "World electric vehicle journal has homepage_url and type journal\n"
     ]
    },
    {
     "name": "stderr",
     "output_type": "stream",
     "text": [
      " 47%|████████████████████████████████▋                                     | 873/1868 [09:18<09:21,  1.77it/s]"
     ]
    },
    {
     "name": "stdout",
     "output_type": "stream",
     "text": [
      "Evidence-based complementary and alternative medicine has homepage_url and type journal\n"
     ]
    },
    {
     "name": "stderr",
     "output_type": "stream",
     "text": [
      " 47%|████████████████████████████████▊                                     | 874/1868 [09:18<09:16,  1.79it/s]"
     ]
    },
    {
     "name": "stdout",
     "output_type": "stream",
     "text": [
      "Soft robotics has homepage_url and type journal\n"
     ]
    },
    {
     "name": "stderr",
     "output_type": "stream",
     "text": [
      " 47%|████████████████████████████████▊                                     | 875/1868 [09:19<09:14,  1.79it/s]"
     ]
    },
    {
     "name": "stdout",
     "output_type": "stream",
     "text": [
      "Journal of information and intelligence has homepage_url and type journal\n"
     ]
    },
    {
     "name": "stderr",
     "output_type": "stream",
     "text": [
      " 47%|████████████████████████████████▊                                     | 876/1868 [09:20<09:01,  1.83it/s]"
     ]
    },
    {
     "name": "stdout",
     "output_type": "stream",
     "text": [
      "Transactions in GIS has homepage_url and type journal\n"
     ]
    },
    {
     "name": "stderr",
     "output_type": "stream",
     "text": [
      " 47%|████████████████████████████████▉                                     | 879/1868 [09:21<09:37,  1.71it/s]"
     ]
    },
    {
     "name": "stdout",
     "output_type": "stream",
     "text": [
      "Discrete mathematics has homepage_url and type journal\n"
     ]
    },
    {
     "name": "stderr",
     "output_type": "stream",
     "text": [
      " 47%|████████████████████████████████▉                                     | 880/1868 [09:22<10:09,  1.62it/s]"
     ]
    },
    {
     "name": "stdout",
     "output_type": "stream",
     "text": [
      "Crystals has homepage_url and type journal\n"
     ]
    },
    {
     "name": "stderr",
     "output_type": "stream",
     "text": [
      " 47%|█████████████████████████████████                                     | 881/1868 [09:22<09:43,  1.69it/s]"
     ]
    },
    {
     "name": "stdout",
     "output_type": "stream",
     "text": [
      "Ore and energy resource geology has homepage_url and type journal\n"
     ]
    },
    {
     "name": "stderr",
     "output_type": "stream",
     "text": [
      " 47%|█████████████████████████████████                                     | 882/1868 [09:23<09:56,  1.65it/s]"
     ]
    },
    {
     "name": "stdout",
     "output_type": "stream",
     "text": [
      "Quantum engineering has homepage_url and type journal\n"
     ]
    },
    {
     "name": "stderr",
     "output_type": "stream",
     "text": [
      " 47%|█████████████████████████████████                                     | 883/1868 [09:24<10:20,  1.59it/s]"
     ]
    },
    {
     "name": "stdout",
     "output_type": "stream",
     "text": [
      "Journal of biomechanics has homepage_url and type journal\n"
     ]
    },
    {
     "name": "stderr",
     "output_type": "stream",
     "text": [
      " 47%|█████████████████████████████████▏                                    | 884/1868 [09:25<11:07,  1.48it/s]"
     ]
    },
    {
     "name": "stdout",
     "output_type": "stream",
     "text": [
      "Inorganic chemistry has homepage_url and type journal\n"
     ]
    },
    {
     "name": "stderr",
     "output_type": "stream",
     "text": [
      " 47%|█████████████████████████████████▏                                    | 885/1868 [09:25<10:16,  1.59it/s]"
     ]
    },
    {
     "name": "stdout",
     "output_type": "stream",
     "text": [
      "Journal of neurointerventional surgery has homepage_url and type journal\n"
     ]
    },
    {
     "name": "stderr",
     "output_type": "stream",
     "text": [
      " 47%|█████████████████████████████████▏                                    | 886/1868 [09:26<09:45,  1.68it/s]"
     ]
    },
    {
     "name": "stdout",
     "output_type": "stream",
     "text": [
      "International journal of bifurcation and chaos in applied sciences and engineering has homepage_url and type journal\n"
     ]
    },
    {
     "name": "stderr",
     "output_type": "stream",
     "text": [
      " 47%|█████████████████████████████████▏                                    | 887/1868 [09:26<09:24,  1.74it/s]"
     ]
    },
    {
     "name": "stdout",
     "output_type": "stream",
     "text": [
      "MDE. Managerial and decision economics/Managerial and decision economics has homepage_url and type journal\n"
     ]
    },
    {
     "name": "stderr",
     "output_type": "stream",
     "text": [
      " 48%|█████████████████████████████████▎                                    | 889/1868 [09:27<09:42,  1.68it/s]"
     ]
    },
    {
     "name": "stdout",
     "output_type": "stream",
     "text": [
      "Journal of computational and applied mathematics has homepage_url and type journal\n"
     ]
    },
    {
     "name": "stderr",
     "output_type": "stream",
     "text": [
      " 48%|█████████████████████████████████▎                                    | 890/1868 [09:28<09:25,  1.73it/s]"
     ]
    },
    {
     "name": "stdout",
     "output_type": "stream",
     "text": [
      "International journal of sensor networks has homepage_url and type journal\n"
     ]
    },
    {
     "name": "stderr",
     "output_type": "stream",
     "text": [
      " 48%|█████████████████████████████████▍                                    | 892/1868 [09:29<08:35,  1.89it/s]"
     ]
    },
    {
     "name": "stdout",
     "output_type": "stream",
     "text": [
      "Neural processing letters/Neural Processing Letters has homepage_url and type journal\n"
     ]
    },
    {
     "name": "stderr",
     "output_type": "stream",
     "text": [
      " 48%|█████████████████████████████████▍                                    | 893/1868 [09:29<08:42,  1.86it/s]"
     ]
    },
    {
     "name": "stdout",
     "output_type": "stream",
     "text": [
      "Cognitive robotics has homepage_url and type journal\n"
     ]
    },
    {
     "name": "stderr",
     "output_type": "stream",
     "text": [
      " 48%|█████████████████████████████████▌                                    | 894/1868 [09:30<08:35,  1.89it/s]"
     ]
    },
    {
     "name": "stdout",
     "output_type": "stream",
     "text": [
      "Frontiers in neurorobotics has homepage_url and type journal\n"
     ]
    },
    {
     "name": "stderr",
     "output_type": "stream",
     "text": [
      " 48%|█████████████████████████████████▌                                    | 896/1868 [09:31<09:51,  1.64it/s]"
     ]
    },
    {
     "name": "stdout",
     "output_type": "stream",
     "text": [
      "Analytical chemistry has homepage_url and type journal\n"
     ]
    },
    {
     "name": "stderr",
     "output_type": "stream",
     "text": [
      " 48%|█████████████████████████████████▋                                    | 899/1868 [09:33<08:17,  1.95it/s]"
     ]
    },
    {
     "name": "stdout",
     "output_type": "stream",
     "text": [
      "IET biometrics has homepage_url and type journal\n"
     ]
    },
    {
     "name": "stderr",
     "output_type": "stream",
     "text": [
      " 48%|█████████████████████████████████▋                                    | 900/1868 [09:34<12:22,  1.30it/s]"
     ]
    },
    {
     "name": "stdout",
     "output_type": "stream",
     "text": [
      "European management journal has homepage_url and type journal\n"
     ]
    },
    {
     "name": "stderr",
     "output_type": "stream",
     "text": [
      " 48%|█████████████████████████████████▊                                    | 902/1868 [09:36<14:17,  1.13it/s]"
     ]
    },
    {
     "name": "stdout",
     "output_type": "stream",
     "text": [
      " has homepage_url and type repository\n"
     ]
    },
    {
     "name": "stderr",
     "output_type": "stream",
     "text": [
      " 48%|█████████████████████████████████▊                                    | 903/1868 [09:37<16:14,  1.01s/it]"
     ]
    },
    {
     "name": "stdout",
     "output_type": "stream",
     "text": [
      "Artificial intelligence has homepage_url and type journal\n"
     ]
    },
    {
     "name": "stderr",
     "output_type": "stream",
     "text": [
      " 48%|█████████████████████████████████▉                                    | 904/1868 [09:38<16:24,  1.02s/it]"
     ]
    },
    {
     "name": "stdout",
     "output_type": "stream",
     "text": [
      "International journal of network management has homepage_url and type journal\n"
     ]
    },
    {
     "name": "stderr",
     "output_type": "stream",
     "text": [
      " 48%|█████████████████████████████████▉                                    | 905/1868 [09:39<13:59,  1.15it/s]"
     ]
    },
    {
     "name": "stdout",
     "output_type": "stream",
     "text": [
      "IEICE transactions on information and systems has homepage_url and type journal\n"
     ]
    },
    {
     "name": "stderr",
     "output_type": "stream",
     "text": [
      " 49%|█████████████████████████████████▉                                    | 906/1868 [09:39<12:05,  1.33it/s]"
     ]
    },
    {
     "name": "stdout",
     "output_type": "stream",
     "text": [
      "Zenodo (CERN European Organization for Nuclear Research) has homepage_url and type repository\n"
     ]
    },
    {
     "name": "stderr",
     "output_type": "stream",
     "text": [
      " 49%|█████████████████████████████████▉                                    | 907/1868 [09:40<10:52,  1.47it/s]"
     ]
    },
    {
     "name": "stdout",
     "output_type": "stream",
     "text": [
      "Linear algebra and its applications has homepage_url and type journal\n"
     ]
    },
    {
     "name": "stderr",
     "output_type": "stream",
     "text": [
      " 49%|██████████████████████████████████                                    | 908/1868 [09:40<09:54,  1.62it/s]"
     ]
    },
    {
     "name": "stdout",
     "output_type": "stream",
     "text": [
      "IFIP advances in information and communication technology has homepage_url and type book series\n"
     ]
    },
    {
     "name": "stderr",
     "output_type": "stream",
     "text": [
      " 49%|██████████████████████████████████                                    | 909/1868 [09:41<09:20,  1.71it/s]"
     ]
    },
    {
     "name": "stdout",
     "output_type": "stream",
     "text": [
      "High-confidence computing has homepage_url and type journal\n"
     ]
    },
    {
     "name": "stderr",
     "output_type": "stream",
     "text": [
      " 49%|██████████████████████████████████                                    | 910/1868 [09:41<08:59,  1.78it/s]"
     ]
    },
    {
     "name": "stdout",
     "output_type": "stream",
     "text": [
      "Physiological measurement has homepage_url and type journal\n"
     ]
    },
    {
     "name": "stderr",
     "output_type": "stream",
     "text": [
      " 49%|██████████████████████████████████▏                                   | 911/1868 [09:42<08:57,  1.78it/s]"
     ]
    },
    {
     "name": "stdout",
     "output_type": "stream",
     "text": [
      "International journal of satellite communications and networking has homepage_url and type journal\n"
     ]
    },
    {
     "name": "stderr",
     "output_type": "stream",
     "text": [
      " 49%|██████████████████████████████████▏                                   | 912/1868 [09:42<09:40,  1.65it/s]"
     ]
    },
    {
     "name": "stdout",
     "output_type": "stream",
     "text": [
      "Data intelligence has homepage_url and type journal\n"
     ]
    },
    {
     "name": "stderr",
     "output_type": "stream",
     "text": [
      " 49%|██████████████████████████████████▏                                   | 913/1868 [09:43<09:08,  1.74it/s]"
     ]
    },
    {
     "name": "stdout",
     "output_type": "stream",
     "text": [
      "PubMed has homepage_url and type repository\n"
     ]
    },
    {
     "name": "stderr",
     "output_type": "stream",
     "text": [
      " 49%|██████████████████████████████████▎                                   | 914/1868 [09:44<08:59,  1.77it/s]"
     ]
    },
    {
     "name": "stdout",
     "output_type": "stream",
     "text": [
      "Biocybernetics and Biomedical Engineering has homepage_url and type journal\n"
     ]
    },
    {
     "name": "stderr",
     "output_type": "stream",
     "text": [
      " 49%|██████████████████████████████████▎                                   | 915/1868 [09:44<08:36,  1.84it/s]"
     ]
    },
    {
     "name": "stdout",
     "output_type": "stream",
     "text": [
      "Journal of theoretical and applied electronic commerce research has homepage_url and type journal\n"
     ]
    },
    {
     "name": "stderr",
     "output_type": "stream",
     "text": [
      " 49%|██████████████████████████████████▎                                   | 916/1868 [09:44<08:15,  1.92it/s]"
     ]
    },
    {
     "name": "stdout",
     "output_type": "stream",
     "text": [
      "Transactions of the Institute of Measurement and Control has homepage_url and type journal\n"
     ]
    },
    {
     "name": "stderr",
     "output_type": "stream",
     "text": [
      " 49%|██████████████████████████████████▎                                   | 917/1868 [09:46<11:05,  1.43it/s]"
     ]
    },
    {
     "name": "stdout",
     "output_type": "stream",
     "text": [
      "Journal of applied polymer science has homepage_url and type journal\n"
     ]
    },
    {
     "name": "stderr",
     "output_type": "stream",
     "text": [
      " 49%|██████████████████████████████████▍                                   | 918/1868 [09:46<10:03,  1.57it/s]"
     ]
    },
    {
     "name": "stdout",
     "output_type": "stream",
     "text": [
      "EcoMat has homepage_url and type journal\n"
     ]
    },
    {
     "name": "stderr",
     "output_type": "stream",
     "text": [
      " 49%|██████████████████████████████████▍                                   | 919/1868 [09:47<09:33,  1.65it/s]"
     ]
    },
    {
     "name": "stdout",
     "output_type": "stream",
     "text": [
      "IET smart grid has homepage_url and type journal\n"
     ]
    },
    {
     "name": "stderr",
     "output_type": "stream",
     "text": [
      " 49%|██████████████████████████████████▍                                   | 920/1868 [09:47<08:56,  1.77it/s]"
     ]
    },
    {
     "name": "stdout",
     "output_type": "stream",
     "text": [
      "Communications in Mathematical Research/Communications in mathematical research has homepage_url and type journal\n"
     ]
    },
    {
     "name": "stderr",
     "output_type": "stream",
     "text": [
      " 49%|██████████████████████████████████▌                                   | 921/1868 [09:48<08:34,  1.84it/s]"
     ]
    },
    {
     "name": "stdout",
     "output_type": "stream",
     "text": [
      "The journal of physical chemistry. A/The journal of physical chemistry. A. has homepage_url and type journal\n"
     ]
    },
    {
     "name": "stderr",
     "output_type": "stream",
     "text": [
      " 49%|██████████████████████████████████▌                                   | 922/1868 [09:48<08:16,  1.91it/s]"
     ]
    },
    {
     "name": "stdout",
     "output_type": "stream",
     "text": [
      "Proceedings of the ACM on human-computer interaction has homepage_url and type journal\n"
     ]
    },
    {
     "name": "stderr",
     "output_type": "stream",
     "text": [
      " 49%|██████████████████████████████████▌                                   | 923/1868 [09:49<10:13,  1.54it/s]"
     ]
    },
    {
     "name": "stdout",
     "output_type": "stream",
     "text": [
      "Patterns has homepage_url and type journal\n"
     ]
    },
    {
     "name": "stderr",
     "output_type": "stream",
     "text": [
      " 49%|██████████████████████████████████▋                                   | 924/1868 [09:50<10:17,  1.53it/s]"
     ]
    },
    {
     "name": "stdout",
     "output_type": "stream",
     "text": [
      "Enterprise information systems has homepage_url and type journal\n"
     ]
    },
    {
     "name": "stderr",
     "output_type": "stream",
     "text": [
      " 50%|██████████████████████████████████▋                                   | 925/1868 [09:51<13:07,  1.20it/s]"
     ]
    },
    {
     "name": "stdout",
     "output_type": "stream",
     "text": [
      "Electromagnetics has homepage_url and type journal\n"
     ]
    },
    {
     "name": "stderr",
     "output_type": "stream",
     "text": [
      " 50%|██████████████████████████████████▋                                   | 926/1868 [09:51<11:39,  1.35it/s]"
     ]
    },
    {
     "name": "stdout",
     "output_type": "stream",
     "text": [
      "EAI endorsed transactions on industrial networks and intelligent systems has homepage_url and type journal\n"
     ]
    },
    {
     "name": "stderr",
     "output_type": "stream",
     "text": [
      " 50%|██████████████████████████████████▋                                   | 927/1868 [09:52<10:15,  1.53it/s]"
     ]
    },
    {
     "name": "stdout",
     "output_type": "stream",
     "text": [
      "Optica Applicata has homepage_url and type journal\n"
     ]
    },
    {
     "name": "stderr",
     "output_type": "stream",
     "text": [
      " 50%|██████████████████████████████████▊                                   | 930/1868 [09:54<12:00,  1.30it/s]"
     ]
    },
    {
     "name": "stdout",
     "output_type": "stream",
     "text": [
      "Quality and reliability engineering international has homepage_url and type journal\n"
     ]
    },
    {
     "name": "stderr",
     "output_type": "stream",
     "text": [
      " 50%|███████████████████████████████████                                   | 934/1868 [09:56<09:56,  1.56it/s]"
     ]
    },
    {
     "name": "stdout",
     "output_type": "stream",
     "text": [
      "IEEE transactions on bio-medical engineering/IEEE transactions on biomedical engineering has homepage_url and type journal\n"
     ]
    },
    {
     "name": "stderr",
     "output_type": "stream",
     "text": [
      " 50%|███████████████████████████████████                                   | 935/1868 [09:57<09:12,  1.69it/s]"
     ]
    },
    {
     "name": "stdout",
     "output_type": "stream",
     "text": [
      "Asian journal of control has homepage_url and type journal\n"
     ]
    },
    {
     "name": "stderr",
     "output_type": "stream",
     "text": [
      " 50%|███████████████████████████████████                                   | 937/1868 [09:58<08:16,  1.87it/s]"
     ]
    },
    {
     "name": "stdout",
     "output_type": "stream",
     "text": [
      "Data in brief has homepage_url and type journal\n"
     ]
    },
    {
     "name": "stderr",
     "output_type": "stream",
     "text": [
      " 50%|███████████████████████████████████▏                                  | 939/1868 [10:00<11:13,  1.38it/s]"
     ]
    },
    {
     "name": "stdout",
     "output_type": "stream",
     "text": [
      "Journal of knowledge management has homepage_url and type journal\n"
     ]
    },
    {
     "name": "stderr",
     "output_type": "stream",
     "text": [
      " 50%|███████████████████████████████████▏                                  | 940/1868 [10:01<14:07,  1.10it/s]"
     ]
    },
    {
     "name": "stdout",
     "output_type": "stream",
     "text": [
      "Journal of information science has homepage_url and type journal\n"
     ]
    },
    {
     "name": "stderr",
     "output_type": "stream",
     "text": [
      " 50%|███████████████████████████████████▎                                  | 941/1868 [10:02<15:56,  1.03s/it]"
     ]
    },
    {
     "name": "stdout",
     "output_type": "stream",
     "text": [
      "IET networks has homepage_url and type journal\n"
     ]
    },
    {
     "name": "stderr",
     "output_type": "stream",
     "text": [
      " 50%|███████████████████████████████████▎                                  | 942/1868 [10:03<15:36,  1.01s/it]"
     ]
    },
    {
     "name": "stdout",
     "output_type": "stream",
     "text": [
      "International journal of communication systems has homepage_url and type journal\n"
     ]
    },
    {
     "name": "stderr",
     "output_type": "stream",
     "text": [
      " 50%|███████████████████████████████████▎                                  | 943/1868 [10:04<13:28,  1.14it/s]"
     ]
    },
    {
     "name": "stdout",
     "output_type": "stream",
     "text": [
      "Educational media international has homepage_url and type journal\n"
     ]
    },
    {
     "name": "stderr",
     "output_type": "stream",
     "text": [
      " 51%|███████████████████████████████████▍                                  | 947/1868 [10:07<13:59,  1.10it/s]"
     ]
    },
    {
     "name": "stdout",
     "output_type": "stream",
     "text": [
      "Indoor air has homepage_url and type journal\n"
     ]
    },
    {
     "name": "stderr",
     "output_type": "stream",
     "text": [
      " 51%|███████████████████████████████████▌                                  | 948/1868 [10:08<15:42,  1.02s/it]"
     ]
    },
    {
     "name": "stdout",
     "output_type": "stream",
     "text": [
      "Solid state sciences has homepage_url and type journal\n"
     ]
    },
    {
     "name": "stderr",
     "output_type": "stream",
     "text": [
      " 51%|███████████████████████████████████▌                                  | 949/1868 [10:09<14:04,  1.09it/s]"
     ]
    },
    {
     "name": "stdout",
     "output_type": "stream",
     "text": [
      "Journal of radiation research has homepage_url and type journal\n"
     ]
    },
    {
     "name": "stderr",
     "output_type": "stream",
     "text": [
      " 51%|███████████████████████████████████▌                                  | 950/1868 [10:09<12:10,  1.26it/s]"
     ]
    },
    {
     "name": "stdout",
     "output_type": "stream",
     "text": [
      "Naval research logistics has homepage_url and type journal\n"
     ]
    },
    {
     "name": "stderr",
     "output_type": "stream",
     "text": [
      " 51%|███████████████████████████████████▋                                  | 951/1868 [10:10<10:53,  1.40it/s]"
     ]
    },
    {
     "name": "stdout",
     "output_type": "stream",
     "text": [
      "Chemical physics letters has homepage_url and type journal\n"
     ]
    },
    {
     "name": "stderr",
     "output_type": "stream",
     "text": [
      " 51%|███████████████████████████████████▋                                  | 952/1868 [10:10<09:48,  1.56it/s]"
     ]
    },
    {
     "name": "stdout",
     "output_type": "stream",
     "text": [
      "Public understanding of science has homepage_url and type journal\n"
     ]
    },
    {
     "name": "stderr",
     "output_type": "stream",
     "text": [
      " 51%|███████████████████████████████████▋                                  | 953/1868 [10:11<09:05,  1.68it/s]"
     ]
    },
    {
     "name": "stdout",
     "output_type": "stream",
     "text": [
      "Journal of nonlinear mathematical physics has homepage_url and type journal\n"
     ]
    },
    {
     "name": "stderr",
     "output_type": "stream",
     "text": [
      " 51%|███████████████████████████████████▋                                  | 954/1868 [10:11<08:39,  1.76it/s]"
     ]
    },
    {
     "name": "stdout",
     "output_type": "stream",
     "text": [
      "IEEE control systems letters has homepage_url and type journal\n"
     ]
    },
    {
     "name": "stderr",
     "output_type": "stream",
     "text": [
      " 51%|███████████████████████████████████▊                                  | 955/1868 [10:12<08:09,  1.87it/s]"
     ]
    },
    {
     "name": "stdout",
     "output_type": "stream",
     "text": [
      "IEEE transactions on electromagnetic compatibility has homepage_url and type journal\n"
     ]
    },
    {
     "name": "stderr",
     "output_type": "stream",
     "text": [
      " 51%|███████████████████████████████████▊                                  | 956/1868 [10:13<11:58,  1.27it/s]"
     ]
    },
    {
     "name": "stdout",
     "output_type": "stream",
     "text": [
      "Discrete applied mathematics has homepage_url and type journal\n"
     ]
    },
    {
     "name": "stderr",
     "output_type": "stream",
     "text": [
      " 51%|███████████████████████████████████▉                                  | 958/1868 [10:15<12:37,  1.20it/s]"
     ]
    },
    {
     "name": "stdout",
     "output_type": "stream",
     "text": [
      "Numerical algorithms has homepage_url and type journal\n"
     ]
    },
    {
     "name": "stderr",
     "output_type": "stream",
     "text": [
      " 51%|███████████████████████████████████▉                                  | 959/1868 [10:15<10:58,  1.38it/s]"
     ]
    },
    {
     "name": "stdout",
     "output_type": "stream",
     "text": [
      "IEEE transactions on computational imaging has homepage_url and type journal\n"
     ]
    },
    {
     "name": "stderr",
     "output_type": "stream",
     "text": [
      " 51%|███████████████████████████████████▉                                  | 960/1868 [10:16<12:57,  1.17it/s]"
     ]
    },
    {
     "name": "stdout",
     "output_type": "stream",
     "text": [
      "European journal of combinatorics has homepage_url and type journal\n"
     ]
    },
    {
     "name": "stderr",
     "output_type": "stream",
     "text": [
      " 51%|████████████████████████████████████                                  | 962/1868 [10:18<10:37,  1.42it/s]"
     ]
    },
    {
     "name": "stdout",
     "output_type": "stream",
     "text": [
      "Water resources research has homepage_url and type journal\n"
     ]
    },
    {
     "name": "stderr",
     "output_type": "stream",
     "text": [
      " 52%|████████████████████████████████████                                  | 963/1868 [10:18<09:45,  1.55it/s]"
     ]
    },
    {
     "name": "stdout",
     "output_type": "stream",
     "text": [
      "Respirology has homepage_url and type journal\n"
     ]
    },
    {
     "name": "stderr",
     "output_type": "stream",
     "text": [
      " 52%|████████████████████████████████████                                  | 964/1868 [10:19<10:04,  1.49it/s]"
     ]
    },
    {
     "name": "stdout",
     "output_type": "stream",
     "text": [
      "Chip has homepage_url and type journal\n"
     ]
    },
    {
     "name": "stderr",
     "output_type": "stream",
     "text": [
      " 52%|████████████████████████████████████▏                                 | 965/1868 [10:19<09:15,  1.62it/s]"
     ]
    },
    {
     "name": "stdout",
     "output_type": "stream",
     "text": [
      "Autonomous intelligent systems has homepage_url and type journal\n"
     ]
    },
    {
     "name": "stderr",
     "output_type": "stream",
     "text": [
      " 52%|████████████████████████████████████▎                                 | 969/1868 [10:21<07:27,  2.01it/s]"
     ]
    },
    {
     "name": "stdout",
     "output_type": "stream",
     "text": [
      "Dento-maxillo-facial radiology/Dentomaxillofacial radiology has homepage_url and type journal\n"
     ]
    },
    {
     "name": "stderr",
     "output_type": "stream",
     "text": [
      " 52%|████████████████████████████████████▎                                 | 970/1868 [10:22<09:46,  1.53it/s]"
     ]
    },
    {
     "name": "stdout",
     "output_type": "stream",
     "text": [
      "IEEE software has homepage_url and type journal\n"
     ]
    },
    {
     "name": "stderr",
     "output_type": "stream",
     "text": [
      " 52%|████████████████████████████████████▍                                 | 973/1868 [10:24<08:11,  1.82it/s]"
     ]
    },
    {
     "name": "stdout",
     "output_type": "stream",
     "text": [
      "Artificial intelligence in medicine has homepage_url and type journal\n"
     ]
    },
    {
     "name": "stderr",
     "output_type": "stream",
     "text": [
      " 52%|████████████████████████████████████▍                                 | 974/1868 [10:25<10:07,  1.47it/s]"
     ]
    },
    {
     "name": "stdout",
     "output_type": "stream",
     "text": [
      "Journal of sensors has homepage_url and type journal\n"
     ]
    },
    {
     "name": "stderr",
     "output_type": "stream",
     "text": [
      " 52%|████████████████████████████████████▌                                 | 976/1868 [10:26<11:31,  1.29it/s]"
     ]
    },
    {
     "name": "stdout",
     "output_type": "stream",
     "text": [
      "Journal of solid state chemistry has homepage_url and type journal\n"
     ]
    },
    {
     "name": "stderr",
     "output_type": "stream",
     "text": [
      " 52%|████████████████████████████████████▋                                 | 978/1868 [10:27<09:00,  1.65it/s]"
     ]
    },
    {
     "name": "stdout",
     "output_type": "stream",
     "text": [
      "Applied system innovation has homepage_url and type journal\n"
     ]
    },
    {
     "name": "stderr",
     "output_type": "stream",
     "text": [
      " 52%|████████████████████████████████████▋                                 | 979/1868 [10:28<08:27,  1.75it/s]"
     ]
    },
    {
     "name": "stdout",
     "output_type": "stream",
     "text": [
      "Journal of process control has homepage_url and type journal\n"
     ]
    },
    {
     "name": "stderr",
     "output_type": "stream",
     "text": [
      " 53%|████████████████████████████████████▊                                 | 981/1868 [10:29<07:56,  1.86it/s]"
     ]
    },
    {
     "name": "stdout",
     "output_type": "stream",
     "text": [
      "The Journal of supercomputing/Journal of supercomputing has homepage_url and type journal\n"
     ]
    },
    {
     "name": "stderr",
     "output_type": "stream",
     "text": [
      " 53%|████████████████████████████████████▊                                 | 983/1868 [10:30<07:17,  2.02it/s]"
     ]
    },
    {
     "name": "stdout",
     "output_type": "stream",
     "text": [
      "Journal of modern optics has homepage_url and type journal\n"
     ]
    },
    {
     "name": "stderr",
     "output_type": "stream",
     "text": [
      " 53%|████████████████████████████████████▊                                 | 984/1868 [10:30<07:15,  2.03it/s]"
     ]
    },
    {
     "name": "stdout",
     "output_type": "stream",
     "text": [
      "The Journal of contemporary China/Journal of contemporary China has homepage_url and type journal\n"
     ]
    },
    {
     "name": "stderr",
     "output_type": "stream",
     "text": [
      " 53%|████████████████████████████████████▉                                 | 985/1868 [10:30<07:13,  2.04it/s]"
     ]
    },
    {
     "name": "stdout",
     "output_type": "stream",
     "text": [
      "Composites science and technology has homepage_url and type journal\n"
     ]
    },
    {
     "name": "stderr",
     "output_type": "stream",
     "text": [
      " 53%|████████████████████████████████████▉                                 | 986/1868 [10:31<07:01,  2.09it/s]"
     ]
    },
    {
     "name": "stdout",
     "output_type": "stream",
     "text": [
      "Procedia CIRP has homepage_url and type journal\n"
     ]
    },
    {
     "name": "stderr",
     "output_type": "stream",
     "text": [
      " 53%|████████████████████████████████████▉                                 | 987/1868 [10:31<06:58,  2.11it/s]"
     ]
    },
    {
     "name": "stdout",
     "output_type": "stream",
     "text": [
      "Journal of physics communications has homepage_url and type journal\n"
     ]
    },
    {
     "name": "stderr",
     "output_type": "stream",
     "text": [
      " 53%|█████████████████████████████████████                                 | 989/1868 [10:33<10:37,  1.38it/s]"
     ]
    },
    {
     "name": "stdout",
     "output_type": "stream",
     "text": [
      "International journal of aerospace engineering has homepage_url and type journal\n"
     ]
    },
    {
     "name": "stderr",
     "output_type": "stream",
     "text": [
      " 53%|█████████████████████████████████████                                 | 990/1868 [10:35<13:23,  1.09it/s]"
     ]
    },
    {
     "name": "stdout",
     "output_type": "stream",
     "text": [
      "Chinese medical journal/Chinese Medical Journal has homepage_url and type journal\n"
     ]
    },
    {
     "name": "stderr",
     "output_type": "stream",
     "text": [
      " 53%|█████████████████████████████████████▏                                | 991/1868 [10:35<11:33,  1.26it/s]"
     ]
    },
    {
     "name": "stdout",
     "output_type": "stream",
     "text": [
      "Biological conservation has homepage_url and type journal\n"
     ]
    },
    {
     "name": "stderr",
     "output_type": "stream",
     "text": [
      " 53%|█████████████████████████████████████▏                                | 992/1868 [10:36<10:14,  1.43it/s]"
     ]
    },
    {
     "name": "stdout",
     "output_type": "stream",
     "text": [
      "Robotics and autonomous systems has homepage_url and type journal\n"
     ]
    },
    {
     "name": "stderr",
     "output_type": "stream",
     "text": [
      " 53%|█████████████████████████████████████▏                                | 993/1868 [10:37<12:30,  1.17it/s]"
     ]
    },
    {
     "name": "stdout",
     "output_type": "stream",
     "text": [
      "Journal of the Electrochemical Society has homepage_url and type journal\n"
     ]
    },
    {
     "name": "stderr",
     "output_type": "stream",
     "text": [
      " 53%|█████████████████████████████████████▎                                | 995/1868 [10:38<09:40,  1.50it/s]"
     ]
    },
    {
     "name": "stdout",
     "output_type": "stream",
     "text": [
      "Advanced materials interfaces has homepage_url and type journal\n"
     ]
    },
    {
     "name": "stderr",
     "output_type": "stream",
     "text": [
      " 53%|█████████████████████████████████████▎                                | 996/1868 [10:39<12:21,  1.18it/s]"
     ]
    },
    {
     "name": "stdout",
     "output_type": "stream",
     "text": [
      "Computer Science and Information Systems has homepage_url and type journal\n"
     ]
    },
    {
     "name": "stderr",
     "output_type": "stream",
     "text": [
      " 53%|█████████████████████████████████████▎                                | 997/1868 [10:40<11:10,  1.30it/s]"
     ]
    },
    {
     "name": "stdout",
     "output_type": "stream",
     "text": [
      "Information processing letters has homepage_url and type journal\n"
     ]
    },
    {
     "name": "stderr",
     "output_type": "stream",
     "text": [
      " 53%|█████████████████████████████████████▍                                | 998/1868 [10:40<09:50,  1.47it/s]"
     ]
    },
    {
     "name": "stdout",
     "output_type": "stream",
     "text": [
      "Simulation modelling practice and theory has homepage_url and type journal\n"
     ]
    },
    {
     "name": "stderr",
     "output_type": "stream",
     "text": [
      " 54%|████████████████████████████████████▉                                | 1000/1868 [10:42<10:56,  1.32it/s]"
     ]
    },
    {
     "name": "stdout",
     "output_type": "stream",
     "text": [
      "Cybersecurity has homepage_url and type journal\n"
     ]
    },
    {
     "name": "stderr",
     "output_type": "stream",
     "text": [
      " 54%|████████████████████████████████████▉                                | 1001/1868 [10:42<09:38,  1.50it/s]"
     ]
    },
    {
     "name": "stdout",
     "output_type": "stream",
     "text": [
      "Molecules/Molecules online/Molecules annual has homepage_url and type journal\n"
     ]
    },
    {
     "name": "stderr",
     "output_type": "stream",
     "text": [
      " 54%|█████████████████████████████████████                                | 1002/1868 [10:43<08:50,  1.63it/s]"
     ]
    },
    {
     "name": "stdout",
     "output_type": "stream",
     "text": [
      "International journal of robust and nonlinear control has homepage_url and type journal\n"
     ]
    },
    {
     "name": "stderr",
     "output_type": "stream",
     "text": [
      " 54%|█████████████████████████████████████                                | 1003/1868 [10:43<10:04,  1.43it/s]"
     ]
    },
    {
     "name": "stdout",
     "output_type": "stream",
     "text": [
      "Frontiers in cardiovascular medicine has homepage_url and type journal\n"
     ]
    },
    {
     "name": "stderr",
     "output_type": "stream",
     "text": [
      " 54%|█████████████████████████████████████                                | 1004/1868 [10:44<08:59,  1.60it/s]"
     ]
    },
    {
     "name": "stdout",
     "output_type": "stream",
     "text": [
      "Cognitive computation and systems has homepage_url and type journal\n"
     ]
    },
    {
     "name": "stderr",
     "output_type": "stream",
     "text": [
      " 54%|█████████████████████████████████████▏                               | 1006/1868 [10:45<07:48,  1.84it/s]"
     ]
    },
    {
     "name": "stdout",
     "output_type": "stream",
     "text": [
      "Journal of chemical physics online/The Journal of chemical physics/Journal of chemical physics has homepage_url and type journal\n"
     ]
    },
    {
     "name": "stderr",
     "output_type": "stream",
     "text": [
      " 54%|█████████████████████████████████████▏                               | 1007/1868 [10:45<07:23,  1.94it/s]"
     ]
    },
    {
     "name": "stdout",
     "output_type": "stream",
     "text": [
      "Cell proliferation has homepage_url and type journal\n"
     ]
    },
    {
     "name": "stderr",
     "output_type": "stream",
     "text": [
      " 54%|█████████████████████████████████████▎                               | 1011/1868 [10:47<06:41,  2.13it/s]"
     ]
    },
    {
     "name": "stdout",
     "output_type": "stream",
     "text": [
      "IET intelligent transport systems has homepage_url and type journal\n"
     ]
    },
    {
     "name": "stderr",
     "output_type": "stream",
     "text": [
      " 54%|█████████████████████████████████████▍                               | 1012/1868 [10:48<08:26,  1.69it/s]"
     ]
    },
    {
     "name": "stdout",
     "output_type": "stream",
     "text": [
      "Pervasive and mobile computing has homepage_url and type journal\n"
     ]
    },
    {
     "name": "stderr",
     "output_type": "stream",
     "text": [
      " 54%|█████████████████████████████████████▍                               | 1014/1868 [10:49<07:31,  1.89it/s]"
     ]
    },
    {
     "name": "stdout",
     "output_type": "stream",
     "text": [
      "Current issues in tourism has homepage_url and type journal\n"
     ]
    },
    {
     "name": "stderr",
     "output_type": "stream",
     "text": [
      " 54%|█████████████████████████████████████▌                               | 1018/1868 [10:52<10:07,  1.40it/s]"
     ]
    },
    {
     "name": "stdout",
     "output_type": "stream",
     "text": [
      "ICST transactions on mobile communications and applications has homepage_url and type journal\n"
     ]
    },
    {
     "name": "stderr",
     "output_type": "stream",
     "text": [
      " 55%|█████████████████████████████████████▋                               | 1019/1868 [10:52<09:10,  1.54it/s]"
     ]
    },
    {
     "name": "stdout",
     "output_type": "stream",
     "text": [
      "IEEE journal of emerging and selected topics in power electronics has homepage_url and type journal\n"
     ]
    },
    {
     "name": "stderr",
     "output_type": "stream",
     "text": [
      " 55%|█████████████████████████████████████▋                               | 1021/1868 [10:53<08:29,  1.66it/s]"
     ]
    },
    {
     "name": "stdout",
     "output_type": "stream",
     "text": [
      "Peer-to-peer networking and applications has homepage_url and type journal\n"
     ]
    },
    {
     "name": "stderr",
     "output_type": "stream",
     "text": [
      " 55%|█████████████████████████████████████▊                               | 1022/1868 [10:55<11:42,  1.20it/s]"
     ]
    },
    {
     "name": "stdout",
     "output_type": "stream",
     "text": [
      "Soft computing has homepage_url and type journal\n"
     ]
    },
    {
     "name": "stderr",
     "output_type": "stream",
     "text": [
      " 55%|█████████████████████████████████████▊                               | 1023/1868 [10:55<10:29,  1.34it/s]"
     ]
    },
    {
     "name": "stdout",
     "output_type": "stream",
     "text": [
      "IOP conference series. Materials science and engineering has homepage_url and type conference\n"
     ]
    },
    {
     "name": "stderr",
     "output_type": "stream",
     "text": [
      " 55%|█████████████████████████████████████▉                               | 1028/1868 [10:58<07:20,  1.91it/s]"
     ]
    },
    {
     "name": "stdout",
     "output_type": "stream",
     "text": [
      "Journal of computational and nonlinear dynamics has homepage_url and type journal\n"
     ]
    },
    {
     "name": "stderr",
     "output_type": "stream",
     "text": [
      " 55%|██████████████████████████████████████                               | 1029/1868 [10:58<07:06,  1.97it/s]"
     ]
    },
    {
     "name": "stdout",
     "output_type": "stream",
     "text": [
      "European journal of marketing has homepage_url and type journal\n"
     ]
    },
    {
     "name": "stderr",
     "output_type": "stream",
     "text": [
      " 55%|██████████████████████████████████████                               | 1030/1868 [10:59<07:09,  1.95it/s]"
     ]
    },
    {
     "name": "stdout",
     "output_type": "stream",
     "text": [
      "Economic modelling has homepage_url and type journal\n"
     ]
    },
    {
     "name": "stderr",
     "output_type": "stream",
     "text": [
      " 55%|██████████████████████████████████████                               | 1031/1868 [10:59<08:12,  1.70it/s]"
     ]
    },
    {
     "name": "stdout",
     "output_type": "stream",
     "text": [
      "Cryptography has homepage_url and type journal\n"
     ]
    },
    {
     "name": "stderr",
     "output_type": "stream",
     "text": [
      " 55%|██████████████████████████████████████▏                              | 1034/1868 [11:01<07:02,  1.97it/s]"
     ]
    },
    {
     "name": "stdout",
     "output_type": "stream",
     "text": [
      "Fiber and integrated optics has homepage_url and type journal\n"
     ]
    },
    {
     "name": "stderr",
     "output_type": "stream",
     "text": [
      " 55%|██████████████████████████████████████▎                              | 1036/1868 [11:02<06:40,  2.08it/s]"
     ]
    },
    {
     "name": "stdout",
     "output_type": "stream",
     "text": [
      "Journal of quantum computing has homepage_url and type journal\n"
     ]
    },
    {
     "name": "stderr",
     "output_type": "stream",
     "text": [
      " 56%|██████████████████████████████████████▎                              | 1037/1868 [11:02<06:42,  2.06it/s]"
     ]
    },
    {
     "name": "stdout",
     "output_type": "stream",
     "text": [
      "The Journal of management and governance has homepage_url and type journal\n"
     ]
    },
    {
     "name": "stderr",
     "output_type": "stream",
     "text": [
      " 56%|██████████████████████████████████████▎                              | 1038/1868 [11:03<09:59,  1.38it/s]"
     ]
    },
    {
     "name": "stdout",
     "output_type": "stream",
     "text": [
      "Gene has homepage_url and type journal\n"
     ]
    },
    {
     "name": "stderr",
     "output_type": "stream",
     "text": [
      " 56%|██████████████████████████████████████▍                              | 1039/1868 [11:04<08:54,  1.55it/s]"
     ]
    },
    {
     "name": "stdout",
     "output_type": "stream",
     "text": [
      "Communications in mathematics and statistics has homepage_url and type journal\n"
     ]
    },
    {
     "name": "stderr",
     "output_type": "stream",
     "text": [
      " 56%|██████████████████████████████████████▌                              | 1043/1868 [11:06<07:56,  1.73it/s]"
     ]
    },
    {
     "name": "stdout",
     "output_type": "stream",
     "text": [
      "Transactions on internet and information systems has homepage_url and type journal\n"
     ]
    },
    {
     "name": "stderr",
     "output_type": "stream",
     "text": [
      " 56%|██████████████████████████████████████▌                              | 1044/1868 [11:07<07:31,  1.82it/s]"
     ]
    },
    {
     "name": "stdout",
     "output_type": "stream",
     "text": [
      "Advances in intelligent systems and computing has homepage_url and type book series\n"
     ]
    },
    {
     "name": "stderr",
     "output_type": "stream",
     "text": [
      " 56%|██████████████████████████████████████▌                              | 1045/1868 [11:07<07:05,  1.93it/s]"
     ]
    },
    {
     "name": "stdout",
     "output_type": "stream",
     "text": [
      "Rapid prototyping journal has homepage_url and type journal\n"
     ]
    },
    {
     "name": "stderr",
     "output_type": "stream",
     "text": [
      " 56%|██████████████████████████████████████▋                              | 1046/1868 [11:08<07:01,  1.95it/s]"
     ]
    },
    {
     "name": "stdout",
     "output_type": "stream",
     "text": [
      "Solid state communications has homepage_url and type journal\n"
     ]
    },
    {
     "name": "stderr",
     "output_type": "stream",
     "text": [
      " 56%|██████████████████████████████████████▋                              | 1048/1868 [11:09<06:50,  2.00it/s]"
     ]
    },
    {
     "name": "stdout",
     "output_type": "stream",
     "text": [
      "Studies in computational intelligence has homepage_url and type book series\n"
     ]
    },
    {
     "name": "stderr",
     "output_type": "stream",
     "text": [
      " 56%|██████████████████████████████████████▊                              | 1050/1868 [11:10<06:52,  1.98it/s]"
     ]
    },
    {
     "name": "stdout",
     "output_type": "stream",
     "text": [
      "IET cyber-physical systems has homepage_url and type journal\n"
     ]
    },
    {
     "name": "stderr",
     "output_type": "stream",
     "text": [
      " 56%|██████████████████████████████████████▊                              | 1051/1868 [11:11<09:22,  1.45it/s]"
     ]
    },
    {
     "name": "stdout",
     "output_type": "stream",
     "text": [
      "Psychological reports has homepage_url and type journal\n"
     ]
    },
    {
     "name": "stderr",
     "output_type": "stream",
     "text": [
      " 56%|██████████████████████████████████████▊                              | 1052/1868 [11:12<11:14,  1.21it/s]"
     ]
    },
    {
     "name": "stdout",
     "output_type": "stream",
     "text": [
      "Graphical models has homepage_url and type journal\n"
     ]
    },
    {
     "name": "stderr",
     "output_type": "stream",
     "text": [
      " 56%|██████████████████████████████████████▉                              | 1054/1868 [11:13<08:49,  1.54it/s]"
     ]
    },
    {
     "name": "stdout",
     "output_type": "stream",
     "text": [
      "International journal of applied ceramic technology has homepage_url and type journal\n"
     ]
    },
    {
     "name": "stderr",
     "output_type": "stream",
     "text": [
      " 56%|██████████████████████████████████████▉                              | 1055/1868 [11:13<08:08,  1.66it/s]"
     ]
    },
    {
     "name": "stdout",
     "output_type": "stream",
     "text": [
      "Modern physics letters A has homepage_url and type journal\n"
     ]
    },
    {
     "name": "stderr",
     "output_type": "stream",
     "text": [
      " 57%|███████████████████████████████████████                              | 1056/1868 [11:14<07:34,  1.79it/s]"
     ]
    },
    {
     "name": "stdout",
     "output_type": "stream",
     "text": [
      "Shock and vibration has homepage_url and type journal\n"
     ]
    },
    {
     "name": "stderr",
     "output_type": "stream",
     "text": [
      " 57%|███████████████████████████████████████                              | 1058/1868 [11:15<07:12,  1.87it/s]"
     ]
    },
    {
     "name": "stdout",
     "output_type": "stream",
     "text": [
      "International journal of digital crime and forensics has homepage_url and type journal\n"
     ]
    },
    {
     "name": "stderr",
     "output_type": "stream",
     "text": [
      " 57%|███████████████████████████████████████▏                             | 1060/1868 [11:17<10:23,  1.30it/s]"
     ]
    },
    {
     "name": "stdout",
     "output_type": "stream",
     "text": [
      "Genes has homepage_url and type journal\n"
     ]
    },
    {
     "name": "stderr",
     "output_type": "stream",
     "text": [
      " 57%|███████████████████████████████████████▏                             | 1061/1868 [11:17<09:52,  1.36it/s]"
     ]
    },
    {
     "name": "stdout",
     "output_type": "stream",
     "text": [
      "Advances in civil engineering has homepage_url and type journal\n"
     ]
    },
    {
     "name": "stderr",
     "output_type": "stream",
     "text": [
      " 57%|███████████████████████████████████████▏                             | 1062/1868 [11:18<11:56,  1.13it/s]"
     ]
    },
    {
     "name": "stdout",
     "output_type": "stream",
     "text": [
      "Information development has homepage_url and type journal\n"
     ]
    },
    {
     "name": "stderr",
     "output_type": "stream",
     "text": [
      " 57%|███████████████████████████████████████▎                             | 1063/1868 [11:19<10:15,  1.31it/s]"
     ]
    },
    {
     "name": "stdout",
     "output_type": "stream",
     "text": [
      "Analysis mathematica has homepage_url and type journal\n"
     ]
    },
    {
     "name": "stderr",
     "output_type": "stream",
     "text": [
      " 57%|███████████████████████████████████████▎                             | 1065/1868 [11:20<08:20,  1.60it/s]"
     ]
    },
    {
     "name": "stdout",
     "output_type": "stream",
     "text": [
      "Precision clinical medicine has homepage_url and type journal\n"
     ]
    },
    {
     "name": "stderr",
     "output_type": "stream",
     "text": [
      " 57%|███████████████████████████████████████▍                             | 1066/1868 [11:20<07:48,  1.71it/s]"
     ]
    },
    {
     "name": "stdout",
     "output_type": "stream",
     "text": [
      "Applied mathematics and nonlinear sciences has homepage_url and type journal\n"
     ]
    },
    {
     "name": "stderr",
     "output_type": "stream",
     "text": [
      " 57%|███████████████████████████████████████▍                             | 1067/1868 [11:21<07:22,  1.81it/s]"
     ]
    },
    {
     "name": "stdout",
     "output_type": "stream",
     "text": [
      "International journal of pattern recognition and artificial intelligence has homepage_url and type journal\n"
     ]
    },
    {
     "name": "stderr",
     "output_type": "stream",
     "text": [
      " 57%|███████████████████████████████████████▍                             | 1068/1868 [11:22<10:52,  1.23it/s]"
     ]
    },
    {
     "name": "stdout",
     "output_type": "stream",
     "text": [
      "Machine learning has homepage_url and type journal\n"
     ]
    },
    {
     "name": "stderr",
     "output_type": "stream",
     "text": [
      " 57%|███████████████████████████████████████▌                             | 1070/1868 [11:24<10:12,  1.30it/s]"
     ]
    },
    {
     "name": "stdout",
     "output_type": "stream",
     "text": [
      "Frontiers in artificial intelligence has homepage_url and type journal\n"
     ]
    },
    {
     "name": "stderr",
     "output_type": "stream",
     "text": [
      " 57%|███████████████████████████████████████▌                             | 1071/1868 [11:25<12:01,  1.11it/s]"
     ]
    },
    {
     "name": "stdout",
     "output_type": "stream",
     "text": [
      "Journal of scientific computing has homepage_url and type journal\n"
     ]
    },
    {
     "name": "stderr",
     "output_type": "stream",
     "text": [
      " 57%|███████████████████████████████████████▋                             | 1074/1868 [11:27<10:50,  1.22it/s]"
     ]
    },
    {
     "name": "stdout",
     "output_type": "stream",
     "text": [
      "Journal of Alzheimer's disease has homepage_url and type journal\n"
     ]
    },
    {
     "name": "stderr",
     "output_type": "stream",
     "text": [
      " 58%|███████████████████████████████████████▋                             | 1075/1868 [11:28<09:30,  1.39it/s]"
     ]
    },
    {
     "name": "stdout",
     "output_type": "stream",
     "text": [
      "Structural change and economic dynamics has homepage_url and type journal\n"
     ]
    },
    {
     "name": "stderr",
     "output_type": "stream",
     "text": [
      " 58%|███████████████████████████████████████▋                             | 1076/1868 [11:28<09:41,  1.36it/s]"
     ]
    },
    {
     "name": "stdout",
     "output_type": "stream",
     "text": [
      "Atmosphere has homepage_url and type journal\n"
     ]
    },
    {
     "name": "stderr",
     "output_type": "stream",
     "text": [
      " 58%|███████████████████████████████████████▊                             | 1077/1868 [11:29<08:35,  1.53it/s]"
     ]
    },
    {
     "name": "stdout",
     "output_type": "stream",
     "text": [
      "Arabian journal of chemistry has homepage_url and type journal\n"
     ]
    },
    {
     "name": "stderr",
     "output_type": "stream",
     "text": [
      " 58%|███████████████████████████████████████▊                             | 1078/1868 [11:30<10:21,  1.27it/s]"
     ]
    },
    {
     "name": "stdout",
     "output_type": "stream",
     "text": [
      "Journal of spacecraft and rockets has homepage_url and type journal\n"
     ]
    },
    {
     "name": "stderr",
     "output_type": "stream",
     "text": [
      " 58%|███████████████████████████████████████▊                             | 1079/1868 [11:31<09:20,  1.41it/s]"
     ]
    },
    {
     "name": "stdout",
     "output_type": "stream",
     "text": [
      "Social science computer review has homepage_url and type journal\n"
     ]
    },
    {
     "name": "stderr",
     "output_type": "stream",
     "text": [
      " 58%|███████████████████████████████████████▉                             | 1080/1868 [11:31<08:19,  1.58it/s]"
     ]
    },
    {
     "name": "stdout",
     "output_type": "stream",
     "text": [
      "Brain science advances has homepage_url and type journal\n"
     ]
    },
    {
     "name": "stderr",
     "output_type": "stream",
     "text": [
      " 58%|███████████████████████████████████████▉                             | 1081/1868 [11:32<07:49,  1.68it/s]"
     ]
    },
    {
     "name": "stdout",
     "output_type": "stream",
     "text": [
      "Fractals has homepage_url and type journal\n"
     ]
    },
    {
     "name": "stderr",
     "output_type": "stream",
     "text": [
      " 58%|███████████████████████████████████████▉                             | 1082/1868 [11:32<07:23,  1.77it/s]"
     ]
    },
    {
     "name": "stdout",
     "output_type": "stream",
     "text": [
      "Computer animation and virtual worlds has homepage_url and type journal\n"
     ]
    },
    {
     "name": "stderr",
     "output_type": "stream",
     "text": [
      " 58%|████████████████████████████████████████                             | 1083/1868 [11:32<07:04,  1.85it/s]"
     ]
    },
    {
     "name": "stdout",
     "output_type": "stream",
     "text": [
      "Advanced therapeutics has homepage_url and type journal\n"
     ]
    },
    {
     "name": "stderr",
     "output_type": "stream",
     "text": [
      " 58%|████████████████████████████████████████                             | 1084/1868 [11:33<06:52,  1.90it/s]"
     ]
    },
    {
     "name": "stdout",
     "output_type": "stream",
     "text": [
      "International journal of emerging markets has homepage_url and type journal\n"
     ]
    },
    {
     "name": "stderr",
     "output_type": "stream",
     "text": [
      " 58%|████████████████████████████████████████                             | 1085/1868 [11:33<06:40,  1.96it/s]"
     ]
    },
    {
     "name": "stdout",
     "output_type": "stream",
     "text": [
      "Advances in mathematics of communications has homepage_url and type journal\n"
     ]
    },
    {
     "name": "stderr",
     "output_type": "stream",
     "text": [
      " 58%|████████████████████████████████████████▏                            | 1088/1868 [11:35<06:09,  2.11it/s]"
     ]
    },
    {
     "name": "stdout",
     "output_type": "stream",
     "text": [
      "Journal of vacation marketing has homepage_url and type journal\n"
     ]
    },
    {
     "name": "stderr",
     "output_type": "stream",
     "text": [
      " 58%|████████████████████████████████████████▏                            | 1089/1868 [11:36<08:55,  1.46it/s]"
     ]
    },
    {
     "name": "stdout",
     "output_type": "stream",
     "text": [
      "Corporate governance has homepage_url and type journal\n"
     ]
    },
    {
     "name": "stderr",
     "output_type": "stream",
     "text": [
      " 59%|████████████████████████████████████████▎                            | 1093/1868 [11:38<06:57,  1.85it/s]"
     ]
    },
    {
     "name": "stdout",
     "output_type": "stream",
     "text": [
      "Jixie gongcheng xuebao has homepage_url and type journal\n"
     ]
    },
    {
     "name": "stderr",
     "output_type": "stream",
     "text": [
      " 59%|████████████████████████████████████████▍                            | 1094/1868 [11:38<06:38,  1.94it/s]"
     ]
    },
    {
     "name": "stdout",
     "output_type": "stream",
     "text": [
      "Computer graphics forum has homepage_url and type journal\n"
     ]
    },
    {
     "name": "stderr",
     "output_type": "stream",
     "text": [
      " 59%|████████████████████████████████████████▍                            | 1095/1868 [11:39<07:44,  1.67it/s]"
     ]
    },
    {
     "name": "stdout",
     "output_type": "stream",
     "text": [
      "Processes has homepage_url and type journal\n"
     ]
    },
    {
     "name": "stderr",
     "output_type": "stream",
     "text": [
      " 59%|████████████████████████████████████████▌                            | 1097/1868 [11:40<06:54,  1.86it/s]"
     ]
    },
    {
     "name": "stdout",
     "output_type": "stream",
     "text": [
      "Frontiers in research metrics and analytics has homepage_url and type journal\n"
     ]
    },
    {
     "name": "stderr",
     "output_type": "stream",
     "text": [
      " 59%|████████████████████████████████████████▌                            | 1098/1868 [11:41<06:44,  1.90it/s]"
     ]
    },
    {
     "name": "stdout",
     "output_type": "stream",
     "text": [
      "Frontiers in aerospace engineering has homepage_url and type journal\n"
     ]
    },
    {
     "name": "stderr",
     "output_type": "stream",
     "text": [
      " 59%|████████████████████████████████████████▌                            | 1099/1868 [11:41<06:32,  1.96it/s]"
     ]
    },
    {
     "name": "stdout",
     "output_type": "stream",
     "text": [
      "BMC bioinformatics has homepage_url and type journal\n"
     ]
    },
    {
     "name": "stderr",
     "output_type": "stream",
     "text": [
      " 59%|████████████████████████████████████████▋                            | 1100/1868 [11:42<06:36,  1.94it/s]"
     ]
    },
    {
     "name": "stdout",
     "output_type": "stream",
     "text": [
      "Managerial auditing journal has homepage_url and type journal\n"
     ]
    },
    {
     "name": "stderr",
     "output_type": "stream",
     "text": [
      " 59%|████████████████████████████████████████▋                            | 1102/1868 [11:43<06:18,  2.02it/s]"
     ]
    },
    {
     "name": "stdout",
     "output_type": "stream",
     "text": [
      "Analytica chimica acta has homepage_url and type journal\n"
     ]
    },
    {
     "name": "stderr",
     "output_type": "stream",
     "text": [
      " 59%|████████████████████████████████████████▋                            | 1103/1868 [11:43<06:16,  2.03it/s]"
     ]
    },
    {
     "name": "stdout",
     "output_type": "stream",
     "text": [
      "International journal of multimedia information retrieval has homepage_url and type journal\n"
     ]
    },
    {
     "name": "stderr",
     "output_type": "stream",
     "text": [
      " 59%|████████████████████████████████████████▊                            | 1104/1868 [11:44<07:51,  1.62it/s]"
     ]
    },
    {
     "name": "stdout",
     "output_type": "stream",
     "text": [
      "Journal of second language writing has homepage_url and type journal\n"
     ]
    },
    {
     "name": "stderr",
     "output_type": "stream",
     "text": [
      " 59%|████████████████████████████████████████▊                            | 1105/1868 [11:45<07:21,  1.73it/s]"
     ]
    },
    {
     "name": "stdout",
     "output_type": "stream",
     "text": [
      "International journal of web and grid services has homepage_url and type journal\n"
     ]
    },
    {
     "name": "stderr",
     "output_type": "stream",
     "text": [
      " 59%|████████████████████████████████████████▊                            | 1106/1868 [11:45<06:55,  1.83it/s]"
     ]
    },
    {
     "name": "stdout",
     "output_type": "stream",
     "text": [
      "International journal on cybernetics and informatics/International journal of cybernetics and informatics has homepage_url and type journal\n"
     ]
    },
    {
     "name": "stderr",
     "output_type": "stream",
     "text": [
      " 59%|████████████████████████████████████████▉                            | 1107/1868 [11:45<06:38,  1.91it/s]"
     ]
    },
    {
     "name": "stdout",
     "output_type": "stream",
     "text": [
      "IEEE intelligent transportation systems magazine has homepage_url and type journal\n"
     ]
    },
    {
     "name": "stderr",
     "output_type": "stream",
     "text": [
      " 59%|████████████████████████████████████████▉                            | 1109/1868 [11:48<10:27,  1.21it/s]"
     ]
    },
    {
     "name": "stdout",
     "output_type": "stream",
     "text": [
      "Circular economy has homepage_url and type journal\n"
     ]
    },
    {
     "name": "stderr",
     "output_type": "stream",
     "text": [
      " 59%|█████████████████████████████████████████                            | 1111/1868 [11:49<09:36,  1.31it/s]"
     ]
    },
    {
     "name": "stdout",
     "output_type": "stream",
     "text": [
      "Frontiers in signal processing has homepage_url and type journal\n"
     ]
    },
    {
     "name": "stderr",
     "output_type": "stream",
     "text": [
      " 60%|█████████████████████████████████████████▏                           | 1114/1868 [11:50<07:08,  1.76it/s]"
     ]
    },
    {
     "name": "stdout",
     "output_type": "stream",
     "text": [
      "Journal of graph theory has homepage_url and type journal\n"
     ]
    },
    {
     "name": "stderr",
     "output_type": "stream",
     "text": [
      " 60%|█████████████████████████████████████████▎                           | 1117/1868 [11:52<08:47,  1.42it/s]"
     ]
    },
    {
     "name": "stdout",
     "output_type": "stream",
     "text": [
      "Information systems research has homepage_url and type journal\n"
     ]
    },
    {
     "name": "stderr",
     "output_type": "stream",
     "text": [
      " 60%|█████████████████████████████████████████▎                           | 1118/1868 [11:53<08:01,  1.56it/s]"
     ]
    },
    {
     "name": "stdout",
     "output_type": "stream",
     "text": [
      "IEEE internet of things magazine has homepage_url and type journal\n"
     ]
    },
    {
     "name": "stderr",
     "output_type": "stream",
     "text": [
      " 60%|█████████████████████████████████████████▎                           | 1119/1868 [11:53<07:24,  1.69it/s]"
     ]
    },
    {
     "name": "stdout",
     "output_type": "stream",
     "text": [
      "Frontiers in ecology and evolution has homepage_url and type journal\n"
     ]
    },
    {
     "name": "stderr",
     "output_type": "stream",
     "text": [
      " 60%|█████████████████████████████████████████▎                           | 1120/1868 [11:54<08:48,  1.42it/s]"
     ]
    },
    {
     "name": "stdout",
     "output_type": "stream",
     "text": [
      "Journal of marketing and communication has homepage_url and type journal\n"
     ]
    },
    {
     "name": "stderr",
     "output_type": "stream",
     "text": [
      " 60%|█████████████████████████████████████████▍                           | 1121/1868 [11:55<08:11,  1.52it/s]"
     ]
    },
    {
     "name": "stdout",
     "output_type": "stream",
     "text": [
      "IEEE journal on emerging and selected topics in circuits and systems has homepage_url and type journal\n"
     ]
    },
    {
     "name": "stderr",
     "output_type": "stream",
     "text": [
      " 60%|█████████████████████████████████████████▌                           | 1124/1868 [11:56<06:38,  1.87it/s]"
     ]
    },
    {
     "name": "stdout",
     "output_type": "stream",
     "text": [
      "Journal of experimental and theoretical artificial intelligence has homepage_url and type journal\n"
     ]
    },
    {
     "name": "stderr",
     "output_type": "stream",
     "text": [
      " 60%|█████████████████████████████████████████▌                           | 1125/1868 [11:57<06:34,  1.88it/s]"
     ]
    },
    {
     "name": "stdout",
     "output_type": "stream",
     "text": [
      "Innovation in language learning and teaching has homepage_url and type journal\n"
     ]
    },
    {
     "name": "stderr",
     "output_type": "stream",
     "text": [
      " 60%|█████████████████████████████████████████▌                           | 1126/1868 [11:57<06:32,  1.89it/s]"
     ]
    },
    {
     "name": "stdout",
     "output_type": "stream",
     "text": [
      "ACM transactions on the internet of things has homepage_url and type journal\n"
     ]
    },
    {
     "name": "stderr",
     "output_type": "stream",
     "text": [
      " 60%|█████████████████████████████████████████▋                           | 1127/1868 [11:58<07:51,  1.57it/s]"
     ]
    },
    {
     "name": "stdout",
     "output_type": "stream",
     "text": [
      "Atmospheric and climate science has homepage_url and type journal\n"
     ]
    },
    {
     "name": "stderr",
     "output_type": "stream",
     "text": [
      " 60%|█████████████████████████████████████████▋                           | 1128/1868 [11:59<07:16,  1.70it/s]"
     ]
    },
    {
     "name": "stdout",
     "output_type": "stream",
     "text": [
      "Small methods has homepage_url and type journal\n"
     ]
    },
    {
     "name": "stderr",
     "output_type": "stream",
     "text": [
      " 60%|█████████████████████████████████████████▋                           | 1129/1868 [11:59<07:37,  1.61it/s]"
     ]
    },
    {
     "name": "stdout",
     "output_type": "stream",
     "text": [
      "Horticulturae has homepage_url and type journal\n"
     ]
    },
    {
     "name": "stderr",
     "output_type": "stream",
     "text": [
      " 60%|█████████████████████████████████████████▋                           | 1130/1868 [12:00<09:18,  1.32it/s]"
     ]
    },
    {
     "name": "stdout",
     "output_type": "stream",
     "text": [
      "IEEE journal of radio frequency identification has homepage_url and type journal\n"
     ]
    },
    {
     "name": "stderr",
     "output_type": "stream",
     "text": [
      " 61%|█████████████████████████████████████████▊                           | 1131/1868 [12:01<08:20,  1.47it/s]"
     ]
    },
    {
     "name": "stdout",
     "output_type": "stream",
     "text": [
      "Vehicular communications has homepage_url and type journal\n"
     ]
    },
    {
     "name": "stderr",
     "output_type": "stream",
     "text": [
      " 61%|█████████████████████████████████████████▊                           | 1133/1868 [12:02<07:13,  1.70it/s]"
     ]
    },
    {
     "name": "stdout",
     "output_type": "stream",
     "text": [
      "National Science Review/National science review has homepage_url and type journal\n"
     ]
    },
    {
     "name": "stderr",
     "output_type": "stream",
     "text": [
      " 61%|█████████████████████████████████████████▉                           | 1135/1868 [12:04<10:59,  1.11it/s]"
     ]
    },
    {
     "name": "stdout",
     "output_type": "stream",
     "text": [
      "Quantum has homepage_url and type journal\n"
     ]
    },
    {
     "name": "stderr",
     "output_type": "stream",
     "text": [
      " 61%|█████████████████████████████████████████▉                           | 1136/1868 [12:05<09:20,  1.31it/s]"
     ]
    },
    {
     "name": "stdout",
     "output_type": "stream",
     "text": [
      "Journal of nanoelectronics and optoelectronics has homepage_url and type journal\n"
     ]
    },
    {
     "name": "stderr",
     "output_type": "stream",
     "text": [
      " 61%|█████████████████████████████████████████▉                           | 1137/1868 [12:06<10:54,  1.12it/s]"
     ]
    },
    {
     "name": "stdout",
     "output_type": "stream",
     "text": [
      "Journal of translational medicine has homepage_url and type journal\n"
     ]
    },
    {
     "name": "stderr",
     "output_type": "stream",
     "text": [
      " 61%|██████████████████████████████████████████                           | 1138/1868 [12:06<09:33,  1.27it/s]"
     ]
    },
    {
     "name": "stdout",
     "output_type": "stream",
     "text": [
      "ACM transactions on design automation of electronic systems has homepage_url and type journal\n"
     ]
    },
    {
     "name": "stderr",
     "output_type": "stream",
     "text": [
      " 61%|██████████████████████████████████████████                           | 1139/1868 [12:07<08:21,  1.45it/s]"
     ]
    },
    {
     "name": "stdout",
     "output_type": "stream",
     "text": [
      "EClinicalMedicine has homepage_url and type journal\n"
     ]
    },
    {
     "name": "stderr",
     "output_type": "stream",
     "text": [
      " 61%|██████████████████████████████████████████                           | 1140/1868 [12:08<10:25,  1.16it/s]"
     ]
    },
    {
     "name": "stdout",
     "output_type": "stream",
     "text": [
      "The design journal has homepage_url and type journal\n"
     ]
    },
    {
     "name": "stderr",
     "output_type": "stream",
     "text": [
      " 61%|██████████████████████████████████████████▏                          | 1141/1868 [12:09<08:58,  1.35it/s]"
     ]
    },
    {
     "name": "stdout",
     "output_type": "stream",
     "text": [
      "NMR in biomedicine has homepage_url and type journal\n"
     ]
    },
    {
     "name": "stderr",
     "output_type": "stream",
     "text": [
      " 61%|██████████████████████████████████████████▏                          | 1143/1868 [12:10<07:21,  1.64it/s]"
     ]
    },
    {
     "name": "stdout",
     "output_type": "stream",
     "text": [
      "Journal of cognitive neuroscience has homepage_url and type journal\n"
     ]
    },
    {
     "name": "stderr",
     "output_type": "stream",
     "text": [
      " 61%|██████████████████████████████████████████▎                          | 1147/1868 [12:12<08:15,  1.45it/s]"
     ]
    },
    {
     "name": "stdout",
     "output_type": "stream",
     "text": [
      "Advanced engineering materials has homepage_url and type journal\n"
     ]
    },
    {
     "name": "stderr",
     "output_type": "stream",
     "text": [
      " 61%|██████████████████████████████████████████▍                          | 1148/1868 [12:12<07:26,  1.61it/s]"
     ]
    },
    {
     "name": "stdout",
     "output_type": "stream",
     "text": [
      "Zhongguo gongcheng kexue has homepage_url and type journal\n"
     ]
    },
    {
     "name": "stderr",
     "output_type": "stream",
     "text": [
      " 62%|██████████████████████████████████████████▍                          | 1149/1868 [12:13<06:58,  1.72it/s]"
     ]
    },
    {
     "name": "stdout",
     "output_type": "stream",
     "text": [
      "International journal of information systems and change management has homepage_url and type journal\n"
     ]
    },
    {
     "name": "stderr",
     "output_type": "stream",
     "text": [
      " 62%|██████████████████████████████████████████▌                          | 1151/1868 [12:14<06:22,  1.88it/s]"
     ]
    },
    {
     "name": "stdout",
     "output_type": "stream",
     "text": [
      "IEEE journal of the Electron Devices Society has homepage_url and type journal\n"
     ]
    },
    {
     "name": "stderr",
     "output_type": "stream",
     "text": [
      " 62%|██████████████████████████████████████████▌                          | 1152/1868 [12:14<06:07,  1.95it/s]"
     ]
    },
    {
     "name": "stdout",
     "output_type": "stream",
     "text": [
      "IET optoelectronics has homepage_url and type journal\n"
     ]
    },
    {
     "name": "stderr",
     "output_type": "stream",
     "text": [
      " 62%|██████████████████████████████████████████▌                          | 1153/1868 [12:15<05:57,  2.00it/s]"
     ]
    },
    {
     "name": "stdout",
     "output_type": "stream",
     "text": [
      "Journal of sensor and actuator networks has homepage_url and type journal\n"
     ]
    },
    {
     "name": "stderr",
     "output_type": "stream",
     "text": [
      " 62%|██████████████████████████████████████████▋                          | 1155/1868 [12:16<05:49,  2.04it/s]"
     ]
    },
    {
     "name": "stdout",
     "output_type": "stream",
     "text": [
      "PLOS computational biology/PLoS computational biology has homepage_url and type journal\n"
     ]
    },
    {
     "name": "stderr",
     "output_type": "stream",
     "text": [
      " 62%|███████████████████████████████████████████                          | 1165/1868 [12:22<07:39,  1.53it/s]"
     ]
    },
    {
     "name": "stdout",
     "output_type": "stream",
     "text": [
      "International journal of bio-inspired computation has homepage_url and type journal\n"
     ]
    },
    {
     "name": "stderr",
     "output_type": "stream",
     "text": [
      " 62%|███████████████████████████████████████████                          | 1166/1868 [12:22<07:04,  1.65it/s]"
     ]
    },
    {
     "name": "stdout",
     "output_type": "stream",
     "text": [
      "International journal of circuit theory and applications has homepage_url and type journal\n"
     ]
    },
    {
     "name": "stderr",
     "output_type": "stream",
     "text": [
      " 62%|███████████████████████████████████████████                          | 1167/1868 [12:23<06:35,  1.77it/s]"
     ]
    },
    {
     "name": "stdout",
     "output_type": "stream",
     "text": [
      "Journal of nanophotonics has homepage_url and type journal\n"
     ]
    },
    {
     "name": "stderr",
     "output_type": "stream",
     "text": [
      " 63%|███████████████████████████████████████████▏                         | 1168/1868 [12:23<06:23,  1.83it/s]"
     ]
    },
    {
     "name": "stdout",
     "output_type": "stream",
     "text": [
      "Neural plasticity has homepage_url and type journal\n"
     ]
    },
    {
     "name": "stderr",
     "output_type": "stream",
     "text": [
      " 63%|███████████████████████████████████████████▏                         | 1170/1868 [12:24<05:49,  2.00it/s]"
     ]
    },
    {
     "name": "stdout",
     "output_type": "stream",
     "text": [
      "Developmental cognitive neuroscience has homepage_url and type journal\n"
     ]
    },
    {
     "name": "stderr",
     "output_type": "stream",
     "text": [
      " 63%|███████████████████████████████████████████▎                         | 1171/1868 [12:25<08:44,  1.33it/s]"
     ]
    },
    {
     "name": "stdout",
     "output_type": "stream",
     "text": [
      "Journal of environmental chemical engineering has homepage_url and type journal\n"
     ]
    },
    {
     "name": "stderr",
     "output_type": "stream",
     "text": [
      " 63%|███████████████████████████████████████████▎                         | 1174/1868 [12:27<08:06,  1.43it/s]"
     ]
    },
    {
     "name": "stdout",
     "output_type": "stream",
     "text": [
      "Nano has homepage_url and type journal\n"
     ]
    },
    {
     "name": "stderr",
     "output_type": "stream",
     "text": [
      " 63%|███████████████████████████████████████████▍                         | 1176/1868 [12:28<06:50,  1.69it/s]"
     ]
    },
    {
     "name": "stdout",
     "output_type": "stream",
     "text": [
      "International journal of financial research has homepage_url and type journal\n"
     ]
    },
    {
     "name": "stderr",
     "output_type": "stream",
     "text": [
      " 63%|███████████████████████████████████████████▍                         | 1177/1868 [12:29<06:29,  1.77it/s]"
     ]
    },
    {
     "name": "stdout",
     "output_type": "stream",
     "text": [
      "Advances in polymer technology has homepage_url and type journal\n"
     ]
    },
    {
     "name": "stderr",
     "output_type": "stream",
     "text": [
      " 63%|███████████████████████████████████████████▌                         | 1178/1868 [12:30<09:21,  1.23it/s]"
     ]
    },
    {
     "name": "stdout",
     "output_type": "stream",
     "text": [
      "International journal of control has homepage_url and type journal\n"
     ]
    },
    {
     "name": "stderr",
     "output_type": "stream",
     "text": [
      " 63%|███████████████████████████████████████████▌                         | 1181/1868 [12:32<08:30,  1.35it/s]"
     ]
    },
    {
     "name": "stdout",
     "output_type": "stream",
     "text": [
      "IEEE electron device letters has homepage_url and type journal\n"
     ]
    },
    {
     "name": "stderr",
     "output_type": "stream",
     "text": [
      " 63%|███████████████████████████████████████████▋                         | 1182/1868 [12:33<09:26,  1.21it/s]"
     ]
    },
    {
     "name": "stdout",
     "output_type": "stream",
     "text": [
      "Journal of control science and engineering has homepage_url and type journal\n"
     ]
    },
    {
     "name": "stderr",
     "output_type": "stream",
     "text": [
      " 63%|███████████████████████████████████████████▋                         | 1184/1868 [12:34<07:13,  1.58it/s]"
     ]
    },
    {
     "name": "stdout",
     "output_type": "stream",
     "text": [
      "Lecture notes in bioengineering has homepage_url and type book series\n"
     ]
    },
    {
     "name": "stderr",
     "output_type": "stream",
     "text": [
      " 63%|███████████████████████████████████████████▊                         | 1186/1868 [12:35<06:20,  1.79it/s]"
     ]
    },
    {
     "name": "stdout",
     "output_type": "stream",
     "text": [
      "IET information security has homepage_url and type journal\n"
     ]
    },
    {
     "name": "stderr",
     "output_type": "stream",
     "text": [
      " 64%|███████████████████████████████████████████▉                         | 1188/1868 [12:36<05:56,  1.91it/s]"
     ]
    },
    {
     "name": "stdout",
     "output_type": "stream",
     "text": [
      "ChemElectroChem has homepage_url and type journal\n"
     ]
    },
    {
     "name": "stderr",
     "output_type": "stream",
     "text": [
      " 64%|███████████████████████████████████████████▉                         | 1190/1868 [12:37<06:05,  1.86it/s]"
     ]
    },
    {
     "name": "stdout",
     "output_type": "stream",
     "text": [
      "OSA continuum has homepage_url and type journal\n"
     ]
    },
    {
     "name": "stderr",
     "output_type": "stream",
     "text": [
      " 64%|███████████████████████████████████████████▉                         | 1191/1868 [12:38<07:05,  1.59it/s]"
     ]
    },
    {
     "name": "stdout",
     "output_type": "stream",
     "text": [
      "Journal of international medical research has homepage_url and type journal\n"
     ]
    },
    {
     "name": "stderr",
     "output_type": "stream",
     "text": [
      " 64%|████████████████████████████████████████████                         | 1192/1868 [12:38<06:34,  1.71it/s]"
     ]
    },
    {
     "name": "stdout",
     "output_type": "stream",
     "text": [
      "IET renewable power generation has homepage_url and type journal\n"
     ]
    },
    {
     "name": "stderr",
     "output_type": "stream",
     "text": [
      " 64%|████████████████████████████████████████████                         | 1193/1868 [12:39<06:29,  1.73it/s]"
     ]
    },
    {
     "name": "stdout",
     "output_type": "stream",
     "text": [
      "Advances in multimedia has homepage_url and type journal\n"
     ]
    },
    {
     "name": "stderr",
     "output_type": "stream",
     "text": [
      " 64%|████████████████████████████████████████████▏                        | 1195/1868 [12:40<06:05,  1.84it/s]"
     ]
    },
    {
     "name": "stdout",
     "output_type": "stream",
     "text": [
      "Mathematics and computers in simulation has homepage_url and type journal\n"
     ]
    },
    {
     "name": "stderr",
     "output_type": "stream",
     "text": [
      " 64%|████████████████████████████████████████████▏                        | 1196/1868 [12:40<05:49,  1.92it/s]"
     ]
    },
    {
     "name": "stdout",
     "output_type": "stream",
     "text": [
      "Microelectronics reliability/Microelectronics and reliability has homepage_url and type journal\n"
     ]
    },
    {
     "name": "stderr",
     "output_type": "stream",
     "text": [
      " 64%|████████████████████████████████████████████▏                        | 1197/1868 [12:41<05:49,  1.92it/s]"
     ]
    },
    {
     "name": "stdout",
     "output_type": "stream",
     "text": [
      "Journal of comparative policy analysis has homepage_url and type journal\n"
     ]
    },
    {
     "name": "stderr",
     "output_type": "stream",
     "text": [
      " 64%|████████████████████████████████████████████▎                        | 1198/1868 [12:42<06:31,  1.71it/s]"
     ]
    },
    {
     "name": "stdout",
     "output_type": "stream",
     "text": [
      "Precision engineering has homepage_url and type journal\n"
     ]
    },
    {
     "name": "stderr",
     "output_type": "stream",
     "text": [
      " 64%|████████████████████████████████████████████▎                        | 1200/1868 [12:43<05:58,  1.86it/s]"
     ]
    },
    {
     "name": "stdout",
     "output_type": "stream",
     "text": [
      "BMC health services research has homepage_url and type journal\n"
     ]
    },
    {
     "name": "stderr",
     "output_type": "stream",
     "text": [
      " 64%|████████████████████████████████████████████▎                        | 1201/1868 [12:43<06:13,  1.79it/s]"
     ]
    },
    {
     "name": "stdout",
     "output_type": "stream",
     "text": [
      "Mathematical methods in the applied sciences has homepage_url and type journal\n"
     ]
    },
    {
     "name": "stderr",
     "output_type": "stream",
     "text": [
      " 64%|████████████████████████████████████████████▍                        | 1203/1868 [12:44<05:57,  1.86it/s]"
     ]
    },
    {
     "name": "stdout",
     "output_type": "stream",
     "text": [
      "Lecture notes in networks and systems has homepage_url and type book series\n"
     ]
    },
    {
     "name": "stderr",
     "output_type": "stream",
     "text": [
      " 64%|████████████████████████████████████████████▍                        | 1204/1868 [12:45<05:39,  1.95it/s]"
     ]
    },
    {
     "name": "stdout",
     "output_type": "stream",
     "text": [
      "ETRI journal has homepage_url and type journal\n"
     ]
    },
    {
     "name": "stderr",
     "output_type": "stream",
     "text": [
      " 65%|████████████████████████████████████████████▌                        | 1205/1868 [12:45<05:28,  2.02it/s]"
     ]
    },
    {
     "name": "stdout",
     "output_type": "stream",
     "text": [
      "BMC neurology has homepage_url and type journal\n"
     ]
    },
    {
     "name": "stderr",
     "output_type": "stream",
     "text": [
      " 65%|████████████████████████████████████████████▌                        | 1206/1868 [12:46<06:41,  1.65it/s]"
     ]
    },
    {
     "name": "stdout",
     "output_type": "stream",
     "text": [
      "JMIR medical informatics has homepage_url and type journal\n"
     ]
    },
    {
     "name": "stderr",
     "output_type": "stream",
     "text": [
      " 65%|████████████████████████████████████████████▌                        | 1207/1868 [12:47<08:57,  1.23it/s]"
     ]
    },
    {
     "name": "stdout",
     "output_type": "stream",
     "text": [
      "Journal of anatomy has homepage_url and type journal\n"
     ]
    },
    {
     "name": "stderr",
     "output_type": "stream",
     "text": [
      " 65%|████████████████████████████████████████████▌                        | 1208/1868 [12:48<08:42,  1.26it/s]"
     ]
    },
    {
     "name": "stdout",
     "output_type": "stream",
     "text": [
      "Journal of mathematics has homepage_url and type journal\n"
     ]
    },
    {
     "name": "stderr",
     "output_type": "stream",
     "text": [
      " 65%|████████████████████████████████████████████▊                        | 1212/1868 [12:50<06:50,  1.60it/s]"
     ]
    },
    {
     "name": "stdout",
     "output_type": "stream",
     "text": [
      "Frontiers in chemistry has homepage_url and type journal\n"
     ]
    },
    {
     "name": "stderr",
     "output_type": "stream",
     "text": [
      " 65%|████████████████████████████████████████████▊                        | 1213/1868 [12:51<06:24,  1.70it/s]"
     ]
    },
    {
     "name": "stdout",
     "output_type": "stream",
     "text": [
      "Bioengineered has homepage_url and type journal\n"
     ]
    },
    {
     "name": "stderr",
     "output_type": "stream",
     "text": [
      " 65%|████████████████████████████████████████████▊                        | 1214/1868 [12:51<06:08,  1.77it/s]"
     ]
    },
    {
     "name": "stdout",
     "output_type": "stream",
     "text": [
      "Pest management science has homepage_url and type journal\n"
     ]
    },
    {
     "name": "stderr",
     "output_type": "stream",
     "text": [
      " 65%|████████████████████████████████████████████▉                        | 1215/1868 [12:52<07:12,  1.51it/s]"
     ]
    },
    {
     "name": "stdout",
     "output_type": "stream",
     "text": [
      "Photonic Sensors/Photonic sensors has homepage_url and type journal\n"
     ]
    },
    {
     "name": "stderr",
     "output_type": "stream",
     "text": [
      " 65%|████████████████████████████████████████████▉                        | 1216/1868 [12:53<07:07,  1.52it/s]"
     ]
    },
    {
     "name": "stdout",
     "output_type": "stream",
     "text": [
      "Social Science Research Network has homepage_url and type repository\n"
     ]
    },
    {
     "name": "stderr",
     "output_type": "stream",
     "text": [
      " 65%|████████████████████████████████████████████▉                        | 1217/1868 [12:53<06:29,  1.67it/s]"
     ]
    },
    {
     "name": "stdout",
     "output_type": "stream",
     "text": [
      "Kybernetes has homepage_url and type journal\n"
     ]
    },
    {
     "name": "stderr",
     "output_type": "stream",
     "text": [
      " 65%|████████████████████████████████████████████▉                        | 1218/1868 [12:54<06:08,  1.76it/s]"
     ]
    },
    {
     "name": "stdout",
     "output_type": "stream",
     "text": [
      "Magnetic resonance in medicine has homepage_url and type journal\n"
     ]
    },
    {
     "name": "stderr",
     "output_type": "stream",
     "text": [
      " 65%|█████████████████████████████████████████████                        | 1219/1868 [12:54<05:59,  1.80it/s]"
     ]
    },
    {
     "name": "stdout",
     "output_type": "stream",
     "text": [
      "Optical and quantum electronics has homepage_url and type journal\n"
     ]
    },
    {
     "name": "stderr",
     "output_type": "stream",
     "text": [
      " 65%|█████████████████████████████████████████████                        | 1220/1868 [12:55<05:55,  1.82it/s]"
     ]
    },
    {
     "name": "stdout",
     "output_type": "stream",
     "text": [
      "Gastric cancer has homepage_url and type journal\n"
     ]
    },
    {
     "name": "stderr",
     "output_type": "stream",
     "text": [
      " 65%|█████████████████████████████████████████████▏                       | 1223/1868 [12:57<07:45,  1.39it/s]"
     ]
    },
    {
     "name": "stdout",
     "output_type": "stream",
     "text": [
      "Journal of organic chemistry has homepage_url and type journal\n"
     ]
    },
    {
     "name": "stderr",
     "output_type": "stream",
     "text": [
      " 66%|█████████████████████████████████████████████▎                       | 1226/1868 [12:59<05:57,  1.80it/s]"
     ]
    },
    {
     "name": "stdout",
     "output_type": "stream",
     "text": [
      "Journal of electronic materials has homepage_url and type journal\n"
     ]
    },
    {
     "name": "stderr",
     "output_type": "stream",
     "text": [
      " 66%|█████████████████████████████████████████████▎                       | 1228/1868 [12:59<05:32,  1.93it/s]"
     ]
    },
    {
     "name": "stdout",
     "output_type": "stream",
     "text": [
      "Medical physics on CD-ROM/Medical physics has homepage_url and type journal\n"
     ]
    },
    {
     "name": "stderr",
     "output_type": "stream",
     "text": [
      " 66%|█████████████████████████████████████████████▋                       | 1236/1868 [13:04<07:52,  1.34it/s]"
     ]
    },
    {
     "name": "stdout",
     "output_type": "stream",
     "text": [
      "npj computational materials has homepage_url and type journal\n"
     ]
    },
    {
     "name": "stderr",
     "output_type": "stream",
     "text": [
      " 66%|█████████████████████████████████████████████▋                       | 1238/1868 [13:05<06:30,  1.61it/s]"
     ]
    },
    {
     "name": "stdout",
     "output_type": "stream",
     "text": [
      "Computer methods in biomechanics and biomedical engineering has homepage_url and type journal\n"
     ]
    },
    {
     "name": "stderr",
     "output_type": "stream",
     "text": [
      " 66%|█████████████████████████████████████████████▊                       | 1241/1868 [13:07<05:46,  1.81it/s]"
     ]
    },
    {
     "name": "stdout",
     "output_type": "stream",
     "text": [
      "Manufacturing review has homepage_url and type journal\n"
     ]
    },
    {
     "name": "stderr",
     "output_type": "stream",
     "text": [
      " 67%|█████████████████████████████████████████████▉                       | 1244/1868 [13:09<07:26,  1.40it/s]"
     ]
    },
    {
     "name": "stdout",
     "output_type": "stream",
     "text": [
      "Journal of coastal research has homepage_url and type journal\n"
     ]
    },
    {
     "name": "stderr",
     "output_type": "stream",
     "text": [
      " 67%|█████████████████████████████████████████████▉                       | 1245/1868 [13:10<07:17,  1.43it/s]"
     ]
    },
    {
     "name": "stdout",
     "output_type": "stream",
     "text": [
      "Applied intelligence has homepage_url and type journal\n"
     ]
    },
    {
     "name": "stderr",
     "output_type": "stream",
     "text": [
      " 67%|██████████████████████████████████████████████                       | 1246/1868 [13:10<07:03,  1.47it/s]"
     ]
    },
    {
     "name": "stdout",
     "output_type": "stream",
     "text": [
      "International journal of systems science has homepage_url and type journal\n"
     ]
    },
    {
     "name": "stderr",
     "output_type": "stream",
     "text": [
      " 67%|██████████████████████████████████████████████                       | 1247/1868 [13:11<07:35,  1.36it/s]"
     ]
    },
    {
     "name": "stdout",
     "output_type": "stream",
     "text": [
      "International journal of computer applications technology/International journal of computer applications in technology has homepage_url and type journal\n"
     ]
    },
    {
     "name": "stderr",
     "output_type": "stream",
     "text": [
      " 67%|██████████████████████████████████████████████                       | 1248/1868 [13:12<07:01,  1.47it/s]"
     ]
    },
    {
     "name": "stdout",
     "output_type": "stream",
     "text": [
      "British journal of management has homepage_url and type journal\n"
     ]
    },
    {
     "name": "stderr",
     "output_type": "stream",
     "text": [
      " 67%|██████████████████████████████████████████████▏                      | 1249/1868 [13:12<06:29,  1.59it/s]"
     ]
    },
    {
     "name": "stdout",
     "output_type": "stream",
     "text": [
      "Journal of robotics and mechatronics has homepage_url and type journal\n"
     ]
    },
    {
     "name": "stderr",
     "output_type": "stream",
     "text": [
      " 67%|██████████████████████████████████████████████▏                      | 1250/1868 [13:13<06:06,  1.68it/s]"
     ]
    },
    {
     "name": "stdout",
     "output_type": "stream",
     "text": [
      "Journal of inequalities and applications has homepage_url and type journal\n"
     ]
    },
    {
     "name": "stderr",
     "output_type": "stream",
     "text": [
      " 67%|██████████████████████████████████████████████▍                      | 1257/1868 [13:16<05:25,  1.87it/s]"
     ]
    },
    {
     "name": "stdout",
     "output_type": "stream",
     "text": [
      "Journal of optical communications has homepage_url and type journal\n"
     ]
    },
    {
     "name": "stderr",
     "output_type": "stream",
     "text": [
      " 67%|██████████████████████████████████████████████▍                      | 1258/1868 [13:17<05:24,  1.88it/s]"
     ]
    },
    {
     "name": "stdout",
     "output_type": "stream",
     "text": [
      "Journal of mechanisms and robotics has homepage_url and type journal\n"
     ]
    },
    {
     "name": "stderr",
     "output_type": "stream",
     "text": [
      " 67%|██████████████████████████████████████████████▌                      | 1259/1868 [13:17<05:10,  1.96it/s]"
     ]
    },
    {
     "name": "stdout",
     "output_type": "stream",
     "text": [
      "Informacinės technologijos ir valdymas has homepage_url and type journal\n"
     ]
    },
    {
     "name": "stderr",
     "output_type": "stream",
     "text": [
      " 68%|██████████████████████████████████████████████▌                      | 1261/1868 [13:19<06:52,  1.47it/s]"
     ]
    },
    {
     "name": "stdout",
     "output_type": "stream",
     "text": [
      "Perceptual and motor skills has homepage_url and type journal\n"
     ]
    },
    {
     "name": "stderr",
     "output_type": "stream",
     "text": [
      " 68%|██████████████████████████████████████████████▋                      | 1263/1868 [13:20<05:45,  1.75it/s]"
     ]
    },
    {
     "name": "stdout",
     "output_type": "stream",
     "text": [
      "Journal of materials science. Materials in electronics has homepage_url and type journal\n"
     ]
    },
    {
     "name": "stderr",
     "output_type": "stream",
     "text": [
      " 68%|██████████████████████████████████████████████▋                      | 1264/1868 [13:20<05:25,  1.86it/s]"
     ]
    },
    {
     "name": "stdout",
     "output_type": "stream",
     "text": [
      "Medicine in novel technology and devices has homepage_url and type journal\n"
     ]
    },
    {
     "name": "stderr",
     "output_type": "stream",
     "text": [
      " 68%|██████████████████████████████████████████████▋                      | 1265/1868 [13:21<05:14,  1.92it/s]"
     ]
    },
    {
     "name": "stdout",
     "output_type": "stream",
     "text": [
      "Cognitive neurodynamics has homepage_url and type journal\n"
     ]
    },
    {
     "name": "stderr",
     "output_type": "stream",
     "text": [
      " 68%|███████████████████████████████████████████████▏                     | 1276/1868 [13:28<06:26,  1.53it/s]"
     ]
    },
    {
     "name": "stdout",
     "output_type": "stream",
     "text": [
      "Journal of electronic imaging has homepage_url and type journal\n"
     ]
    },
    {
     "name": "stderr",
     "output_type": "stream",
     "text": [
      " 68%|███████████████████████████████████████████████▏                     | 1277/1868 [13:28<05:49,  1.69it/s]"
     ]
    },
    {
     "name": "stdout",
     "output_type": "stream",
     "text": [
      "Personal and ubiquitous computing has homepage_url and type journal\n"
     ]
    },
    {
     "name": "stderr",
     "output_type": "stream",
     "text": [
      " 68%|███████████████████████████████████████████████▏                     | 1278/1868 [13:29<05:26,  1.81it/s]"
     ]
    },
    {
     "name": "stdout",
     "output_type": "stream",
     "text": [
      "Journal of algebraic combinatorics has homepage_url and type journal\n"
     ]
    },
    {
     "name": "stderr",
     "output_type": "stream",
     "text": [
      " 68%|███████████████████████████████████████████████▏                     | 1279/1868 [13:29<05:10,  1.89it/s]"
     ]
    },
    {
     "name": "stdout",
     "output_type": "stream",
     "text": [
      "Disaster medicine and public health preparedness has homepage_url and type journal\n"
     ]
    },
    {
     "name": "stderr",
     "output_type": "stream",
     "text": [
      " 69%|███████████████████████████████████████████████▎                     | 1280/1868 [13:30<05:08,  1.91it/s]"
     ]
    },
    {
     "name": "stdout",
     "output_type": "stream",
     "text": [
      "International journal of market research has homepage_url and type journal\n"
     ]
    },
    {
     "name": "stderr",
     "output_type": "stream",
     "text": [
      " 69%|███████████████████████████████████████████████▍                     | 1283/1868 [13:31<05:00,  1.95it/s]"
     ]
    },
    {
     "name": "stdout",
     "output_type": "stream",
     "text": [
      "Journal of nanoscience and nanotechnology has homepage_url and type journal\n"
     ]
    },
    {
     "name": "stderr",
     "output_type": "stream",
     "text": [
      " 69%|███████████████████████████████████████████████▍                     | 1284/1868 [13:32<06:05,  1.60it/s]"
     ]
    },
    {
     "name": "stdout",
     "output_type": "stream",
     "text": [
      "Computer has homepage_url and type book series\n"
     ]
    },
    {
     "name": "stderr",
     "output_type": "stream",
     "text": [
      " 69%|███████████████████████████████████████████████▍                     | 1285/1868 [13:33<05:45,  1.69it/s]"
     ]
    },
    {
     "name": "stdout",
     "output_type": "stream",
     "text": [
      "Chinese management studies has homepage_url and type journal\n"
     ]
    },
    {
     "name": "stderr",
     "output_type": "stream",
     "text": [
      " 69%|███████████████████████████████████████████████▌                     | 1286/1868 [13:33<05:38,  1.72it/s]"
     ]
    },
    {
     "name": "stdout",
     "output_type": "stream",
     "text": [
      "International journal of data warehousing and mining has homepage_url and type journal\n"
     ]
    },
    {
     "name": "stderr",
     "output_type": "stream",
     "text": [
      " 69%|███████████████████████████████████████████████▌                     | 1288/1868 [13:34<05:09,  1.87it/s]"
     ]
    },
    {
     "name": "stdout",
     "output_type": "stream",
     "text": [
      "Journal of Ubiquitous Systems and Pervasive Networks has homepage_url and type journal\n"
     ]
    },
    {
     "name": "stderr",
     "output_type": "stream",
     "text": [
      " 69%|███████████████████████████████████████████████▌                     | 1289/1868 [13:35<05:11,  1.86it/s]"
     ]
    },
    {
     "name": "stdout",
     "output_type": "stream",
     "text": [
      "Japanese journal of applied physics has homepage_url and type journal\n"
     ]
    },
    {
     "name": "stderr",
     "output_type": "stream",
     "text": [
      " 69%|███████████████████████████████████████████████▋                     | 1290/1868 [13:36<06:14,  1.54it/s]"
     ]
    },
    {
     "name": "stdout",
     "output_type": "stream",
     "text": [
      "International journal of internet manufacturing and services has homepage_url and type journal\n"
     ]
    },
    {
     "name": "stderr",
     "output_type": "stream",
     "text": [
      " 69%|███████████████████████████████████████████████▋                     | 1292/1868 [13:37<07:46,  1.23it/s]"
     ]
    },
    {
     "name": "stdout",
     "output_type": "stream",
     "text": [
      "Indian journal of science and technology has homepage_url and type journal\n"
     ]
    },
    {
     "name": "stderr",
     "output_type": "stream",
     "text": [
      " 69%|███████████████████████████████████████████████▊                     | 1293/1868 [13:38<06:54,  1.39it/s]"
     ]
    },
    {
     "name": "stdout",
     "output_type": "stream",
     "text": [
      "The international Arab journal of information technology has homepage_url and type journal\n"
     ]
    },
    {
     "name": "stderr",
     "output_type": "stream",
     "text": [
      " 69%|███████████████████████████████████████████████▊                     | 1295/1868 [13:39<07:06,  1.34it/s]"
     ]
    },
    {
     "name": "stdout",
     "output_type": "stream",
     "text": [
      "International Journal of Neuroscience has homepage_url and type journal\n"
     ]
    },
    {
     "name": "stderr",
     "output_type": "stream",
     "text": [
      " 69%|███████████████████████████████████████████████▉                     | 1297/1868 [13:40<05:46,  1.65it/s]"
     ]
    },
    {
     "name": "stdout",
     "output_type": "stream",
     "text": [
      "IFAC-PapersOnLine has homepage_url and type journal\n"
     ]
    },
    {
     "name": "stderr",
     "output_type": "stream",
     "text": [
      " 70%|███████████████████████████████████████████████▉                     | 1299/1868 [13:41<05:08,  1.84it/s]"
     ]
    },
    {
     "name": "stdout",
     "output_type": "stream",
     "text": [
      "International journal of high performance computing and networking has homepage_url and type journal\n"
     ]
    },
    {
     "name": "stderr",
     "output_type": "stream",
     "text": [
      " 70%|████████████████████████████████████████████████                     | 1300/1868 [13:42<05:08,  1.84it/s]"
     ]
    },
    {
     "name": "stdout",
     "output_type": "stream",
     "text": [
      "Electronic journal of probability has homepage_url and type journal\n"
     ]
    },
    {
     "name": "stderr",
     "output_type": "stream",
     "text": [
      " 70%|████████████████████████████████████████████████                     | 1301/1868 [13:42<04:53,  1.93it/s]"
     ]
    },
    {
     "name": "stdout",
     "output_type": "stream",
     "text": [
      "Assembly automation has homepage_url and type journal\n"
     ]
    },
    {
     "name": "stderr",
     "output_type": "stream",
     "text": [
      " 70%|████████████████████████████████████████████████                     | 1302/1868 [13:43<06:32,  1.44it/s]"
     ]
    },
    {
     "name": "stdout",
     "output_type": "stream",
     "text": [
      "Applied mathematics and mechanics has homepage_url and type journal\n"
     ]
    },
    {
     "name": "stderr",
     "output_type": "stream",
     "text": [
      " 70%|████████████████████████████████████████████████▏                    | 1304/1868 [13:44<05:34,  1.68it/s]"
     ]
    },
    {
     "name": "stdout",
     "output_type": "stream",
     "text": [
      "International journal of numerical modelling has homepage_url and type journal\n"
     ]
    },
    {
     "name": "stderr",
     "output_type": "stream",
     "text": [
      " 70%|████████████████████████████████████████████████▏                    | 1305/1868 [13:45<05:21,  1.75it/s]"
     ]
    },
    {
     "name": "stdout",
     "output_type": "stream",
     "text": [
      "Computers in human behavior has homepage_url and type journal\n"
     ]
    },
    {
     "name": "stderr",
     "output_type": "stream",
     "text": [
      " 70%|████████████████████████████████████████████████▎                    | 1307/1868 [13:46<04:52,  1.92it/s]"
     ]
    },
    {
     "name": "stdout",
     "output_type": "stream",
     "text": [
      "Chinese Journal of Chemical Physics/Chinese journal of chemical physics has homepage_url and type journal\n"
     ]
    },
    {
     "name": "stderr",
     "output_type": "stream",
     "text": [
      " 70%|████████████████████████████████████████████████▎                    | 1308/1868 [13:47<07:02,  1.33it/s]"
     ]
    },
    {
     "name": "stdout",
     "output_type": "stream",
     "text": [
      "International journal of electronics has homepage_url and type journal\n"
     ]
    },
    {
     "name": "stderr",
     "output_type": "stream",
     "text": [
      " 70%|████████████████████████████████████████████████▎                    | 1309/1868 [13:48<08:19,  1.12it/s]"
     ]
    },
    {
     "name": "stdout",
     "output_type": "stream",
     "text": [
      "Nonlinear analysis has homepage_url and type journal\n"
     ]
    },
    {
     "name": "stderr",
     "output_type": "stream",
     "text": [
      " 70%|████████████████████████████████████████████████▌                    | 1314/1868 [13:51<06:28,  1.43it/s]"
     ]
    },
    {
     "name": "stdout",
     "output_type": "stream",
     "text": [
      "International journal of engineering business management has homepage_url and type journal\n"
     ]
    },
    {
     "name": "stderr",
     "output_type": "stream",
     "text": [
      " 70%|████████████████████████████████████████████████▌                    | 1316/1868 [13:53<06:30,  1.41it/s]"
     ]
    },
    {
     "name": "stdout",
     "output_type": "stream",
     "text": [
      "China journal of accounting research has homepage_url and type journal\n"
     ]
    },
    {
     "name": "stderr",
     "output_type": "stream",
     "text": [
      " 71%|████████████████████████████████████████████████▊                    | 1321/1868 [13:56<05:12,  1.75it/s]"
     ]
    },
    {
     "name": "stdout",
     "output_type": "stream",
     "text": [
      "Scientific programming has homepage_url and type journal\n"
     ]
    },
    {
     "name": "stderr",
     "output_type": "stream",
     "text": [
      " 71%|████████████████████████████████████████████████▉                    | 1325/1868 [13:58<06:24,  1.41it/s]"
     ]
    },
    {
     "name": "stdout",
     "output_type": "stream",
     "text": [
      "Foods has homepage_url and type journal\n"
     ]
    },
    {
     "name": "stderr",
     "output_type": "stream",
     "text": [
      " 71%|████████████████████████████████████████████████▉                    | 1326/1868 [13:59<05:43,  1.58it/s]"
     ]
    },
    {
     "name": "stdout",
     "output_type": "stream",
     "text": [
      "International journal of energy economics and policy has homepage_url and type journal\n"
     ]
    },
    {
     "name": "stderr",
     "output_type": "stream",
     "text": [
      " 71%|█████████████████████████████████████████████████                    | 1327/1868 [13:59<05:19,  1.69it/s]"
     ]
    },
    {
     "name": "stdout",
     "output_type": "stream",
     "text": [
      "Wǎngjì wǎnglù jìshù xuékān has homepage_url and type journal\n"
     ]
    },
    {
     "name": "stderr",
     "output_type": "stream",
     "text": [
      " 71%|█████████████████████████████████████████████████▏                   | 1331/1868 [14:02<05:33,  1.61it/s]"
     ]
    },
    {
     "name": "stdout",
     "output_type": "stream",
     "text": [
      "Water has homepage_url and type journal\n"
     ]
    },
    {
     "name": "stderr",
     "output_type": "stream",
     "text": [
      " 71%|█████████████████████████████████████████████████▏                   | 1332/1868 [14:02<05:08,  1.74it/s]"
     ]
    },
    {
     "name": "stdout",
     "output_type": "stream",
     "text": [
      "Frontiers in psychiatry has homepage_url and type journal\n"
     ]
    },
    {
     "name": "stderr",
     "output_type": "stream",
     "text": [
      " 72%|█████████████████████████████████████████████████▍                   | 1340/1868 [14:06<04:07,  2.13it/s]"
     ]
    },
    {
     "name": "stdout",
     "output_type": "stream",
     "text": [
      "IEEE transactions on biomedical circuits and systems has homepage_url and type journal\n"
     ]
    },
    {
     "name": "stderr",
     "output_type": "stream",
     "text": [
      " 72%|█████████████████████████████████████████████████▊                   | 1347/1868 [14:10<05:01,  1.73it/s]"
     ]
    },
    {
     "name": "stdout",
     "output_type": "stream",
     "text": [
      "Mechanics of materials has homepage_url and type journal\n"
     ]
    },
    {
     "name": "stderr",
     "output_type": "stream",
     "text": [
      " 72%|█████████████████████████████████████████████████▊                   | 1348/1868 [14:10<04:44,  1.83it/s]"
     ]
    },
    {
     "name": "stdout",
     "output_type": "stream",
     "text": [
      "Journal of safety science and resilience has homepage_url and type journal\n"
     ]
    },
    {
     "name": "stderr",
     "output_type": "stream",
     "text": [
      " 72%|█████████████████████████████████████████████████▊                   | 1350/1868 [14:11<05:35,  1.54it/s]"
     ]
    },
    {
     "name": "stdout",
     "output_type": "stream",
     "text": [
      "IEEE intelligent systems has homepage_url and type journal\n"
     ]
    },
    {
     "name": "stderr",
     "output_type": "stream",
     "text": [
      " 72%|█████████████████████████████████████████████████▉                   | 1352/1868 [14:13<05:05,  1.69it/s]"
     ]
    },
    {
     "name": "stdout",
     "output_type": "stream",
     "text": [
      "IEEE transactions on nanotechnology has homepage_url and type journal\n"
     ]
    },
    {
     "name": "stderr",
     "output_type": "stream",
     "text": [
      " 72%|██████████████████████████████████████████████████                   | 1354/1868 [14:14<04:45,  1.80it/s]"
     ]
    },
    {
     "name": "stdout",
     "output_type": "stream",
     "text": [
      "Springer series in materials science has homepage_url and type book series\n"
     ]
    },
    {
     "name": "stderr",
     "output_type": "stream",
     "text": [
      " 73%|██████████████████████████████████████████████████▏                  | 1359/1868 [14:16<04:25,  1.92it/s]"
     ]
    },
    {
     "name": "stdout",
     "output_type": "stream",
     "text": [
      "Nano communication networks has homepage_url and type journal\n"
     ]
    },
    {
     "name": "stderr",
     "output_type": "stream",
     "text": [
      " 73%|██████████████████████████████████████████████████▏                  | 1360/1868 [14:17<04:51,  1.74it/s]"
     ]
    },
    {
     "name": "stdout",
     "output_type": "stream",
     "text": [
      "Journal of mathematical physics has homepage_url and type journal\n"
     ]
    },
    {
     "name": "stderr",
     "output_type": "stream",
     "text": [
      " 73%|██████████████████████████████████████████████████▎                  | 1362/1868 [14:18<04:40,  1.80it/s]"
     ]
    },
    {
     "name": "stdout",
     "output_type": "stream",
     "text": [
      "Acta mathematica Hungarica/Acta mathematica Academiae Scientiarum Hungaricae has homepage_url and type journal\n"
     ]
    },
    {
     "name": "stderr",
     "output_type": "stream",
     "text": [
      " 73%|██████████████████████████████████████████████████▎                  | 1363/1868 [14:19<06:31,  1.29it/s]"
     ]
    },
    {
     "name": "stdout",
     "output_type": "stream",
     "text": [
      "Asian journal of technology innovation has homepage_url and type journal\n"
     ]
    },
    {
     "name": "stderr",
     "output_type": "stream",
     "text": [
      " 73%|██████████████████████████████████████████████████▍                  | 1364/1868 [14:20<07:44,  1.09it/s]"
     ]
    },
    {
     "name": "stdout",
     "output_type": "stream",
     "text": [
      "Journal of food science and technology/Journal of Food Science and Technology has homepage_url and type journal\n"
     ]
    },
    {
     "name": "stderr",
     "output_type": "stream",
     "text": [
      " 73%|██████████████████████████████████████████████████▍                  | 1365/1868 [14:21<07:21,  1.14it/s]"
     ]
    },
    {
     "name": "stdout",
     "output_type": "stream",
     "text": [
      "Computational intelligence has homepage_url and type book series\n"
     ]
    },
    {
     "name": "stderr",
     "output_type": "stream",
     "text": [
      " 73%|██████████████████████████████████████████████████▍                  | 1367/1868 [14:23<08:00,  1.04it/s]"
     ]
    },
    {
     "name": "stdout",
     "output_type": "stream",
     "text": [
      "Advances in engineering software has homepage_url and type journal\n"
     ]
    },
    {
     "name": "stderr",
     "output_type": "stream",
     "text": [
      " 73%|██████████████████████████████████████████████████▋                  | 1371/1868 [14:25<05:09,  1.61it/s]"
     ]
    },
    {
     "name": "stdout",
     "output_type": "stream",
     "text": [
      "Journal of group theory has homepage_url and type journal\n"
     ]
    },
    {
     "name": "stderr",
     "output_type": "stream",
     "text": [
      " 74%|██████████████████████████████████████████████████▋                  | 1373/1868 [14:26<04:33,  1.81it/s]"
     ]
    },
    {
     "name": "stdout",
     "output_type": "stream",
     "text": [
      "Numerical linear algebra with applications has homepage_url and type journal\n"
     ]
    },
    {
     "name": "stderr",
     "output_type": "stream",
     "text": [
      " 74%|██████████████████████████████████████████████████▊                  | 1377/1868 [14:29<04:57,  1.65it/s]"
     ]
    },
    {
     "name": "stdout",
     "output_type": "stream",
     "text": [
      "Remote sensing letters has homepage_url and type journal\n"
     ]
    },
    {
     "name": "stderr",
     "output_type": "stream",
     "text": [
      " 74%|██████████████████████████████████████████████████▉                  | 1378/1868 [14:30<04:55,  1.66it/s]"
     ]
    },
    {
     "name": "stdout",
     "output_type": "stream",
     "text": [
      "Mechanical sciences has homepage_url and type journal\n"
     ]
    },
    {
     "name": "stderr",
     "output_type": "stream",
     "text": [
      " 74%|██████████████████████████████████████████████████▉                  | 1379/1868 [14:30<04:43,  1.73it/s]"
     ]
    },
    {
     "name": "stdout",
     "output_type": "stream",
     "text": [
      "E3S web of conferences has homepage_url and type journal\n"
     ]
    },
    {
     "name": "stderr",
     "output_type": "stream",
     "text": [
      " 74%|███████████████████████████████████████████████████                  | 1381/1868 [14:31<04:56,  1.64it/s]"
     ]
    },
    {
     "name": "stdout",
     "output_type": "stream",
     "text": [
      "International journal of imaging systems and technology has homepage_url and type journal\n"
     ]
    },
    {
     "name": "stderr",
     "output_type": "stream",
     "text": [
      " 74%|███████████████████████████████████████████████████                  | 1382/1868 [14:32<04:41,  1.73it/s]"
     ]
    },
    {
     "name": "stdout",
     "output_type": "stream",
     "text": [
      "Annals of biomedical engineering has homepage_url and type journal\n"
     ]
    },
    {
     "name": "stderr",
     "output_type": "stream",
     "text": [
      " 74%|███████████████████████████████████████████████████▏                 | 1385/1868 [14:35<06:51,  1.17it/s]"
     ]
    },
    {
     "name": "stdout",
     "output_type": "stream",
     "text": [
      "Chemical communications has homepage_url and type journal\n"
     ]
    },
    {
     "name": "stderr",
     "output_type": "stream",
     "text": [
      " 74%|███████████████████████████████████████████████████▏                 | 1386/1868 [14:35<06:11,  1.30it/s]"
     ]
    },
    {
     "name": "stdout",
     "output_type": "stream",
     "text": [
      "IRBM has homepage_url and type journal\n"
     ]
    },
    {
     "name": "stderr",
     "output_type": "stream",
     "text": [
      " 74%|███████████████████████████████████████████████████▎                 | 1388/1868 [14:37<05:18,  1.51it/s]"
     ]
    },
    {
     "name": "stdout",
     "output_type": "stream",
     "text": [
      "Management and organization review has homepage_url and type journal\n"
     ]
    },
    {
     "name": "stderr",
     "output_type": "stream",
     "text": [
      " 74%|███████████████████████████████████████████████████▍                 | 1391/1868 [14:38<04:28,  1.78it/s]"
     ]
    },
    {
     "name": "stdout",
     "output_type": "stream",
     "text": [
      "Ferroelectrics. Letters section has homepage_url and type journal\n"
     ]
    },
    {
     "name": "stderr",
     "output_type": "stream",
     "text": [
      " 75%|███████████████████████████████████████████████████▌                 | 1396/1868 [14:41<05:13,  1.50it/s]"
     ]
    },
    {
     "name": "stdout",
     "output_type": "stream",
     "text": [
      "Tomography has homepage_url and type journal\n"
     ]
    },
    {
     "name": "stderr",
     "output_type": "stream",
     "text": [
      " 75%|███████████████████████████████████████████████████▌                 | 1397/1868 [14:42<04:48,  1.64it/s]"
     ]
    },
    {
     "name": "stdout",
     "output_type": "stream",
     "text": [
      "Journal of Raman spectroscopy has homepage_url and type journal\n"
     ]
    },
    {
     "name": "stderr",
     "output_type": "stream",
     "text": [
      " 75%|███████████████████████████████████████████████████▉                 | 1406/1868 [14:46<03:54,  1.97it/s]"
     ]
    },
    {
     "name": "stdout",
     "output_type": "stream",
     "text": [
      "International journal of mobile learning and organisation has homepage_url and type journal\n"
     ]
    },
    {
     "name": "stderr",
     "output_type": "stream",
     "text": [
      " 75%|████████████████████████████████████████████████████                 | 1408/1868 [14:47<04:16,  1.80it/s]"
     ]
    },
    {
     "name": "stdout",
     "output_type": "stream",
     "text": [
      "IEEE embedded systems letters has homepage_url and type journal\n"
     ]
    },
    {
     "name": "stderr",
     "output_type": "stream",
     "text": [
      " 75%|████████████████████████████████████████████████████                 | 1409/1868 [14:48<04:02,  1.89it/s]"
     ]
    },
    {
     "name": "stdout",
     "output_type": "stream",
     "text": [
      "ACM transactions on reconfigurable technology and systems has homepage_url and type journal\n"
     ]
    },
    {
     "name": "stderr",
     "output_type": "stream",
     "text": [
      " 75%|████████████████████████████████████████████████████                 | 1410/1868 [14:49<04:54,  1.55it/s]"
     ]
    },
    {
     "name": "stdout",
     "output_type": "stream",
     "text": [
      "Hacettepe journal of mathematics and statistics has homepage_url and type journal\n"
     ]
    },
    {
     "name": "stderr",
     "output_type": "stream",
     "text": [
      " 76%|████████████████████████████████████████████████████                 | 1411/1868 [14:50<06:10,  1.23it/s]"
     ]
    },
    {
     "name": "stdout",
     "output_type": "stream",
     "text": [
      "IEEE multimedia has homepage_url and type journal\n"
     ]
    },
    {
     "name": "stderr",
     "output_type": "stream",
     "text": [
      " 76%|████████████████████████████████████████████████████▏                | 1412/1868 [14:50<05:22,  1.42it/s]"
     ]
    },
    {
     "name": "stdout",
     "output_type": "stream",
     "text": [
      "Journal of vibroengineering has homepage_url and type journal\n"
     ]
    },
    {
     "name": "stderr",
     "output_type": "stream",
     "text": [
      " 76%|████████████████████████████████████████████████████▏                | 1414/1868 [14:52<05:24,  1.40it/s]"
     ]
    },
    {
     "name": "stdout",
     "output_type": "stream",
     "text": [
      "Intelligent computing has homepage_url and type book series\n"
     ]
    },
    {
     "name": "stderr",
     "output_type": "stream",
     "text": [
      " 76%|████████████████████████████████████████████████████▎                | 1416/1868 [14:53<04:21,  1.73it/s]"
     ]
    },
    {
     "name": "stdout",
     "output_type": "stream",
     "text": [
      "Results in materials has homepage_url and type journal\n"
     ]
    },
    {
     "name": "stderr",
     "output_type": "stream",
     "text": [
      " 76%|████████████████████████████████████████████████████▍                | 1418/1868 [14:54<04:07,  1.82it/s]"
     ]
    },
    {
     "name": "stdout",
     "output_type": "stream",
     "text": [
      "ICT express has homepage_url and type journal\n"
     ]
    },
    {
     "name": "stderr",
     "output_type": "stream",
     "text": [
      " 76%|████████████████████████████████████████████████████▍                | 1421/1868 [14:56<04:46,  1.56it/s]"
     ]
    },
    {
     "name": "stdout",
     "output_type": "stream",
     "text": [
      "Asia-Pacific journal of operational research has homepage_url and type journal\n"
     ]
    },
    {
     "name": "stderr",
     "output_type": "stream",
     "text": [
      " 76%|████████████████████████████████████████████████████▌                | 1423/1868 [14:57<05:51,  1.26it/s]"
     ]
    },
    {
     "name": "stdout",
     "output_type": "stream",
     "text": [
      "Biosystems has homepage_url and type journal\n"
     ]
    },
    {
     "name": "stderr",
     "output_type": "stream",
     "text": [
      " 76%|████████████████████████████████████████████████████▌                | 1424/1868 [14:58<05:24,  1.37it/s]"
     ]
    },
    {
     "name": "stdout",
     "output_type": "stream",
     "text": [
      "Interacting with computers has homepage_url and type journal\n"
     ]
    },
    {
     "name": "stderr",
     "output_type": "stream",
     "text": [
      " 76%|████████████████████████████████████████████████████▋                | 1425/1868 [15:00<07:43,  1.05s/it]"
     ]
    },
    {
     "name": "stdout",
     "output_type": "stream",
     "text": [
      "SpringerBriefs in applied sciences and technology has homepage_url and type book series\n"
     ]
    },
    {
     "name": "stderr",
     "output_type": "stream",
     "text": [
      " 76%|████████████████████████████████████████████████████▋                | 1428/1868 [15:01<04:58,  1.48it/s]"
     ]
    },
    {
     "name": "stdout",
     "output_type": "stream",
     "text": [
      "Topology and its applications has homepage_url and type journal\n"
     ]
    },
    {
     "name": "stderr",
     "output_type": "stream",
     "text": [
      " 76%|████████████████████████████████████████████████████▊                | 1429/1868 [15:02<04:38,  1.58it/s]"
     ]
    },
    {
     "name": "stdout",
     "output_type": "stream",
     "text": [
      "Journal of advanced computational intelligence and intelligent informatics has homepage_url and type journal\n"
     ]
    },
    {
     "name": "stderr",
     "output_type": "stream",
     "text": [
      " 77%|████████████████████████████████████████████████████▉                | 1433/1868 [15:05<05:26,  1.33it/s]"
     ]
    },
    {
     "name": "stdout",
     "output_type": "stream",
     "text": [
      "Engineering failure analysis has homepage_url and type journal\n"
     ]
    },
    {
     "name": "stderr",
     "output_type": "stream",
     "text": [
      " 77%|█████████████████████████████████████████████████████                | 1435/1868 [15:06<04:32,  1.59it/s]"
     ]
    },
    {
     "name": "stdout",
     "output_type": "stream",
     "text": [
      "Journal of computational physics has homepage_url and type journal\n"
     ]
    },
    {
     "name": "stderr",
     "output_type": "stream",
     "text": [
      " 77%|█████████████████████████████████████████████████████                | 1437/1868 [15:07<04:00,  1.79it/s]"
     ]
    },
    {
     "name": "stdout",
     "output_type": "stream",
     "text": [
      "Advanced ultrasound in diagnosis and therapy has homepage_url and type journal\n"
     ]
    },
    {
     "name": "stderr",
     "output_type": "stream",
     "text": [
      " 77%|█████████████████████████████████████████████████████                | 1438/1868 [15:07<03:50,  1.86it/s]"
     ]
    },
    {
     "name": "stdout",
     "output_type": "stream",
     "text": [
      "Journal of managerial psychology has homepage_url and type journal\n"
     ]
    },
    {
     "name": "stderr",
     "output_type": "stream",
     "text": [
      " 77%|█████████████████████████████████████████████████████▏               | 1440/1868 [15:09<04:54,  1.45it/s]"
     ]
    },
    {
     "name": "stdout",
     "output_type": "stream",
     "text": [
      "International journal of software engineering and knowledge engineering has homepage_url and type journal\n"
     ]
    },
    {
     "name": "stderr",
     "output_type": "stream",
     "text": [
      " 77%|█████████████████████████████████████████████████████▎               | 1444/1868 [15:11<04:58,  1.42it/s]"
     ]
    },
    {
     "name": "stdout",
     "output_type": "stream",
     "text": [
      "Frontiers in radiology has homepage_url and type journal\n"
     ]
    },
    {
     "name": "stderr",
     "output_type": "stream",
     "text": [
      " 77%|█████████████████████████████████████████████████████▍               | 1445/1868 [15:12<05:14,  1.34it/s]"
     ]
    },
    {
     "name": "stdout",
     "output_type": "stream",
     "text": [
      "Science Bulletin has homepage_url and type journal\n"
     ]
    },
    {
     "name": "stderr",
     "output_type": "stream",
     "text": [
      " 77%|█████████████████████████████████████████████████████▍               | 1446/1868 [15:13<04:47,  1.47it/s]"
     ]
    },
    {
     "name": "stdout",
     "output_type": "stream",
     "text": [
      "Journal of the Science of Food and Agriculture/Journal of the science of food and agriculture has homepage_url and type journal\n"
     ]
    },
    {
     "name": "stderr",
     "output_type": "stream",
     "text": [
      " 77%|█████████████████████████████████████████████████████▍               | 1447/1868 [15:14<05:58,  1.17it/s]"
     ]
    },
    {
     "name": "stdout",
     "output_type": "stream",
     "text": [
      "Buildings has homepage_url and type journal\n"
     ]
    },
    {
     "name": "stderr",
     "output_type": "stream",
     "text": [
      " 78%|█████████████████████████████████████████████████████▍               | 1448/1868 [15:15<05:26,  1.29it/s]"
     ]
    },
    {
     "name": "stdout",
     "output_type": "stream",
     "text": [
      "Lecture notes in mechanical engineering has homepage_url and type book series\n"
     ]
    },
    {
     "name": "stderr",
     "output_type": "stream",
     "text": [
      " 78%|█████████████████████████████████████████████████████▌               | 1449/1868 [15:16<05:58,  1.17it/s]"
     ]
    },
    {
     "name": "stdout",
     "output_type": "stream",
     "text": [
      "Ecology and evolution has homepage_url and type journal\n"
     ]
    },
    {
     "name": "stderr",
     "output_type": "stream",
     "text": [
      " 78%|█████████████████████████████████████████████████████▌               | 1450/1868 [15:17<06:16,  1.11it/s]"
     ]
    },
    {
     "name": "stdout",
     "output_type": "stream",
     "text": [
      "Cluster computing has homepage_url and type journal\n"
     ]
    },
    {
     "name": "stderr",
     "output_type": "stream",
     "text": [
      " 78%|█████████████████████████████████████████████████████▋               | 1452/1868 [15:18<04:46,  1.45it/s]"
     ]
    },
    {
     "name": "stdout",
     "output_type": "stream",
     "text": [
      "Mathematical and computational applications has homepage_url and type journal\n"
     ]
    },
    {
     "name": "stderr",
     "output_type": "stream",
     "text": [
      " 78%|█████████████████████████████████████████████████████▋               | 1453/1868 [15:18<04:22,  1.58it/s]"
     ]
    },
    {
     "name": "stdout",
     "output_type": "stream",
     "text": [
      "Latin American applied research has homepage_url and type journal\n"
     ]
    },
    {
     "name": "stderr",
     "output_type": "stream",
     "text": [
      " 78%|█████████████████████████████████████████████████████▊               | 1458/1868 [15:21<03:37,  1.89it/s]"
     ]
    },
    {
     "name": "stdout",
     "output_type": "stream",
     "text": [
      "Discovery medicine has homepage_url and type journal\n"
     ]
    },
    {
     "name": "stderr",
     "output_type": "stream",
     "text": [
      " 78%|█████████████████████████████████████████████████████▉               | 1459/1868 [15:22<04:22,  1.56it/s]"
     ]
    },
    {
     "name": "stdout",
     "output_type": "stream",
     "text": [
      "Lecture notes in civil engineering has homepage_url and type book series\n"
     ]
    },
    {
     "name": "stderr",
     "output_type": "stream",
     "text": [
      " 78%|█████████████████████████████████████████████████████▉               | 1460/1868 [15:23<05:01,  1.35it/s]"
     ]
    },
    {
     "name": "stdout",
     "output_type": "stream",
     "text": [
      "Digest of technical papers has homepage_url and type journal\n"
     ]
    },
    {
     "name": "stderr",
     "output_type": "stream",
     "text": [
      " 78%|█████████████████████████████████████████████████████▉               | 1461/1868 [15:23<04:36,  1.47it/s]"
     ]
    },
    {
     "name": "stdout",
     "output_type": "stream",
     "text": [
      "IEEE transactions on games has homepage_url and type journal\n"
     ]
    },
    {
     "name": "stderr",
     "output_type": "stream",
     "text": [
      " 78%|██████████████████████████████████████████████████████               | 1462/1868 [15:24<04:11,  1.62it/s]"
     ]
    },
    {
     "name": "stdout",
     "output_type": "stream",
     "text": [
      "Faguang xuebao has homepage_url and type journal\n"
     ]
    },
    {
     "name": "stderr",
     "output_type": "stream",
     "text": [
      " 78%|██████████████████████████████████████████████████████               | 1463/1868 [15:25<05:11,  1.30it/s]"
     ]
    },
    {
     "name": "stdout",
     "output_type": "stream",
     "text": [
      "Economics and politics has homepage_url and type journal\n"
     ]
    },
    {
     "name": "stderr",
     "output_type": "stream",
     "text": [
      " 78%|██████████████████████████████████████████████████████               | 1465/1868 [15:27<07:06,  1.06s/it]"
     ]
    },
    {
     "name": "stdout",
     "output_type": "stream",
     "text": [
      "Optimization has homepage_url and type journal\n"
     ]
    },
    {
     "name": "stderr",
     "output_type": "stream",
     "text": [
      " 79%|██████████████████████████████████████████████████████▏              | 1467/1868 [15:28<05:14,  1.28it/s]"
     ]
    },
    {
     "name": "stdout",
     "output_type": "stream",
     "text": [
      "Journal of urban affairs has homepage_url and type journal\n"
     ]
    },
    {
     "name": "stderr",
     "output_type": "stream",
     "text": [
      " 79%|██████████████████████████████████████████████████████▎              | 1470/1868 [15:30<03:53,  1.71it/s]"
     ]
    },
    {
     "name": "stdout",
     "output_type": "stream",
     "text": [
      "SIAM journal on applied mathematics has homepage_url and type journal\n"
     ]
    },
    {
     "name": "stderr",
     "output_type": "stream",
     "text": [
      " 79%|██████████████████████████████████████████████████████▎              | 1471/1868 [15:30<03:48,  1.74it/s]"
     ]
    },
    {
     "name": "stdout",
     "output_type": "stream",
     "text": [
      "Journal of neuroradiology has homepage_url and type journal\n"
     ]
    },
    {
     "name": "stderr",
     "output_type": "stream",
     "text": [
      " 79%|██████████████████████████████████████████████████████▎              | 1472/1868 [15:31<03:37,  1.82it/s]"
     ]
    },
    {
     "name": "stdout",
     "output_type": "stream",
     "text": [
      "STAR protocols has homepage_url and type journal\n"
     ]
    },
    {
     "name": "stderr",
     "output_type": "stream",
     "text": [
      " 79%|██████████████████████████████████████████████████████▍              | 1473/1868 [15:32<04:38,  1.42it/s]"
     ]
    },
    {
     "name": "stdout",
     "output_type": "stream",
     "text": [
      "Speech communication has homepage_url and type journal\n"
     ]
    },
    {
     "name": "stderr",
     "output_type": "stream",
     "text": [
      " 79%|██████████████████████████████████████████████████████▍              | 1474/1868 [15:32<04:15,  1.54it/s]"
     ]
    },
    {
     "name": "stdout",
     "output_type": "stream",
     "text": [
      "International journal of digital earth has homepage_url and type journal\n"
     ]
    },
    {
     "name": "stderr",
     "output_type": "stream",
     "text": [
      " 79%|██████████████████████████████████████████████████████▌              | 1476/1868 [15:34<03:47,  1.72it/s]"
     ]
    },
    {
     "name": "stdout",
     "output_type": "stream",
     "text": [
      "Frontiers in big data has homepage_url and type journal\n"
     ]
    },
    {
     "name": "stderr",
     "output_type": "stream",
     "text": [
      " 79%|██████████████████████████████████████████████████████▌              | 1477/1868 [15:34<03:41,  1.77it/s]"
     ]
    },
    {
     "name": "stdout",
     "output_type": "stream",
     "text": [
      "Urban rail transit has homepage_url and type journal\n"
     ]
    },
    {
     "name": "stderr",
     "output_type": "stream",
     "text": [
      " 79%|██████████████████████████████████████████████████████▋              | 1479/1868 [15:36<04:25,  1.47it/s]"
     ]
    },
    {
     "name": "stdout",
     "output_type": "stream",
     "text": [
      "IEEE transactions on transportation electrification has homepage_url and type journal\n"
     ]
    },
    {
     "name": "stderr",
     "output_type": "stream",
     "text": [
      " 79%|██████████████████████████████████████████████████████▋              | 1482/1868 [15:37<03:30,  1.83it/s]"
     ]
    },
    {
     "name": "stdout",
     "output_type": "stream",
     "text": [
      "European journal of surgical oncology has homepage_url and type journal\n"
     ]
    },
    {
     "name": "stderr",
     "output_type": "stream",
     "text": [
      " 79%|██████████████████████████████████████████████████████▊              | 1483/1868 [15:38<03:42,  1.73it/s]"
     ]
    },
    {
     "name": "stdout",
     "output_type": "stream",
     "text": [
      "AIMS mathematics has homepage_url and type journal\n"
     ]
    },
    {
     "name": "stderr",
     "output_type": "stream",
     "text": [
      " 79%|██████████████████████████████████████████████████████▊              | 1485/1868 [15:39<03:27,  1.85it/s]"
     ]
    },
    {
     "name": "stdout",
     "output_type": "stream",
     "text": [
      "Psychiatry research. Neuroimaging has homepage_url and type journal\n"
     ]
    },
    {
     "name": "stderr",
     "output_type": "stream",
     "text": [
      " 80%|██████████████████████████████████████████████████████▉              | 1487/1868 [15:40<03:25,  1.85it/s]"
     ]
    },
    {
     "name": "stdout",
     "output_type": "stream",
     "text": [
      "Solid state ionics has homepage_url and type journal\n"
     ]
    },
    {
     "name": "stderr",
     "output_type": "stream",
     "text": [
      " 80%|███████████████████████████████████████████████████████              | 1490/1868 [15:41<03:10,  1.98it/s]"
     ]
    },
    {
     "name": "stdout",
     "output_type": "stream",
     "text": [
      "Izvestiya. Mathematics has homepage_url and type journal\n"
     ]
    },
    {
     "name": "stderr",
     "output_type": "stream",
     "text": [
      " 80%|███████████████████████████████████████████████████████              | 1491/1868 [15:42<03:08,  2.00it/s]"
     ]
    },
    {
     "name": "stdout",
     "output_type": "stream",
     "text": [
      "Accounting forum has homepage_url and type journal\n"
     ]
    },
    {
     "name": "stderr",
     "output_type": "stream",
     "text": [
      " 80%|███████████████████████████████████████████████████████              | 1492/1868 [15:43<04:19,  1.45it/s]"
     ]
    },
    {
     "name": "stdout",
     "output_type": "stream",
     "text": [
      "Journal of traffic and transportation engineering/Journal of Traffic and Transportation Engineering has homepage_url and type journal\n"
     ]
    },
    {
     "name": "stderr",
     "output_type": "stream",
     "text": [
      " 80%|███████████████████████████████████████████████████████▏             | 1493/1868 [15:43<03:58,  1.57it/s]"
     ]
    },
    {
     "name": "stdout",
     "output_type": "stream",
     "text": [
      "JMIR mental health has homepage_url and type journal\n"
     ]
    },
    {
     "name": "stderr",
     "output_type": "stream",
     "text": [
      " 80%|███████████████████████████████████████████████████████▏             | 1494/1868 [15:44<03:42,  1.68it/s]"
     ]
    },
    {
     "name": "stdout",
     "output_type": "stream",
     "text": [
      "Open Geosciences has homepage_url and type journal\n"
     ]
    },
    {
     "name": "stderr",
     "output_type": "stream",
     "text": [
      " 80%|███████████████████████████████████████████████████████▎             | 1497/1868 [15:45<03:29,  1.77it/s]"
     ]
    },
    {
     "name": "stdout",
     "output_type": "stream",
     "text": [
      "Journal of magnetic resonance imaging has homepage_url and type journal\n"
     ]
    },
    {
     "name": "stderr",
     "output_type": "stream",
     "text": [
      " 80%|███████████████████████████████████████████████████████▎             | 1499/1868 [15:47<03:24,  1.81it/s]"
     ]
    },
    {
     "name": "stdout",
     "output_type": "stream",
     "text": [
      "Translational lung cancer research has homepage_url and type journal\n"
     ]
    },
    {
     "name": "stderr",
     "output_type": "stream",
     "text": [
      " 80%|███████████████████████████████████████████████████████▍             | 1500/1868 [15:47<03:21,  1.82it/s]"
     ]
    },
    {
     "name": "stdout",
     "output_type": "stream",
     "text": [
      "Chemical physics reviews has homepage_url and type journal\n"
     ]
    },
    {
     "name": "stderr",
     "output_type": "stream",
     "text": [
      " 80%|███████████████████████████████████████████████████████▍             | 1502/1868 [15:48<03:09,  1.93it/s]"
     ]
    },
    {
     "name": "stdout",
     "output_type": "stream",
     "text": [
      "VFAST transactions on mathematics has homepage_url and type journal\n"
     ]
    },
    {
     "name": "stderr",
     "output_type": "stream",
     "text": [
      " 81%|███████████████████████████████████████████████████████▌             | 1504/1868 [15:49<03:03,  1.99it/s]"
     ]
    },
    {
     "name": "stdout",
     "output_type": "stream",
     "text": [
      "Journal of complex networks has homepage_url and type journal\n"
     ]
    },
    {
     "name": "stderr",
     "output_type": "stream",
     "text": [
      " 81%|███████████████████████████████████████████████████████▋             | 1507/1868 [15:51<04:18,  1.40it/s]"
     ]
    },
    {
     "name": "stdout",
     "output_type": "stream",
     "text": [
      "Radioengineering has homepage_url and type journal\n"
     ]
    },
    {
     "name": "stderr",
     "output_type": "stream",
     "text": [
      " 81%|███████████████████████████████████████████████████████▋             | 1508/1868 [15:52<03:56,  1.52it/s]"
     ]
    },
    {
     "name": "stdout",
     "output_type": "stream",
     "text": [
      "ACM transactions on modeling and performance evaluation of computing systems has homepage_url and type journal\n"
     ]
    },
    {
     "name": "stderr",
     "output_type": "stream",
     "text": [
      " 81%|███████████████████████████████████████████████████████▊             | 1510/1868 [15:53<04:35,  1.30it/s]"
     ]
    },
    {
     "name": "stdout",
     "output_type": "stream",
     "text": [
      "Journal of function spaces has homepage_url and type journal\n"
     ]
    },
    {
     "name": "stderr",
     "output_type": "stream",
     "text": [
      " 81%|███████████████████████████████████████████████████████▊             | 1511/1868 [15:54<04:07,  1.44it/s]"
     ]
    },
    {
     "name": "stdout",
     "output_type": "stream",
     "text": [
      "Bioelectromagnetics has homepage_url and type journal\n"
     ]
    },
    {
     "name": "stderr",
     "output_type": "stream",
     "text": [
      " 81%|███████████████████████████████████████████████████████▊             | 1512/1868 [15:55<03:52,  1.53it/s]"
     ]
    },
    {
     "name": "stdout",
     "output_type": "stream",
     "text": [
      "Proceedings of the ... Annual Hawaii International Conference on System Sciences/Proceedings of the Annual Hawaii International Conference on System Sciences has homepage_url and type conference\n"
     ]
    },
    {
     "name": "stderr",
     "output_type": "stream",
     "text": [
      " 81%|███████████████████████████████████████████████████████▉             | 1514/1868 [15:55<03:20,  1.77it/s]"
     ]
    },
    {
     "name": "stdout",
     "output_type": "stream",
     "text": [
      "Acta Physica Polonica. A has homepage_url and type journal\n"
     ]
    },
    {
     "name": "stderr",
     "output_type": "stream",
     "text": [
      " 81%|███████████████████████████████████████████████████████▉             | 1515/1868 [15:57<04:11,  1.40it/s]"
     ]
    },
    {
     "name": "stdout",
     "output_type": "stream",
     "text": [
      "Journal of differential equations has homepage_url and type journal\n"
     ]
    },
    {
     "name": "stderr",
     "output_type": "stream",
     "text": [
      " 81%|████████████████████████████████████████████████████████             | 1517/1868 [15:58<03:35,  1.63it/s]"
     ]
    },
    {
     "name": "stdout",
     "output_type": "stream",
     "text": [
      "Biocell has homepage_url and type journal\n"
     ]
    },
    {
     "name": "stderr",
     "output_type": "stream",
     "text": [
      " 82%|████████████████████████████████████████████████████████▎            | 1523/1868 [16:01<03:16,  1.75it/s]"
     ]
    },
    {
     "name": "stdout",
     "output_type": "stream",
     "text": [
      "International journal of electrical engineering education has homepage_url and type journal\n"
     ]
    },
    {
     "name": "stderr",
     "output_type": "stream",
     "text": [
      " 82%|████████████████████████████████████████████████████████▎            | 1524/1868 [16:02<03:06,  1.84it/s]"
     ]
    },
    {
     "name": "stdout",
     "output_type": "stream",
     "text": [
      "The American mathematical monthly has homepage_url and type journal\n"
     ]
    },
    {
     "name": "stderr",
     "output_type": "stream",
     "text": [
      " 82%|████████████████████████████████████████████████████████▎            | 1525/1868 [16:02<03:01,  1.89it/s]"
     ]
    },
    {
     "name": "stdout",
     "output_type": "stream",
     "text": [
      "Information discovery and delivery has homepage_url and type journal\n"
     ]
    },
    {
     "name": "stderr",
     "output_type": "stream",
     "text": [
      " 82%|████████████████████████████████████████████████████████▍            | 1529/1868 [16:04<02:50,  1.99it/s]"
     ]
    },
    {
     "name": "stdout",
     "output_type": "stream",
     "text": [
      "International journal of foundations of computer science has homepage_url and type journal\n"
     ]
    },
    {
     "name": "stderr",
     "output_type": "stream",
     "text": [
      " 82%|████████████████████████████████████████████████████████▌            | 1530/1868 [16:05<04:14,  1.33it/s]"
     ]
    },
    {
     "name": "stdout",
     "output_type": "stream",
     "text": [
      "Operations research has homepage_url and type journal\n"
     ]
    },
    {
     "name": "stderr",
     "output_type": "stream",
     "text": [
      " 82%|████████████████████████████████████████████████████████▌            | 1532/1868 [16:07<04:27,  1.25it/s]"
     ]
    },
    {
     "name": "stdout",
     "output_type": "stream",
     "text": [
      "Quantum electronics has homepage_url and type journal\n"
     ]
    },
    {
     "name": "stderr",
     "output_type": "stream",
     "text": [
      " 82%|████████████████████████████████████████████████████████▋            | 1534/1868 [16:08<04:03,  1.37it/s]"
     ]
    },
    {
     "name": "stdout",
     "output_type": "stream",
     "text": [
      "World wide web has homepage_url and type journal\n"
     ]
    },
    {
     "name": "stderr",
     "output_type": "stream",
     "text": [
      " 82%|████████████████████████████████████████████████████████▋            | 1535/1868 [16:09<03:36,  1.53it/s]"
     ]
    },
    {
     "name": "stdout",
     "output_type": "stream",
     "text": [
      "Advanced nonlinear studies has homepage_url and type journal\n"
     ]
    },
    {
     "name": "stderr",
     "output_type": "stream",
     "text": [
      " 82%|████████████████████████████████████████████████████████▋            | 1536/1868 [16:09<03:24,  1.62it/s]"
     ]
    },
    {
     "name": "stdout",
     "output_type": "stream",
     "text": [
      "Journal of Asian Ceramic Societies has homepage_url and type journal\n"
     ]
    },
    {
     "name": "stderr",
     "output_type": "stream",
     "text": [
      " 82%|████████████████████████████████████████████████████████▊            | 1537/1868 [16:10<03:11,  1.73it/s]"
     ]
    },
    {
     "name": "stdout",
     "output_type": "stream",
     "text": [
      "International journal of machine learning and computing has homepage_url and type journal\n"
     ]
    },
    {
     "name": "stderr",
     "output_type": "stream",
     "text": [
      " 83%|████████████████████████████████████████████████████████▉            | 1543/1868 [16:13<02:46,  1.95it/s]"
     ]
    },
    {
     "name": "stdout",
     "output_type": "stream",
     "text": [
      "Artificial intelligence advances has homepage_url and type journal\n"
     ]
    },
    {
     "name": "stderr",
     "output_type": "stream",
     "text": [
      " 83%|█████████████████████████████████████████████████████████            | 1544/1868 [16:14<03:51,  1.40it/s]"
     ]
    },
    {
     "name": "stdout",
     "output_type": "stream",
     "text": [
      "Acupuncture Research has homepage_url and type journal\n"
     ]
    },
    {
     "name": "stderr",
     "output_type": "stream",
     "text": [
      " 83%|█████████████████████████████████████████████████████████▏           | 1547/1868 [16:16<03:05,  1.73it/s]"
     ]
    },
    {
     "name": "stdout",
     "output_type": "stream",
     "text": [
      "Electronic research archive has homepage_url and type journal\n"
     ]
    },
    {
     "name": "stderr",
     "output_type": "stream",
     "text": [
      " 83%|█████████████████████████████████████████████████████████▏           | 1548/1868 [16:17<04:01,  1.32it/s]"
     ]
    },
    {
     "name": "stdout",
     "output_type": "stream",
     "text": [
      "Frontiers in medicine has homepage_url and type journal\n"
     ]
    },
    {
     "name": "stderr",
     "output_type": "stream",
     "text": [
      " 83%|█████████████████████████████████████████████████████████▎           | 1551/1868 [16:18<03:05,  1.71it/s]"
     ]
    },
    {
     "name": "stdout",
     "output_type": "stream",
     "text": [
      "Traitement du signal/TS. Traitement du signal has homepage_url and type journal\n"
     ]
    },
    {
     "name": "stderr",
     "output_type": "stream",
     "text": [
      " 83%|█████████████████████████████████████████████████████████▍           | 1554/1868 [16:20<02:51,  1.83it/s]"
     ]
    },
    {
     "name": "stdout",
     "output_type": "stream",
     "text": [
      "Ferroelectrics has homepage_url and type journal\n"
     ]
    },
    {
     "name": "stderr",
     "output_type": "stream",
     "text": [
      " 84%|█████████████████████████████████████████████████████████▋           | 1561/1868 [16:23<02:26,  2.09it/s]"
     ]
    },
    {
     "name": "stdout",
     "output_type": "stream",
     "text": [
      "Synthesis lectures on artificial intelligence and machine learning has homepage_url and type journal\n"
     ]
    },
    {
     "name": "stderr",
     "output_type": "stream",
     "text": [
      " 84%|█████████████████████████████████████████████████████████▋           | 1563/1868 [16:25<03:40,  1.38it/s]"
     ]
    },
    {
     "name": "stdout",
     "output_type": "stream",
     "text": [
      "International journal of industrial and systems engineering has homepage_url and type journal\n"
     ]
    },
    {
     "name": "stderr",
     "output_type": "stream",
     "text": [
      " 84%|█████████████████████████████████████████████████████████▊           | 1564/1868 [16:26<04:45,  1.07it/s]"
     ]
    },
    {
     "name": "stdout",
     "output_type": "stream",
     "text": [
      "Proceedings has homepage_url and type journal\n"
     ]
    },
    {
     "name": "stderr",
     "output_type": "stream",
     "text": [
      " 84%|█████████████████████████████████████████████████████████▊           | 1565/1868 [16:27<04:03,  1.25it/s]"
     ]
    },
    {
     "name": "stdout",
     "output_type": "stream",
     "text": [
      "Journal of the Operational Research Society has homepage_url and type journal\n"
     ]
    },
    {
     "name": "stderr",
     "output_type": "stream",
     "text": [
      " 84%|█████████████████████████████████████████████████████████▊           | 1566/1868 [16:27<03:35,  1.40it/s]"
     ]
    },
    {
     "name": "stdout",
     "output_type": "stream",
     "text": [
      "Mathematical geosciences has homepage_url and type journal\n"
     ]
    },
    {
     "name": "stderr",
     "output_type": "stream",
     "text": [
      " 84%|██████████████████████████████████████████████████████████           | 1573/1868 [16:31<02:29,  1.97it/s]"
     ]
    },
    {
     "name": "stdout",
     "output_type": "stream",
     "text": [
      "Frontiers in bioengineering and biotechnology has homepage_url and type journal\n"
     ]
    },
    {
     "name": "stderr",
     "output_type": "stream",
     "text": [
      " 84%|██████████████████████████████████████████████████████████▏          | 1576/1868 [16:33<02:49,  1.72it/s]"
     ]
    },
    {
     "name": "stdout",
     "output_type": "stream",
     "text": [
      "ACM transactions on graphics has homepage_url and type journal\n"
     ]
    },
    {
     "name": "stderr",
     "output_type": "stream",
     "text": [
      " 85%|██████████████████████████████████████████████████████████▍          | 1581/1868 [16:35<02:29,  1.92it/s]"
     ]
    },
    {
     "name": "stdout",
     "output_type": "stream",
     "text": [
      "ACS infectious diseases has homepage_url and type journal\n"
     ]
    },
    {
     "name": "stderr",
     "output_type": "stream",
     "text": [
      " 85%|██████████████████████████████████████████████████████████▉          | 1594/1868 [16:42<02:23,  1.91it/s]"
     ]
    },
    {
     "name": "stdout",
     "output_type": "stream",
     "text": [
      "Journal of web engineering/Journal of web engineering on line has homepage_url and type journal\n"
     ]
    },
    {
     "name": "stderr",
     "output_type": "stream",
     "text": [
      " 85%|██████████████████████████████████████████████████████████▉          | 1595/1868 [16:43<02:21,  1.93it/s]"
     ]
    },
    {
     "name": "stdout",
     "output_type": "stream",
     "text": [
      "International journal of interactive multimedia and artificial intelligence has homepage_url and type journal\n"
     ]
    },
    {
     "name": "stderr",
     "output_type": "stream",
     "text": [
      " 85%|██████████████████████████████████████████████████████████▉          | 1597/1868 [16:44<02:17,  1.97it/s]"
     ]
    },
    {
     "name": "stdout",
     "output_type": "stream",
     "text": [
      "IEEE transactions on dielectrics and electrical insulation has homepage_url and type journal\n"
     ]
    },
    {
     "name": "stderr",
     "output_type": "stream",
     "text": [
      " 86%|███████████████████████████████████████████████████████████          | 1599/1868 [16:45<02:14,  2.00it/s]"
     ]
    },
    {
     "name": "stdout",
     "output_type": "stream",
     "text": [
      "Journal on big data has homepage_url and type journal\n"
     ]
    },
    {
     "name": "stderr",
     "output_type": "stream",
     "text": [
      " 86%|███████████████████████████████████████████████████████████▎         | 1607/1868 [16:49<02:15,  1.92it/s]"
     ]
    },
    {
     "name": "stdout",
     "output_type": "stream",
     "text": [
      "Acta mathematica Sinica. English series has homepage_url and type journal\n"
     ]
    },
    {
     "name": "stderr",
     "output_type": "stream",
     "text": [
      " 86%|███████████████████████████████████████████████████████████▍         | 1610/1868 [16:51<02:10,  1.98it/s]"
     ]
    },
    {
     "name": "stdout",
     "output_type": "stream",
     "text": [
      "Results in optics has homepage_url and type journal\n"
     ]
    },
    {
     "name": "stderr",
     "output_type": "stream",
     "text": [
      " 86%|███████████████████████████████████████████████████████████▌         | 1613/1868 [16:54<03:10,  1.34it/s]"
     ]
    },
    {
     "name": "stdout",
     "output_type": "stream",
     "text": [
      "International journal of image and graphics has homepage_url and type journal\n"
     ]
    },
    {
     "name": "stderr",
     "output_type": "stream",
     "text": [
      " 87%|███████████████████████████████████████████████████████████▉         | 1624/1868 [17:00<02:39,  1.53it/s]"
     ]
    },
    {
     "name": "stdout",
     "output_type": "stream",
     "text": [
      "Journal of software engineering and applications has homepage_url and type journal\n"
     ]
    },
    {
     "name": "stderr",
     "output_type": "stream",
     "text": [
      " 87%|████████████████████████████████████████████████████████████         | 1625/1868 [17:01<03:07,  1.29it/s]"
     ]
    },
    {
     "name": "stdout",
     "output_type": "stream",
     "text": [
      "Materials science forum has homepage_url and type book series\n"
     ]
    },
    {
     "name": "stderr",
     "output_type": "stream",
     "text": [
      " 87%|████████████████████████████████████████████████████████████▏        | 1628/1868 [17:04<03:17,  1.22it/s]"
     ]
    },
    {
     "name": "stdout",
     "output_type": "stream",
     "text": [
      "IEICE transactions on electronics has homepage_url and type journal\n"
     ]
    },
    {
     "name": "stderr",
     "output_type": "stream",
     "text": [
      " 87%|████████████████████████████████████████████████████████████▏        | 1629/1868 [17:04<02:50,  1.40it/s]"
     ]
    },
    {
     "name": "stdout",
     "output_type": "stream",
     "text": [
      "IEEE microwave magazine has homepage_url and type journal\n"
     ]
    },
    {
     "name": "stderr",
     "output_type": "stream",
     "text": [
      " 87%|████████████████████████████████████████████████████████████▏        | 1631/1868 [17:05<02:24,  1.63it/s]"
     ]
    },
    {
     "name": "stdout",
     "output_type": "stream",
     "text": [
      "Phase transitions has homepage_url and type journal\n"
     ]
    },
    {
     "name": "stderr",
     "output_type": "stream",
     "text": [
      " 87%|████████████████████████████████████████████████████████████▎        | 1633/1868 [17:06<02:12,  1.78it/s]"
     ]
    },
    {
     "name": "stdout",
     "output_type": "stream",
     "text": [
      "The Electronic journal of combinatorics/The journal of combinatorics has homepage_url and type journal\n"
     ]
    },
    {
     "name": "stderr",
     "output_type": "stream",
     "text": [
      " 88%|████████████████████████████████████████████████████████████▍        | 1635/1868 [17:07<02:02,  1.91it/s]"
     ]
    },
    {
     "name": "stdout",
     "output_type": "stream",
     "text": [
      "Neuroscience letters has homepage_url and type journal\n"
     ]
    },
    {
     "name": "stderr",
     "output_type": "stream",
     "text": [
      " 88%|████████████████████████████████████████████████████████████▋        | 1643/1868 [17:12<02:46,  1.35it/s]"
     ]
    },
    {
     "name": "stdout",
     "output_type": "stream",
     "text": [
      "Big data management has homepage_url and type journal\n"
     ]
    },
    {
     "name": "stderr",
     "output_type": "stream",
     "text": [
      " 88%|████████████████████████████████████████████████████████████▊        | 1645/1868 [17:13<02:26,  1.52it/s]"
     ]
    },
    {
     "name": "stdout",
     "output_type": "stream",
     "text": [
      "SN applied sciences/SN Applied Sciences has homepage_url and type journal\n"
     ]
    },
    {
     "name": "stderr",
     "output_type": "stream",
     "text": [
      " 88%|████████████████████████████████████████████████████████████▊        | 1648/1868 [17:15<02:03,  1.79it/s]"
     ]
    },
    {
     "name": "stdout",
     "output_type": "stream",
     "text": [
      "Journal of electronic packaging has homepage_url and type journal\n"
     ]
    },
    {
     "name": "stderr",
     "output_type": "stream",
     "text": [
      " 88%|████████████████████████████████████████████████████████████▉        | 1649/1868 [17:15<01:58,  1.85it/s]"
     ]
    },
    {
     "name": "stdout",
     "output_type": "stream",
     "text": [
      "Applied stochastic models in business and industry has homepage_url and type journal\n"
     ]
    },
    {
     "name": "stderr",
     "output_type": "stream",
     "text": [
      " 89%|█████████████████████████████████████████████████████████████▏       | 1655/1868 [17:19<02:22,  1.50it/s]"
     ]
    },
    {
     "name": "stdout",
     "output_type": "stream",
     "text": [
      "International journal of computational science and engineering has homepage_url and type journal\n"
     ]
    },
    {
     "name": "stderr",
     "output_type": "stream",
     "text": [
      " 89%|█████████████████████████████████████████████████████████████▏       | 1656/1868 [17:20<02:27,  1.44it/s]"
     ]
    },
    {
     "name": "stdout",
     "output_type": "stream",
     "text": [
      "International journal of information and communication technology has homepage_url and type journal\n"
     ]
    },
    {
     "name": "stderr",
     "output_type": "stream",
     "text": [
      " 89%|█████████████████████████████████████████████████████████████▏       | 1657/1868 [17:20<02:15,  1.56it/s]"
     ]
    },
    {
     "name": "stdout",
     "output_type": "stream",
     "text": [
      "Sports biomechanics has homepage_url and type journal\n"
     ]
    },
    {
     "name": "stderr",
     "output_type": "stream",
     "text": [
      " 89%|█████████████████████████████████████████████████████████████▏       | 1658/1868 [17:21<02:08,  1.64it/s]"
     ]
    },
    {
     "name": "stdout",
     "output_type": "stream",
     "text": [
      "Journal of micromechanics and microengineering has homepage_url and type journal\n"
     ]
    },
    {
     "name": "stderr",
     "output_type": "stream",
     "text": [
      " 89%|█████████████████████████████████████████████████████████████▎       | 1659/1868 [17:21<02:02,  1.70it/s]"
     ]
    },
    {
     "name": "stdout",
     "output_type": "stream",
     "text": [
      "Nankai business review international has homepage_url and type journal\n"
     ]
    },
    {
     "name": "stderr",
     "output_type": "stream",
     "text": [
      " 89%|█████████████████████████████████████████████████████████████▍       | 1664/1868 [17:24<01:43,  1.97it/s]"
     ]
    },
    {
     "name": "stdout",
     "output_type": "stream",
     "text": [
      "Journal of Engineering Research and Reports has homepage_url and type journal\n"
     ]
    },
    {
     "name": "stderr",
     "output_type": "stream",
     "text": [
      " 89%|█████████████████████████████████████████████████████████████▋       | 1669/1868 [17:27<01:59,  1.66it/s]"
     ]
    },
    {
     "name": "stdout",
     "output_type": "stream",
     "text": [
      "Asian Pacific journal of tropical medicine has homepage_url and type journal\n"
     ]
    },
    {
     "name": "stderr",
     "output_type": "stream",
     "text": [
      " 89%|█████████████████████████████████████████████████████████████▋       | 1670/1868 [17:27<01:50,  1.78it/s]"
     ]
    },
    {
     "name": "stdout",
     "output_type": "stream",
     "text": [
      "Frontiers in human neuroscience has homepage_url and type journal\n"
     ]
    },
    {
     "name": "stderr",
     "output_type": "stream",
     "text": [
      " 90%|█████████████████████████████████████████████████████████████▊       | 1672/1868 [17:28<01:46,  1.85it/s]"
     ]
    },
    {
     "name": "stdout",
     "output_type": "stream",
     "text": [
      "Journal of economic science research has homepage_url and type journal\n"
     ]
    },
    {
     "name": "stderr",
     "output_type": "stream",
     "text": [
      " 90%|██████████████████████████████████████████████████████████████       | 1680/1868 [17:33<02:24,  1.30it/s]"
     ]
    },
    {
     "name": "stdout",
     "output_type": "stream",
     "text": [
      "Journal of computer and communications has homepage_url and type journal\n"
     ]
    },
    {
     "name": "stderr",
     "output_type": "stream",
     "text": [
      " 90%|██████████████████████████████████████████████████████████████▍      | 1689/1868 [17:39<02:11,  1.36it/s]"
     ]
    },
    {
     "name": "stdout",
     "output_type": "stream",
     "text": [
      "International journal of theoretical physics has homepage_url and type journal\n"
     ]
    },
    {
     "name": "stderr",
     "output_type": "stream",
     "text": [
      " 91%|██████████████████████████████████████████████████████████████▍      | 1691/1868 [17:40<01:51,  1.58it/s]"
     ]
    },
    {
     "name": "stdout",
     "output_type": "stream",
     "text": [
      "Journal of computational methods in sciences and engineering has homepage_url and type journal\n"
     ]
    },
    {
     "name": "stderr",
     "output_type": "stream",
     "text": [
      " 91%|██████████████████████████████████████████████████████████████▌      | 1693/1868 [17:41<01:37,  1.79it/s]"
     ]
    },
    {
     "name": "stdout",
     "output_type": "stream",
     "text": [
      "Catheterization and cardiovascular interventions has homepage_url and type journal\n"
     ]
    },
    {
     "name": "stderr",
     "output_type": "stream",
     "text": [
      " 91%|██████████████████████████████████████████████████████████████▌      | 1695/1868 [17:42<01:28,  1.96it/s]"
     ]
    },
    {
     "name": "stdout",
     "output_type": "stream",
     "text": [
      "ChemPhysMater has homepage_url and type journal\n"
     ]
    },
    {
     "name": "stderr",
     "output_type": "stream",
     "text": [
      " 91%|██████████████████████████████████████████████████████████████▋      | 1696/1868 [17:42<01:25,  2.02it/s]"
     ]
    },
    {
     "name": "stdout",
     "output_type": "stream",
     "text": [
      "International journal of manpower has homepage_url and type journal\n"
     ]
    },
    {
     "name": "stderr",
     "output_type": "stream",
     "text": [
      " 91%|██████████████████████████████████████████████████████████████▋      | 1697/1868 [17:43<01:23,  2.05it/s]"
     ]
    },
    {
     "name": "stdout",
     "output_type": "stream",
     "text": [
      "Proceedings of International Conference on Artificial Life and Robotics has homepage_url and type conference\n"
     ]
    },
    {
     "name": "stderr",
     "output_type": "stream",
     "text": [
      " 91%|██████████████████████████████████████████████████████████████▊      | 1699/1868 [17:44<01:45,  1.60it/s]"
     ]
    },
    {
     "name": "stdout",
     "output_type": "stream",
     "text": [
      "International journal of occupational safety and ergonomics has homepage_url and type journal\n"
     ]
    },
    {
     "name": "stderr",
     "output_type": "stream",
     "text": [
      " 91%|██████████████████████████████████████████████████████████████▊      | 1700/1868 [17:45<02:16,  1.23it/s]"
     ]
    },
    {
     "name": "stdout",
     "output_type": "stream",
     "text": [
      "Journal of statistical mechanics has homepage_url and type journal\n"
     ]
    },
    {
     "name": "stderr",
     "output_type": "stream",
     "text": [
      " 91%|███████████████████████████████████████████████████████████████      | 1707/1868 [17:50<01:36,  1.66it/s]"
     ]
    },
    {
     "name": "stdout",
     "output_type": "stream",
     "text": [
      "International journal of wireless and mobile computing has homepage_url and type journal\n"
     ]
    },
    {
     "name": "stderr",
     "output_type": "stream",
     "text": [
      " 91%|███████████████████████████████████████████████████████████████▏     | 1709/1868 [17:52<01:53,  1.40it/s]"
     ]
    },
    {
     "name": "stdout",
     "output_type": "stream",
     "text": [
      "Wuli xuebao has homepage_url and type journal\n"
     ]
    },
    {
     "name": "stderr",
     "output_type": "stream",
     "text": [
      " 92%|███████████████████████████████████████████████████████████████▎     | 1713/1868 [17:54<01:59,  1.30it/s]"
     ]
    },
    {
     "name": "stdout",
     "output_type": "stream",
     "text": [
      "Asian social science has homepage_url and type journal\n"
     ]
    },
    {
     "name": "stderr",
     "output_type": "stream",
     "text": [
      " 92%|███████████████████████████████████████████████████████████████▍     | 1716/1868 [17:57<02:15,  1.12it/s]"
     ]
    },
    {
     "name": "stdout",
     "output_type": "stream",
     "text": [
      "Frontiers of Mechanical Engineering has homepage_url and type journal\n"
     ]
    },
    {
     "name": "stderr",
     "output_type": "stream",
     "text": [
      " 92%|███████████████████████████████████████████████████████████████▍     | 1718/1868 [17:58<01:42,  1.46it/s]"
     ]
    },
    {
     "name": "stdout",
     "output_type": "stream",
     "text": [
      "MSCS. Mathematical structures in computer science/Mathematical structures in computer science has homepage_url and type journal\n"
     ]
    },
    {
     "name": "stderr",
     "output_type": "stream",
     "text": [
      " 92%|███████████████████████████████████████████████████████████████▍     | 1719/1868 [17:58<01:31,  1.62it/s]"
     ]
    },
    {
     "name": "stdout",
     "output_type": "stream",
     "text": [
      "Statistical theory and related fields has homepage_url and type journal\n"
     ]
    },
    {
     "name": "stderr",
     "output_type": "stream",
     "text": [
      " 92%|███████████████████████████████████████████████████████████████▌     | 1721/1868 [17:59<01:23,  1.75it/s]"
     ]
    },
    {
     "name": "stdout",
     "output_type": "stream",
     "text": [
      "Journal of cyber security has homepage_url and type journal\n"
     ]
    },
    {
     "name": "stderr",
     "output_type": "stream",
     "text": [
      " 92%|███████████████████████████████████████████████████████████████▊     | 1727/1868 [18:03<01:21,  1.73it/s]"
     ]
    },
    {
     "name": "stdout",
     "output_type": "stream",
     "text": [
      "Nonlinearity has homepage_url and type journal\n"
     ]
    },
    {
     "name": "stderr",
     "output_type": "stream",
     "text": [
      " 93%|███████████████████████████████████████████████████████████████▊     | 1729/1868 [18:05<01:52,  1.24it/s]"
     ]
    },
    {
     "name": "stdout",
     "output_type": "stream",
     "text": [
      "Computer Aided Design/Computer-aided design has homepage_url and type journal\n"
     ]
    },
    {
     "name": "stderr",
     "output_type": "stream",
     "text": [
      " 93%|███████████████████████████████████████████████████████████████▉     | 1730/1868 [18:05<01:39,  1.38it/s]"
     ]
    },
    {
     "name": "stdout",
     "output_type": "stream",
     "text": [
      "ICST transactions on scalable information systems has homepage_url and type journal\n"
     ]
    },
    {
     "name": "stderr",
     "output_type": "stream",
     "text": [
      " 93%|████████████████████████████████████████████████████████████████     | 1733/1868 [18:07<01:17,  1.74it/s]"
     ]
    },
    {
     "name": "stdout",
     "output_type": "stream",
     "text": [
      "Springer series in optical sciences/SPringer series in optical sciences has homepage_url and type book series\n"
     ]
    },
    {
     "name": "stderr",
     "output_type": "stream",
     "text": [
      " 93%|████████████████████████████████████████████████████████████████▎    | 1740/1868 [18:12<01:26,  1.48it/s]"
     ]
    },
    {
     "name": "stdout",
     "output_type": "stream",
     "text": [
      "Journal of robotics has homepage_url and type journal\n"
     ]
    },
    {
     "name": "stderr",
     "output_type": "stream",
     "text": [
      " 93%|████████████████████████████████████████████████████████████████▍    | 1744/1868 [18:14<01:05,  1.89it/s]"
     ]
    },
    {
     "name": "stdout",
     "output_type": "stream",
     "text": [
      "English today has homepage_url and type journal\n"
     ]
    },
    {
     "name": "stderr",
     "output_type": "stream",
     "text": [
      " 94%|████████████████████████████████████████████████████████████████▌    | 1747/1868 [18:16<01:02,  1.94it/s]"
     ]
    },
    {
     "name": "stdout",
     "output_type": "stream",
     "text": [
      "GPS solutions has homepage_url and type journal\n"
     ]
    },
    {
     "name": "stderr",
     "output_type": "stream",
     "text": [
      " 95%|█████████████████████████████████████████████████████████████████▊   | 1782/1868 [18:35<00:51,  1.68it/s]"
     ]
    },
    {
     "name": "stdout",
     "output_type": "stream",
     "text": [
      "Filomat has homepage_url and type journal\n"
     ]
    },
    {
     "name": "stderr",
     "output_type": "stream",
     "text": [
      " 96%|█████████████████████████████████████████████████████████████████▉   | 1784/1868 [18:36<00:46,  1.81it/s]"
     ]
    },
    {
     "name": "stdout",
     "output_type": "stream",
     "text": [
      "VAWKUM transaction on computer sciences has homepage_url and type journal\n"
     ]
    },
    {
     "name": "stderr",
     "output_type": "stream",
     "text": [
      " 96%|█████████████████████████████████████████████████████████████████▉   | 1786/1868 [18:37<00:42,  1.92it/s]"
     ]
    },
    {
     "name": "stdout",
     "output_type": "stream",
     "text": [
      "IEEE spectrum has homepage_url and type journal\n"
     ]
    },
    {
     "name": "stderr",
     "output_type": "stream",
     "text": [
      " 96%|██████████████████████████████████████████████████████████████████   | 1787/1868 [18:38<00:41,  1.95it/s]"
     ]
    },
    {
     "name": "stdout",
     "output_type": "stream",
     "text": [
      "Springer optimization and its applications has homepage_url and type book series\n"
     ]
    },
    {
     "name": "stderr",
     "output_type": "stream",
     "text": [
      " 96%|██████████████████████████████████████████████████████████████████   | 1788/1868 [18:38<00:41,  1.91it/s]"
     ]
    },
    {
     "name": "stdout",
     "output_type": "stream",
     "text": [
      "AKCE international journal of graphs and combinatorics/AKCE International Journal of Graphs and Combinatorics has homepage_url and type journal\n"
     ]
    },
    {
     "name": "stderr",
     "output_type": "stream",
     "text": [
      " 96%|██████████████████████████████████████████████████████████████████   | 1789/1868 [18:39<00:41,  1.88it/s]"
     ]
    },
    {
     "name": "stdout",
     "output_type": "stream",
     "text": [
      "Laser physics letters has homepage_url and type journal\n"
     ]
    },
    {
     "name": "stderr",
     "output_type": "stream",
     "text": [
      " 96%|██████████████████████████████████████████████████████████████████▏  | 1792/1868 [18:41<00:47,  1.61it/s]"
     ]
    },
    {
     "name": "stdout",
     "output_type": "stream",
     "text": [
      "Health has homepage_url and type journal\n"
     ]
    },
    {
     "name": "stderr",
     "output_type": "stream",
     "text": [
      " 96%|██████████████████████████████████████████████████████████████████▏  | 1793/1868 [18:41<00:43,  1.71it/s]"
     ]
    },
    {
     "name": "stdout",
     "output_type": "stream",
     "text": [
      "Journal of energy and natural resources has homepage_url and type journal\n"
     ]
    },
    {
     "name": "stderr",
     "output_type": "stream",
     "text": [
      " 96%|██████████████████████████████████████████████████████████████████▎  | 1795/1868 [18:42<00:40,  1.82it/s]"
     ]
    },
    {
     "name": "stdout",
     "output_type": "stream",
     "text": [
      "Medicine and science in sports and exercise has homepage_url and type journal\n"
     ]
    },
    {
     "name": "stderr",
     "output_type": "stream",
     "text": [
      " 96%|██████████████████████████████████████████████████████████████████▍  | 1800/1868 [18:46<00:58,  1.16it/s]"
     ]
    },
    {
     "name": "stdout",
     "output_type": "stream",
     "text": [
      "i-Perception has homepage_url and type journal\n"
     ]
    },
    {
     "name": "stderr",
     "output_type": "stream",
     "text": [
      " 96%|██████████████████████████████████████████████████████████████████▌  | 1802/1868 [18:47<00:49,  1.32it/s]"
     ]
    },
    {
     "name": "stdout",
     "output_type": "stream",
     "text": [
      "Science innovation has homepage_url and type journal\n"
     ]
    },
    {
     "name": "stderr",
     "output_type": "stream",
     "text": [
      " 97%|██████████████████████████████████████████████████████████████████▌  | 1803/1868 [18:48<00:44,  1.46it/s]"
     ]
    },
    {
     "name": "stdout",
     "output_type": "stream",
     "text": [
      "European journal of industrial engineering has homepage_url and type journal\n"
     ]
    },
    {
     "name": "stderr",
     "output_type": "stream",
     "text": [
      " 97%|██████████████████████████████████████████████████████████████████▋  | 1807/1868 [18:50<00:34,  1.79it/s]"
     ]
    },
    {
     "name": "stdout",
     "output_type": "stream",
     "text": [
      "Journal of highway and transportation research and development has homepage_url and type journal\n"
     ]
    },
    {
     "name": "stderr",
     "output_type": "stream",
     "text": [
      " 97%|██████████████████████████████████████████████████████████████████▉  | 1812/1868 [18:54<00:43,  1.28it/s]"
     ]
    },
    {
     "name": "stdout",
     "output_type": "stream",
     "text": [
      "IEEE electromagnetic compatibility magazine has homepage_url and type journal\n"
     ]
    },
    {
     "name": "stderr",
     "output_type": "stream",
     "text": [
      " 97%|███████████████████████████████████████████████████████████████████  | 1814/1868 [18:56<00:45,  1.19it/s]"
     ]
    },
    {
     "name": "stdout",
     "output_type": "stream",
     "text": [
      "Electrical engineering and computer science has homepage_url and type journal\n"
     ]
    },
    {
     "name": "stderr",
     "output_type": "stream",
     "text": [
      " 97%|███████████████████████████████████████████████████████████████████  | 1816/1868 [18:57<00:35,  1.46it/s]"
     ]
    },
    {
     "name": "stdout",
     "output_type": "stream",
     "text": [
      "MATEC web of conferences has homepage_url and type journal\n"
     ]
    },
    {
     "name": "stderr",
     "output_type": "stream",
     "text": [
      " 97%|███████████████████████████████████████████████████████████████████▏ | 1818/1868 [18:58<00:31,  1.58it/s]"
     ]
    },
    {
     "name": "stdout",
     "output_type": "stream",
     "text": [
      "Science discovery has homepage_url and type journal\n"
     ]
    },
    {
     "name": "stderr",
     "output_type": "stream",
     "text": [
      " 97%|███████████████████████████████████████████████████████████████████▏ | 1819/1868 [18:59<00:30,  1.63it/s]"
     ]
    },
    {
     "name": "stdout",
     "output_type": "stream",
     "text": [
      "Annales Academiae scientiarum Fennicae. Mathematica has homepage_url and type journal\n"
     ]
    },
    {
     "name": "stderr",
     "output_type": "stream",
     "text": [
      " 97%|███████████████████████████████████████████████████████████████████▏ | 1820/1868 [18:59<00:27,  1.73it/s]"
     ]
    },
    {
     "name": "stdout",
     "output_type": "stream",
     "text": [
      "Journal of transportation technologies has homepage_url and type journal\n"
     ]
    },
    {
     "name": "stderr",
     "output_type": "stream",
     "text": [
      " 98%|███████████████████████████████████████████████████████████████████▎ | 1824/1868 [19:02<00:25,  1.70it/s]"
     ]
    },
    {
     "name": "stdout",
     "output_type": "stream",
     "text": [
      "International journal of Asian language processing/International Journal of Asian Language Processing has homepage_url and type journal\n"
     ]
    },
    {
     "name": "stderr",
     "output_type": "stream",
     "text": [
      " 98%|███████████████████████████████████████████████████████████████████▌ | 1828/1868 [19:04<00:20,  1.97it/s]"
     ]
    },
    {
     "name": "stdout",
     "output_type": "stream",
     "text": [
      "Nanoscience and nanotechnology letters has homepage_url and type journal\n"
     ]
    },
    {
     "name": "stderr",
     "output_type": "stream",
     "text": [
      " 98%|███████████████████████████████████████████████████████████████████▌ | 1830/1868 [19:05<00:25,  1.51it/s]"
     ]
    },
    {
     "name": "stdout",
     "output_type": "stream",
     "text": [
      "Thermal science/Thermal Science has homepage_url and type journal\n"
     ]
    },
    {
     "name": "stderr",
     "output_type": "stream",
     "text": [
      " 98%|███████████████████████████████████████████████████████████████████▋ | 1831/1868 [19:06<00:22,  1.62it/s]"
     ]
    },
    {
     "name": "stdout",
     "output_type": "stream",
     "text": [
      "IEEE transactions on quantum engineering has homepage_url and type journal\n"
     ]
    },
    {
     "name": "stderr",
     "output_type": "stream",
     "text": [
      " 98%|███████████████████████████████████████████████████████████████████▋ | 1832/1868 [19:06<00:20,  1.72it/s]"
     ]
    },
    {
     "name": "stdout",
     "output_type": "stream",
     "text": [
      "Materials express has homepage_url and type journal\n"
     ]
    },
    {
     "name": "stderr",
     "output_type": "stream",
     "text": [
      " 98%|███████████████████████████████████████████████████████████████████▊ | 1835/1868 [19:08<00:18,  1.74it/s]"
     ]
    },
    {
     "name": "stdout",
     "output_type": "stream",
     "text": [
      "International journal of electronics letters has homepage_url and type journal\n"
     ]
    },
    {
     "name": "stderr",
     "output_type": "stream",
     "text": [
      " 98%|███████████████████████████████████████████████████████████████████▊ | 1837/1868 [19:09<00:16,  1.85it/s]"
     ]
    },
    {
     "name": "stdout",
     "output_type": "stream",
     "text": [
      "International journal of scientific and research publications has homepage_url and type journal\n"
     ]
    },
    {
     "name": "stderr",
     "output_type": "stream",
     "text": [
      " 98%|███████████████████████████████████████████████████████████████████▉ | 1838/1868 [19:10<00:18,  1.65it/s]"
     ]
    },
    {
     "name": "stdout",
     "output_type": "stream",
     "text": [
      "Pragmatics has homepage_url and type journal\n"
     ]
    },
    {
     "name": "stderr",
     "output_type": "stream",
     "text": [
      " 99%|███████████████████████████████████████████████████████████████████▉ | 1840/1868 [19:11<00:15,  1.87it/s]"
     ]
    },
    {
     "name": "stdout",
     "output_type": "stream",
     "text": [
      "Israel affairs has homepage_url and type journal\n"
     ]
    },
    {
     "name": "stderr",
     "output_type": "stream",
     "text": [
      " 99%|████████████████████████████████████████████████████████████████████ | 1844/1868 [19:13<00:11,  2.03it/s]"
     ]
    },
    {
     "name": "stdout",
     "output_type": "stream",
     "text": [
      "Tobacco regulatory science has homepage_url and type journal\n"
     ]
    },
    {
     "name": "stderr",
     "output_type": "stream",
     "text": [
      "100%|████████████████████████████████████████████████████████████████████▉| 1866/1868 [19:25<00:01,  1.76it/s]"
     ]
    },
    {
     "name": "stdout",
     "output_type": "stream",
     "text": [
      "International journal of system control and information processing has homepage_url and type journal\n"
     ]
    },
    {
     "name": "stderr",
     "output_type": "stream",
     "text": [
      "100%|████████████████████████████████████████████████████████████████████▉| 1867/1868 [19:27<00:00,  1.37it/s]"
     ]
    },
    {
     "name": "stdout",
     "output_type": "stream",
     "text": [
      "Imaging science journal/The imaging science journal has homepage_url and type journal\n"
     ]
    },
    {
     "name": "stderr",
     "output_type": "stream",
     "text": [
      "100%|█████████████████████████████████████████████████████████████████████| 1868/1868 [19:27<00:00,  1.60it/s]\n"
     ]
    }
   ],
   "source": [
    "source_page_dict = get_display_page_dict(sources_list)"
   ]
  },
  {
   "cell_type": "code",
   "execution_count": 90,
   "id": "9794f2ec-0216-404f-84d5-8c03af1ba6e0",
   "metadata": {},
   "outputs": [
    {
     "data": {
      "text/plain": [
       "1597"
      ]
     },
     "execution_count": 90,
     "metadata": {},
     "output_type": "execute_result"
    }
   ],
   "source": [
    "len(source_page_dict)"
   ]
  },
  {
   "cell_type": "code",
   "execution_count": 91,
   "id": "47012d51-50ec-47ad-8cde-555c8ddc38ef",
   "metadata": {},
   "outputs": [],
   "source": [
    "import pickle\n",
    "\n",
    "with open(\"updatesource_page_dict.pkl\", \"wb\") as f:\n",
    "    pickle.dump(source_page_dict, f)"
   ]
  },
  {
   "cell_type": "code",
   "execution_count": 92,
   "id": "a63b19f9-ac82-49ea-b9d9-78265ee5ca43",
   "metadata": {},
   "outputs": [],
   "source": [
    "with open(\"updatesource_page_dict.pkl\", \"rb\") as f:\n",
    "    source_dict = pickle.load(f)"
   ]
  },
  {
   "cell_type": "code",
   "execution_count": 93,
   "id": "d9a36ab1-5af0-4179-8cbc-62c8971728dc",
   "metadata": {},
   "outputs": [],
   "source": [
    "def get_journals_cluster_sort(dc:pd.DataFrame, cl:int):\n",
    "    \"\"\"\n",
    "    restricts the dataframe dc to cluster value cl\n",
    "    and returns the results grouped by source (where\n",
    "    source_type == 'journal') sorted\n",
    "    by the some of probablity descending\n",
    "    \"\"\"\n",
    "    dg = dc[dc['paper_cluster'] == cl].copy()\n",
    "    print(cl)\n",
    "    dv = dg[dg['source_type'] == 'journal'].groupby(['source'])['paper_cluster_score'].sum().to_frame()\n",
    "    dv.sort_values('paper_cluster_score', ascending=False, inplace=True)\n",
    "    dv['journal'] = dv.index\n",
    "    dv['hompage_url'] = dv['journal'].map(source_dict)\n",
    "    kw = centroids[centroids.cluster == cl]['keywords'].iloc[0]\n",
    "    return dv, kw"
   ]
  },
  {
   "cell_type": "code",
   "execution_count": 94,
   "id": "7f05a3c0-d3aa-4191-8d7b-1b2d15ee867e",
   "metadata": {},
   "outputs": [
    {
     "name": "stdout",
     "output_type": "stream",
     "text": [
      "4\n"
     ]
    },
    {
     "data": {
      "text/html": [
       "<div>\n",
       "<style scoped>\n",
       "    .dataframe tbody tr th:only-of-type {\n",
       "        vertical-align: middle;\n",
       "    }\n",
       "\n",
       "    .dataframe tbody tr th {\n",
       "        vertical-align: top;\n",
       "    }\n",
       "\n",
       "    .dataframe thead th {\n",
       "        text-align: right;\n",
       "    }\n",
       "</style>\n",
       "<table border=\"1\" class=\"dataframe\">\n",
       "  <thead>\n",
       "    <tr style=\"text-align: right;\">\n",
       "      <th></th>\n",
       "      <th>paper_cluster_score</th>\n",
       "      <th>journal</th>\n",
       "      <th>hompage_url</th>\n",
       "    </tr>\n",
       "    <tr>\n",
       "      <th>source</th>\n",
       "      <th></th>\n",
       "      <th></th>\n",
       "      <th></th>\n",
       "    </tr>\n",
       "  </thead>\n",
       "  <tbody>\n",
       "    <tr>\n",
       "      <th>IEEE transactions on information theory</th>\n",
       "      <td>19.0</td>\n",
       "      <td>IEEE transactions on information theory</td>\n",
       "      <td>http://www.comm.utoronto.ca/trans-it/</td>\n",
       "    </tr>\n",
       "    <tr>\n",
       "      <th>IEICE transactions on fundamentals of electronics, communications and computer sciences/IEICE transactions on fundamentals of electronics, communications and computer science</th>\n",
       "      <td>9.0</td>\n",
       "      <td>IEICE transactions on fundamentals of electron...</td>\n",
       "      <td>NaN</td>\n",
       "    </tr>\n",
       "    <tr>\n",
       "      <th>IEEE access</th>\n",
       "      <td>8.0</td>\n",
       "      <td>IEEE access</td>\n",
       "      <td>http://ieeexplore.ieee.org/servlet/opac?punumb...</td>\n",
       "    </tr>\n",
       "    <tr>\n",
       "      <th>Applied mathematics and computation</th>\n",
       "      <td>6.0</td>\n",
       "      <td>Applied mathematics and computation</td>\n",
       "      <td>https://www.journals.elsevier.com/applied-math...</td>\n",
       "    </tr>\n",
       "    <tr>\n",
       "      <th>Advances in mathematics of communications</th>\n",
       "      <td>3.0</td>\n",
       "      <td>Advances in mathematics of communications</td>\n",
       "      <td>http://www.aimsciences.org/journals/amc</td>\n",
       "    </tr>\n",
       "  </tbody>\n",
       "</table>\n",
       "</div>"
      ],
      "text/plain": [
       "                                                   paper_cluster_score  \\\n",
       "source                                                                   \n",
       "IEEE transactions on information theory                           19.0   \n",
       "IEICE transactions on fundamentals of electroni...                 9.0   \n",
       "IEEE access                                                        8.0   \n",
       "Applied mathematics and computation                                6.0   \n",
       "Advances in mathematics of communications                          3.0   \n",
       "\n",
       "                                                                                              journal  \\\n",
       "source                                                                                                  \n",
       "IEEE transactions on information theory                       IEEE transactions on information theory   \n",
       "IEICE transactions on fundamentals of electroni...  IEICE transactions on fundamentals of electron...   \n",
       "IEEE access                                                                               IEEE access   \n",
       "Applied mathematics and computation                               Applied mathematics and computation   \n",
       "Advances in mathematics of communications                   Advances in mathematics of communications   \n",
       "\n",
       "                                                                                          hompage_url  \n",
       "source                                                                                                 \n",
       "IEEE transactions on information theory                         http://www.comm.utoronto.ca/trans-it/  \n",
       "IEICE transactions on fundamentals of electroni...                                                NaN  \n",
       "IEEE access                                         http://ieeexplore.ieee.org/servlet/opac?punumb...  \n",
       "Applied mathematics and computation                 https://www.journals.elsevier.com/applied-math...  \n",
       "Advances in mathematics of communications                     http://www.aimsciences.org/journals/amc  "
      ]
     },
     "execution_count": 94,
     "metadata": {},
     "output_type": "execute_result"
    }
   ],
   "source": [
    "dv, kw = get_journals_cluster_sort(dftriple, 4)\n",
    "dv.head()"
   ]
  },
  {
   "cell_type": "code",
   "execution_count": 95,
   "id": "08fe25ee-7687-4f4d-934f-50eaa156614f",
   "metadata": {},
   "outputs": [],
   "source": [
    "def get_conferences_cluster_sort(dc:pd.DataFrame, cl:int):\n",
    "    \"\"\"\n",
    "    restricts the dataframe dc to cluster value cl\n",
    "    and returns the results grouped by source (where\n",
    "    source_type == 'journal') sorted\n",
    "    by the some of probablity descending\n",
    "    \"\"\"\n",
    "    dg = dc[dc['paper_cluster'] == cl].copy()\n",
    "    print(cl)\n",
    "    dv = dg[dg['source_type'] == 'conference'].groupby(['source'])['paper_cluster_score'].sum().to_frame()\n",
    "    dv.sort_values('paper_cluster_score', ascending=False, inplace=True)\n",
    "    dv['conference'] = dv.index\n",
    "    dv['homepage_url'] = dv['conference'].map(source_dict)\n",
    "    kw = centroids[centroids.cluster == cl]['keywords'].iloc[0]\n",
    "    return dv, kw"
   ]
  },
  {
   "cell_type": "code",
   "execution_count": 96,
   "id": "3f5deda6-8e79-4f4f-b890-321ca3338d1a",
   "metadata": {},
   "outputs": [
    {
     "data": {
      "text/plain": [
       "(list, 2649)"
      ]
     },
     "execution_count": 96,
     "metadata": {},
     "output_type": "execute_result"
    }
   ],
   "source": [
    "affils_list = dftriple['display_name'].unique().tolist()\n",
    "type(affils_list), len(affils_list)"
   ]
  },
  {
   "cell_type": "code",
   "execution_count": 97,
   "id": "4a04679f-b6e0-4a60-9932-6fa4a26b9422",
   "metadata": {},
   "outputs": [],
   "source": [
    " affil_json = Institutions().search_filter(display_name = affils_list[0]).get()"
   ]
  },
  {
   "cell_type": "code",
   "execution_count": 98,
   "id": "809b8481-00ca-419f-9c07-6039300dd1cd",
   "metadata": {},
   "outputs": [
    {
     "name": "stderr",
     "output_type": "stream",
     "text": [
      "100%|█████████████████████████████████████████████████████████████████████| 2649/2649 [25:07<00:00,  1.76it/s]\n"
     ]
    }
   ],
   "source": [
    "affils_list = dftriple['display_name'].unique().tolist()\n",
    "type(affils_list), len(affils_list)\n",
    "\n",
    "affil_json = Institutions().search_filter(display_name = affils_list[1]).get()\n",
    "\n",
    "def get_affil_json(s:str):\n",
    "    \"\"\"\n",
    "    s is an openalex Sources display_name\n",
    "    return that Sources object\n",
    "    \"\"\"\n",
    "    affil_json = Institutions().search_filter(display_name = s).get()\n",
    "    #a = source_json[0]['type']\n",
    "    if \"geo\" in affil_json[0]:\n",
    "       # print(f\"{s} has homepage_url and type {source_json[0]['type']}\")\n",
    "        return affil_json[0][\"geo\"][\"latitude\"], affil_json[0][\"geo\"][\"longitude\"]\n",
    "    else:\n",
    "        return None, None\n",
    "    \n",
    "def get_display_geo_dict(sl:list):\n",
    "    \"\"\"\n",
    "    sl is a list of Institution display_name values\n",
    "    returns the dictionary mapping\n",
    "    display_names with (latitude, longitude) values.\"\"\"\n",
    "    mapping_dict = dict()\n",
    "    for s in tqdm(sl):\n",
    "        try:\n",
    "            mapping_dict[s] = get_affil_json(s)\n",
    "        except:\n",
    "            pass\n",
    "    return mapping_dict\n",
    "\n",
    "affil_geo_dict = get_display_geo_dict(affils_list)\n",
    "\n",
    "\n",
    "import pickle\n",
    "\n",
    "with open(\"updateaffil_geo_dict.pkl\", \"wb\") as f:\n",
    "    pickle.dump(affil_geo_dict, f)"
   ]
  },
  {
   "cell_type": "code",
   "execution_count": 99,
   "id": "1212cabf-3d13-4fdd-8dca-4b0956e36e35",
   "metadata": {},
   "outputs": [
    {
     "data": {
      "text/plain": [
       "2567"
      ]
     },
     "execution_count": 99,
     "metadata": {},
     "output_type": "execute_result"
    }
   ],
   "source": [
    "len(affil_geo_dict)"
   ]
  },
  {
   "cell_type": "code",
   "execution_count": 100,
   "id": "611b62ce-728f-44b2-9ab2-84ad486ce6ef",
   "metadata": {},
   "outputs": [],
   "source": [
    "dfinfo['abstract'] = dfinfo['title'].map(dftriple.set_index('paper_title')['paper_abstract'].to_dict())"
   ]
  },
  {
   "cell_type": "code",
   "execution_count": 101,
   "id": "bbc7d513-2def-4f64-b227-b391810ee5ab",
   "metadata": {},
   "outputs": [],
   "source": [
    "dfinfo.to_pickle('updatejammingdfinfo2d.pkl')"
   ]
  },
  {
   "cell_type": "code",
   "execution_count": null,
   "id": "31064e37-716a-4e84-931b-897b22330ec4",
   "metadata": {},
   "outputs": [],
   "source": []
  }
 ],
 "metadata": {
  "kernelspec": {
   "display_name": "Python 3 (ipykernel)",
   "language": "python",
   "name": "python3"
  },
  "language_info": {
   "codemirror_mode": {
    "name": "ipython",
    "version": 3
   },
   "file_extension": ".py",
   "mimetype": "text/x-python",
   "name": "python",
   "nbconvert_exporter": "python",
   "pygments_lexer": "ipython3",
   "version": "3.10.12"
  }
 },
 "nbformat": 4,
 "nbformat_minor": 5
}
